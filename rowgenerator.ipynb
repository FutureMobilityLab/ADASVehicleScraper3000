{
 "cells": [
  {
   "cell_type": "code",
   "execution_count": 3,
   "metadata": {},
   "outputs": [],
   "source": [
    "import csv\n",
    "from bs4 import BeautifulSoup as bs\n",
    "from selenium import webdriver\n",
    "from selenium.webdriver.common.by import By\n",
    "from selenium.webdriver.support.ui import WebDriverWait\n",
    "from selenium.webdriver.support import expected_conditions as EC\n",
    "import os\n",
    "import time\n",
    "chromedriver = r\"C:\\Users\\nihal\\Documents\\chromedriver\\chromedriver.exe\"\n",
    "options = webdriver.ChromeOptions().add_argument('--headless')"
   ]
  },
  {
   "cell_type": "code",
   "execution_count": 4,
   "metadata": {},
   "outputs": [
    {
     "data": {
      "text/html": [
       "<style>.container { width:100% !important; }</style>"
      ],
      "text/plain": [
       "<IPython.core.display.HTML object>"
      ]
     },
     "metadata": {},
     "output_type": "display_data"
    }
   ],
   "source": [
    "from IPython.core.display import display, HTML\n",
    "display(HTML(\"<style>.container { width:100% !important; }</style>\"))"
   ]
  },
  {
   "cell_type": "markdown",
   "metadata": {
    "heading_collapsed": true
   },
   "source": [
    "# Old"
   ]
  },
  {
   "cell_type": "code",
   "execution_count": 7,
   "metadata": {
    "hidden": true,
    "scrolled": true
   },
   "outputs": [],
   "source": [
    "\n",
    "#features = input(\"input different marketing terms seperated by commas, with car manufacturer as the first entry, model as the second, year as the third, vehicle type as the fourth, price as the fifth\").lower().split(', ')\n",
    "#features = \"Ford, Pre-Collision Assist with Automatic Emergency BrakingS, Lane-Keeping SystemS, BLIS with Cross-Traffic AlertS, Ford Co-Pilot360S, Ford Co-Pilot360 Assist+O, Adaptive Cruise Control with Stop-and-Go and Lane CenteringO, Speed Sign RecognitionO, Reverse Sensing SystemS, Post-Collision BrakingS\".lower().split(', ')"
   ]
  },
  {
   "cell_type": "code",
   "execution_count": null,
   "metadata": {
    "hidden": true,
    "scrolled": true
   },
   "outputs": [],
   "source": [
    "#from urllib.request import urlopen\n",
    "#\n",
    "#page = urlopen('https://www.ford.com/suvs-crossovers/escape/models/escape-s/').read().lower()"
   ]
  },
  {
   "cell_type": "code",
   "execution_count": null,
   "metadata": {
    "hidden": true,
    "jupyter": {
     "outputs_hidden": true
    }
   },
   "outputs": [],
   "source": [
    "#previous iteration of program, does not scrape page\n",
    "#with open('translations.csv', 'r') as translations:\n",
    "#    reader = csv.reader(translations, delimiter=',', quotechar='\"')\n",
    "#    for row in reader:\n",
    "#        if row[0].lower() == 'manufacturer':\n",
    "#            adas = row\n",
    "#            numbers = [x for x in range(len(row))]\n",
    "#        if row[0].lower() == features[0]:\n",
    "#            market = [s.lower() for s in row]\n",
    "#    listval = [[x, y] for x, y in zip(market, numbers)]\n",
    "#    newlist = []\n",
    "#    keylist = []\n",
    "#    for pair in listval:\n",
    "#        if \", \" in pair[0]:\n",
    "#            newkeys = pair[0].split(\", \")\n",
    "#            for newkey in newkeys:\n",
    "#                newlist.append([newkey, pair[1]])\n",
    "#            keylist.append(pair)\n",
    "#    listval += newlist\n",
    "#    for key in keylist:\n",
    "#        listval.remove(key)\n",
    "#    \n",
    "#    datarow = [None]*(len(row)+11)\n",
    "#    with open('codedrows.csv', 'a', newline='') as data:\n",
    "#        for item in features:\n",
    "#            bool = False\n",
    "#            for pair in listval:\n",
    "#                if item[:-1] == pair[0]:\n",
    "#                    print(item[:-1] + \" in translations\")\n",
    "#                    if(item[-1] == \"s\"):\n",
    "#                        datarow[pair[1]+11] = 'X'\n",
    "#                    elif(item[-1] == 'o'):\n",
    "#                        if(datarow[pair[1]+11] != 'X'):\n",
    "#                            datarow[pair[1]+11] = 'O'\n",
    "#                    bool = True\n",
    "#            if not bool:\n",
    "#                print(item[:-1] + \" is not in the translations dataset\")\n",
    "#        datarow[0] = features[0].capitalize()\n",
    "#        writer = csv.writer(data, delimiter=',')\n",
    "#        writer.writerow([\"Manufacturer\", \"Model Name\",\"Trim Level\",\"Year\",\"Vehicle Type\",\"MSRP\",\"Link\", \"Gas\", \"Diesel\", \"Hybrid\", \"PHEV\", \"BEV\"] + adas[1:])\n",
    "#        writer.writerow(datarow)"
   ]
  },
  {
   "cell_type": "markdown",
   "metadata": {
    "heading_collapsed": true
   },
   "source": [
    "# Functions"
   ]
  },
  {
   "cell_type": "code",
   "execution_count": 100,
   "metadata": {
    "hidden": true
   },
   "outputs": [],
   "source": [
    "def websiteoutput(url, manufacturer, model_name='', trim='', year='', vehicle_type='', msrp='', text=None, printfeatures=False, printpage=False, start=None, stop=None):\n",
    "    \n",
    "    #gets plain text from webpage\n",
    "    msrp, pagetext = getpagecontent(url, manufacturer, text, printpage, start, stop)\n",
    "    \n",
    "    #getting translations array and adas features list from csv download of Market Translations datasheet\n",
    "    adas, translations = gettranslations('translations.csv', manufacturer)\n",
    "\n",
    "    #compare page text and translations array, creates array of Xs, writes it to a csv\n",
    "    writedata('codedrows.csv', url, manufacturer, model_name, trim, year, vehicle_type, msrp, adas, translations, pagetext, printfeatures)"
   ]
  },
  {
   "cell_type": "code",
   "execution_count": 98,
   "metadata": {
    "hidden": true
   },
   "outputs": [],
   "source": [
    "def getpagecontent(url, manufacturer, text, printpage, start, stop):\n",
    "    \n",
    "    msrp = ''\n",
    "    #if text is given manually, just return that\n",
    "    if text:\n",
    "        return text.lower()\n",
    "    \n",
    "    #toyota has content in html not in plain text\n",
    "    \n",
    "    #may need selenium later for pages that require button presses to get to the text. If I redo Ford, would require this. Scrath that, need this for Chevrolet.\n",
    "\n",
    "    browser = webdriver.Chrome(executable_path=chromedriver, options=options)\n",
    "\n",
    "    #some code that I don't understand and just copied from online. It gets the plain text from the webpage\n",
    "    #s = requests_html.HTMLSession()\n",
    "    #pagetext = s.get(url)\n",
    "    browser.get(url)\n",
    "\n",
    "    print(\"From website \" + url)\n",
    "    \n",
    "    \n",
    "    #loading actions for certain manufacturers\n",
    "    if manufacturer == \"Ford\":\n",
    "        pagetext = browser.page_source\n",
    "        soup=bs(pagetext,'lxml')\n",
    "        pagetext = soup.get_text().lower()\n",
    "        pagetext = pagetext[pagetext.index(\"search submit\"):pagetext.index(\"exercise your rights under the california consumer privacy act\")]\n",
    "        \n",
    "    elif manufacturer == \"BMW\":\n",
    "        pagetext = browser.page_source[:browser.page_source.index('<div class=\"disclaimers\">')]\n",
    "        soup=bs(pagetext,'lxml')\n",
    "        pagetext = soup.get_text().lower()\n",
    "\n",
    "    elif manufacturer == \"Chevrolet\":\n",
    "        WebDriverWait(browser, 20).until(EC.presence_of_element_located((By.CSS_SELECTOR, \".features-compare\")))\n",
    "        pagetext = browser.page_source\n",
    "        soup=bs(pagetext,'lxml')\n",
    "        pagetext = soup.get_text().lower()\n",
    "        if 'return to build' in pagetext:\n",
    "            pagetext = pagetext[pagetext.index(\"return to build\"):]\n",
    "            \n",
    "    elif manufacturer == 'Toyota':\n",
    "        pagetext = browser.page_source\n",
    "        pagetext = pagetext[pagetext.index('JSON.stringify('):]\n",
    "        pagetext = pagetext[pagetext.index('fsoData:')+11:pagetext.index(',{\"categoryData\"')].lower()\n",
    "        if start and stop:\n",
    "            start = '\"' + start + '\":'\n",
    "            stop = '\"' + stop + '\":'\n",
    "            icounter = 0\n",
    "            newtext=''\n",
    "            while start in pagetext[icounter:]:\n",
    "                if stop in pagetext[icounter:]:\n",
    "                    sindex = pagetext.index(stop, icounter)\n",
    "                else:\n",
    "                    sindex = len(pagetext)-10\n",
    "                newtext += pagetext[pagetext.index(start, icounter): sindex]\n",
    "                icounter = sindex+1\n",
    "            pagetext = newtext\n",
    "        \n",
    "    elif manufacturer == 'Honda':\n",
    "        pagetext = browser.page_source\n",
    "        pagetext = pagetext[pagetext.index('<div class=\"responsive-table-filter\">'):].lower()\n",
    "        \n",
    "    elif manufacturer == 'Nissan':\n",
    "        pagetext = browser.page_source\n",
    "        pagetext = pagetext[pagetext.index('class=\"headline\">'):].lower()\n",
    "        \n",
    "    elif manufacturer == 'Subaru':\n",
    "        time.sleep(0.5)\n",
    "        browser.execute_script(\"arguments[0].click();\", browser.find_element_by_xpath('//button[@content = \"standard-features-content\"]/span[contains(text(), \"STANDARD FEATURES\")]'))\n",
    "        time.sleep(0.5)\n",
    "        \n",
    "        pagetext = browser.find_element_by_id(\"modal-container\").get_attribute('innerHTML')\n",
    "        soup=bs(pagetext,'lxml')\n",
    "        pagetext = soup.get_text().lower()\n",
    "        \n",
    "        msrp = browser.find_element_by_xpath('//td[@class=\"msrp ng-binding\"]').get_attribute('innerHTML').strip()[1:]\n",
    "    \n",
    "    elif manufacturer == 'Mercedes Benz':\n",
    "        if browser.find_elements_by_xpath('//*[@class=\"model-page-hero__msrp-inner-value\"]'):\n",
    "            msrp = browser.find_element_by_xpath('//*[@class=\"model-page-hero__msrp-inner-value\"]').get_attribute('innerHTML').strip()[1:]\n",
    "        \n",
    "        pagetext=browser.page_source\n",
    "        pagetext=pagetext[pagetext.index('<section id=\"key-features\"'):pagetext.index('<section id=\"packages\"')].lower()\n",
    "        \n",
    "    browser.quit()\n",
    "    if printpage: print(pagetext)\n",
    "    return msrp, pagetext"
   ]
  },
  {
   "cell_type": "code",
   "execution_count": 7,
   "metadata": {
    "hidden": true
   },
   "outputs": [],
   "source": [
    "def gettranslations(inputpath, manufacturer):\n",
    "    #pulls and returns array of Manufacturer terms and links them with the column number in the SAE datasheet\n",
    "    \n",
    "    #opens csv download of 'Copy of Market Translations' Google Sheet\n",
    "    with open(inputpath, 'r') as translations_csv:\n",
    "        reader = csv.reader(translations_csv, delimiter=',', quotechar='\"')\n",
    "        \n",
    "        #iterates through table looking for the first row and the specific manufacturer row\n",
    "        for row in reader:\n",
    "            if row[0].lower() == 'manufacturer':\n",
    "                adas = row\n",
    "                numbers = [x for x in range(len(row))]\n",
    "            if row[0].lower() == manufacturer.lower():\n",
    "                market = [s.lower() for s in row]\n",
    "        \n",
    "        #zips together ADAS column number and the content of the cell \n",
    "        translations = [[x, y] for x, y in zip(market, numbers)]\n",
    "        \n",
    "        #this next bit is for splitting up the cells with multiple terms into multiple entries\n",
    "        newlist = []\n",
    "        keylist = []\n",
    "        for pair in translations:\n",
    "            #it splits them by the ', ' identifier, any cells with a comma and space will be split\n",
    "            if \", \" in pair[0]:\n",
    "                newkeys = pair[0].split(\", \")\n",
    "                for newkey in newkeys:\n",
    "                    #appending new entries to temp list to later add to main list\n",
    "                    newlist.append([newkey, pair[1]])\n",
    "                #appending old entries to another temp list to later be removed from main list\n",
    "                keylist.append(pair)\n",
    "            elif pair[0] == '':\n",
    "                keylist.append(pair)\n",
    "        translations += newlist\n",
    "        for key in keylist:\n",
    "            translations.remove(key)\n",
    "            \n",
    "        return (adas, translations)"
   ]
  },
  {
   "cell_type": "code",
   "execution_count": 41,
   "metadata": {
    "hidden": true
   },
   "outputs": [],
   "source": [
    "def writedata(outputpath, url, manufacturer, model_name, trim, year, vehicle_type, msrp, adas, translations, pagetext, printfeatures):\n",
    "    #compares translations array with page text, creates an array of 'X's, then writes it to a csv\n",
    "    \n",
    "    #creates blank array to later fill\n",
    "    datarow = [None]*(len(adas)+12)\n",
    "    \n",
    "    #sets bool to true if the output csv already exists, false otherwise. This is for whether to write the header of the csv or not.\n",
    "    bool = os.path.isfile(outputpath)\n",
    "    \n",
    "    #special thing, we can automatically pull price\n",
    "    if not msrp:\n",
    "        if manufacturer == 'Chevrolet':\n",
    "            if '$' in pagetext:\n",
    "                msrp = pagetext[pagetext.index('$')+1:pagetext.index(' ', pagetext.index('$'))]\n",
    "        elif manufacturer == 'Toyota':\n",
    "            if '$' in pagetext:\n",
    "                msrp = pagetext[pagetext.index('$')+1:pagetext.index('\"', pagetext.index('$'))]\n",
    "        elif manufacturer == 'Honda':\n",
    "            # determine trim number\n",
    "            tindex = pagetext.rindex('trims-', 0, pagetext.index('<h5>' + trim.lower() + '</h5>'))\n",
    "            print(pagetext[tindex-50:tindex+50])\n",
    "            trimnum = pagetext[tindex+6:pagetext.index('\"', tindex)]\n",
    "            print(\"Trim num = \" + trimnum)\n",
    "            mindex = pagetext.index('$', pagetext.index('\"' + trim.lower() +'\" data-starting-price'))\n",
    "            msrp = pagetext[mindex+1:pagetext.index('<', mindex)]\n",
    "        elif manufacturer == 'Nissan':\n",
    "            mindex = pagetext.index('class=\"price\">$')\n",
    "            msrp = pagetext[mindex+len('class=\"price\">$'):pagetext.index('<', mindex)]\n",
    "            pagetext = pagetext[pagetext.index('<li class=\"accordion-group ', pagetext.index('data-section-type=\"key-features\"')):pagetext.index('<div class=\"grade-images-placeholder\">')]\n",
    "\n",
    "    #loops through translation array\n",
    "    counter = 0\n",
    "    for pair in translations:\n",
    "        #if a term is in the text of the page...\n",
    "        if pair[0] in pagetext:\n",
    "            if pair[0] == manufacturer.lower():\n",
    "                continue\n",
    "            \n",
    "            if manufacturer == 'Ford':\n",
    "                icounter=0\n",
    "                while pair[0] in pagetext[icounter:]:\n",
    "                    index = pagetext.index(pair[0], icounter)\n",
    "                    if 'standard' in pagetext[:index]:\n",
    "                        sindex = pagetext.rindex('standard', 0, index)\n",
    "                    else:\n",
    "                        sindex = 0\n",
    "                    if 'optional' in pagetext[:index]:\n",
    "                        oindex = pagetext.rindex('optional', 0, index)\n",
    "                    else:\n",
    "                        oindex = 0\n",
    "                    if sindex > oindex:\n",
    "                        if printfeatures: print(pair[0] + \" in page and is \" + adas[pair[1]])\n",
    "                        if not datarow[pair[1]+12]: counter += 1\n",
    "                        datarow[pair[1]+12] = 'X'\n",
    "                        break\n",
    "                    else:\n",
    "                        if printfeatures: print(pair[0] + \" is optional and is \" + adas[pair[1]])\n",
    "                    icounter = index + 1\n",
    "\n",
    "            elif manufacturer == 'Chevrolet':\n",
    "                #special thing for Chevrolet, they list all terms, then mark \"standard\" after the actual ones\n",
    "                #find index of feature\n",
    "                icounter=0\n",
    "                while pair[0] in pagetext[icounter:]:\n",
    "                    if pagetext[pagetext.index(pair[0], icounter) - 1] == ' ' or pagetext[pagetext.index(pair[0], icounter) + len(pair[0])] == ',':\n",
    "                        icounter = pagetext.index(pair[0], icounter)+1\n",
    "                    else:\n",
    "                        index = pagetext.index(pair[0], icounter)\n",
    "                        break\n",
    "                \n",
    "                if pagetext[index+len(pair[0]):index+len(pair[0])+8] == 'standard':\n",
    "                    if printfeatures: print(pair[0] + \" is standard and is \" + adas[pair[1]])\n",
    "                    if not datarow[pair[1]+12]: counter += 1\n",
    "                    datarow[pair[1]+12] = 'X'\n",
    "                elif pagetext[index+len(pair[0]):index+len(pair[0])+9] == 'available':\n",
    "                    if printfeatures: print(pair[0] + \" is optional and is \" + adas[pair[1]])\n",
    "                    #if not datarow[pair[1]+12]: \n",
    "                        #counter += 1\n",
    "                        #datarow[pair[1]+12] = 'O'\n",
    "                #else:\n",
    "                    #if printfeatures: print(pair[0] + \" is not available\")\n",
    "            \n",
    "            elif manufacturer == \"Toyota\":\n",
    "                #special for Toyota, same as above\n",
    "                icounter = 0\n",
    "                while pair[0] in pagetext[icounter:]:\n",
    "                    index = pagetext.index(pair[0], icounter)\n",
    "                    if 'standard' in pagetext[index:]:\n",
    "                        sindex = pagetext.index('standard', index)\n",
    "                    else:\n",
    "                        sindex = len(pagetext)\n",
    "                    if 'available' in pagetext[index:]:\n",
    "                        aindex = pagetext.index('available', index)\n",
    "                    else:\n",
    "                        aindex = len(pagetext)\n",
    "                    if 'not-available' in pagetext[index:]:\n",
    "                        nindex = pagetext.index('not-available', index)\n",
    "                    else:\n",
    "                        nindex = len(pagetext)\n",
    "                    \n",
    "                    is_present = min(min(sindex, aindex), nindex)\n",
    "                \n",
    "                    if pagetext[is_present] == 's':\n",
    "                        if printfeatures: print(pair[0] + \" is standard and is \" + adas[pair[1]])\n",
    "                        if not datarow[pair[1]+12]: counter += 1\n",
    "                        datarow[pair[1]+12] = 'X'\n",
    "                        break\n",
    "                    elif pagetext[is_present] == 'a':\n",
    "                        if printfeatures: print(pair[0] + \" is optional and is \" + adas[pair[1]])\n",
    "                        #if not datarow[pair[1]+12]: \n",
    "                            #counter += 1\n",
    "                            #datarow[pair[1]+12] = 'O'\n",
    "                    #elif pagetext[is_present] == 'n':\n",
    "                        #if printfeatures: print(pair[0] + \" is not available\")\n",
    "                    icounter = index + 1\n",
    "            elif manufacturer == \"Honda\":\n",
    "                #special for Toyota, same as above\n",
    "                icounter = 0\n",
    "                while pair[0] in pagetext[icounter:]:\n",
    "                    \n",
    "                    index=pagetext.index(pair[0], icounter)\n",
    "                    if pagetext.rindex('col-', 0, index) > pagetext.rindex('responsive-table-fixed-column', 0, index):\n",
    "                        if pagetext[pagetext.rindex('col-', 0, index)+len('col-'):pagetext.index(' ', pagetext.rindex('col-', 0, index))] == str(trimnum):\n",
    "                            if printfeatures: print(pair[0] + \" is standard and is \" + adas[pair[1]])\n",
    "                            if not datarow[pair[1]+12]: counter += 1\n",
    "                            datarow[pair[1]+12] = 'X'\n",
    "                            break\n",
    "                        else:\n",
    "                            icounter = index + 1\n",
    "                            continue\n",
    "                    \n",
    "                    index = pagetext.index('col-'+trimnum, index)\n",
    "                    brindex = pagetext.index('</td>', index)\n",
    "                    is_present = min([pagetext.index(option, index, brindex) if option in pagetext[index:brindex] else len(pagetext)-1 for option in ['mi-circle-check', '<p>', 'available', 'mi-dash']])\n",
    "                    \n",
    "                    print(pair[0])\n",
    "                    print(pagetext[index:])\n",
    "                    \n",
    "                    if pagetext[is_present:is_present+15] == 'mi-circle-check' or pagetext[is_present:is_present+3] == '<p>':\n",
    "                        if printfeatures: print(pair[0] + \" is standard and is \" + adas[pair[1]])\n",
    "                        if not datarow[pair[1]+12]: counter += 1\n",
    "                        datarow[pair[1]+12] = 'X'\n",
    "                        break\n",
    "                    elif pagetext[is_present] == 'a':\n",
    "                        if printfeatures: print(pair[0] + \" is optional and is \" + adas[pair[1]])\n",
    "                        #if not datarow[pair[1]+12]: \n",
    "                            #counter += 1\n",
    "                            #datarow[pair[1]+12] = 'O'\n",
    "                    #elif pagetext[is_present] == 'n':\n",
    "                        #if printfeatures: print(pair[0] + \" is not available\")\n",
    "                    icounter = index + 1\n",
    "            elif manufacturer == \"Nissan\":\n",
    "                #special for Toyota, same as above\n",
    "                icounter = 0\n",
    "                while pair[0] in pagetext[icounter:]:\n",
    "                    index = pagetext.index(pair[0], icounter)\n",
    "                    brindex = pagetext.index('</tr>', index)\n",
    "                    is_present = min([pagetext.index(option, index, brindex) if option in pagetext[index:brindex] else len(pagetext)-1 for option in ['icon-included', 'icon-optional', 'icon-not-included']])\n",
    "                    \n",
    "                    \n",
    "                    if pagetext[is_present:is_present+len('icon-included')] == 'icon-included':\n",
    "                        if printfeatures: print(pair[0] + \" is standard and is \" + adas[pair[1]])\n",
    "                        if not datarow[pair[1]+12]: counter += 1\n",
    "                        datarow[pair[1]+12] = 'X'\n",
    "                        break\n",
    "                    elif pagetext[is_present:is_present+len('icon-optional')] == 'icon-optional':\n",
    "                        if printfeatures: print(pair[0] + \" is optional and is \" + adas[pair[1]])\n",
    "                        #if not datarow[pair[1]+12]: \n",
    "                            #counter += 1\n",
    "                            #datarow[pair[1]+12] = 'O'\n",
    "                    #elif pagetext[is_present] == 'n':\n",
    "                        #if printfeatures: print(pair[0] + \" is not available\")\n",
    "                    icounter = index + 1\n",
    "            elif manufacturer == \"Subaru\":\n",
    "                #print and add X to that blank array\n",
    "                if printfeatures: print(pair[0] + \" in page and is \" + adas[pair[1]])\n",
    "                if not datarow[pair[1]+12]: counter += 1\n",
    "                datarow[pair[1]+12] = 'X'\n",
    "            elif manufacturer == \"Mercedes Benz\":\n",
    "                #special for Toyota, same as above \n",
    "                icounter = 0\n",
    "                while pair[0] in pagetext[icounter:]: \n",
    "                    index = pagetext.index(pair[0], icounter)\n",
    "\n",
    "                    is_present = max([pagetext.rindex(option, 0, index) if option in pagetext[:index] else 0 for option in ['standard', 'optional']])\n",
    "                    \n",
    "                    if pagetext[is_present:is_present+len('standard')] == 'standard':\n",
    "                        if printfeatures: print(pair[0] + \" is standard and is \" + adas[pair[1]])\n",
    "                        if not datarow[pair[1]+12]: counter += 1\n",
    "                        datarow[pair[1]+12] = 'X'\n",
    "                        break\n",
    "                    #elif pagetext[is_present:is_present+len('optional')] == 'optional':\n",
    "                        #if printfeatures: print(pair[0] + \" is optional and is \" + adas[pair[1]])\n",
    "                        #if not datarow[pair[1]+12]: \n",
    "                            #counter += 1\n",
    "                            #datarow[pair[1]+12] = 'O'\n",
    "                    #elif pagetext[is_present] == 'n':\n",
    "                        #if printfeatures: print(pair[0] + \" is not available\")\n",
    "                    icounter = index + 1\n",
    "\n",
    "            else: \n",
    "                #print and add X to that blank array\n",
    "                if printfeatures: print(pair[0] + \" in page and is \" + adas[pair[1]])\n",
    "                if not datarow[pair[1]+12]: counter += 1\n",
    "                datarow[pair[1]+12] = 'X'\n",
    "    \n",
    "    print(str(counter) + \" ADAS features found\")\n",
    "    \n",
    "    if manufacturer == 'Chevrolet':\n",
    "        if 'diesel' in pagetext:\n",
    "            index = pagetext.index('engine', pagetext.index('diesel'))\n",
    "            if pagetext[index+6:index+14] == 'standard' or pagetext[index+6:index+15] == 'available':\n",
    "                print(\"Has diesel\")\n",
    "                datarow[8] = 'X'\n",
    "    \n",
    "    #add the beginning info to the row of data\n",
    "    datarow[0] = manufacturer\n",
    "    datarow[1] = model_name\n",
    "    datarow[2] = trim\n",
    "    datarow[3] = year\n",
    "    datarow[4] = vehicle_type\n",
    "    datarow[5] = msrp\n",
    "    datarow[6] = '=HYPERLINK(\"'+url+'\", \"L\")'\n",
    "    datarow[12] = ''\n",
    "    \n",
    "    \n",
    "    #opens csv to write into\n",
    "    with open(outputpath, 'a', newline='') as data:\n",
    "        writer = csv.writer(data, delimiter=',')\n",
    "        \n",
    "        #writes an ADAS header if the file is new\n",
    "        if not bool: \n",
    "            writer.writerow([\"Manufacturer\", \"Model Name\",\"Trim Level\",\"Year\",\"Vehicle Type\",\"MSRP\",\"Link\", \"Gas\", \"Diesel\", \"Hybrid\", \"PHEV\", \"FEV\", \"BEV\"] + adas[1:])\n",
    "            \n",
    "        #writes data\n",
    "        writer.writerow(datarow)"
   ]
  },
  {
   "cell_type": "code",
   "execution_count": 9,
   "metadata": {
    "hidden": true
   },
   "outputs": [],
   "source": [
    "def toyotadata(url, model, trims, trimdatas, year='', vehicle_type='', printfeatures=False, printpage=False):\n",
    "    for i, trim in enumerate(trims):\n",
    "        print(\"/n\")\n",
    "        print(\"trim is \" + trim)\n",
    "        websiteoutput(url, 'Toyota', model, trim, year, vehicle_type, printfeatures=printfeatures, printpage=printpage, start=trimdatas[i], stop=trimdatas[(i+1) % len(trimdatas)])"
   ]
  },
  {
   "cell_type": "code",
   "execution_count": 10,
   "metadata": {
    "hidden": true
   },
   "outputs": [],
   "source": [
    "def modeloutput(url, manufacturer, model='', trims=[], year='', vehicle_type='', msrp='', text=None, printfeatures=False, printpage=False, start=None, stop=None):\n",
    "    for trim in trims:\n",
    "        print(\"trim is \" + trim)\n",
    "        websiteoutput(url, manufacturer, model, trim, year, vehicle_type, None, text, printfeatures, printpage, start, stop)"
   ]
  },
  {
   "cell_type": "markdown",
   "metadata": {
    "heading_collapsed": true
   },
   "source": [
    "# Ford"
   ]
  },
  {
   "cell_type": "markdown",
   "metadata": {
    "hidden": true
   },
   "source": [
    "Ford's Models"
   ]
  },
  {
   "cell_type": "code",
   "execution_count": 66,
   "metadata": {
    "hidden": true
   },
   "outputs": [
    {
     "name": "stdout",
     "output_type": "stream",
     "text": [
      "From website https://www.ford.com/suvs-crossovers/escape/models/escape-s/\n",
      "11 ADAS features found\n",
      "From website https://www.ford.com/suvs-crossovers/escape/models/escape-se/\n",
      "11 ADAS features found\n",
      "From website https://www.ford.com/suvs-crossovers/escape/models/escape-sel/\n",
      "11 ADAS features found\n",
      "From website https://www.ford.com/suvs-crossovers/escape/models/escape-titanium/\n",
      "14 ADAS features found\n"
     ]
    }
   ],
   "source": [
    "websiteoutput('https://www.ford.com/suvs-crossovers/escape/models/escape-s/', 'Ford')\n",
    "websiteoutput('https://www.ford.com/suvs-crossovers/escape/models/escape-se/', 'Ford')\n",
    "websiteoutput('https://www.ford.com/suvs-crossovers/escape/models/escape-sel/', 'Ford')\n",
    "websiteoutput('https://www.ford.com/suvs-crossovers/escape/models/escape-titanium/', 'Ford')"
   ]
  },
  {
   "cell_type": "code",
   "execution_count": 67,
   "metadata": {
    "hidden": true
   },
   "outputs": [
    {
     "name": "stdout",
     "output_type": "stream",
     "text": [
      "From website https://www.ford.com/suvs-crossovers/ecosport/models/ecosport-s/\n",
      "2 ADAS features found\n",
      "From website https://www.ford.com/suvs-crossovers/ecosport/models/ecosport-se/\n",
      "3 ADAS features found\n",
      "From website https://www.ford.com/suvs-crossovers/ecosport/models/ecosport-titanium/\n",
      "5 ADAS features found\n",
      "From website https://www.ford.com/suvs-crossovers/ecosport/models/ecosport-ses/\n",
      "5 ADAS features found\n"
     ]
    }
   ],
   "source": [
    "websiteoutput('https://www.ford.com/suvs-crossovers/ecosport/models/ecosport-s/', 'Ford')\n",
    "websiteoutput('https://www.ford.com/suvs-crossovers/ecosport/models/ecosport-se/', 'Ford')\n",
    "websiteoutput('https://www.ford.com/suvs-crossovers/ecosport/models/ecosport-titanium/', 'Ford')\n",
    "websiteoutput('https://www.ford.com/suvs-crossovers/ecosport/models/ecosport-ses/', 'Ford')"
   ]
  },
  {
   "cell_type": "code",
   "execution_count": 68,
   "metadata": {
    "hidden": true
   },
   "outputs": [
    {
     "name": "stdout",
     "output_type": "stream",
     "text": [
      "From website https://www.ford.com/suvs/bronco-sport/models/bronco-sport-base/\n",
      "10 ADAS features found\n",
      "From website https://www.ford.com/suvs/bronco-sport/models/bronco-sport-big-bend/\n",
      "10 ADAS features found\n",
      "From website https://www.ford.com/suvs/bronco-sport/models/bronco-sport-outer-banks/\n",
      "10 ADAS features found\n",
      "From website https://www.ford.com/suvs/bronco-sport/models/bronco-sport-badlands/\n",
      "10 ADAS features found\n",
      "From website https://www.ford.com/suvs/bronco-sport/models/bronco-sport-first-edition/\n",
      "10 ADAS features found\n"
     ]
    }
   ],
   "source": [
    "websiteoutput('https://www.ford.com/suvs/bronco-sport/models/bronco-sport-base/', 'Ford')\n",
    "websiteoutput('https://www.ford.com/suvs/bronco-sport/models/bronco-sport-big-bend/', 'Ford')\n",
    "websiteoutput('https://www.ford.com/suvs/bronco-sport/models/bronco-sport-outer-banks/', 'Ford')\n",
    "websiteoutput('https://www.ford.com/suvs/bronco-sport/models/bronco-sport-badlands/', 'Ford')\n",
    "websiteoutput('https://www.ford.com/suvs/bronco-sport/models/bronco-sport-first-edition/', 'Ford')"
   ]
  },
  {
   "cell_type": "code",
   "execution_count": 69,
   "metadata": {
    "hidden": true
   },
   "outputs": [
    {
     "name": "stdout",
     "output_type": "stream",
     "text": [
      "From website https://www.ford.com/suvs/bronco/models/bronco-base/\n",
      "11 ADAS features found\n",
      "From website https://www.ford.com/suvs/bronco/models/bronco-big-bend/\n",
      "11 ADAS features found\n",
      "From website https://www.ford.com/suvs/bronco/models/bronco-black-diamond/\n",
      "11 ADAS features found\n",
      "From website https://www.ford.com/suvs/bronco/models/bronco-outer-banks/\n",
      "11 ADAS features found\n",
      "From website https://www.ford.com/suvs/bronco/models/bronco-badlands/\n",
      "10 ADAS features found\n",
      "From website https://www.ford.com/suvs/bronco/models/bronco-wildtrak/\n",
      "10 ADAS features found\n",
      "From website https://www.ford.com/suvs/bronco/models/bronco-first-edition/\n",
      "13 ADAS features found\n"
     ]
    }
   ],
   "source": [
    "websiteoutput('https://www.ford.com/suvs/bronco/models/bronco-base/', 'Ford')\n",
    "websiteoutput('https://www.ford.com/suvs/bronco/models/bronco-big-bend/', 'Ford')\n",
    "websiteoutput('https://www.ford.com/suvs/bronco/models/bronco-black-diamond/', 'Ford')\n",
    "websiteoutput('https://www.ford.com/suvs/bronco/models/bronco-outer-banks/', 'Ford')\n",
    "websiteoutput('https://www.ford.com/suvs/bronco/models/bronco-badlands/', 'Ford')\n",
    "websiteoutput('https://www.ford.com/suvs/bronco/models/bronco-wildtrak/', 'Ford')\n",
    "websiteoutput('https://www.ford.com/suvs/bronco/models/bronco-first-edition/', 'Ford')"
   ]
  },
  {
   "cell_type": "code",
   "execution_count": 70,
   "metadata": {
    "hidden": true,
    "jupyter": {
     "outputs_hidden": true
    }
   },
   "outputs": [
    {
     "name": "stdout",
     "output_type": "stream",
     "text": [
      "From website https://www.ford.com/suvs-crossovers/edge/models/edge-se/\n",
      "11 ADAS features found\n",
      "From website https://www.ford.com/suvs-crossovers/edge/models/edge-sel/\n",
      "11 ADAS features found\n",
      "From website https://www.ford.com/suvs-crossovers/edge/models/edge-st-line/\n",
      "11 ADAS features found\n",
      "From website https://www.ford.com/suvs-crossovers/edge/models/edge-titanium/\n",
      "11 ADAS features found\n",
      "From website https://www.ford.com/suvs-crossovers/edge/models/edge-st/\n",
      "11 ADAS features found\n"
     ]
    }
   ],
   "source": [
    "websiteoutput('https://www.ford.com/suvs-crossovers/edge/models/edge-se/', 'Ford')\n",
    "websiteoutput('https://www.ford.com/suvs-crossovers/edge/models/edge-sel/', 'Ford')\n",
    "websiteoutput('https://www.ford.com/suvs-crossovers/edge/models/edge-st-line/', 'Ford')\n",
    "websiteoutput('https://www.ford.com/suvs-crossovers/edge/models/edge-titanium/', 'Ford')\n",
    "websiteoutput('https://www.ford.com/suvs-crossovers/edge/models/edge-st/', 'Ford')"
   ]
  },
  {
   "cell_type": "code",
   "execution_count": 71,
   "metadata": {
    "hidden": true,
    "jupyter": {
     "outputs_hidden": true
    }
   },
   "outputs": [
    {
     "name": "stdout",
     "output_type": "stream",
     "text": [
      "From website https://www.ford.com/suvs/explorer/models/explorer/\n",
      "10 ADAS features found\n",
      "From website https://www.ford.com/suvs/explorer/models/explorer-xlt/\n",
      "10 ADAS features found\n",
      "From website https://www.ford.com/suvs/explorer/models/explorer-limited/\n",
      "9 ADAS features found\n",
      "From website https://www.ford.com/suvs/explorer/models/explorer-st/\n",
      "11 ADAS features found\n",
      "From website https://www.ford.com/suvs/explorer/models/explorer-king-ranch/\n",
      "9 ADAS features found\n",
      "From website https://www.ford.com/suvs/explorer/models/explorer-platinum/\n",
      "11 ADAS features found\n"
     ]
    }
   ],
   "source": [
    "websiteoutput('https://www.ford.com/suvs/explorer/models/explorer/', 'Ford')\n",
    "websiteoutput('https://www.ford.com/suvs/explorer/models/explorer-xlt/', 'Ford')\n",
    "websiteoutput('https://www.ford.com/suvs/explorer/models/explorer-limited/', 'Ford')\n",
    "websiteoutput('https://www.ford.com/suvs/explorer/models/explorer-st/', 'Ford')\n",
    "websiteoutput('https://www.ford.com/suvs/explorer/models/explorer-king-ranch/', 'Ford')\n",
    "websiteoutput('https://www.ford.com/suvs/explorer/models/explorer-platinum/', 'Ford')"
   ]
  },
  {
   "cell_type": "code",
   "execution_count": 72,
   "metadata": {
    "hidden": true,
    "jupyter": {
     "outputs_hidden": true
    }
   },
   "outputs": [
    {
     "name": "stdout",
     "output_type": "stream",
     "text": [
      "From website https://www.ford.com/suvs/mach-e/models/mach-e-select/\n",
      "16 ADAS features found\n",
      "From website https://www.ford.com/suvs/mach-e/models/mach-e-california-route-1/\n",
      "0 ADAS features found\n",
      "From website https://www.ford.com/suvs/mach-e/models/mach-e-premium/\n",
      "0 ADAS features found\n",
      "From website https://www.ford.com/suvs/mach-e/models/mach-e-gt/\n",
      "0 ADAS features found\n"
     ]
    }
   ],
   "source": [
    "websiteoutput('https://www.ford.com/suvs/mach-e/models/mach-e-select/', 'Ford')\n",
    "websiteoutput('https://www.ford.com/suvs/mach-e/models/mach-e-california-route-1/', 'Ford')\n",
    "websiteoutput('https://www.ford.com/suvs/mach-e/models/mach-e-premium/', 'Ford')\n",
    "websiteoutput('https://www.ford.com/suvs/mach-e/models/mach-e-gt/', 'Ford')"
   ]
  },
  {
   "cell_type": "code",
   "execution_count": 73,
   "metadata": {
    "hidden": true,
    "jupyter": {
     "outputs_hidden": true
    }
   },
   "outputs": [
    {
     "name": "stdout",
     "output_type": "stream",
     "text": [
      "From website https://www.ford.com/suvs/expedition/models/expedition-xl-stx/\n",
      "10 ADAS features found\n",
      "From website https://www.ford.com/suvs/expedition/models/expedition-xlt/\n",
      "12 ADAS features found\n",
      "From website https://www.ford.com/suvs/expedition/models/expedition-limited/\n",
      "12 ADAS features found\n",
      "From website https://www.ford.com/suvs/expedition/models/expedition-king-ranch/\n",
      "15 ADAS features found\n",
      "From website https://www.ford.com/suvs/expedition/models/expedition-platinum/\n",
      "15 ADAS features found\n"
     ]
    }
   ],
   "source": [
    "websiteoutput('https://www.ford.com/suvs/expedition/models/expedition-xl-stx/', 'Ford')\n",
    "websiteoutput('https://www.ford.com/suvs/expedition/models/expedition-xlt/', 'Ford')\n",
    "websiteoutput('https://www.ford.com/suvs/expedition/models/expedition-limited/', 'Ford')\n",
    "websiteoutput('https://www.ford.com/suvs/expedition/models/expedition-king-ranch/', 'Ford')\n",
    "websiteoutput('https://www.ford.com/suvs/expedition/models/expedition-platinum/', 'Ford')"
   ]
  },
  {
   "cell_type": "code",
   "execution_count": 74,
   "metadata": {
    "hidden": true,
    "jupyter": {
     "outputs_hidden": true
    }
   },
   "outputs": [
    {
     "name": "stdout",
     "output_type": "stream",
     "text": [
      "From website https://www.ford.com/trucks/ranger/models/ranger-xl/\n",
      "5 ADAS features found\n",
      "From website https://www.ford.com/trucks/ranger/models/ranger-xlt/\n",
      "12 ADAS features found\n",
      "From website https://www.ford.com/trucks/ranger/models/ranger-lariat/\n",
      "9 ADAS features found\n"
     ]
    }
   ],
   "source": [
    "websiteoutput('https://www.ford.com/trucks/ranger/models/ranger-xl/', 'Ford')\n",
    "websiteoutput('https://www.ford.com/trucks/ranger/models/ranger-xlt/', 'Ford')\n",
    "websiteoutput('https://www.ford.com/trucks/ranger/models/ranger-lariat/', 'Ford')"
   ]
  },
  {
   "cell_type": "code",
   "execution_count": 75,
   "metadata": {
    "hidden": true,
    "jupyter": {
     "outputs_hidden": true
    }
   },
   "outputs": [
    {
     "name": "stdout",
     "output_type": "stream",
     "text": [
      "From website https://www.ford.com/trucks/f150/models/f150-xl/\n",
      "5 ADAS features found\n",
      "From website https://www.ford.com/trucks/f150/models/f150-xlt/\n",
      "12 ADAS features found\n",
      "From website https://www.ford.com/trucks/f150/models/f150-lariat/\n",
      "12 ADAS features found\n",
      "From website https://www.ford.com/trucks/f150/models/f150-king-ranch/\n",
      "14 ADAS features found\n",
      "From website https://www.ford.com/trucks/f150/models/f150-platinum/\n",
      "14 ADAS features found\n",
      "From website https://www.ford.com/trucks/f150/models/f150-limited/\n",
      "17 ADAS features found\n"
     ]
    }
   ],
   "source": [
    "websiteoutput('https://www.ford.com/trucks/f150/models/f150-xl/', 'Ford')\n",
    "websiteoutput('https://www.ford.com/trucks/f150/models/f150-xlt/', 'Ford')\n",
    "websiteoutput('https://www.ford.com/trucks/f150/models/f150-lariat/', 'Ford')\n",
    "websiteoutput('https://www.ford.com/trucks/f150/models/f150-king-ranch/', 'Ford')\n",
    "websiteoutput('https://www.ford.com/trucks/f150/models/f150-platinum/', 'Ford')\n",
    "websiteoutput('https://www.ford.com/trucks/f150/models/f150-limited/', 'Ford')"
   ]
  },
  {
   "cell_type": "code",
   "execution_count": 76,
   "metadata": {
    "hidden": true,
    "jupyter": {
     "outputs_hidden": true
    }
   },
   "outputs": [
    {
     "name": "stdout",
     "output_type": "stream",
     "text": [
      "From website https://www.ford.com/trucks/super-duty/models/f250-xl/\n",
      "1 ADAS features found\n",
      "From website https://www.ford.com/trucks/super-duty/models/f250-xlt/\n",
      "7 ADAS features found\n",
      "From website https://www.ford.com/trucks/super-duty/models/f250-lariat/\n",
      "8 ADAS features found\n",
      "From website https://www.ford.com/trucks/super-duty/models/f250-king-ranch/\n",
      "10 ADAS features found\n",
      "From website https://www.ford.com/trucks/super-duty/models/f250-platinum/\n",
      "11 ADAS features found\n",
      "From website https://www.ford.com/trucks/super-duty/models/f250-limited/\n",
      "11 ADAS features found\n",
      "From website https://www.ford.com/trucks/super-duty/models/f350-xl/\n",
      "1 ADAS features found\n",
      "From website https://www.ford.com/trucks/super-duty/models/f350-xlt/\n",
      "7 ADAS features found\n",
      "From website https://www.ford.com/trucks/super-duty/models/f350-lariat/\n",
      "8 ADAS features found\n",
      "From website https://www.ford.com/trucks/super-duty/models/f350-king-ranch/\n",
      "10 ADAS features found\n",
      "From website https://www.ford.com/trucks/super-duty/models/f350-platinum/\n",
      "11 ADAS features found\n",
      "From website https://www.ford.com/trucks/super-duty/models/f350-limited/\n",
      "11 ADAS features found\n",
      "From website https://www.ford.com/trucks/super-duty/models/f450-xl/\n",
      "1 ADAS features found\n",
      "From website https://www.ford.com/trucks/super-duty/models/f450-xlt/\n",
      "7 ADAS features found\n",
      "From website https://www.ford.com/trucks/super-duty/models/f450-lariat/\n",
      "8 ADAS features found\n",
      "From website https://www.ford.com/trucks/super-duty/models/f450-king-ranch/\n",
      "10 ADAS features found\n",
      "From website https://www.ford.com/trucks/super-duty/models/f450-platinum/\n",
      "11 ADAS features found\n",
      "From website https://www.ford.com/trucks/super-duty/models/f450-limited/\n",
      "11 ADAS features found\n"
     ]
    }
   ],
   "source": [
    "websiteoutput('https://www.ford.com/trucks/super-duty/models/f250-xl/', 'Ford')\n",
    "websiteoutput('https://www.ford.com/trucks/super-duty/models/f250-xlt/', 'Ford')\n",
    "websiteoutput('https://www.ford.com/trucks/super-duty/models/f250-lariat/', 'Ford')\n",
    "websiteoutput('https://www.ford.com/trucks/super-duty/models/f250-king-ranch/', 'Ford')\n",
    "websiteoutput('https://www.ford.com/trucks/super-duty/models/f250-platinum/', 'Ford')\n",
    "websiteoutput('https://www.ford.com/trucks/super-duty/models/f250-limited/', 'Ford')\n",
    "websiteoutput('https://www.ford.com/trucks/super-duty/models/f350-xl/', 'Ford')\n",
    "websiteoutput('https://www.ford.com/trucks/super-duty/models/f350-xlt/', 'Ford')\n",
    "websiteoutput('https://www.ford.com/trucks/super-duty/models/f350-lariat/', 'Ford')\n",
    "websiteoutput('https://www.ford.com/trucks/super-duty/models/f350-king-ranch/', 'Ford')\n",
    "websiteoutput('https://www.ford.com/trucks/super-duty/models/f350-platinum/', 'Ford')\n",
    "websiteoutput('https://www.ford.com/trucks/super-duty/models/f350-limited/', 'Ford')\n",
    "websiteoutput('https://www.ford.com/trucks/super-duty/models/f450-xl/', 'Ford')\n",
    "websiteoutput('https://www.ford.com/trucks/super-duty/models/f450-xlt/', 'Ford')\n",
    "websiteoutput('https://www.ford.com/trucks/super-duty/models/f450-lariat/', 'Ford')\n",
    "websiteoutput('https://www.ford.com/trucks/super-duty/models/f450-king-ranch/', 'Ford')\n",
    "websiteoutput('https://www.ford.com/trucks/super-duty/models/f450-platinum/', 'Ford')\n",
    "websiteoutput('https://www.ford.com/trucks/super-duty/models/f450-limited/', 'Ford')"
   ]
  },
  {
   "cell_type": "code",
   "execution_count": 77,
   "metadata": {
    "hidden": true,
    "jupyter": {
     "outputs_hidden": true
    }
   },
   "outputs": [
    {
     "name": "stdout",
     "output_type": "stream",
     "text": [
      "From website https://www.ford.com/trucks/transit-connect-passenger-van-wagon/models/transit-connect-xl-passenger-wagon/\n",
      "7 ADAS features found\n",
      "From website https://www.ford.com/trucks/transit-connect-passenger-van-wagon/models/transit-connect-xlt-passenger-wagon/\n",
      "9 ADAS features found\n",
      "From website https://www.ford.com/trucks/transit-connect-passenger-van-wagon/models/transit-connect-titanium-passenger-wagon/\n",
      "9 ADAS features found\n"
     ]
    }
   ],
   "source": [
    "websiteoutput('https://www.ford.com/trucks/transit-connect-passenger-van-wagon/models/transit-connect-xl-passenger-wagon/', 'Ford')\n",
    "websiteoutput('https://www.ford.com/trucks/transit-connect-passenger-van-wagon/models/transit-connect-xlt-passenger-wagon/', 'Ford')\n",
    "websiteoutput('https://www.ford.com/trucks/transit-connect-passenger-van-wagon/models/transit-connect-titanium-passenger-wagon/', 'Ford')"
   ]
  },
  {
   "cell_type": "code",
   "execution_count": 78,
   "metadata": {
    "hidden": true,
    "jupyter": {
     "outputs_hidden": true
    }
   },
   "outputs": [
    {
     "name": "stdout",
     "output_type": "stream",
     "text": [
      "From website https://www.ford.com/trucks/transit-passenger-van-wagon/models/transit-xl/\n",
      "8 ADAS features found\n",
      "From website https://www.ford.com/trucks/transit-passenger-van-wagon/models/transit-xlt/\n",
      "10 ADAS features found\n"
     ]
    }
   ],
   "source": [
    "websiteoutput('https://www.ford.com/trucks/transit-passenger-van-wagon/models/transit-xl/', 'Ford')\n",
    "websiteoutput('https://www.ford.com/trucks/transit-passenger-van-wagon/models/transit-xlt/', 'Ford')"
   ]
  },
  {
   "cell_type": "code",
   "execution_count": 79,
   "metadata": {
    "hidden": true,
    "jupyter": {
     "outputs_hidden": true
    }
   },
   "outputs": [
    {
     "name": "stdout",
     "output_type": "stream",
     "text": [
      "From website https://www.ford.com/cars/fusion/models/fusion-s/\n",
      "10 ADAS features found\n",
      "From website https://www.ford.com/cars/fusion/models/fusion-se/\n",
      "10 ADAS features found\n",
      "From website https://www.ford.com/cars/fusion/models/fusion-sel/\n",
      "10 ADAS features found\n",
      "From website https://www.ford.com/cars/fusion/models/fusion-titanium/\n",
      "12 ADAS features found\n",
      "From website https://www.ford.com/cars/fusion/models/fusion-hybrid-se/\n",
      "12 ADAS features found\n",
      "From website https://www.ford.com/cars/fusion/models/fusion-hybrid-sel/\n",
      "12 ADAS features found\n",
      "From website https://www.ford.com/cars/fusion/models/fusion-hybrid-titanium/\n",
      "12 ADAS features found\n",
      "From website https://www.ford.com/cars/fusion/models/fusion-plug-in-hybrid-titanium/\n",
      "12 ADAS features found\n"
     ]
    }
   ],
   "source": [
    "websiteoutput('https://www.ford.com/cars/fusion/models/fusion-s/', 'Ford')\n",
    "websiteoutput('https://www.ford.com/cars/fusion/models/fusion-se/', 'Ford')\n",
    "websiteoutput('https://www.ford.com/cars/fusion/models/fusion-sel/', 'Ford')\n",
    "websiteoutput('https://www.ford.com/cars/fusion/models/fusion-titanium/', 'Ford')\n",
    "websiteoutput('https://www.ford.com/cars/fusion/models/fusion-hybrid-se/', 'Ford')\n",
    "websiteoutput('https://www.ford.com/cars/fusion/models/fusion-hybrid-sel/', 'Ford')\n",
    "websiteoutput('https://www.ford.com/cars/fusion/models/fusion-hybrid-titanium/', 'Ford')\n",
    "websiteoutput('https://www.ford.com/cars/fusion/models/fusion-plug-in-hybrid-titanium/', 'Ford')"
   ]
  },
  {
   "cell_type": "code",
   "execution_count": 80,
   "metadata": {
    "hidden": true,
    "jupyter": {
     "outputs_hidden": true
    }
   },
   "outputs": [
    {
     "name": "stdout",
     "output_type": "stream",
     "text": [
      "From website https://www.ford.com/cars/mustang/models/ecoboost-fastback/\n",
      "10 ADAS features found\n",
      "From website https://www.ford.com/cars/mustang/models/ecoboost-premium-fastback/\n",
      "10 ADAS features found\n",
      "From website https://www.ford.com/cars/mustang/models/ecoboost-convertible/\n",
      "10 ADAS features found\n",
      "From website https://www.ford.com/cars/mustang/models/ecoboost-premium-fastback/\n",
      "10 ADAS features found\n",
      "From website https://www.ford.com/cars/mustang/models/gt-fastback/\n",
      "10 ADAS features found\n",
      "From website https://www.ford.com/cars/mustang/models/gt-premium-fastback/\n",
      "10 ADAS features found\n",
      "From website https://www.ford.com/cars/mustang/models/gt-premium-convertible/\n",
      "10 ADAS features found\n",
      "From website https://www.ford.com/cars/mustang/models/mach-1/\n",
      "10 ADAS features found\n",
      "From website https://www.ford.com/cars/mustang/models/mach-1-premium/\n",
      "10 ADAS features found\n",
      "From website https://www.ford.com/cars/mustang/models/shelby-gt500/\n",
      "11 ADAS features found\n"
     ]
    }
   ],
   "source": [
    "websiteoutput('https://www.ford.com/cars/mustang/models/ecoboost-fastback/', 'Ford')\n",
    "websiteoutput('https://www.ford.com/cars/mustang/models/ecoboost-premium-fastback/', 'Ford')\n",
    "websiteoutput('https://www.ford.com/cars/mustang/models/ecoboost-convertible/', 'Ford')\n",
    "websiteoutput('https://www.ford.com/cars/mustang/models/ecoboost-premium-fastback/', 'Ford')\n",
    "websiteoutput('https://www.ford.com/cars/mustang/models/gt-fastback/', 'Ford')\n",
    "websiteoutput('https://www.ford.com/cars/mustang/models/gt-premium-fastback/', 'Ford')\n",
    "websiteoutput('https://www.ford.com/cars/mustang/models/gt-premium-convertible/', 'Ford')\n",
    "websiteoutput('https://www.ford.com/cars/mustang/models/mach-1/', 'Ford')\n",
    "websiteoutput('https://www.ford.com/cars/mustang/models/mach-1-premium/', 'Ford')\n",
    "websiteoutput('https://www.ford.com/cars/mustang/models/shelby-gt500/', 'Ford')"
   ]
  },
  {
   "cell_type": "markdown",
   "metadata": {
    "heading_collapsed": true
   },
   "source": [
    "# BMW"
   ]
  },
  {
   "cell_type": "markdown",
   "metadata": {
    "hidden": true
   },
   "source": [
    "BMW's Models"
   ]
  },
  {
   "cell_type": "code",
   "execution_count": 142,
   "metadata": {
    "hidden": true,
    "jupyter": {
     "outputs_hidden": true
    }
   },
   "outputs": [
    {
     "name": "stdout",
     "output_type": "stream",
     "text": [
      "From website https://www.bmwusa.com/standard-features.iframe.standard-features.21XA.html\n",
      "11 ADAS features found\n",
      "From website https://www.bmwusa.com/standard-features.iframe.standard-features.21XB.html\n",
      "12 ADAS features found\n",
      "From website https://www.bmwusa.com/standard-features.iframe.standard-features.22XX.html\n",
      "12 ADAS features found\n",
      "From website https://www.bmwusa.com/standard-features.iframe.standard-features.22XY.html\n",
      "12 ADAS features found\n",
      "From website https://www.bmwusa.com/standard-features.iframe.standard-features.22XZ.html\n",
      "12 ADAS features found\n"
     ]
    }
   ],
   "source": [
    "websiteoutput('https://www.bmwusa.com/standard-features.iframe.standard-features.21XA.html', 'BMW', 'X1', 'sDrive28i', '2021', 'SUV', '35,400')\n",
    "websiteoutput('https://www.bmwusa.com/standard-features.iframe.standard-features.21XB.html', 'BMW', 'X1', 'xDrive28i', '2021', 'SUV', '37,400')\n",
    "websiteoutput('https://www.bmwusa.com/standard-features.iframe.standard-features.22XX.html', 'BMW', 'X2', 'sDrive28i', '2022', 'SUV', '36,600')\n",
    "websiteoutput('https://www.bmwusa.com/standard-features.iframe.standard-features.22XY.html', 'BMW', 'X2', 'xDrive28i', '2022', 'SUV', '38,600')\n",
    "websiteoutput('https://www.bmwusa.com/standard-features.iframe.standard-features.22XZ.html', 'BMW', 'X2', 'M35i', '2022', 'SUV', '46,450')"
   ]
  },
  {
   "cell_type": "code",
   "execution_count": 143,
   "metadata": {
    "hidden": true,
    "jupyter": {
     "outputs_hidden": true
    }
   },
   "outputs": [
    {
     "name": "stdout",
     "output_type": "stream",
     "text": [
      "From website https://www.bmwusa.com/standard-features.iframe.standard-features.21XQ.html\n",
      "12 ADAS features found\n",
      "From website https://www.bmwusa.com/standard-features.iframe.standard-features.21XD.html\n",
      "12 ADAS features found\n",
      "From website https://www.bmwusa.com/standard-features.iframe.standard-features.21SC.html\n",
      "12 ADAS features found\n",
      "From website https://www.bmwusa.com/standard-features.iframe.standard-features.21XE.html\n",
      "13 ADAS features found\n",
      "From website https://www.bmwusa.com/standard-features.iframe.standard-features.21SO.html\n",
      "15 ADAS features found\n"
     ]
    }
   ],
   "source": [
    "websiteoutput('https://www.bmwusa.com/standard-features.iframe.standard-features.21XQ.html', 'BMW', 'X3', 'sDrive30i', '2021', 'SUV', '43,000')\n",
    "websiteoutput('https://www.bmwusa.com/standard-features.iframe.standard-features.21XD.html', 'BMW', 'X3', 'xDrive30i', '2021', 'SUV', '45,000')\n",
    "websiteoutput('https://www.bmwusa.com/standard-features.iframe.standard-features.21SC.html', 'BMW', 'X3', 'xDrive30e', '2021', 'SUV', '49,600')\n",
    "websiteoutput('https://www.bmwusa.com/standard-features.iframe.standard-features.21XE.html', 'BMW', 'X3', 'M40i', '2021', 'SUV', '56,600')\n",
    "websiteoutput('https://www.bmwusa.com/standard-features.iframe.standard-features.21SO.html', 'BMW', 'X3', 'M', '2021', 'SUV', '69,900')"
   ]
  },
  {
   "cell_type": "code",
   "execution_count": 144,
   "metadata": {
    "hidden": true
   },
   "outputs": [
    {
     "name": "stdout",
     "output_type": "stream",
     "text": [
      "From website https://www.bmwusa.com/standard-features.iframe.standard-features.21XR.html\n",
      "15 ADAS features found\n",
      "From website https://www.bmwusa.com/standard-features.iframe.standard-features.21XV.html\n",
      "15 ADAS features found\n",
      "From website https://www.bmwusa.com/standard-features.iframe.standard-features.21SP.html\n",
      "15 ADAS features found\n"
     ]
    }
   ],
   "source": [
    "websiteoutput('https://www.bmwusa.com/standard-features.iframe.standard-features.21XR.html', 'BMW', 'X4', 'xDrive30i', '2021', 'SUV', '51,600')\n",
    "websiteoutput('https://www.bmwusa.com/standard-features.iframe.standard-features.21XV.html', 'BMW', 'X4', 'M40i', '2021', 'SUV', '61,700')\n",
    "websiteoutput('https://www.bmwusa.com/standard-features.iframe.standard-features.21SP.html', 'BMW', 'X4', 'M', '2021', 'SUV', '73,400')"
   ]
  },
  {
   "cell_type": "code",
   "execution_count": 145,
   "metadata": {
    "hidden": true
   },
   "outputs": [
    {
     "name": "stdout",
     "output_type": "stream",
     "text": [
      "From website https://www.bmwusa.com/standard-features.iframe.standard-features.21XO.html\n",
      "15 ADAS features found\n",
      "From website https://www.bmwusa.com/standard-features.iframe.standard-features.21XG.html\n",
      "15 ADAS features found\n",
      "From website https://www.bmwusa.com/standard-features.iframe.standard-features.21XT.html\n",
      "15 ADAS features found\n",
      "From website https://www.bmwusa.com/standard-features.iframe.standard-features.21SJ.html\n",
      "15 ADAS features found\n",
      "From website https://www.bmwusa.com/standard-features.iframe.standard-features.21XK.html\n",
      "20 ADAS features found\n"
     ]
    }
   ],
   "source": [
    "websiteoutput('https://www.bmwusa.com/standard-features.iframe.standard-features.21XO.html', 'BMW', 'X5', 'sDrive40i', '2021', 'SUV', '59,400')\n",
    "websiteoutput('https://www.bmwusa.com/standard-features.iframe.standard-features.21XG.html', 'BMW', 'X5', 'xDrive40i', '2021', 'SUV', '61,700')\n",
    "websiteoutput('https://www.bmwusa.com/standard-features.iframe.standard-features.21XT.html', 'BMW', 'X5', 'xDrive45e', '2021', 'SUV', '65,400')\n",
    "websiteoutput('https://www.bmwusa.com/standard-features.iframe.standard-features.21SJ.html', 'BMW', 'X5', 'M50i', '2021', 'SUV', '82,800')\n",
    "websiteoutput('https://www.bmwusa.com/standard-features.iframe.standard-features.21XK.html', 'BMW', 'X5', 'M', '2021', 'SUV', '105,100')"
   ]
  },
  {
   "cell_type": "code",
   "execution_count": 146,
   "metadata": {
    "hidden": true
   },
   "outputs": [
    {
     "name": "stdout",
     "output_type": "stream",
     "text": [
      "From website https://www.bmwusa.com/standard-features.iframe.standard-features.21XU.html\n",
      "14 ADAS features found\n",
      "From website https://www.bmwusa.com/standard-features.iframe.standard-features.21XL.html\n",
      "15 ADAS features found\n",
      "From website https://www.bmwusa.com/standard-features.iframe.standard-features.21XM.html\n",
      "15 ADAS features found\n",
      "From website https://www.bmwusa.com/standard-features.iframe.standard-features.21XN.html\n",
      "20 ADAS features found\n"
     ]
    }
   ],
   "source": [
    "websiteoutput('https://www.bmwusa.com/standard-features.iframe.standard-features.21XU.html', 'BMW', 'X6', 'sDrive40i', '2021', 'SUV', '65,050')\n",
    "websiteoutput('https://www.bmwusa.com/standard-features.iframe.standard-features.21XL.html', 'BMW', 'X6', 'xDrive40i', '2021', 'SUV', '67,350')\n",
    "websiteoutput('https://www.bmwusa.com/standard-features.iframe.standard-features.21XM.html', 'BMW', 'X6', 'M50i', '2021', 'SUV', '86,250')\n",
    "websiteoutput('https://www.bmwusa.com/standard-features.iframe.standard-features.21XN.html', 'BMW', 'X6', 'M', '2021', 'SUV', '108,600')"
   ]
  },
  {
   "cell_type": "code",
   "execution_count": 147,
   "metadata": {
    "hidden": true
   },
   "outputs": [
    {
     "name": "stdout",
     "output_type": "stream",
     "text": [
      "From website https://www.bmwusa.com/standard-features.iframe.standard-features.21SA.html\n",
      "15 ADAS features found\n",
      "From website https://www.bmwusa.com/standard-features.iframe.standard-features.21SL.html\n",
      "20 ADAS features found\n",
      "From website https://www.bmwusa.com/standard-features.iframe.standard-features.21SQ.html\n",
      "23 ADAS features found\n"
     ]
    }
   ],
   "source": [
    "websiteoutput('https://www.bmwusa.com/standard-features.iframe.standard-features.21SA.html', 'BMW', 'X7', 'xDrive40i', '2021', 'SUV', '74,900')\n",
    "websiteoutput('https://www.bmwusa.com/standard-features.iframe.standard-features.21SL.html', 'BMW', 'X7', 'M50i', '2021', 'SUV', '99,800')\n",
    "websiteoutput('https://www.bmwusa.com/standard-features.iframe.standard-features.21SQ.html', 'BMW', 'X7 Alpina', 'Alpina XB7', '2021', 'SUV', '141,300')"
   ]
  },
  {
   "cell_type": "code",
   "execution_count": 148,
   "metadata": {
    "hidden": true
   },
   "outputs": [
    {
     "name": "stdout",
     "output_type": "stream",
     "text": [
      "From website https://www.bmwusa.com/standard-features.iframe.standard-features.212V.html\n",
      "13 ADAS features found\n",
      "From website https://www.bmwusa.com/standard-features.iframe.standard-features.212T.html\n",
      "13 ADAS features found\n",
      "From website https://www.bmwusa.com/standard-features.iframe.standard-features.212U.html\n",
      "13 ADAS features found\n"
     ]
    }
   ],
   "source": [
    "websiteoutput('https://www.bmwusa.com/standard-features.iframe.standard-features.212V.html', 'BMW', '2', '228i Gran Coupe', '2021', 'Sedan', '35,700')\n",
    "websiteoutput('https://www.bmwusa.com/standard-features.iframe.standard-features.212T.html', 'BMW', '2', '228i xDrive Gran Coupe', '2021', 'Sedan', '37,700')\n",
    "websiteoutput('https://www.bmwusa.com/standard-features.iframe.standard-features.212U.html', 'BMW', '2', 'M235i xDrive Gran Coupe', '2021', 'Sedan', '45,500')"
   ]
  },
  {
   "cell_type": "code",
   "execution_count": 149,
   "metadata": {
    "hidden": true
   },
   "outputs": [
    {
     "name": "stdout",
     "output_type": "stream",
     "text": [
      "10 ADAS features found\n",
      "10 ADAS features found\n",
      "10 ADAS features found\n",
      "10 ADAS features found\n",
      "From website https://www.bmwusa.com/standard-features.iframe.standard-features.212S.html\n",
      "11 ADAS features found\n"
     ]
    }
   ],
   "source": [
    "websiteoutput('https://www.bmwusa.com/vehicles/2-series/coupe/pricing-features.html', 'BMW', '2', '230i Coupe', '2021', 'Coupe', '35,900', \"\"\"01 Drive\n",
    "\n",
    "\n",
    "01.1\n",
    "\n",
    "Performance and Efficiency\n",
    "Engine, transmission, and aerodynamic features.\n",
    "\n",
    "2.0-liter BMW TwinPower Turbo inline 4-cylinder, 16-valve 248-hp engine. Combines a twin-scroll turbocharger with variable valve control (Double-VANOS and Valvetronic) and high-precision direct injection\n",
    "Auto Start-Stop function\n",
    "8-speed Sport Automatic transmission with Sport and Manual shift modes, steering wheel-mounted paddle shifters and Launch Control\n",
    "Electronic throttle control\n",
    "Electronically controlled engine cooling (map cooling)\n",
    "Brake Energy Regeneration\n",
    "Driving Dynamics Control with ECO PRO, COMFORT, SPORT and SPORT+ modes\n",
    "Launch Control (automatic transmission only)\n",
    "\n",
    "01.2\n",
    "\n",
    "Handling, Ride and Braking\n",
    "Ensuring a smooth, safe, comfortable drive.\n",
    "\n",
    "Servotronic power-steering assist\n",
    "Dynamic Stability Control (DSC), including Brake Fade Compensation, Start-off Assistant, Brake Drying, and Brake Stand-by features; with Dynamic Traction Control (DTC)\n",
    "Double-pivot spring and strut-type front suspension\n",
    "Five-link fully independent rear suspension\n",
    "Twin-tube gas-pressure shock absorbers\n",
    "4-wheel ventilated disc brakes with Anti-lock Braking System (ABS), Dynamic Brake Control (DBC) and Cornering Brake Control (CBC)\n",
    "02 Appearance\n",
    "\n",
    "\n",
    "02.1\n",
    "\n",
    "Exterior\n",
    "Paint, accents, and lights.\n",
    "\n",
    "17\" Double-spoke bi-color wheels, style 725 with all-season run-flat tires\n",
    "Non-metallic paint\n",
    "Chrome-line exterior trim\n",
    "Highgloss Black Kidney Frame\n",
    "\n",
    "02.2\n",
    "\n",
    "Interior Trim\n",
    "Upholstery and trim.\n",
    "\n",
    "SensaTec upholstery\n",
    "High-gloss Black interior trim with Pearl Gloss Chrome highlight\n",
    "Floormats\n",
    "Anthracite headliner\n",
    "03 Technology\n",
    "\n",
    "\n",
    "03.1\n",
    "\n",
    "Connectivity\n",
    "Wireless features, remote services, and intuitive technology.\n",
    "\n",
    "BMW TeleServices\n",
    "BMW ConnectedDrive® Services\n",
    "Apple CarPlay™ Compatibility\n",
    "Advanced Real Time Traffic Information and On-Street Parking Availability information (select markets)\n",
    "\n",
    "03.2\n",
    "\n",
    "Audio System\n",
    "Systems, speakers and more.\n",
    "\n",
    "Anti-theft AM/FM stereo with Radio Data System (RDS)\n",
    "HiFi Sound System with 205-watt digital amplifier and 7 speakers\n",
    "HD Radio™ with \"multicast\" FM station reception\n",
    "SiriusXM® Satellite Radio with 1-year All Access subscription\n",
    "\n",
    "03.3\n",
    "\n",
    "Instrumentation and Controls\n",
    "Advanced features for a smarter drive.\n",
    "\n",
    "3-spoke leather-wrapped sport steering wheel with paddle shifters\n",
    "USB audio connection and hands-free Bluetooth® including Audio Streaming\n",
    "Key fob with Sport Line motif\n",
    "Dynamic Cruise Control\n",
    "Rear-window defroster\n",
    "Tire Pressure Monitor\n",
    "Instrument Cluster with Extended Contents\n",
    "BMW Navigation Business system with iDrive Controller, 6.5\" high-resolution screen and programmable memory buttons\n",
    "\n",
    "03.4\n",
    "\n",
    "Comfort and Convenience\n",
    "Comfort and Convenience Luxury features for a pleasant ride.\n",
    "\n",
    "Engine Start/Stop button\n",
    "Storage package (storage compartment under light switch, nets on driver and front passenger seatbacks and additional storage configurability in trunk)\n",
    "Front-seat center armrest\n",
    "Automatic climate control includes micro-filter, automatic air recirculation, digital driver/passenger temperature controls, temperature- and volume-adjustable rear outlet, windshield misting sensor, MAX A/C function, and recall of individual user settings\n",
    "Rain-sensing windshield wipers with adjustable speed and automatic headlight control\n",
    "Advanced Vehicle & Key Memory includes most recently used climate-control temperature and air-distribution settings; exterior mirror and power seat settings; audio tone settings and radio presets; central-locking preferences; and lighting preferences\n",
    "Tilt/telescopic steering wheel column\n",
    "Power front windows with \"one-touch\" up/down operation\n",
    "Locking glovebox\n",
    "Electric interior trunk release\n",
    "Three 12V power sockets\n",
    "10-way power front sport seats; including 2-way power side bolsters, 1-way manual headrests and thigh support; driver memory for exterior mirror and seat positions\n",
    "Folding rear-seat headrests\n",
    "04 Protection\n",
    "\n",
    "\n",
    "04.1\n",
    "\n",
    "Safety and Security\n",
    "Protecting you and your vehicle, on the road and off.\n",
    "\n",
    "Anti-lock Braking System (ABS)\n",
    "Front and rear Head Protection System (HPS)\n",
    "Driver's and passenger's front airbag supplemental restraint system (SRS) with advanced technology: dual-threshold, dual-stage deployment\n",
    "Seat-mounted front side-impact airbags\n",
    "Knee airbags for driver and front passenger\n",
    "Front safety belts with automatic pretensioners\n",
    "Front-passenger-seat-occupation recognition with Passenger's Airbag Off indicator\n",
    "Coded Driveaway Protection\n",
    "Automatic-locking retractors (ALR) on all passenger safety belts for installation of child-restraint seat\n",
    "LATCH attachments for child-restraint safety installation\n",
    "Impact sensors that activate Battery Safety Terminal disconnect of alternator and starter from battery; disable fuel pump; automatically unlock doors; and turn on hazard and interior lights\n",
    "Active Driving Assistant, includes Frontal Collision Warning, Lane Departure Warning\n",
    "Programmable LED Daytime Running Lights\n",
    "Anti-theft alarm system\n",
    "BMW Assist eCall™ includes Emergency Request (SOS button) and Enhanced Automatic Collision Notification\n",
    "Rear-view Camera\n",
    "Park Distance Control, front and rear\n",
    "BMW Remote Services includes Stolen Vehicle Recovery, Remote Door Unlock and BMW Connected App\n",
    "LED Headlights\n",
    "LED fog lights\n",
    "\n",
    "04.2\n",
    "\n",
    "Warranty\n",
    "Complete coverage and peace of mind.\n",
    "\n",
    "BMW Ultimate Care (for complete details, visit click here)\n",
    "4-year/50,000-mile New Vehicle Limited Warranty for Passenger Cars and Light Trucks 2021 Models (valid only in the USA including Puerto Rico)\n",
    "12-year Unlimited Mileage Rust Perforation Limited Warranty\n",
    "4-year Unlimited Mileage Roadside Assistance Program\"\"\")\n",
    "websiteoutput('https://www.bmwusa.com/vehicles/2-series/coupe/pricing-features.html', 'BMW', '2', '230i xDrive Coupe', '2021', 'Coupe', '37,900', \"\"\"01 Drive\n",
    "\n",
    "\n",
    "01.1\n",
    "\n",
    "Performance and Efficiency\n",
    "Engine, transmission, and aerodynamic features.\n",
    "\n",
    "2.0-liter BMW TwinPower Turbo inline 4-cylinder, 16-valve 248-hp engine. Combines a twin-scroll turbocharger with variable valve control (Double-VANOS and Valvetronic) and high-precision direct injection\n",
    "Auto Start-Stop function\n",
    "8-speed Sport Automatic transmission with Sport and Manual shift modes, steering wheel-mounted paddle shifters and Launch Control\n",
    "Electronic throttle control\n",
    "Electronically controlled engine cooling (map cooling)\n",
    "Brake Energy Regeneration\n",
    "Driving Dynamics Control with ECO PRO, COMFORT, SPORT and SPORT+ modes\n",
    "Launch Control (automatic transmission only)\n",
    "\n",
    "01.2\n",
    "\n",
    "Handling, Ride and Braking\n",
    "Ensuring a smooth, safe, comfortable drive.\n",
    "\n",
    "Servotronic power-steering assist\n",
    "Dynamic Stability Control (DSC), including Brake Fade Compensation, Start-off Assistant, Brake Drying, and Brake Stand-by features; with Dynamic Traction Control (DTC)\n",
    "Double-pivot spring and strut-type front suspension\n",
    "Five-link fully independent rear suspension\n",
    "Twin-tube gas-pressure shock absorbers\n",
    "4-wheel ventilated disc brakes with Anti-lock Braking System (ABS), Dynamic Brake Control (DBC) and Cornering Brake Control (CBC)\n",
    "xDrive all-wheel-drive system\n",
    "02 Appearance\n",
    "\n",
    "\n",
    "02.1\n",
    "\n",
    "Exterior\n",
    "Paint, accents, and lights.\n",
    "\n",
    "17\" Double-spoke bi-color wheels, style 725 with all-season run-flat tires\n",
    "Non-metallic paint\n",
    "Chrome-line exterior trim\n",
    "Highgloss Black Kidney Frame\n",
    "\n",
    "02.2\n",
    "\n",
    "Interior Trim\n",
    "Upholstery and trim.\n",
    "\n",
    "SensaTec upholstery\n",
    "High-gloss Black interior trim with Pearl Gloss Chrome highlight\n",
    "Floormats\n",
    "Anthracite headliner\n",
    "03 Technology\n",
    "\n",
    "\n",
    "03.1\n",
    "\n",
    "Connectivity\n",
    "Wireless features, remote services, and intuitive technology.\n",
    "\n",
    "BMW TeleServices\n",
    "BMW ConnectedDrive® Services\n",
    "Apple CarPlay™ Compatibility\n",
    "Advanced Real Time Traffic Information and On-Street Parking Availability information (select markets)\n",
    "\n",
    "03.2\n",
    "\n",
    "Audio System\n",
    "Systems, speakers and more.\n",
    "\n",
    "Anti-theft AM/FM stereo with Radio Data System (RDS)\n",
    "HiFi Sound System with 205-watt digital amplifier and 7 speakers\n",
    "HD Radio™ with \"multicast\" FM station reception\n",
    "SiriusXM® Satellite Radio with 1-year All Access subscription\n",
    "\n",
    "03.3\n",
    "\n",
    "Instrumentation and Controls\n",
    "Advanced features for a smarter drive.\n",
    "\n",
    "3-spoke leather-wrapped sport steering wheel with paddle shifters\n",
    "USB audio connection and hands-free Bluetooth® including Audio Streaming\n",
    "Key fob with Sport Line motif\n",
    "Dynamic Cruise Control\n",
    "Rear-window defroster\n",
    "Tire Pressure Monitor\n",
    "Instrument Cluster with Extended Contents\n",
    "BMW Navigation Business system with iDrive Controller, 6.5\" high-resolution screen and programmable memory buttons\n",
    "\n",
    "03.4\n",
    "\n",
    "Comfort and Convenience\n",
    "Comfort and Convenience Luxury features for a pleasant ride.\n",
    "\n",
    "Engine Start/Stop button\n",
    "Storage package (storage compartment under light switch, nets on driver and front passenger seatbacks and additional storage configurability in trunk)\n",
    "Front-seat center armrest\n",
    "Automatic climate control includes micro-filter, automatic air recirculation, digital driver/passenger temperature controls, temperature- and volume-adjustable rear outlet, windshield misting sensor, MAX A/C function, and recall of individual user settings\n",
    "Rain-sensing windshield wipers with adjustable speed and automatic headlight control\n",
    "Advanced Vehicle & Key Memory includes most recently used climate-control temperature and air-distribution settings; exterior mirror and power seat settings; audio tone settings and radio presets; central-locking preferences; and lighting preferences\n",
    "Tilt/telescopic steering wheel column\n",
    "Power front windows with \"one-touch\" up/down operation\n",
    "Locking glovebox\n",
    "Electric interior trunk release\n",
    "Three 12V power sockets\n",
    "10-way power front sport seats; including 2-way power side bolsters, 1-way manual headrests and thigh support; driver memory for exterior mirror and seat positions\n",
    "Folding rear-seat headrests\n",
    "04 Protection\n",
    "\n",
    "\n",
    "04.1\n",
    "\n",
    "Safety and Security\n",
    "Protecting you and your vehicle, on the road and off.\n",
    "\n",
    "Anti-lock Braking System (ABS)\n",
    "Front and rear Head Protection System (HPS)\n",
    "Driver's and passenger's front airbag supplemental restraint system (SRS) with advanced technology: dual-threshold, dual-stage deployment\n",
    "Seat-mounted front side-impact airbags\n",
    "Knee airbags for driver and front passenger\n",
    "Front safety belts with automatic pretensioners\n",
    "Front-passenger-seat-occupation recognition with Passenger's Airbag Off indicator\n",
    "Coded Driveaway Protection\n",
    "Automatic-locking retractors (ALR) on all passenger safety belts for installation of child-restraint seat\n",
    "LATCH attachments for child-restraint safety installation\n",
    "Impact sensors that activate Battery Safety Terminal disconnect of alternator and starter from battery; disable fuel pump; automatically unlock doors; and turn on hazard and interior lights\n",
    "Active Driving Assistant, includes Frontal Collision Warning, Lane Departure Warning\n",
    "Programmable LED Daytime Running Lights\n",
    "Anti-theft alarm system\n",
    "BMW Assist eCall™ includes Emergency Request (SOS button) and Enhanced Automatic Collision Notification\n",
    "Rear-view Camera\n",
    "Park Distance Control, front and rear\n",
    "BMW Remote Services includes Stolen Vehicle Recovery, Remote Door Unlock and BMW Connected App\n",
    "LED Headlights\n",
    "LED fog lights\n",
    "\n",
    "04.2\n",
    "\n",
    "Warranty\n",
    "Complete coverage and peace of mind.\n",
    "\n",
    "BMW Ultimate Care (for complete details, visit click here)\n",
    "4-year/50,000-mile New Vehicle Limited Warranty for Passenger Cars and Light Trucks 2021 Models (valid only in the USA including Puerto Rico)\n",
    "12-year Unlimited Mileage Rust Perforation Limited Warranty\n",
    "4-year Unlimited Mileage Roadside Assistance Program\"\"\")\n",
    "websiteoutput('https://www.bmwusa.com/vehicles/2-series/coupe/pricing-features.html', 'BMW', '2', 'M240i Coupe', '2021', 'Coupe', '46,350', \"\"\"01 Drive\n",
    "\n",
    "\n",
    "01.1\n",
    "\n",
    "Performance and Efficiency\n",
    "Engine, transmission, and aerodynamic features.\n",
    "\n",
    "3.0-liter BMW M TwinPower Turbo inline 6-cylinder, 24-valve 335-hp engine. Combines a twin-scroll turbocharger with variable valve control (Double-VANOS and Valvetronic) and high-precision direct injection\n",
    "8-speed Sport Automatic transmission with Sport and Manual shift modes, steering wheel-mounted paddle shifters and Launch Control\n",
    "Electronic throttle control\n",
    "Electronically controlled engine cooling (map cooling)\n",
    "Brake Energy Regeneration\n",
    "Driving Dynamics Control with ECO PRO, COMFORT, SPORT and SPORT+ modes\n",
    "Launch Control (automatic transmission only)\n",
    "Sport exhaust system\n",
    "Auto Start-Stop function\n",
    "\n",
    "01.2\n",
    "\n",
    "Handling, Ride and Braking\n",
    "Ensuring a smooth, safe, comfortable drive.\n",
    "\n",
    "Variable Sport Steering\n",
    "Adaptive M Suspension\n",
    "M Sport brakes\n",
    "Dynamic Stability Control (DSC), including Brake Fade Compensation, Start-off Assistant, Brake Drying, and Brake Stand-by features; with Dynamic Traction Control (DTC)\n",
    "Double-pivot spring and strut-type front suspension\n",
    "Five-link fully independent rear suspension\n",
    "Twin-tube gas-pressure shock absorbers\n",
    "4-wheel ventilated disc brakes with Anti-lock Braking System (ABS), Dynamic Brake Control (DBC) and Cornering Brake Control (CBC)\n",
    "02 Appearance\n",
    "\n",
    "\n",
    "02.1\n",
    "\n",
    "Exterior\n",
    "Paint, accents, and lights.\n",
    "\n",
    "18\" M Double-spoke jet black wheels, style 719M with performance non run-flat tires\n",
    "Non-metallic paint\n",
    "Aerodynamic kit\n",
    "Shadowline exterior trim\n",
    "Highgloss Black Mirror Caps\n",
    "Cerium Grey Kidney Frame\n",
    "\n",
    "02.2\n",
    "\n",
    "Interior Trim\n",
    "Upholstery and trim.\n",
    "\n",
    "SensaTec upholstery\n",
    "Aluminum Hexagon interior trim with Estoril Blue highlight\n",
    "Floormats\n",
    "Anthracite headliner\n",
    "03 Technology\n",
    "\n",
    "\n",
    "03.1\n",
    "\n",
    "Connectivity\n",
    "Wireless features, remote services, and intuitive technology.\n",
    "\n",
    "BMW TeleServices\n",
    "BMW ConnectedDrive® Services\n",
    "Apple CarPlay™ Compatibility\n",
    "Advanced Real Time Traffic Information and On-Street Parking Availability information (select markets)\n",
    "\n",
    "03.2\n",
    "\n",
    "Audio System\n",
    "Systems, speakers and more.\n",
    "\n",
    "Anti-theft AM/FM stereo with Radio Data System (RDS)\n",
    "HiFi Sound System with 205-watt digital amplifier and 7 speakers\n",
    "HD Radio™ with \"multicast\" FM station reception\n",
    "SiriusXM® Satellite Radio with 1-year All Access subscription\n",
    "\n",
    "03.3\n",
    "\n",
    "Instrumentation and Controls\n",
    "Advanced features for a smarter drive.\n",
    "\n",
    "3-spoke power telescopic, leather-wrapped, multi-function M sport steering wheel\n",
    "USB audio connection and hands-free Bluetooth® including Audio Streaming\n",
    "Dynamic Cruise Control\n",
    "Rear-window defroster\n",
    "Tire Pressure Monitor\n",
    "Instrument Cluster with Extended Contents\n",
    "BMW Navigation Business system with iDrive Controller, 6.5\" high-resolution screen and programmable memory buttons\n",
    "\n",
    "03.4\n",
    "\n",
    "Comfort and Convenience\n",
    "Comfort and Convenience Luxury features for a pleasant ride.\n",
    "\n",
    "Engine Start/Stop button\n",
    "Storage package (storage compartment under light switch, nets on driver and front passenger seatbacks and additional storage configurability in trunk)\n",
    "Front-seat center armrest\n",
    "Automatic climate control includes micro-filter, automatic air recirculation, digital driver/passenger temperature controls, temperature- and volume-adjustable rear outlet, windshield misting sensor, MAX A/C function, and recall of individual user settings\n",
    "Automatic-dimming interior rear-view mirror and driver's-side exterior mirror\n",
    "BMW Ambient Lighting front and rear; ground-illuminating lights in door handles; and courtesy lights (include fade in/fade out, actuation from remote, automatic switch-on when engine is turned off, separately controlled left/right reading lights, front footwell lighting, and illuminated vanity mirrors)\n",
    "Comfort Access keyless entry with hands-free trunk/lid opening\n",
    "2-way power glass moonroof with \"one-touch\" operation and sliding interior sunshade\n",
    "Rain-sensing windshield wipers with adjustable speed and automatic headlight control\n",
    "Advanced Vehicle & Key Memory includes most recently used climate-control temperature and air-distribution settings; exterior mirror and power seat settings; audio tone settings and radio presets; central-locking preferences; and lighting preferences\n",
    "Tilt/telescopic steering wheel column\n",
    "Power front windows with \"one-touch\" up/down operation\n",
    "Locking glovebox\n",
    "Electric interior trunk release\n",
    "Three 12V power sockets\n",
    "10-way power front sport seats; including 2-way power side bolsters, 1-way manual headrests and thigh support; driver memory for exterior mirror and seat positions\n",
    "4-way power lumbar support for front seats\n",
    "Folding rear-seat headrests\n",
    "04 Protection\n",
    "\n",
    "\n",
    "04.1\n",
    "\n",
    "Safety and Security\n",
    "Protecting you and your vehicle, on the road and off.\n",
    "\n",
    "Anti-lock Braking System (ABS)\n",
    "Front and rear Head Protection System (HPS)\n",
    "Driver's and passenger's front airbag supplemental restraint system (SRS) with advanced technology: dual-threshold, dual-stage deployment\n",
    "Seat-mounted front side-impact airbags\n",
    "Knee airbags for driver and front passenger\n",
    "Front safety belts with automatic pretensioners\n",
    "Front-passenger-seat-occupation recognition with Passenger's Airbag Off indicator\n",
    "Coded Driveaway Protection\n",
    "Automatic-locking retractors (ALR) on all passenger safety belts for installation of child-restraint seat\n",
    "LATCH attachments for child-restraint safety installation\n",
    "Impact sensors that activate Battery Safety Terminal disconnect of alternator and starter from battery; disable fuel pump; automatically unlock doors; and turn on hazard and interior lights\n",
    "Active Driving Assistant, includes Frontal Collision Warning, Lane Departure Warning\n",
    "Programmable LED Daytime Running Lights\n",
    "Anti-theft alarm system\n",
    "BMW Assist eCall™ includes Emergency Request (SOS button) and Enhanced Automatic Collision Notification\n",
    "Rear-view Camera\n",
    "Park Distance Control, front and rear\n",
    "BMW Remote Services includes Stolen Vehicle Recovery, Remote Door Unlock and BMW Connected App\n",
    "LED Headlights\n",
    "\n",
    "04.2\n",
    "\n",
    "Warranty\n",
    "Complete coverage and peace of mind.\n",
    "\n",
    "BMW Ultimate Care (for complete details, visit click here)\n",
    "4-year/50,000-mile New Vehicle Limited Warranty for Passenger Cars and Light Trucks 2021 Models (valid only in the USA including Puerto Rico)\n",
    "\"\"\")\n",
    "websiteoutput('https://www.bmwusa.com/vehicles/2-series/coupe/pricing-features.html', 'BMW', '2', 'M240i xDrive Coupe', '2021', 'Coupe', '48,350',\"\"\"01 Drive\n",
    "\n",
    "\n",
    "01.1\n",
    "\n",
    "Performance and Efficiency\n",
    "Engine, transmission, and aerodynamic features.\n",
    "\n",
    "3.0-liter BMW M TwinPower Turbo inline 6-cylinder, 24-valve 335-hp engine. Combines a twin-scroll turbocharger with variable valve control (Double-VANOS and Valvetronic) and high-precision direct injection\n",
    "Sport exhaust system\n",
    "Auto Start-Stop function\n",
    "8-speed Sport Automatic transmission with Sport and Manual shift modes, steering wheel-mounted paddle shifters and Launch Control\n",
    "Electronic throttle control\n",
    "Electronically controlled engine cooling (map cooling)\n",
    "Brake Energy Regeneration\n",
    "Driving Dynamics Control with ECO PRO, COMFORT, SPORT and SPORT+ modes\n",
    "Launch Control (automatic transmission only)\n",
    "\n",
    "01.2\n",
    "\n",
    "Handling, Ride and Braking\n",
    "Ensuring a smooth, safe, comfortable drive.\n",
    "\n",
    "Variable Sport Steering\n",
    "Adaptive M Suspension\n",
    "M Sport brakes\n",
    "Dynamic Stability Control (DSC), including Brake Fade Compensation, Start-off Assistant, Brake Drying, and Brake Stand-by features; with Dynamic Traction Control (DTC)\n",
    "Double-pivot spring and strut-type front suspension\n",
    "Five-link fully independent rear suspension\n",
    "Twin-tube gas-pressure shock absorbers\n",
    "4-wheel ventilated disc brakes with Anti-lock Braking System (ABS), Dynamic Brake Control (DBC) and Cornering Brake Control (CBC)\n",
    "xDrive all-wheel-drive system\n",
    "02 Appearance\n",
    "\n",
    "\n",
    "02.1\n",
    "\n",
    "Exterior\n",
    "Paint, accents, and lights.\n",
    "\n",
    "18\" M Double-spoke wheels, style 719M Jet Black with all-season run-flat tires\n",
    "Non-metallic paint\n",
    "Aerodynamic kit\n",
    "Shadowline exterior trim\n",
    "Highgloss Black Mirror Caps\n",
    "Cerium Grey Kidney Frame\n",
    "\n",
    "02.2\n",
    "\n",
    "Interior Trim\n",
    "Upholstery and trim.\n",
    "\n",
    "SensaTec upholstery\n",
    "Aluminum Hexagon interior trim with Estoril Blue highlight\n",
    "Floormats\n",
    "Anthracite headliner\n",
    "03 Technology\n",
    "\n",
    "\n",
    "03.1\n",
    "\n",
    "Connectivity\n",
    "Wireless features, remote services, and intuitive technology.\n",
    "\n",
    "BMW TeleServices\n",
    "BMW ConnectedDrive® Services\n",
    "Apple CarPlay™ Compatibility\n",
    "Advanced Real Time Traffic Information and On-Street Parking Availability information (select markets)\n",
    "\n",
    "03.2\n",
    "\n",
    "Audio System\n",
    "Systems, speakers and more.\n",
    "\n",
    "Anti-theft AM/FM stereo with Radio Data System (RDS)\n",
    "HiFi Sound System with 205-watt digital amplifier and 7 speakers\n",
    "HD Radio™ with \"multicast\" FM station reception\n",
    "SiriusXM® Satellite Radio with 1-year All Access subscription\n",
    "\n",
    "03.3\n",
    "\n",
    "Instrumentation and Controls\n",
    "Advanced features for a smarter drive.\n",
    "\n",
    "3-spoke power telescopic, leather-wrapped, multi-function M sport steering wheel\n",
    "USB audio connection and hands-free Bluetooth® including Audio Streaming\n",
    "Dynamic Cruise Control\n",
    "Rear-window defroster\n",
    "Tire Pressure Monitor\n",
    "Instrument Cluster with Extended Contents\n",
    "BMW Navigation Business system with iDrive Controller, 6.5\" high-resolution screen and programmable memory buttons\n",
    "\n",
    "03.4\n",
    "\n",
    "Comfort and Convenience\n",
    "Comfort and Convenience Luxury features for a pleasant ride.\n",
    "\n",
    "Engine Start/Stop button\n",
    "Storage package (storage compartment under light switch, nets on driver and front passenger seatbacks and additional storage configurability in trunk)\n",
    "Front-seat center armrest\n",
    "Automatic climate control includes micro-filter, automatic air recirculation, digital driver/passenger temperature controls, temperature- and volume-adjustable rear outlet, windshield misting sensor, MAX A/C function, and recall of individual user settings\n",
    "Automatic-dimming interior rear-view mirror and driver's-side exterior mirror\n",
    "BMW Ambient Lighting front and rear; ground-illuminating lights in door handles; and courtesy lights (include fade in/fade out, actuation from remote, automatic switch-on when engine is turned off, separately controlled left/right reading lights, front footwell lighting, and illuminated vanity mirrors)\n",
    "Comfort Access keyless entry with hands-free trunk/lid opening\n",
    "2-way power glass moonroof with \"one-touch\" operation and sliding interior sunshade\n",
    "Rain-sensing windshield wipers with adjustable speed and automatic headlight control\n",
    "Advanced Vehicle & Key Memory includes most recently used climate-control temperature and air-distribution settings; exterior mirror and power seat settings; audio tone settings and radio presets; central-locking preferences; and lighting preferences\n",
    "Tilt/telescopic steering wheel column\n",
    "Power front windows with \"one-touch\" up/down operation\n",
    "Locking glovebox\n",
    "Electric interior trunk release\n",
    "Three 12V power sockets\n",
    "10-way power front sport seats; including 2-way power side bolsters, 1-way manual headrests and thigh support; driver memory for exterior mirror and seat positions\n",
    "4-way power lumbar support for front seats\n",
    "Folding rear-seat headrests\n",
    "04 Protection\n",
    "\n",
    "\n",
    "04.1\n",
    "\n",
    "Safety and Security\n",
    "Protecting you and your vehicle, on the road and off.\n",
    "\n",
    "Anti-lock Braking System (ABS)\n",
    "Front and rear Head Protection System (HPS)\n",
    "Driver's and passenger's front airbag supplemental restraint system (SRS) with advanced technology: dual-threshold, dual-stage deployment\n",
    "Seat-mounted front side-impact airbags\n",
    "Knee airbags for driver and front passenger\n",
    "Front safety belts with automatic pretensioners\n",
    "Front-passenger-seat-occupation recognition with Passenger's Airbag Off indicator\n",
    "Coded Driveaway Protection\n",
    "Automatic-locking retractors (ALR) on all passenger safety belts for installation of child-restraint seat\n",
    "LATCH attachments for child-restraint safety installation\n",
    "Impact sensors that activate Battery Safety Terminal disconnect of alternator and starter from battery; disable fuel pump; automatically unlock doors; and turn on hazard and interior lights\n",
    "Active Driving Assistant, includes Frontal Collision Warning, Lane Departure Warning\n",
    "Programmable LED Daytime Running Lights\n",
    "Anti-theft alarm system\n",
    "BMW Assist eCall™ includes Emergency Request (SOS button) and Enhanced Automatic Collision Notification\n",
    "Rear-view Camera\n",
    "Park Distance Control, front and rear\n",
    "BMW Remote Services includes Stolen Vehicle Recovery, Remote Door Unlock and BMW Connected App\n",
    "LED Headlights\n",
    "\n",
    "04.2\n",
    "\n",
    "Warranty\n",
    "Complete coverage and peace of mind.\n",
    "\n",
    "BMW Ultimate Care (for complete details, visit click here)\n",
    "4-year/50,000-mile New Vehicle Limited Warranty for Passenger Cars and Light Trucks 2021 Models (valid only in the USA including Puerto Rico)\n",
    "12-year Unlimited Mileage Rust Perforation Limited Warranty\n",
    "4-year Unlimited Mileage Roadside Assistance Program\"\"\")\n",
    "websiteoutput('https://www.bmwusa.com/standard-features.iframe.standard-features.212S.html', 'BMW', '2', 'M2 Competition Coupe', '2021', 'Coupe', '58,900')"
   ]
  },
  {
   "cell_type": "code",
   "execution_count": 150,
   "metadata": {
    "hidden": true
   },
   "outputs": [
    {
     "name": "stdout",
     "output_type": "stream",
     "text": [
      "From website https://www.bmwusa.com/standard-features.iframe.standard-features.213O.html\n",
      "9 ADAS features found\n",
      "From website https://www.bmwusa.com/standard-features.iframe.standard-features.213W.html\n",
      "9 ADAS features found\n",
      "From website https://www.bmwusa.com/standard-features.iframe.standard-features.213B.html\n",
      "10 ADAS features found\n",
      "From website https://www.bmwusa.com/standard-features.iframe.standard-features.213C.html\n",
      "10 ADAS features found\n",
      "From website https://www.bmwusa.com/standard-features.iframe.standard-features.213Q.html\n",
      "9 ADAS features found\n",
      "From website https://www.bmwusa.com/standard-features.iframe.standard-features.213Z.html\n",
      "9 ADAS features found\n",
      "From website https://www.bmwusa.com/standard-features.iframe.standard-features.21TN.html\n",
      "14 ADAS features found\n",
      "From website https://www.bmwusa.com/standard-features.iframe.standard-features.21TP.html\n",
      "14 ADAS features found\n"
     ]
    }
   ],
   "source": [
    "websiteoutput('https://www.bmwusa.com/standard-features.iframe.standard-features.213O.html', 'BMW', '3', '330i Sedan', '2021', 'Sedan', '41,250')\n",
    "websiteoutput('https://www.bmwusa.com/standard-features.iframe.standard-features.213W.html', 'BMW', '3', '330i xDrive Sedan', '2021', 'Sedan', '43,250')\n",
    "websiteoutput('https://www.bmwusa.com/standard-features.iframe.standard-features.213B.html', 'BMW', '3', '330e Sedan', '2021', 'Sedan', '44,550')\n",
    "websiteoutput('https://www.bmwusa.com/standard-features.iframe.standard-features.213C.html', 'BMW', '3', '330e xDrive Sedan', '2021', 'Sedan', '46,550')\n",
    "websiteoutput('https://www.bmwusa.com/standard-features.iframe.standard-features.213Q.html', 'BMW', '3', 'M340i Sedan', '2021', 'Sedan', '54,700')\n",
    "websiteoutput('https://www.bmwusa.com/standard-features.iframe.standard-features.213Z.html', 'BMW', '3', 'M340i xDrive Sedan', '2021', 'Sedan', '56,700')\n",
    "websiteoutput('https://www.bmwusa.com/standard-features.iframe.standard-features.21TN.html', 'BMW', '3', 'M3 Sedan', '2021', 'Sedan', '69,900')\n",
    "websiteoutput('https://www.bmwusa.com/standard-features.iframe.standard-features.21TP.html', 'BMW', '3', 'M3 Competition Sedan', '2021', 'Sedan', '72,800')"
   ]
  },
  {
   "cell_type": "code",
   "execution_count": 151,
   "metadata": {
    "hidden": true
   },
   "outputs": [
    {
     "name": "stdout",
     "output_type": "stream",
     "text": [
      "From website https://www.bmwusa.com/standard-features.iframe.standard-features.214B.html\n",
      "13 ADAS features found\n",
      "From website https://www.bmwusa.com/standard-features.iframe.standard-features.214D.html\n",
      "13 ADAS features found\n",
      "From website https://www.bmwusa.com/standard-features.iframe.standard-features.214G.html\n",
      "13 ADAS features found\n",
      "From website https://www.bmwusa.com/standard-features.iframe.standard-features.214H.html\n",
      "14 ADAS features found\n",
      "From website https://www.bmwusa.com/standard-features.iframe.standard-features.214X.html\n",
      "15 ADAS features found\n",
      "From website https://www.bmwusa.com/standard-features.iframe.standard-features.214J.html\n",
      "14 ADAS features found\n",
      "From website https://www.bmwusa.com/standard-features.iframe.standard-features.214K.html\n",
      "14 ADAS features found\n"
     ]
    }
   ],
   "source": [
    "websiteoutput('https://www.bmwusa.com/standard-features.iframe.standard-features.214B.html', 'BMW', '4', '430i Coupe', '2021', 'Coupe', '45,600')\n",
    "websiteoutput('https://www.bmwusa.com/standard-features.iframe.standard-features.214D.html', 'BMW', '4', '430i xDrive Coupe', '2021', 'Coupe', '47,600')\n",
    "websiteoutput('https://www.bmwusa.com/standard-features.iframe.standard-features.214G.html', 'BMW', '4', 'M440i xDrive Coupe', '2021', 'Coupe', '58,500')\n",
    "websiteoutput('https://www.bmwusa.com/standard-features.iframe.standard-features.214H.html', 'BMW', '4', 'M4 Coupe', '2021', 'Coupe', '71,800')\n",
    "websiteoutput('https://www.bmwusa.com/standard-features.iframe.standard-features.214X.html', 'BMW', '4', 'M4 Competition Coupe', '2021', 'Coupe', '77,700')\n",
    "websiteoutput('https://www.bmwusa.com/standard-features.iframe.standard-features.214J.html', 'BMW', '4', '430i Convertible', '2021', 'Convertible', '53,100')\n",
    "websiteoutput('https://www.bmwusa.com/standard-features.iframe.standard-features.214K.html', 'BMW', '4', 'M440i Convertible', '2021', 'Convertible', '64,000')"
   ]
  },
  {
   "cell_type": "code",
   "execution_count": 152,
   "metadata": {
    "hidden": true
   },
   "outputs": [
    {
     "name": "stdout",
     "output_type": "stream",
     "text": [
      "From website https://www.bmwusa.com/standard-features.iframe.standard-features.215A.html\n",
      "14 ADAS features found\n",
      "From website https://www.bmwusa.com/standard-features.iframe.standard-features.215B.html\n",
      "14 ADAS features found\n",
      "From website https://www.bmwusa.com/standard-features.iframe.standard-features.215C.html\n",
      "14 ADAS features found\n",
      "From website https://www.bmwusa.com/standard-features.iframe.standard-features.215D.html\n",
      "14 ADAS features found\n",
      "From website https://www.bmwusa.com/standard-features.iframe.standard-features.215O.html\n",
      "14 ADAS features found\n",
      "From website https://www.bmwusa.com/standard-features.iframe.standard-features.215P.html\n",
      "14 ADAS features found\n",
      "From website https://www.bmwusa.com/standard-features.iframe.standard-features.215Q.html\n",
      "14 ADAS features found\n",
      "From website https://www.bmwusa.com/standard-features.iframe.standard-features.215G.html\n",
      "15 ADAS features found\n"
     ]
    }
   ],
   "source": [
    "websiteoutput('https://www.bmwusa.com/standard-features.iframe.standard-features.215A.html', 'BMW', '5', '530i Sedan', '2021', 'Sedan', '54,200')\n",
    "websiteoutput('https://www.bmwusa.com/standard-features.iframe.standard-features.215B.html', 'BMW', '5', '530i xDrive Sedan', '2021', 'Sedan', '56,500')\n",
    "websiteoutput('https://www.bmwusa.com/standard-features.iframe.standard-features.215C.html', 'BMW', '5', '540i Sedan', '2021', 'Sedan', '59,450')\n",
    "websiteoutput('https://www.bmwusa.com/standard-features.iframe.standard-features.215D.html', 'BMW', '5', '540i xDrive Sedan', '2021', 'Sedan', '61,750')\n",
    "websiteoutput('https://www.bmwusa.com/standard-features.iframe.standard-features.215O.html', 'BMW', '5', '530e Sedan', '2021', 'Sedan', '57,200')\n",
    "websiteoutput('https://www.bmwusa.com/standard-features.iframe.standard-features.215P.html', 'BMW', '5', '530e xDrive Sedan', '2021', 'Sedan', '59,500')\n",
    "websiteoutput('https://www.bmwusa.com/standard-features.iframe.standard-features.215Q.html', 'BMW', '5', 'M550i xDrive Sedan', '2021', 'Sedan', '76,800')\n",
    "websiteoutput('https://www.bmwusa.com/standard-features.iframe.standard-features.215G.html', 'BMW', '5', 'M5 Sedan', '2021', 'Sedan', '103,500')"
   ]
  },
  {
   "cell_type": "code",
   "execution_count": 153,
   "metadata": {
    "hidden": true
   },
   "outputs": [
    {
     "name": "stdout",
     "output_type": "stream",
     "text": [
      "From website https://www.bmwusa.com/standard-features.iframe.standard-features.227F.html\n",
      "18 ADAS features found\n",
      "From website https://www.bmwusa.com/standard-features.iframe.standard-features.227N.html\n",
      "18 ADAS features found\n",
      "From website https://www.bmwusa.com/standard-features.iframe.standard-features.227I.html\n",
      "19 ADAS features found\n",
      "From website https://www.bmwusa.com/standard-features.iframe.standard-features.217P.html\n",
      "18 ADAS features found\n",
      "From website https://www.bmwusa.com/standard-features.iframe.standard-features.227M.html\n",
      "19 ADAS features found\n",
      "From website https://www.bmwusa.com/standard-features.iframe.standard-features.227J.html\n",
      "22 ADAS features found\n"
     ]
    }
   ],
   "source": [
    "websiteoutput('https://www.bmwusa.com/standard-features.iframe.standard-features.227F.html', 'BMW', '7', '740i Sedan', '2022', 'Sedan', '86,800')\n",
    "websiteoutput('https://www.bmwusa.com/standard-features.iframe.standard-features.227N.html', 'BMW', '7', '740i xDrive Sedan', '2022', 'Sedan', '89,800')\n",
    "websiteoutput('https://www.bmwusa.com/standard-features.iframe.standard-features.227I.html', 'BMW', '7', '750i xDrive Sedan', '2022', 'Sedan', '103,000')\n",
    "websiteoutput('https://www.bmwusa.com/standard-features.iframe.standard-features.217P.html', 'BMW', '7', '745e xDrive Sedan', '2021', 'Sedan', '95,900')\n",
    "websiteoutput('https://www.bmwusa.com/standard-features.iframe.standard-features.227M.html', 'BMW', '7', 'M550i xDrive Sedan', '2022', 'Sedan', '157,800')\n",
    "websiteoutput('https://www.bmwusa.com/standard-features.iframe.standard-features.227J.html', 'BMW', '7 Alpina', 'ALPINA B7 xDrive Sedan', '2022', 'Sedan', '143,200')"
   ]
  },
  {
   "cell_type": "code",
   "execution_count": 154,
   "metadata": {
    "hidden": true,
    "jupyter": {
     "outputs_hidden": true
    }
   },
   "outputs": [
    {
     "name": "stdout",
     "output_type": "stream",
     "text": [
      "From website https://www.bmwusa.com/standard-features.iframe.standard-features.228A.html\n",
      "11 ADAS features found\n",
      "From website https://www.bmwusa.com/standard-features.iframe.standard-features.228B.html\n",
      "11 ADAS features found\n",
      "From website https://www.bmwusa.com/standard-features.iframe.standard-features.228C.html\n",
      "11 ADAS features found\n",
      "From website https://www.bmwusa.com/standard-features.iframe.standard-features.228F.html\n",
      "11 ADAS features found\n",
      "From website https://www.bmwusa.com/standard-features.iframe.standard-features.228D.html\n",
      "11 ADAS features found\n",
      "From website https://www.bmwusa.com/standard-features.iframe.standard-features.228E.html\n",
      "11 ADAS features found\n",
      "From website https://www.bmwusa.com/standard-features.iframe.standard-features.228G.html\n",
      "11 ADAS features found\n",
      "From website https://www.bmwusa.com/standard-features.iframe.standard-features.228K.html\n",
      "11 ADAS features found\n",
      "From website https://www.bmwusa.com/standard-features.iframe.standard-features.228H.html\n",
      "11 ADAS features found\n",
      "From website https://www.bmwusa.com/standard-features.iframe.standard-features.228I.html\n",
      "11 ADAS features found\n",
      "From website https://www.bmwusa.com/standard-features.iframe.standard-features.228J.html\n",
      "11 ADAS features found\n",
      "From website https://www.bmwusa.com/standard-features.iframe.standard-features.228L.html\n",
      "11 ADAS features found\n",
      "From website https://www.bmwusa.com/standard-features.iframe.standard-features.228Q.html\n",
      "11 ADAS features found\n"
     ]
    }
   ],
   "source": [
    "websiteoutput('https://www.bmwusa.com/standard-features.iframe.standard-features.228A.html', 'BMW', '8', '840i Coupe', '2022', 'Coupe', '85,000')\n",
    "websiteoutput('https://www.bmwusa.com/standard-features.iframe.standard-features.228B.html', 'BMW', '8', '840i xDrive Coupe', '2022', 'Coupe', '87,900')\n",
    "websiteoutput('https://www.bmwusa.com/standard-features.iframe.standard-features.228C.html', 'BMW', '8', 'M850i xDrive Coupe', '2022', 'Coupe', '99,900')\n",
    "websiteoutput('https://www.bmwusa.com/standard-features.iframe.standard-features.228F.html', 'BMW', '8', 'M8 Competition Coupe', '2022', 'Coupe', '130,000')\n",
    "websiteoutput('https://www.bmwusa.com/standard-features.iframe.standard-features.228D.html', 'BMW', '8', '840i Convertible', '2022', 'Convertible', '94,400')\n",
    "websiteoutput('https://www.bmwusa.com/standard-features.iframe.standard-features.228E.html', 'BMW', '8', '840i xDrive Convertible', '2022', 'Convertible', '97,300')\n",
    "websiteoutput('https://www.bmwusa.com/standard-features.iframe.standard-features.228G.html', 'BMW', '8', 'M850i Convertible', '2022', 'Convertible', '109,400')\n",
    "websiteoutput('https://www.bmwusa.com/standard-features.iframe.standard-features.228K.html', 'BMW', '8', 'M8 Competition Convertible', '2022', 'Convertible', '139,500')\n",
    "websiteoutput('https://www.bmwusa.com/standard-features.iframe.standard-features.228H.html', 'BMW', '8', '840i Gran Coupe', '2022', 'Sedan', '85,000')\n",
    "websiteoutput('https://www.bmwusa.com/standard-features.iframe.standard-features.228I.html', 'BMW', '8', '840i xDrive Gran Coupe', '2022', 'Sedan', '87,900')\n",
    "websiteoutput('https://www.bmwusa.com/standard-features.iframe.standard-features.228J.html', 'BMW', '8', 'M850i xDrive Gran Coupe', '2022', 'Sedan', '99,900')\n",
    "websiteoutput('https://www.bmwusa.com/standard-features.iframe.standard-features.228L.html', 'BMW', '8', 'M8 Competition Gran Coupe', '2022', 'Sedan', '130,000')\n",
    "websiteoutput('https://www.bmwusa.com/standard-features.iframe.standard-features.228Q.html', 'BMW', '8 Alpina', 'ALPINA B8 xDrive Gran Coupe', '2022', 'Sedan', '139,900')"
   ]
  },
  {
   "cell_type": "code",
   "execution_count": 155,
   "metadata": {
    "hidden": true,
    "jupyter": {
     "outputs_hidden": true
    }
   },
   "outputs": [
    {
     "name": "stdout",
     "output_type": "stream",
     "text": [
      "From website https://www.bmwusa.com/standard-features.iframe.standard-features.21ZA.html\n",
      "9 ADAS features found\n",
      "From website https://www.bmwusa.com/standard-features.iframe.standard-features.21ZB.html\n",
      "9 ADAS features found\n"
     ]
    }
   ],
   "source": [
    "websiteoutput('https://www.bmwusa.com/standard-features.iframe.standard-features.21ZA.html', 'BMW', 'Z4', 'sDrive30i', '2021', 'Sports Car', '49,700')\n",
    "websiteoutput('https://www.bmwusa.com/standard-features.iframe.standard-features.21ZB.html', 'BMW', 'Z4', 'M40i', '2021', 'Sports Car', '63,700')"
   ]
  },
  {
   "cell_type": "code",
   "execution_count": 156,
   "metadata": {
    "hidden": true,
    "jupyter": {
     "outputs_hidden": true
    }
   },
   "outputs": [
    {
     "name": "stdout",
     "output_type": "stream",
     "text": [
      "From website https://www.bmwusa.com/standard-features.iframe.standard-features.21IA.html\n",
      "7 ADAS features found\n",
      "From website https://www.bmwusa.com/standard-features.iframe.standard-features.21IF.html\n",
      "7 ADAS features found\n",
      "From website https://www.bmwusa.com/standard-features.iframe.standard-features.21IB.html\n",
      "7 ADAS features found\n",
      "From website https://www.bmwusa.com/standard-features.iframe.standard-features.21IG.html\n",
      "7 ADAS features found\n"
     ]
    }
   ],
   "source": [
    "websiteoutput('https://www.bmwusa.com/standard-features.iframe.standard-features.21IA.html', 'BMW', 'i', 'i3', '2021', 'Sedan', '44,450')\n",
    "websiteoutput('https://www.bmwusa.com/standard-features.iframe.standard-features.21IF.html', 'BMW', 'i', 'i3s', '2021', 'Sedan', '47,650')\n",
    "websiteoutput('https://www.bmwusa.com/standard-features.iframe.standard-features.21IB.html', 'BMW', 'i', 'i3 with Range Extender', '2021', 'Sedan', '48,300')\n",
    "websiteoutput('https://www.bmwusa.com/standard-features.iframe.standard-features.21IG.html', 'BMW', 'i', 'i3s with Range Extender', '2021', 'Sedan', '51,500')"
   ]
  },
  {
   "cell_type": "markdown",
   "metadata": {
    "heading_collapsed": true
   },
   "source": [
    "# Chevrolet"
   ]
  },
  {
   "cell_type": "markdown",
   "metadata": {
    "hidden": true
   },
   "source": [
    "Chevrolet's Models"
   ]
  },
  {
   "cell_type": "code",
   "execution_count": 96,
   "metadata": {
    "hidden": true
   },
   "outputs": [
    {
     "name": "stdout",
     "output_type": "stream",
     "text": [
      "From website https://www.chevrolet.com/suvs/previous-year/trailblazer/build-and-price/features/trims/table?section=Highlights&section=Mechanical&section=Exterior&section=Interior&section=Safety&section=Dimensions&section=Warranty&styleOne=411610\n",
      "6 ADAS features found\n",
      "From website https://www.chevrolet.com/suvs/previous-year/trailblazer/build-and-price/features/trims/table?section=Highlights&section=Mechanical&section=Exterior&section=Interior&section=Safety&section=Dimensions&section=Warranty&styleOne=411611\n",
      "6 ADAS features found\n",
      "From website https://www.chevrolet.com/suvs/previous-year/trailblazer/build-and-price/features/trims/table?section=Highlights&section=Mechanical&section=Exterior&section=Interior&section=Safety&section=Dimensions&section=Warranty&styleOne=411612\n",
      "7 ADAS features found\n",
      "From website https://www.chevrolet.com/suvs/previous-year/trailblazer/build-and-price/features/trims/table?section=Highlights&section=Mechanical&section=Exterior&section=Interior&section=Safety&section=Dimensions&section=Warranty&styleOne=411613\n",
      "7 ADAS features found\n",
      "From website https://www.chevrolet.com/suvs/previous-year/trailblazer/build-and-price/features/trims/table?section=Highlights&section=Mechanical&section=Exterior&section=Interior&section=Safety&section=Dimensions&section=Warranty&styleOne=411614\n",
      "7 ADAS features found\n"
     ]
    }
   ],
   "source": [
    "websiteoutput('https://www.chevrolet.com/suvs/previous-year/trailblazer/build-and-price/features/trims/table?section=Highlights&section=Mechanical&section=Exterior&section=Interior&section=Safety&section=Dimensions&section=Warranty&styleOne=411610', 'Chevrolet', 'Trailblazer', 'L', '2021', 'SUV')\n",
    "websiteoutput('https://www.chevrolet.com/suvs/previous-year/trailblazer/build-and-price/features/trims/table?section=Highlights&section=Mechanical&section=Exterior&section=Interior&section=Safety&section=Dimensions&section=Warranty&styleOne=411611', 'Chevrolet', 'Trailblazer', 'LS', '2021', 'SUV')\n",
    "websiteoutput('https://www.chevrolet.com/suvs/previous-year/trailblazer/build-and-price/features/trims/table?section=Highlights&section=Mechanical&section=Exterior&section=Interior&section=Safety&section=Dimensions&section=Warranty&styleOne=411612', 'Chevrolet', 'Trailblazer', 'LT', '2021', 'SUV')\n",
    "websiteoutput('https://www.chevrolet.com/suvs/previous-year/trailblazer/build-and-price/features/trims/table?section=Highlights&section=Mechanical&section=Exterior&section=Interior&section=Safety&section=Dimensions&section=Warranty&styleOne=411613', 'Chevrolet', 'Trailblazer', 'ACTIV', '2021', 'SUV')\n",
    "websiteoutput('https://www.chevrolet.com/suvs/previous-year/trailblazer/build-and-price/features/trims/table?section=Highlights&section=Mechanical&section=Exterior&section=Interior&section=Safety&section=Dimensions&section=Warranty&styleOne=411614', 'Chevrolet', 'Trailblazer', 'RS', '2021', 'SUV')"
   ]
  },
  {
   "cell_type": "code",
   "execution_count": 97,
   "metadata": {
    "hidden": true
   },
   "outputs": [
    {
     "name": "stdout",
     "output_type": "stream",
     "text": [
      "From website https://www.chevrolet.com/suvs/previous-year/trax/build-and-price/trim/compare/trims/table?section=Highlights&section=Mechanical&section=Exterior&section=Interior&section=Safety&section=Fuel+Efficiency&section=Dimensions&section=Warranty&styleOne=412540\n",
      "1 ADAS features found\n",
      "From website https://www.chevrolet.com/suvs/previous-year/trax/build-and-price/trim/compare/trims/table?section=Highlights&section=Mechanical&section=Exterior&section=Interior&section=Safety&section=Fuel+Efficiency&section=Dimensions&section=Warranty&styleOne=412541\n",
      "2 ADAS features found\n"
     ]
    }
   ],
   "source": [
    "websiteoutput('https://www.chevrolet.com/suvs/previous-year/trax/build-and-price/trim/compare/trims/table?section=Highlights&section=Mechanical&section=Exterior&section=Interior&section=Safety&section=Fuel+Efficiency&section=Dimensions&section=Warranty&styleOne=412540', 'Chevrolet', 'Trax', 'LS', '2021', 'SUV')\n",
    "websiteoutput('https://www.chevrolet.com/suvs/previous-year/trax/build-and-price/trim/compare/trims/table?section=Highlights&section=Mechanical&section=Exterior&section=Interior&section=Safety&section=Fuel+Efficiency&section=Dimensions&section=Warranty&styleOne=412541', 'Chevrolet', 'Trax', 'LT', '2021', 'SUV')"
   ]
  },
  {
   "cell_type": "code",
   "execution_count": 98,
   "metadata": {
    "hidden": true
   },
   "outputs": [
    {
     "name": "stdout",
     "output_type": "stream",
     "text": [
      "From website https://www.chevrolet.com/suvs/equinox/build-and-price/trim/compare/trims/table?section=Highlights&section=Mechanical&section=Exterior&section=Interior&section=Safety&section=Fuel+Efficiency&section=Dimensions&section=Warranty&styleOne=416245\n",
      "7 ADAS features found\n",
      "From website https://www.chevrolet.com/suvs/equinox/build-and-price/trim/compare/trims/table?section=Highlights&section=Mechanical&section=Exterior&section=Interior&section=Safety&section=Fuel+Efficiency&section=Dimensions&section=Warranty&styleOne=416247\n",
      "7 ADAS features found\n",
      "From website https://www.chevrolet.com/suvs/equinox/build-and-price/trim/compare/trims/table?section=Highlights&section=Mechanical&section=Exterior&section=Interior&section=Safety&section=Fuel+Efficiency&section=Dimensions&section=Warranty&styleOne=416249\n",
      "7 ADAS features found\n",
      "From website https://www.chevrolet.com/suvs/equinox/build-and-price/trim/compare/trims/table?section=Highlights&section=Mechanical&section=Exterior&section=Interior&section=Safety&section=Fuel+Efficiency&section=Dimensions&section=Warranty&styleOne=416250\n",
      "10 ADAS features found\n"
     ]
    }
   ],
   "source": [
    "websiteoutput('https://www.chevrolet.com/suvs/equinox/build-and-price/trim/compare/trims/table?section=Highlights&section=Mechanical&section=Exterior&section=Interior&section=Safety&section=Fuel+Efficiency&section=Dimensions&section=Warranty&styleOne=416245', 'Chevrolet', 'Equinox', 'L', '2021', 'SUV')\n",
    "websiteoutput('https://www.chevrolet.com/suvs/equinox/build-and-price/trim/compare/trims/table?section=Highlights&section=Mechanical&section=Exterior&section=Interior&section=Safety&section=Fuel+Efficiency&section=Dimensions&section=Warranty&styleOne=416247', 'Chevrolet', 'Equinox', 'LS', '2021', 'SUV')\n",
    "websiteoutput('https://www.chevrolet.com/suvs/equinox/build-and-price/trim/compare/trims/table?section=Highlights&section=Mechanical&section=Exterior&section=Interior&section=Safety&section=Fuel+Efficiency&section=Dimensions&section=Warranty&styleOne=416249', 'Chevrolet', 'Equinox', 'LT', '2021', 'SUV')\n",
    "websiteoutput('https://www.chevrolet.com/suvs/equinox/build-and-price/trim/compare/trims/table?section=Highlights&section=Mechanical&section=Exterior&section=Interior&section=Safety&section=Fuel+Efficiency&section=Dimensions&section=Warranty&styleOne=416250', 'Chevrolet', 'Equinox', 'Premier', '2021', 'SUV')"
   ]
  },
  {
   "cell_type": "code",
   "execution_count": 99,
   "metadata": {
    "hidden": true
   },
   "outputs": [
    {
     "name": "stdout",
     "output_type": "stream",
     "text": [
      "From website https://www.chevrolet.com/suvs/blazer/build-and-price/trim/compare/trims/table?section=Highlights&section=Warranty&section=Dimensions&section=Fuel+Efficiency&section=Safety&section=Interior&section=Exterior&section=Mechanical&styleOne=413882\n",
      "2 ADAS features found\n",
      "From website https://www.chevrolet.com/suvs/blazer/build-and-price/trim/compare/trims/table?section=Highlights&section=Warranty&section=Dimensions&section=Fuel+Efficiency&section=Safety&section=Interior&section=Exterior&section=Mechanical&styleOne=413883\n",
      "2 ADAS features found\n",
      "From website https://www.chevrolet.com/suvs/blazer/build-and-price/trim/compare/trims/table?section=Highlights&section=Warranty&section=Dimensions&section=Fuel+Efficiency&section=Safety&section=Interior&section=Exterior&section=Mechanical&styleOne=413884\n",
      "7 ADAS features found\n",
      "From website https://www.chevrolet.com/suvs/blazer/build-and-price/trim/compare/trims/table?section=Highlights&section=Warranty&section=Dimensions&section=Fuel+Efficiency&section=Safety&section=Interior&section=Exterior&section=Mechanical&styleOne=413885\n",
      "10 ADAS features found\n",
      "From website https://www.chevrolet.com/suvs/blazer/build-and-price/trim/compare/trims/table?section=Highlights&section=Warranty&section=Dimensions&section=Fuel+Efficiency&section=Safety&section=Interior&section=Exterior&section=Mechanical&styleOne=413886\n",
      "10 ADAS features found\n",
      "From website https://www.chevrolet.com/suvs/blazer/build-and-price/trim/compare/trims/table?section=Highlights&section=Warranty&section=Dimensions&section=Fuel+Efficiency&section=Safety&section=Interior&section=Exterior&section=Mechanical&styleOne=413887\n",
      "10 ADAS features found\n"
     ]
    }
   ],
   "source": [
    "websiteoutput('https://www.chevrolet.com/suvs/blazer/build-and-price/trim/compare/trims/table?section=Highlights&section=Warranty&section=Dimensions&section=Fuel+Efficiency&section=Safety&section=Interior&section=Exterior&section=Mechanical&styleOne=413882', 'Chevrolet', 'Blazer', 'L', '2021', 'SUV')\n",
    "websiteoutput('https://www.chevrolet.com/suvs/blazer/build-and-price/trim/compare/trims/table?section=Highlights&section=Warranty&section=Dimensions&section=Fuel+Efficiency&section=Safety&section=Interior&section=Exterior&section=Mechanical&styleOne=413883', 'Chevrolet', 'Blazer', '1LT', '2021', 'SUV')\n",
    "websiteoutput('https://www.chevrolet.com/suvs/blazer/build-and-price/trim/compare/trims/table?section=Highlights&section=Warranty&section=Dimensions&section=Fuel+Efficiency&section=Safety&section=Interior&section=Exterior&section=Mechanical&styleOne=413884', 'Chevrolet', 'Blazer', '2LT', '2021', 'SUV')\n",
    "websiteoutput('https://www.chevrolet.com/suvs/blazer/build-and-price/trim/compare/trims/table?section=Highlights&section=Warranty&section=Dimensions&section=Fuel+Efficiency&section=Safety&section=Interior&section=Exterior&section=Mechanical&styleOne=413885', 'Chevrolet', 'Blazer', '3LT', '2021', 'SUV')\n",
    "websiteoutput('https://www.chevrolet.com/suvs/blazer/build-and-price/trim/compare/trims/table?section=Highlights&section=Warranty&section=Dimensions&section=Fuel+Efficiency&section=Safety&section=Interior&section=Exterior&section=Mechanical&styleOne=413886', 'Chevrolet', 'Blazer', 'RS', '2021', 'SUV')\n",
    "websiteoutput('https://www.chevrolet.com/suvs/blazer/build-and-price/trim/compare/trims/table?section=Highlights&section=Warranty&section=Dimensions&section=Fuel+Efficiency&section=Safety&section=Interior&section=Exterior&section=Mechanical&styleOne=413887', 'Chevrolet', 'Blazer', 'Premier', '2021', 'SUV')"
   ]
  },
  {
   "cell_type": "code",
   "execution_count": 100,
   "metadata": {
    "hidden": true
   },
   "outputs": [
    {
     "name": "stdout",
     "output_type": "stream",
     "text": [
      "From website https://www.chevrolet.com/suvs/traverse/build-and-price/trim/compare/trims/table?section=Highlights&section=Mechanical&section=Warranty&section=Dimensions&section=Fuel+Efficiency&section=Safety&section=Interior&section=Exterior&styleOne=415903\n",
      "2 ADAS features found\n",
      "From website https://www.chevrolet.com/suvs/traverse/build-and-price/trim/compare/trims/table?section=Highlights&section=Mechanical&section=Warranty&section=Dimensions&section=Fuel+Efficiency&section=Safety&section=Interior&section=Exterior&styleOne=415905\n",
      "2 ADAS features found\n",
      "From website https://www.chevrolet.com/suvs/traverse/build-and-price/trim/compare/trims/table?section=Highlights&section=Mechanical&section=Warranty&section=Dimensions&section=Fuel+Efficiency&section=Safety&section=Interior&section=Exterior&styleOne=415907\n",
      "2 ADAS features found\n",
      "From website https://www.chevrolet.com/suvs/traverse/build-and-price/trim/compare/trims/table?section=Highlights&section=Mechanical&section=Warranty&section=Dimensions&section=Fuel+Efficiency&section=Safety&section=Interior&section=Exterior&styleOne=415908\n",
      "5 ADAS features found\n",
      "From website https://www.chevrolet.com/suvs/traverse/build-and-price/trim/compare/trims/table?section=Highlights&section=Mechanical&section=Warranty&section=Dimensions&section=Fuel+Efficiency&section=Safety&section=Interior&section=Exterior&styleOne=415909\n",
      "11 ADAS features found\n",
      "From website https://www.chevrolet.com/suvs/traverse/build-and-price/trim/compare/trims/table?section=Highlights&section=Mechanical&section=Warranty&section=Dimensions&section=Fuel+Efficiency&section=Safety&section=Interior&section=Exterior&styleOne=415910\n",
      "11 ADAS features found\n",
      "From website https://www.chevrolet.com/suvs/traverse/build-and-price/trim/compare/trims/table?section=Highlights&section=Mechanical&section=Warranty&section=Dimensions&section=Fuel+Efficiency&section=Safety&section=Interior&section=Exterior&styleOne=415911\n",
      "13 ADAS features found\n"
     ]
    }
   ],
   "source": [
    "websiteoutput('https://www.chevrolet.com/suvs/traverse/build-and-price/trim/compare/trims/table?section=Highlights&section=Mechanical&section=Warranty&section=Dimensions&section=Fuel+Efficiency&section=Safety&section=Interior&section=Exterior&styleOne=415903', 'Chevrolet', 'Traverse', 'L', '2021', 'SUV')\n",
    "websiteoutput('https://www.chevrolet.com/suvs/traverse/build-and-price/trim/compare/trims/table?section=Highlights&section=Mechanical&section=Warranty&section=Dimensions&section=Fuel+Efficiency&section=Safety&section=Interior&section=Exterior&styleOne=415905', 'Chevrolet', 'Traverse', 'LS', '2021', 'SUV')\n",
    "websiteoutput('https://www.chevrolet.com/suvs/traverse/build-and-price/trim/compare/trims/table?section=Highlights&section=Mechanical&section=Warranty&section=Dimensions&section=Fuel+Efficiency&section=Safety&section=Interior&section=Exterior&styleOne=415907', 'Chevrolet', 'Traverse', 'LT Cloth', '2021', 'SUV')\n",
    "websiteoutput('https://www.chevrolet.com/suvs/traverse/build-and-price/trim/compare/trims/table?section=Highlights&section=Mechanical&section=Warranty&section=Dimensions&section=Fuel+Efficiency&section=Safety&section=Interior&section=Exterior&styleOne=415908', 'Chevrolet', 'Traverse', 'LT Leather', '2021', 'SUV')\n",
    "websiteoutput('https://www.chevrolet.com/suvs/traverse/build-and-price/trim/compare/trims/table?section=Highlights&section=Mechanical&section=Warranty&section=Dimensions&section=Fuel+Efficiency&section=Safety&section=Interior&section=Exterior&styleOne=415909', 'Chevrolet', 'Traverse', 'RS', '2021', 'SUV')\n",
    "websiteoutput('https://www.chevrolet.com/suvs/traverse/build-and-price/trim/compare/trims/table?section=Highlights&section=Mechanical&section=Warranty&section=Dimensions&section=Fuel+Efficiency&section=Safety&section=Interior&section=Exterior&styleOne=415910', 'Chevrolet', 'Traverse', 'Premier', '2021', 'SUV')\n",
    "websiteoutput('https://www.chevrolet.com/suvs/traverse/build-and-price/trim/compare/trims/table?section=Highlights&section=Mechanical&section=Warranty&section=Dimensions&section=Fuel+Efficiency&section=Safety&section=Interior&section=Exterior&styleOne=415911', 'Chevrolet', 'Traverse', 'High Country', '2021', 'SUV')"
   ]
  },
  {
   "cell_type": "code",
   "execution_count": 101,
   "metadata": {
    "hidden": true
   },
   "outputs": [
    {
     "name": "stdout",
     "output_type": "stream",
     "text": [
      "From website https://www.chevrolet.com/suvs/tahoe/build-and-price/trim/compare/trims/table?section=Highlights&section=Warranty&section=Dimensions&section=Safety&section=Interior&section=Exterior&section=Mechanical&styleOne=412518\n",
      "8 ADAS features found\n",
      "Has diesel\n",
      "From website https://www.chevrolet.com/suvs/tahoe/build-and-price/trim/compare/trims/table?section=Highlights&section=Warranty&section=Dimensions&section=Safety&section=Interior&section=Exterior&section=Mechanical&styleOne=412519\n",
      "8 ADAS features found\n",
      "Has diesel\n",
      "From website https://www.chevrolet.com/suvs/tahoe/build-and-price/trim/compare/trims/table?section=Highlights&section=Warranty&section=Dimensions&section=Safety&section=Interior&section=Exterior&section=Mechanical&styleOne=412520\n",
      "8 ADAS features found\n",
      "Has diesel\n",
      "From website https://www.chevrolet.com/suvs/tahoe/build-and-price/trim/compare/trims/table?section=Highlights&section=Warranty&section=Dimensions&section=Safety&section=Interior&section=Exterior&section=Mechanical&styleOne=412526\n",
      "9 ADAS features found\n",
      "From website https://www.chevrolet.com/suvs/tahoe/build-and-price/trim/compare/trims/table?section=Highlights&section=Warranty&section=Dimensions&section=Safety&section=Interior&section=Exterior&section=Mechanical&styleOne=412521\n",
      "11 ADAS features found\n",
      "Has diesel\n",
      "From website https://www.chevrolet.com/suvs/tahoe/build-and-price/trim/compare/trims/table?section=Highlights&section=Warranty&section=Dimensions&section=Safety&section=Interior&section=Exterior&section=Mechanical&styleOne=412522\n",
      "12 ADAS features found\n",
      "Has diesel\n"
     ]
    }
   ],
   "source": [
    "websiteoutput('https://www.chevrolet.com/suvs/tahoe/build-and-price/trim/compare/trims/table?section=Highlights&section=Warranty&section=Dimensions&section=Safety&section=Interior&section=Exterior&section=Mechanical&styleOne=412518', 'Chevrolet', 'Tahoe', 'LS', '2021', 'SUV')\n",
    "websiteoutput('https://www.chevrolet.com/suvs/tahoe/build-and-price/trim/compare/trims/table?section=Highlights&section=Warranty&section=Dimensions&section=Safety&section=Interior&section=Exterior&section=Mechanical&styleOne=412519', 'Chevrolet', 'Tahoe', 'LT', '2021', 'SUV')\n",
    "websiteoutput('https://www.chevrolet.com/suvs/tahoe/build-and-price/trim/compare/trims/table?section=Highlights&section=Warranty&section=Dimensions&section=Safety&section=Interior&section=Exterior&section=Mechanical&styleOne=412520', 'Chevrolet', 'Tahoe', 'RST', '2021', 'SUV')\n",
    "websiteoutput('https://www.chevrolet.com/suvs/tahoe/build-and-price/trim/compare/trims/table?section=Highlights&section=Warranty&section=Dimensions&section=Safety&section=Interior&section=Exterior&section=Mechanical&styleOne=412526', 'Chevrolet', 'Tahoe', 'Z71', '2021', 'SUV')\n",
    "websiteoutput('https://www.chevrolet.com/suvs/tahoe/build-and-price/trim/compare/trims/table?section=Highlights&section=Warranty&section=Dimensions&section=Safety&section=Interior&section=Exterior&section=Mechanical&styleOne=412521', 'Chevrolet', 'Tahoe', 'Premier', '2021', 'SUV')\n",
    "websiteoutput('https://www.chevrolet.com/suvs/tahoe/build-and-price/trim/compare/trims/table?section=Highlights&section=Warranty&section=Dimensions&section=Safety&section=Interior&section=Exterior&section=Mechanical&styleOne=412522', 'Chevrolet', 'Tahoe', 'High Country', '2021', 'SUV')"
   ]
  },
  {
   "cell_type": "code",
   "execution_count": 102,
   "metadata": {
    "hidden": true
   },
   "outputs": [
    {
     "name": "stdout",
     "output_type": "stream",
     "text": [
      "From website https://www.chevrolet.com/suvs/suburban/build-and-price/trim/compare/trims/table?section=Highlights&section=Warranty&section=Dimensions&section=Safety&section=Interior&section=Exterior&section=Mechanical&styleOne=412286\n",
      "8 ADAS features found\n",
      "Has diesel\n",
      "From website https://www.chevrolet.com/suvs/suburban/build-and-price/trim/compare/trims/table?section=Highlights&section=Warranty&section=Dimensions&section=Safety&section=Interior&section=Exterior&section=Mechanical&styleOne=412287\n",
      "8 ADAS features found\n",
      "Has diesel\n",
      "From website https://www.chevrolet.com/suvs/suburban/build-and-price/trim/compare/trims/table?section=Highlights&section=Warranty&section=Dimensions&section=Safety&section=Interior&section=Exterior&section=Mechanical&styleOne=412295\n",
      "9 ADAS features found\n",
      "From website https://www.chevrolet.com/suvs/suburban/build-and-price/trim/compare/trims/table?section=Highlights&section=Warranty&section=Dimensions&section=Safety&section=Interior&section=Exterior&section=Mechanical&styleOne=412288\n",
      "8 ADAS features found\n",
      "Has diesel\n",
      "From website https://www.chevrolet.com/suvs/suburban/build-and-price/trim/compare/trims/table?section=Highlights&section=Warranty&section=Dimensions&section=Safety&section=Interior&section=Exterior&section=Mechanical&styleOne=412290\n",
      "11 ADAS features found\n",
      "Has diesel\n",
      "From website https://www.chevrolet.com/suvs/suburban/build-and-price/trim/compare/trims/table?section=Highlights&section=Warranty&section=Dimensions&section=Safety&section=Interior&section=Exterior&section=Mechanical&styleOne=412291\n",
      "13 ADAS features found\n",
      "Has diesel\n"
     ]
    }
   ],
   "source": [
    "websiteoutput('https://www.chevrolet.com/suvs/suburban/build-and-price/trim/compare/trims/table?section=Highlights&section=Warranty&section=Dimensions&section=Safety&section=Interior&section=Exterior&section=Mechanical&styleOne=412286', 'Chevrolet', 'Suburban', 'LS', '2021', 'SUV')\n",
    "websiteoutput('https://www.chevrolet.com/suvs/suburban/build-and-price/trim/compare/trims/table?section=Highlights&section=Warranty&section=Dimensions&section=Safety&section=Interior&section=Exterior&section=Mechanical&styleOne=412287', 'Chevrolet', 'Suburban', 'LT', '2021', 'SUV')\n",
    "websiteoutput('https://www.chevrolet.com/suvs/suburban/build-and-price/trim/compare/trims/table?section=Highlights&section=Warranty&section=Dimensions&section=Safety&section=Interior&section=Exterior&section=Mechanical&styleOne=412295', 'Chevrolet', 'Suburban', 'Z71', '2021', 'SUV')\n",
    "websiteoutput('https://www.chevrolet.com/suvs/suburban/build-and-price/trim/compare/trims/table?section=Highlights&section=Warranty&section=Dimensions&section=Safety&section=Interior&section=Exterior&section=Mechanical&styleOne=412288', 'Chevrolet', 'Suburban', 'RST', '2021', 'SUV')\n",
    "websiteoutput('https://www.chevrolet.com/suvs/suburban/build-and-price/trim/compare/trims/table?section=Highlights&section=Warranty&section=Dimensions&section=Safety&section=Interior&section=Exterior&section=Mechanical&styleOne=412290', 'Chevrolet', 'Suburban', 'Premier', '2021', 'SUV')\n",
    "websiteoutput('https://www.chevrolet.com/suvs/suburban/build-and-price/trim/compare/trims/table?section=Highlights&section=Warranty&section=Dimensions&section=Safety&section=Interior&section=Exterior&section=Mechanical&styleOne=412291', 'Chevrolet', 'Suburban', 'High Country', '2021', 'SUV')"
   ]
  },
  {
   "cell_type": "code",
   "execution_count": 103,
   "metadata": {
    "hidden": true
   },
   "outputs": [
    {
     "name": "stdout",
     "output_type": "stream",
     "text": [
      "From website https://www.chevrolet.com/trucks/colorado/build-and-price/trim/compare/trims/table?section=Highlights&section=Mechanical&section=Warranty&section=Dimensions&section=Fuel+Efficiency&section=Safety&section=Interior&section=Exterior&styleOne=412254\n",
      "1 ADAS features found\n",
      "From website https://www.chevrolet.com/trucks/colorado/build-and-price/trim/compare/trims/table?section=Highlights&section=Mechanical&section=Warranty&section=Dimensions&section=Fuel+Efficiency&section=Safety&section=Interior&section=Exterior&styleOne=412237\n",
      "2 ADAS features found\n",
      "From website https://www.chevrolet.com/trucks/colorado/build-and-price/trim/compare/trims/table?section=Highlights&section=Mechanical&section=Warranty&section=Dimensions&section=Fuel+Efficiency&section=Safety&section=Interior&section=Exterior&styleOne=412240\n",
      "5 ADAS features found\n",
      "From website https://www.chevrolet.com/trucks/colorado/build-and-price/trim/compare/trims/table?section=Highlights&section=Mechanical&section=Warranty&section=Dimensions&section=Fuel+Efficiency&section=Safety&section=Interior&section=Exterior&styleOne=412246\n",
      "4 ADAS features found\n",
      "Has diesel\n"
     ]
    }
   ],
   "source": [
    "websiteoutput('https://www.chevrolet.com/trucks/colorado/build-and-price/trim/compare/trims/table?section=Highlights&section=Mechanical&section=Warranty&section=Dimensions&section=Fuel+Efficiency&section=Safety&section=Interior&section=Exterior&styleOne=412254', 'Chevrolet', 'Colarado', 'WT', '2021', 'Pickup Truck')\n",
    "websiteoutput('https://www.chevrolet.com/trucks/colorado/build-and-price/trim/compare/trims/table?section=Highlights&section=Mechanical&section=Warranty&section=Dimensions&section=Fuel+Efficiency&section=Safety&section=Interior&section=Exterior&styleOne=412237', 'Chevrolet', 'Colarado', 'LT', '2021', 'Pickup Truck')\n",
    "websiteoutput('https://www.chevrolet.com/trucks/colorado/build-and-price/trim/compare/trims/table?section=Highlights&section=Mechanical&section=Warranty&section=Dimensions&section=Fuel+Efficiency&section=Safety&section=Interior&section=Exterior&styleOne=412240', 'Chevrolet', 'Colarado', 'Z71', '2021', 'Pickup Truck')\n",
    "websiteoutput('https://www.chevrolet.com/trucks/colorado/build-and-price/trim/compare/trims/table?section=Highlights&section=Mechanical&section=Warranty&section=Dimensions&section=Fuel+Efficiency&section=Safety&section=Interior&section=Exterior&styleOne=412246', 'Chevrolet', 'Colarado', 'ZR2', '2021', 'Pickup Truck')"
   ]
  },
  {
   "cell_type": "code",
   "execution_count": 104,
   "metadata": {
    "hidden": true
   },
   "outputs": [
    {
     "name": "stdout",
     "output_type": "stream",
     "text": [
      "From website https://www.chevrolet.com/trucks/silverado/1500/build-and-price/trim/compare/trims/table?section=Mechanical&section=Warranty&section=Dimensions&section=Safety&section=Interior&section=Exterior&styleOne=413014\n",
      "1 ADAS features found\n",
      "From website https://www.chevrolet.com/trucks/silverado/1500/build-and-price/trim/compare/trims/table?section=Mechanical&section=Warranty&section=Dimensions&section=Safety&section=Interior&section=Exterior&styleOne=413016\n",
      "3 ADAS features found\n",
      "From website https://www.chevrolet.com/trucks/silverado/1500/build-and-price/trim/compare/trims/table?section=Mechanical&section=Warranty&section=Dimensions&section=Safety&section=Interior&section=Exterior&styleOne=413035\n",
      "4 ADAS features found\n",
      "From website https://www.chevrolet.com/trucks/silverado/1500/build-and-price/trim/compare/trims/table?section=Mechanical&section=Warranty&section=Dimensions&section=Safety&section=Interior&section=Exterior&styleOne=413017\n",
      "3 ADAS features found\n",
      "Has diesel\n",
      "From website https://www.chevrolet.com/trucks/silverado/1500/build-and-price/trim/compare/trims/table?section=Mechanical&section=Warranty&section=Dimensions&section=Safety&section=Interior&section=Exterior&styleOne=413044\n",
      "4 ADAS features found\n",
      "From website https://www.chevrolet.com/trucks/silverado/1500/build-and-price/trim/compare/trims/table?section=Mechanical&section=Warranty&section=Dimensions&section=Safety&section=Interior&section=Exterior&styleOne=413023\n",
      "3 ADAS features found\n",
      "Has diesel\n",
      "From website https://www.chevrolet.com/trucks/silverado/1500/build-and-price/trim/compare/trims/table?section=Mechanical&section=Warranty&section=Dimensions&section=Safety&section=Interior&section=Exterior&styleOne=413024\n",
      "6 ADAS features found\n",
      "Has diesel\n",
      "From website https://www.chevrolet.com/trucks/silverado/1500/build-and-price/trim/compare/trims/table?section=Mechanical&section=Warranty&section=Dimensions&section=Safety&section=Interior&section=Exterior&styleOne=413025\n",
      "6 ADAS features found\n",
      "Has diesel\n"
     ]
    }
   ],
   "source": [
    "websiteoutput('https://www.chevrolet.com/trucks/silverado/1500/build-and-price/trim/compare/trims/table?section=Mechanical&section=Warranty&section=Dimensions&section=Safety&section=Interior&section=Exterior&styleOne=413014', 'Chevrolet', 'Silverado', 'WT', '2021', 'Pickup Truck')\n",
    "websiteoutput('https://www.chevrolet.com/trucks/silverado/1500/build-and-price/trim/compare/trims/table?section=Mechanical&section=Warranty&section=Dimensions&section=Safety&section=Interior&section=Exterior&styleOne=413016', 'Chevrolet', 'Silverado', 'Custom', '2021', 'Pickup Truck')\n",
    "websiteoutput('https://www.chevrolet.com/trucks/silverado/1500/build-and-price/trim/compare/trims/table?section=Mechanical&section=Warranty&section=Dimensions&section=Safety&section=Interior&section=Exterior&styleOne=413035', 'Chevrolet', 'Silverado', 'Custom Trail Boss', '2021', 'Pickup Truck')\n",
    "websiteoutput('https://www.chevrolet.com/trucks/silverado/1500/build-and-price/trim/compare/trims/table?section=Mechanical&section=Warranty&section=Dimensions&section=Safety&section=Interior&section=Exterior&styleOne=413017', 'Chevrolet', 'Silverado', 'LT', '2021', 'Pickup Truck')\n",
    "websiteoutput('https://www.chevrolet.com/trucks/silverado/1500/build-and-price/trim/compare/trims/table?section=Mechanical&section=Warranty&section=Dimensions&section=Safety&section=Interior&section=Exterior&styleOne=413044', 'Chevrolet', 'Silverado', 'LT Trail Boss', '2021', 'Pickup Truck')\n",
    "websiteoutput('https://www.chevrolet.com/trucks/silverado/1500/build-and-price/trim/compare/trims/table?section=Mechanical&section=Warranty&section=Dimensions&section=Safety&section=Interior&section=Exterior&styleOne=413023', 'Chevrolet', 'Silverado', 'RST', '2021', 'Pickup Truck')\n",
    "websiteoutput('https://www.chevrolet.com/trucks/silverado/1500/build-and-price/trim/compare/trims/table?section=Mechanical&section=Warranty&section=Dimensions&section=Safety&section=Interior&section=Exterior&styleOne=413024', 'Chevrolet', 'Silverado', 'LTZ', '2021', 'Pickup Truck')\n",
    "websiteoutput('https://www.chevrolet.com/trucks/silverado/1500/build-and-price/trim/compare/trims/table?section=Mechanical&section=Warranty&section=Dimensions&section=Safety&section=Interior&section=Exterior&styleOne=413025', 'Chevrolet', 'Silverado', 'High Country', '2021', 'Pickup Truck')"
   ]
  },
  {
   "cell_type": "code",
   "execution_count": 105,
   "metadata": {
    "hidden": true
   },
   "outputs": [
    {
     "name": "stdout",
     "output_type": "stream",
     "text": [
      "From website https://www.chevrolet.com/trucks/silverado/2500hd/build-and-price/trim/compare/trims/table?section=Highlights&section=Warranty&section=Dimensions&section=Fuel+Efficiency&section=Safety&section=Interior&section=Exterior&section=Mechanical&styleOne=412906\n",
      "2 ADAS features found\n",
      "Has diesel\n",
      "From website https://www.chevrolet.com/trucks/silverado/2500hd/build-and-price/trim/compare/trims/table?section=Highlights&section=Warranty&section=Dimensions&section=Fuel+Efficiency&section=Safety&section=Interior&section=Exterior&section=Mechanical&styleOne=412907\n",
      "3 ADAS features found\n",
      "Has diesel\n",
      "From website https://www.chevrolet.com/trucks/silverado/2500hd/build-and-price/trim/compare/trims/table?section=Highlights&section=Warranty&section=Dimensions&section=Fuel+Efficiency&section=Safety&section=Interior&section=Exterior&section=Mechanical&styleOne=412909\n",
      "3 ADAS features found\n",
      "Has diesel\n",
      "From website https://www.chevrolet.com/trucks/silverado/2500hd/build-and-price/trim/compare/trims/table?section=Highlights&section=Warranty&section=Dimensions&section=Fuel+Efficiency&section=Safety&section=Interior&section=Exterior&section=Mechanical&styleOne=412919\n",
      "3 ADAS features found\n",
      "Has diesel\n",
      "From website https://www.chevrolet.com/trucks/silverado/2500hd/build-and-price/trim/compare/trims/table?section=Highlights&section=Warranty&section=Dimensions&section=Fuel+Efficiency&section=Safety&section=Interior&section=Exterior&section=Mechanical&styleOne=412938\n",
      "7 ADAS features found\n",
      "Has diesel\n"
     ]
    }
   ],
   "source": [
    "websiteoutput('https://www.chevrolet.com/trucks/silverado/2500hd/build-and-price/trim/compare/trims/table?section=Highlights&section=Warranty&section=Dimensions&section=Fuel+Efficiency&section=Safety&section=Interior&section=Exterior&section=Mechanical&styleOne=412906', 'Chevrolet', 'Silverado 2500 HD', 'WT', '2021', 'Pickup Truck')\n",
    "websiteoutput('https://www.chevrolet.com/trucks/silverado/2500hd/build-and-price/trim/compare/trims/table?section=Highlights&section=Warranty&section=Dimensions&section=Fuel+Efficiency&section=Safety&section=Interior&section=Exterior&section=Mechanical&styleOne=412907', 'Chevrolet', 'Silverado 2500 HD', 'LT', '2021', 'Pickup Truck')\n",
    "websiteoutput('https://www.chevrolet.com/trucks/silverado/2500hd/build-and-price/trim/compare/trims/table?section=Highlights&section=Warranty&section=Dimensions&section=Fuel+Efficiency&section=Safety&section=Interior&section=Exterior&section=Mechanical&styleOne=412909', 'Chevrolet', 'Silverado 2500 HD', 'Custom', '2021', 'Pickup Truck')\n",
    "websiteoutput('https://www.chevrolet.com/trucks/silverado/2500hd/build-and-price/trim/compare/trims/table?section=Highlights&section=Warranty&section=Dimensions&section=Fuel+Efficiency&section=Safety&section=Interior&section=Exterior&section=Mechanical&styleOne=412919', 'Chevrolet', 'Silverado 2500 HD', 'LTZ', '2021', 'Pickup Truck')\n",
    "websiteoutput('https://www.chevrolet.com/trucks/silverado/2500hd/build-and-price/trim/compare/trims/table?section=Highlights&section=Warranty&section=Dimensions&section=Fuel+Efficiency&section=Safety&section=Interior&section=Exterior&section=Mechanical&styleOne=412938', 'Chevrolet', 'Silverado 2500 HD', 'High Country', '2021', 'Pickup Truck')"
   ]
  },
  {
   "cell_type": "code",
   "execution_count": 106,
   "metadata": {
    "hidden": true
   },
   "outputs": [
    {
     "name": "stdout",
     "output_type": "stream",
     "text": [
      "From website https://www.chevrolet.com/trucks/silverado/3500hd/build-and-price/trim/compare/trims/table?section=Highlights&section=Warranty&section=Dimensions&section=Fuel+Efficiency&section=Safety&section=Interior&section=Exterior&section=Mechanical&styleOne=413291\n",
      "2 ADAS features found\n",
      "Has diesel\n",
      "From website https://www.chevrolet.com/trucks/silverado/3500hd/build-and-price/trim/compare/trims/table?section=Highlights&section=Warranty&section=Dimensions&section=Fuel+Efficiency&section=Safety&section=Interior&section=Exterior&section=Mechanical&styleOne=413294\n",
      "3 ADAS features found\n",
      "Has diesel\n",
      "From website https://www.chevrolet.com/trucks/silverado/3500hd/build-and-price/trim/compare/trims/table?section=Highlights&section=Warranty&section=Dimensions&section=Fuel+Efficiency&section=Safety&section=Interior&section=Exterior&section=Mechanical&styleOne=413307\n",
      "3 ADAS features found\n",
      "Has diesel\n",
      "From website https://www.chevrolet.com/trucks/silverado/3500hd/build-and-price/trim/compare/trims/table?section=Highlights&section=Warranty&section=Dimensions&section=Fuel+Efficiency&section=Safety&section=Interior&section=Exterior&section=Mechanical&styleOne=413336\n",
      "7 ADAS features found\n",
      "Has diesel\n"
     ]
    }
   ],
   "source": [
    "websiteoutput('https://www.chevrolet.com/trucks/silverado/3500hd/build-and-price/trim/compare/trims/table?section=Highlights&section=Warranty&section=Dimensions&section=Fuel+Efficiency&section=Safety&section=Interior&section=Exterior&section=Mechanical&styleOne=413291', 'Chevrolet', 'Silverado 3500 HD', 'WT', '2021', 'Pickup Truck')\n",
    "websiteoutput('https://www.chevrolet.com/trucks/silverado/3500hd/build-and-price/trim/compare/trims/table?section=Highlights&section=Warranty&section=Dimensions&section=Fuel+Efficiency&section=Safety&section=Interior&section=Exterior&section=Mechanical&styleOne=413294', 'Chevrolet', 'Silverado 3500 HD', 'LT', '2021', 'Pickup Truck')\n",
    "websiteoutput('https://www.chevrolet.com/trucks/silverado/3500hd/build-and-price/trim/compare/trims/table?section=Highlights&section=Warranty&section=Dimensions&section=Fuel+Efficiency&section=Safety&section=Interior&section=Exterior&section=Mechanical&styleOne=413307', 'Chevrolet', 'Silverado 3500 HD', 'LTZ', '2021', 'Pickup Truck')\n",
    "websiteoutput('https://www.chevrolet.com/trucks/silverado/3500hd/build-and-price/trim/compare/trims/table?section=Highlights&section=Warranty&section=Dimensions&section=Fuel+Efficiency&section=Safety&section=Interior&section=Exterior&section=Mechanical&styleOne=413336', 'Chevrolet', 'Silverado 3500 HD', 'High Country', '2021', 'Pickup Truck')"
   ]
  },
  {
   "cell_type": "code",
   "execution_count": 107,
   "metadata": {
    "hidden": true
   },
   "outputs": [
    {
     "name": "stdout",
     "output_type": "stream",
     "text": [
      "From website https://www.chevrolet.com/cars/spark/build-and-price/trim/compare/trims/table?section=Warranty&section=Dimensions&section=Fuel+Efficiency&section=Safety&section=Interior&section=Exterior&section=Mechanical&section=Highlights&styleOne=412643\n",
      "1 ADAS features found\n",
      "From website https://www.chevrolet.com/cars/spark/build-and-price/trim/compare/trims/table?section=Warranty&section=Dimensions&section=Fuel+Efficiency&section=Safety&section=Interior&section=Exterior&section=Mechanical&section=Highlights&styleOne=412644\n",
      "1 ADAS features found\n",
      "From website https://www.chevrolet.com/cars/spark/build-and-price/trim/compare/trims/table?section=Warranty&section=Dimensions&section=Fuel+Efficiency&section=Safety&section=Interior&section=Exterior&section=Mechanical&section=Highlights&styleOne=412645\n",
      "2 ADAS features found\n",
      "From website https://www.chevrolet.com/cars/spark/build-and-price/trim/compare/trims/table?section=Warranty&section=Dimensions&section=Fuel+Efficiency&section=Safety&section=Interior&section=Exterior&section=Mechanical&section=Highlights&styleOne=412646\n",
      "2 ADAS features found\n",
      "From website https://www.chevrolet.com/cars/spark/build-and-price/trim/compare/trims/table?section=Warranty&section=Dimensions&section=Fuel+Efficiency&section=Safety&section=Interior&section=Exterior&section=Mechanical&section=Highlights&styleOne=412647\n",
      "3 ADAS features found\n",
      "From website https://www.chevrolet.com/cars/spark/build-and-price/trim/compare/trims/table?section=Warranty&section=Dimensions&section=Fuel+Efficiency&section=Safety&section=Interior&section=Exterior&section=Mechanical&section=Highlights&styleOne=412648\n",
      "3 ADAS features found\n",
      "From website https://www.chevrolet.com/cars/spark/build-and-price/trim/compare/trims/table?section=Warranty&section=Dimensions&section=Fuel+Efficiency&section=Safety&section=Interior&section=Exterior&section=Mechanical&section=Highlights&styleOne=412649\n",
      "2 ADAS features found\n",
      "From website https://www.chevrolet.com/cars/spark/build-and-price/trim/compare/trims/table?section=Warranty&section=Dimensions&section=Fuel+Efficiency&section=Safety&section=Interior&section=Exterior&section=Mechanical&section=Highlights&styleOne=412650\n",
      "2 ADAS features found\n"
     ]
    }
   ],
   "source": [
    "websiteoutput('https://www.chevrolet.com/cars/spark/build-and-price/trim/compare/trims/table?section=Warranty&section=Dimensions&section=Fuel+Efficiency&section=Safety&section=Interior&section=Exterior&section=Mechanical&section=Highlights&styleOne=412643', 'Chevrolet', 'Spark', 'LS Manual', '2021', 'Hatchback')\n",
    "websiteoutput('https://www.chevrolet.com/cars/spark/build-and-price/trim/compare/trims/table?section=Warranty&section=Dimensions&section=Fuel+Efficiency&section=Safety&section=Interior&section=Exterior&section=Mechanical&section=Highlights&styleOne=412644', 'Chevrolet', 'Spark', 'LS Automatic', '2021', 'Hatchback')\n",
    "websiteoutput('https://www.chevrolet.com/cars/spark/build-and-price/trim/compare/trims/table?section=Warranty&section=Dimensions&section=Fuel+Efficiency&section=Safety&section=Interior&section=Exterior&section=Mechanical&section=Highlights&styleOne=412645', 'Chevrolet', 'Spark', '1LT Manual', '2021', 'Hatchback')\n",
    "websiteoutput('https://www.chevrolet.com/cars/spark/build-and-price/trim/compare/trims/table?section=Warranty&section=Dimensions&section=Fuel+Efficiency&section=Safety&section=Interior&section=Exterior&section=Mechanical&section=Highlights&styleOne=412646', 'Chevrolet', 'Spark', '1LT Automatic', '2021', 'Hatchback')\n",
    "websiteoutput('https://www.chevrolet.com/cars/spark/build-and-price/trim/compare/trims/table?section=Warranty&section=Dimensions&section=Fuel+Efficiency&section=Safety&section=Interior&section=Exterior&section=Mechanical&section=Highlights&styleOne=412647', 'Chevrolet', 'Spark', '2LT Manual', '2021', 'Hatchback')\n",
    "websiteoutput('https://www.chevrolet.com/cars/spark/build-and-price/trim/compare/trims/table?section=Warranty&section=Dimensions&section=Fuel+Efficiency&section=Safety&section=Interior&section=Exterior&section=Mechanical&section=Highlights&styleOne=412648', 'Chevrolet', 'Spark', '2LT Automatic', '2021', 'Hatchback')\n",
    "websiteoutput('https://www.chevrolet.com/cars/spark/build-and-price/trim/compare/trims/table?section=Warranty&section=Dimensions&section=Fuel+Efficiency&section=Safety&section=Interior&section=Exterior&section=Mechanical&section=Highlights&styleOne=412649', 'Chevrolet', 'Spark', 'ACTIV Manual', '2021', 'Hatchback')\n",
    "websiteoutput('https://www.chevrolet.com/cars/spark/build-and-price/trim/compare/trims/table?section=Warranty&section=Dimensions&section=Fuel+Efficiency&section=Safety&section=Interior&section=Exterior&section=Mechanical&section=Highlights&styleOne=412650', 'Chevrolet', 'Spark', 'ACTIV Automatic', '2021', 'Hatchback')"
   ]
  },
  {
   "cell_type": "code",
   "execution_count": 108,
   "metadata": {
    "hidden": true
   },
   "outputs": [
    {
     "name": "stdout",
     "output_type": "stream",
     "text": [
      "From website https://www.chevrolet.com/cars/malibu/build-and-price/trim/compare/trims/table?section=Highlights&section=Warranty&section=Dimensions&section=Fuel+Efficiency&section=Safety&section=Interior&section=Exterior&section=Mechanical&styleOne=413660\n",
      "2 ADAS features found\n",
      "From website https://www.chevrolet.com/cars/malibu/build-and-price/trim/compare/trims/table?section=Highlights&section=Warranty&section=Dimensions&section=Fuel+Efficiency&section=Safety&section=Interior&section=Exterior&section=Mechanical&styleOne=413662\n",
      "2 ADAS features found\n",
      "From website https://www.chevrolet.com/cars/malibu/build-and-price/trim/compare/trims/table?section=Highlights&section=Warranty&section=Dimensions&section=Fuel+Efficiency&section=Safety&section=Interior&section=Exterior&section=Mechanical&styleOne=413663\n",
      "2 ADAS features found\n",
      "From website https://www.chevrolet.com/cars/malibu/build-and-price/trim/compare/trims/table?section=Highlights&section=Warranty&section=Dimensions&section=Fuel+Efficiency&section=Safety&section=Interior&section=Exterior&section=Mechanical&styleOne=413664\n",
      "2 ADAS features found\n",
      "From website https://www.chevrolet.com/cars/malibu/build-and-price/trim/compare/trims/table?section=Highlights&section=Warranty&section=Dimensions&section=Fuel+Efficiency&section=Safety&section=Interior&section=Exterior&section=Mechanical&styleOne=413665\n",
      "2 ADAS features found\n"
     ]
    }
   ],
   "source": [
    "websiteoutput('https://www.chevrolet.com/cars/malibu/build-and-price/trim/compare/trims/table?section=Highlights&section=Warranty&section=Dimensions&section=Fuel+Efficiency&section=Safety&section=Interior&section=Exterior&section=Mechanical&styleOne=413660', 'Chevrolet', 'Malibu', 'L', '2021', 'Sedan')\n",
    "websiteoutput('https://www.chevrolet.com/cars/malibu/build-and-price/trim/compare/trims/table?section=Highlights&section=Warranty&section=Dimensions&section=Fuel+Efficiency&section=Safety&section=Interior&section=Exterior&section=Mechanical&styleOne=413662', 'Chevrolet', 'Malibu', 'LS', '2021', 'Sedan')\n",
    "websiteoutput('https://www.chevrolet.com/cars/malibu/build-and-price/trim/compare/trims/table?section=Highlights&section=Warranty&section=Dimensions&section=Fuel+Efficiency&section=Safety&section=Interior&section=Exterior&section=Mechanical&styleOne=413663', 'Chevrolet', 'Malibu', 'RS', '2021', 'Sedan')\n",
    "websiteoutput('https://www.chevrolet.com/cars/malibu/build-and-price/trim/compare/trims/table?section=Highlights&section=Warranty&section=Dimensions&section=Fuel+Efficiency&section=Safety&section=Interior&section=Exterior&section=Mechanical&styleOne=413664', 'Chevrolet', 'Malibu', 'LT', '2021', 'Sedan')\n",
    "websiteoutput('https://www.chevrolet.com/cars/malibu/build-and-price/trim/compare/trims/table?section=Highlights&section=Warranty&section=Dimensions&section=Fuel+Efficiency&section=Safety&section=Interior&section=Exterior&section=Mechanical&styleOne=413665', 'Chevrolet', 'Malibu', 'Premier', '2021', 'Sedan')"
   ]
  },
  {
   "cell_type": "code",
   "execution_count": 109,
   "metadata": {
    "hidden": true
   },
   "outputs": [
    {
     "name": "stdout",
     "output_type": "stream",
     "text": [
      "From website https://www.chevrolet.com/2021-bolt-ev/build-and-price/trim/compare/trims/table?section=Highlights&section=Warranty&section=Dimensions&section=Fuel+Efficiency&section=Safety&section=Interior&section=Exterior&section=Mechanical&styleOne=418204\n",
      "2 ADAS features found\n",
      "From website https://www.chevrolet.com/2021-bolt-ev/build-and-price/trim/compare/trims/table?section=Highlights&section=Warranty&section=Dimensions&section=Fuel+Efficiency&section=Safety&section=Interior&section=Exterior&section=Mechanical&styleOne=418205\n",
      "6 ADAS features found\n",
      "From website https://www.chevrolet.com/electric/bolt-ev/build-and-price/trim/compare/trims/table?section=Highlights&section=Warranty&section=Dimensions&section=Fuel+Efficiency&section=Safety&section=Interior&section=Exterior&section=Mechanical&styleOne=419660\n",
      "7 ADAS features found\n",
      "From website https://www.chevrolet.com/electric/bolt-ev/build-and-price/trim/compare/trims/table?section=Highlights&section=Warranty&section=Dimensions&section=Fuel+Efficiency&section=Safety&section=Interior&section=Exterior&section=Mechanical&styleOne=419661\n",
      "11 ADAS features found\n",
      "From website https://www.chevrolet.com/electric/bolt-euv/build-and-price/trim/compare/trims/table?section=Highlights&section=Warranty&section=Dimensions&section=Fuel+Efficiency&section=Safety&section=Interior&section=Exterior&section=Mechanical&styleOne=419707\n",
      "7 ADAS features found\n",
      "From website https://www.chevrolet.com/electric/bolt-euv/build-and-price/trim/compare/trims/table?section=Highlights&section=Warranty&section=Dimensions&section=Fuel+Efficiency&section=Safety&section=Interior&section=Exterior&section=Mechanical&styleOne=419708\n",
      "12 ADAS features found\n"
     ]
    }
   ],
   "source": [
    "websiteoutput('https://www.chevrolet.com/2021-bolt-ev/build-and-price/trim/compare/trims/table?section=Highlights&section=Warranty&section=Dimensions&section=Fuel+Efficiency&section=Safety&section=Interior&section=Exterior&section=Mechanical&styleOne=418204', 'Chevrolet', 'Bolt EV', 'LT', '2021', 'Hatchback')\n",
    "websiteoutput('https://www.chevrolet.com/2021-bolt-ev/build-and-price/trim/compare/trims/table?section=Highlights&section=Warranty&section=Dimensions&section=Fuel+Efficiency&section=Safety&section=Interior&section=Exterior&section=Mechanical&styleOne=418205', 'Chevrolet', 'Bolt EV', 'Premier', '2021', 'Hatchback')\n",
    "\n",
    "websiteoutput('https://www.chevrolet.com/electric/bolt-ev/build-and-price/trim/compare/trims/table?section=Highlights&section=Warranty&section=Dimensions&section=Fuel+Efficiency&section=Safety&section=Interior&section=Exterior&section=Mechanical&styleOne=419660', 'Chevrolet', 'Bolt EV', '1LT', '2022', 'Hatchback')\n",
    "websiteoutput('https://www.chevrolet.com/electric/bolt-ev/build-and-price/trim/compare/trims/table?section=Highlights&section=Warranty&section=Dimensions&section=Fuel+Efficiency&section=Safety&section=Interior&section=Exterior&section=Mechanical&styleOne=419661', 'Chevrolet', 'Bolt EV', '2LT', '2022', 'Hatchback')\n",
    "\n",
    "websiteoutput('https://www.chevrolet.com/electric/bolt-euv/build-and-price/trim/compare/trims/table?section=Highlights&section=Warranty&section=Dimensions&section=Fuel+Efficiency&section=Safety&section=Interior&section=Exterior&section=Mechanical&styleOne=419707', 'Chevrolet', 'Bolt EUV', 'LT', '2022', 'Hatchback')\n",
    "websiteoutput('https://www.chevrolet.com/electric/bolt-euv/build-and-price/trim/compare/trims/table?section=Highlights&section=Warranty&section=Dimensions&section=Fuel+Efficiency&section=Safety&section=Interior&section=Exterior&section=Mechanical&styleOne=419708', 'Chevrolet', 'Bolt EUV', 'Premier', '2022', 'Hatchback')"
   ]
  },
  {
   "cell_type": "code",
   "execution_count": 110,
   "metadata": {
    "hidden": true
   },
   "outputs": [
    {
     "name": "stdout",
     "output_type": "stream",
     "text": [
      "From website https://www.chevrolet.com/performance/camaro/build-and-price/trim/compare/trims/table?section=Highlights&section=Mechanical&section=Warranty&section=Dimensions&section=Fuel+Efficiency&section=Safety&section=Interior&section=Exterior&styleOne=412679\n",
      "2 ADAS features found\n",
      "From website https://www.chevrolet.com/performance/camaro/build-and-price/trim/compare/trims/table?section=Highlights&section=Mechanical&section=Warranty&section=Dimensions&section=Fuel+Efficiency&section=Safety&section=Interior&section=Exterior&styleOne=412680\n",
      "2 ADAS features found\n",
      "From website https://www.chevrolet.com/performance/camaro/build-and-price/trim/compare/trims/table?section=Highlights&section=Mechanical&section=Warranty&section=Dimensions&section=Fuel+Efficiency&section=Safety&section=Interior&section=Exterior&styleOne=412681\n",
      "2 ADAS features found\n",
      "From website https://www.chevrolet.com/performance/camaro/build-and-price/trim/compare/trims/table?section=Highlights&section=Mechanical&section=Warranty&section=Dimensions&section=Fuel+Efficiency&section=Safety&section=Interior&section=Exterior&styleOne=412682\n",
      "7 ADAS features found\n",
      "From website https://www.chevrolet.com/performance/camaro/build-and-price/trim/compare/trims/table?section=Highlights&section=Mechanical&section=Warranty&section=Dimensions&section=Fuel+Efficiency&section=Safety&section=Interior&section=Exterior&styleOne=412683\n",
      "2 ADAS features found\n",
      "From website https://www.chevrolet.com/performance/camaro/build-and-price/trim/compare/trims/table?section=Highlights&section=Mechanical&section=Warranty&section=Dimensions&section=Fuel+Efficiency&section=Safety&section=Interior&section=Exterior&styleOne=412684\n",
      "2 ADAS features found\n",
      "From website https://www.chevrolet.com/performance/camaro/build-and-price/trim/compare/trims/table?section=Highlights&section=Mechanical&section=Warranty&section=Dimensions&section=Fuel+Efficiency&section=Safety&section=Interior&section=Exterior&styleOne=412685\n",
      "7 ADAS features found\n",
      "From website https://www.chevrolet.com/performance/camaro/build-and-price/trim/compare/trims/table?section=Highlights&section=Mechanical&section=Warranty&section=Dimensions&section=Fuel+Efficiency&section=Safety&section=Interior&section=Exterior&styleOne=412686\n",
      "7 ADAS features found\n"
     ]
    }
   ],
   "source": [
    "websiteoutput('https://www.chevrolet.com/performance/camaro/build-and-price/trim/compare/trims/table?section=Highlights&section=Mechanical&section=Warranty&section=Dimensions&section=Fuel+Efficiency&section=Safety&section=Interior&section=Exterior&styleOne=412679', 'Chevrolet', 'Camaro', '1LS', '2021', 'Coupe')\n",
    "websiteoutput('https://www.chevrolet.com/performance/camaro/build-and-price/trim/compare/trims/table?section=Highlights&section=Mechanical&section=Warranty&section=Dimensions&section=Fuel+Efficiency&section=Safety&section=Interior&section=Exterior&styleOne=412680', 'Chevrolet', 'Camaro', '1LT', '2021', 'Coupe')\n",
    "websiteoutput('https://www.chevrolet.com/performance/camaro/build-and-price/trim/compare/trims/table?section=Highlights&section=Mechanical&section=Warranty&section=Dimensions&section=Fuel+Efficiency&section=Safety&section=Interior&section=Exterior&styleOne=412681', 'Chevrolet', 'Camaro', '2LT', '2021', 'Coupe')\n",
    "websiteoutput('https://www.chevrolet.com/performance/camaro/build-and-price/trim/compare/trims/table?section=Highlights&section=Mechanical&section=Warranty&section=Dimensions&section=Fuel+Efficiency&section=Safety&section=Interior&section=Exterior&styleOne=412682', 'Chevrolet', 'Camaro', '3LT', '2021', 'Coupe')\n",
    "websiteoutput('https://www.chevrolet.com/performance/camaro/build-and-price/trim/compare/trims/table?section=Highlights&section=Mechanical&section=Warranty&section=Dimensions&section=Fuel+Efficiency&section=Safety&section=Interior&section=Exterior&styleOne=412683', 'Chevrolet', 'Camaro', 'LT1', '2021', 'Coupe')\n",
    "websiteoutput('https://www.chevrolet.com/performance/camaro/build-and-price/trim/compare/trims/table?section=Highlights&section=Mechanical&section=Warranty&section=Dimensions&section=Fuel+Efficiency&section=Safety&section=Interior&section=Exterior&styleOne=412684', 'Chevrolet', 'Camaro', '1SS', '2021', 'Coupe')\n",
    "websiteoutput('https://www.chevrolet.com/performance/camaro/build-and-price/trim/compare/trims/table?section=Highlights&section=Mechanical&section=Warranty&section=Dimensions&section=Fuel+Efficiency&section=Safety&section=Interior&section=Exterior&styleOne=412685', 'Chevrolet', 'Camaro', '2SS', '2021', 'Coupe')\n",
    "websiteoutput('https://www.chevrolet.com/performance/camaro/build-and-price/trim/compare/trims/table?section=Highlights&section=Mechanical&section=Warranty&section=Dimensions&section=Fuel+Efficiency&section=Safety&section=Interior&section=Exterior&styleOne=412686', 'Chevrolet', 'Camaro', 'ZL1', '2021', 'Coupe')"
   ]
  },
  {
   "cell_type": "code",
   "execution_count": 111,
   "metadata": {
    "hidden": true
   },
   "outputs": [
    {
     "name": "stdout",
     "output_type": "stream",
     "text": [
      "From website https://www.chevrolet.com/performance/camaro/build-and-price/trim/compare/trims/table?section=Highlights&section=Mechanical&section=Warranty&section=Dimensions&section=Fuel+Efficiency&section=Safety&section=Interior&section=Exterior&styleOne=412687\n",
      "2 ADAS features found\n",
      "From website https://www.chevrolet.com/performance/camaro/build-and-price/trim/compare/trims/table?section=Highlights&section=Mechanical&section=Warranty&section=Dimensions&section=Fuel+Efficiency&section=Safety&section=Interior&section=Exterior&styleOne=412688\n",
      "2 ADAS features found\n",
      "From website https://www.chevrolet.com/performance/camaro/build-and-price/trim/compare/trims/table?section=Highlights&section=Mechanical&section=Warranty&section=Dimensions&section=Fuel+Efficiency&section=Safety&section=Interior&section=Exterior&styleOne=412690\n",
      "6 ADAS features found\n",
      "From website https://www.chevrolet.com/performance/camaro/build-and-price/trim/compare/trims/table?section=Highlights&section=Mechanical&section=Warranty&section=Dimensions&section=Fuel+Efficiency&section=Safety&section=Interior&section=Exterior&styleOne=412691\n",
      "2 ADAS features found\n",
      "From website https://www.chevrolet.com/performance/camaro/build-and-price/trim/compare/trims/table?section=Highlights&section=Mechanical&section=Warranty&section=Dimensions&section=Fuel+Efficiency&section=Safety&section=Interior&section=Exterior&styleOne=412692\n",
      "2 ADAS features found\n",
      "From website https://www.chevrolet.com/performance/camaro/build-and-price/trim/compare/trims/table?section=Highlights&section=Mechanical&section=Warranty&section=Dimensions&section=Fuel+Efficiency&section=Safety&section=Interior&section=Exterior&styleOne=412693\n",
      "6 ADAS features found\n",
      "From website https://www.chevrolet.com/performance/camaro/build-and-price/trim/compare/trims/table?section=Highlights&section=Mechanical&section=Warranty&section=Dimensions&section=Fuel+Efficiency&section=Safety&section=Interior&section=Exterior&styleOne=412689\n",
      "6 ADAS features found\n"
     ]
    }
   ],
   "source": [
    "websiteoutput('https://www.chevrolet.com/performance/camaro/build-and-price/trim/compare/trims/table?section=Highlights&section=Mechanical&section=Warranty&section=Dimensions&section=Fuel+Efficiency&section=Safety&section=Interior&section=Exterior&styleOne=412687', 'Chevrolet', 'Camaro', '1LT', '2021', 'Convertible')\n",
    "websiteoutput('https://www.chevrolet.com/performance/camaro/build-and-price/trim/compare/trims/table?section=Highlights&section=Mechanical&section=Warranty&section=Dimensions&section=Fuel+Efficiency&section=Safety&section=Interior&section=Exterior&styleOne=412688', 'Chevrolet', 'Camaro', '2LT', '2021', 'Convertible')\n",
    "websiteoutput('https://www.chevrolet.com/performance/camaro/build-and-price/trim/compare/trims/table?section=Highlights&section=Mechanical&section=Warranty&section=Dimensions&section=Fuel+Efficiency&section=Safety&section=Interior&section=Exterior&styleOne=412690', 'Chevrolet', 'Camaro', '3LT', '2021', 'Convertible')\n",
    "websiteoutput('https://www.chevrolet.com/performance/camaro/build-and-price/trim/compare/trims/table?section=Highlights&section=Mechanical&section=Warranty&section=Dimensions&section=Fuel+Efficiency&section=Safety&section=Interior&section=Exterior&styleOne=412691', 'Chevrolet', 'Camaro', 'LT1', '2021', 'Convertible')\n",
    "websiteoutput('https://www.chevrolet.com/performance/camaro/build-and-price/trim/compare/trims/table?section=Highlights&section=Mechanical&section=Warranty&section=Dimensions&section=Fuel+Efficiency&section=Safety&section=Interior&section=Exterior&styleOne=412692', 'Chevrolet', 'Camaro', '1SS', '2021', 'Convertible')\n",
    "websiteoutput('https://www.chevrolet.com/performance/camaro/build-and-price/trim/compare/trims/table?section=Highlights&section=Mechanical&section=Warranty&section=Dimensions&section=Fuel+Efficiency&section=Safety&section=Interior&section=Exterior&styleOne=412693', 'Chevrolet', 'Camaro', '2SS', '2021', 'Convertible')\n",
    "websiteoutput('https://www.chevrolet.com/performance/camaro/build-and-price/trim/compare/trims/table?section=Highlights&section=Mechanical&section=Warranty&section=Dimensions&section=Fuel+Efficiency&section=Safety&section=Interior&section=Exterior&styleOne=412689', 'Chevrolet', 'Camaro', 'ZL1', '2021', 'Convertible')"
   ]
  },
  {
   "cell_type": "code",
   "execution_count": 112,
   "metadata": {
    "hidden": true
   },
   "outputs": [
    {
     "name": "stdout",
     "output_type": "stream",
     "text": [
      "From website https://www.chevrolet.com/performance/corvette/build-and-price/trim/compare/trims/table?section=Highlights&section=Warranty&section=Dimensions&section=Fuel+Efficiency&section=Safety&section=Interior&section=Exterior&section=Mechanical&styleOne=413677\n",
      "3 ADAS features found\n",
      "From website https://www.chevrolet.com/performance/corvette/build-and-price/trim/compare/trims/table?section=Highlights&section=Warranty&section=Dimensions&section=Fuel+Efficiency&section=Safety&section=Interior&section=Exterior&section=Mechanical&styleOne=413678\n",
      "6 ADAS features found\n",
      "From website https://www.chevrolet.com/performance/corvette/build-and-price/trim/compare/trims/table?section=Highlights&section=Warranty&section=Dimensions&section=Fuel+Efficiency&section=Safety&section=Interior&section=Exterior&section=Mechanical&styleOne=413680\n",
      "6 ADAS features found\n",
      "From website https://www.chevrolet.com/performance/corvette/build-and-price/trim/compare/trims/table?section=Highlights&section=Warranty&section=Dimensions&section=Fuel+Efficiency&section=Safety&section=Interior&section=Exterior&section=Mechanical&styleOne=413682\n",
      "3 ADAS features found\n",
      "From website https://www.chevrolet.com/performance/corvette/build-and-price/trim/compare/trims/table?section=Highlights&section=Warranty&section=Dimensions&section=Fuel+Efficiency&section=Safety&section=Interior&section=Exterior&section=Mechanical&styleOne=413683\n",
      "6 ADAS features found\n",
      "From website https://www.chevrolet.com/performance/corvette/build-and-price/trim/compare/trims/table?section=Highlights&section=Warranty&section=Dimensions&section=Fuel+Efficiency&section=Safety&section=Interior&section=Exterior&section=Mechanical&styleOne=413685\n",
      "6 ADAS features found\n"
     ]
    }
   ],
   "source": [
    "websiteoutput('https://www.chevrolet.com/performance/corvette/build-and-price/trim/compare/trims/table?section=Highlights&section=Warranty&section=Dimensions&section=Fuel+Efficiency&section=Safety&section=Interior&section=Exterior&section=Mechanical&styleOne=413677', 'Chevrolet', 'Corvette Stingray', '1LT', '2021', 'Coupe')\n",
    "websiteoutput('https://www.chevrolet.com/performance/corvette/build-and-price/trim/compare/trims/table?section=Highlights&section=Warranty&section=Dimensions&section=Fuel+Efficiency&section=Safety&section=Interior&section=Exterior&section=Mechanical&styleOne=413678', 'Chevrolet', 'Corvette Stingray', '2LT', '2021', 'Coupe')\n",
    "websiteoutput('https://www.chevrolet.com/performance/corvette/build-and-price/trim/compare/trims/table?section=Highlights&section=Warranty&section=Dimensions&section=Fuel+Efficiency&section=Safety&section=Interior&section=Exterior&section=Mechanical&styleOne=413680', 'Chevrolet', 'Corvette Stingray', '3LT', '2021', 'Coupe')\n",
    "websiteoutput('https://www.chevrolet.com/performance/corvette/build-and-price/trim/compare/trims/table?section=Highlights&section=Warranty&section=Dimensions&section=Fuel+Efficiency&section=Safety&section=Interior&section=Exterior&section=Mechanical&styleOne=413682', 'Chevrolet', 'Corvette Stingray', '1LT', '2021', 'Convertible')\n",
    "websiteoutput('https://www.chevrolet.com/performance/corvette/build-and-price/trim/compare/trims/table?section=Highlights&section=Warranty&section=Dimensions&section=Fuel+Efficiency&section=Safety&section=Interior&section=Exterior&section=Mechanical&styleOne=413683', 'Chevrolet', 'Corvette Stingray', '2LT', '2021', 'Convertible')\n",
    "websiteoutput('https://www.chevrolet.com/performance/corvette/build-and-price/trim/compare/trims/table?section=Highlights&section=Warranty&section=Dimensions&section=Fuel+Efficiency&section=Safety&section=Interior&section=Exterior&section=Mechanical&styleOne=413685', 'Chevrolet', 'Corvette Stingray', '3LT', '2021', 'Convertible')"
   ]
  },
  {
   "cell_type": "markdown",
   "metadata": {
    "heading_collapsed": true
   },
   "source": [
    "# Toyota"
   ]
  },
  {
   "cell_type": "code",
   "execution_count": 113,
   "metadata": {
    "collapsed": true,
    "hidden": true
   },
   "outputs": [
    {
     "name": "stdout",
     "output_type": "stream",
     "text": [
      "16 ADAS features found\n",
      "16 ADAS features found\n",
      "16 ADAS features found\n"
     ]
    }
   ],
   "source": [
    "websiteoutput(\"https://www.toyota.com/priusprime/features/mileage_estimates/1235\", 'Toyota', 'Prius Prime', 'LE', '2021', 'Sedan')\n",
    "websiteoutput(\"https://www.toyota.com/priusprime/features/mileage_estimates/1237\", 'Toyota', 'Prius Prime', 'XLE', '2021', 'Sedan')\n",
    "websiteoutput(\"https://www.toyota.com/priusprime/features/mileage_estimates/1239\", 'Toyota', 'Prius Prime', 'Limited', '2021', 'Sedan')"
   ]
  },
  {
   "cell_type": "code",
   "execution_count": 114,
   "metadata": {
    "collapsed": true,
    "hidden": true
   },
   "outputs": [
    {
     "name": "stdout",
     "output_type": "stream",
     "text": [
      "10 ADAS features found\n",
      "15 ADAS features found\n",
      "15 ADAS features found\n",
      "15 ADAS features found\n",
      "15 ADAS features found\n",
      "15 ADAS features found\n",
      "16 ADAS features found\n"
     ]
    }
   ],
   "source": [
    "websiteoutput(\"https://www.toyota.com/prius/2021/features/mpg/1221\", 'Toyota', 'Prius', 'L Eco', '2021', 'Sedan', start='l-eco', stop='le')\n",
    "websiteoutput(\"https://www.toyota.com/prius/2021/features/mpg/1223\", 'Toyota', 'Prius', 'LE', '2021', 'Sedan', start='le', stop='le-awd')\n",
    "websiteoutput(\"https://www.toyota.com/prius/2021/features/mpg/1263\", 'Toyota', 'Prius', 'LE AWD', '2021', 'Sedan', start='le-awd', stop='xle')\n",
    "websiteoutput(\"https://www.toyota.com/prius/2021/features/mpg/1225\", 'Toyota', 'Prius', 'XLE', '2021', 'Sedan', start='xle', stop='xle-awd')\n",
    "websiteoutput(\"https://www.toyota.com/prius/2021/features/mpg/1265\", 'Toyota', 'Prius', 'XLE AWD', '2021', 'Sedan',start='xle-awd', stop='2020-edition')\n",
    "websiteoutput(\"https://www.toyota.com/prius/2021/features/mpg/1219\", 'Toyota', 'Prius', '2020 Edition', '2021', 'Sedan', start='2020-edition', stop='limited')\n",
    "websiteoutput(\"https://www.toyota.com/prius/2021/features/mpg/1227\", 'Toyota', 'Prius', 'Limited', '2021', 'Sedan', start='limited', stop='l-eco')"
   ]
  },
  {
   "cell_type": "code",
   "execution_count": 43,
   "metadata": {
    "hidden": true
   },
   "outputs": [
    {
     "name": "stdout",
     "output_type": "stream",
     "text": [
      "/n\n",
      "trim is LE\n",
      "11 ADAS features found\n",
      "/n\n",
      "trim is XLE\n",
      "11 ADAS features found\n",
      "/n\n",
      "trim is Limited\n",
      "16 ADAS features found\n"
     ]
    }
   ],
   "source": [
    "toyotadata('https://www.toyota.com/priusprime/features/mileage_estimates', 'Prius Prime', ['LE', 'XLE', 'Limited'], ['le', 'xle', 'limited'], '2021', 'Sedan')"
   ]
  },
  {
   "cell_type": "code",
   "execution_count": 44,
   "metadata": {
    "hidden": true
   },
   "outputs": [
    {
     "name": "stdout",
     "output_type": "stream",
     "text": [
      "/n\n",
      "trim is L Eco\n",
      "11 ADAS features found\n",
      "/n\n",
      "trim is LE\n",
      "15 ADAS features found\n",
      "/n\n",
      "trim is LE AWD-E\n",
      "15 ADAS features found\n",
      "/n\n",
      "trim is XLE\n",
      "15 ADAS features found\n",
      "/n\n",
      "trim is XLE AWD-E\n",
      "15 ADAS features found\n",
      "/n\n",
      "trim is 2020 Edition\n",
      "15 ADAS features found\n",
      "/n\n",
      "trim is Limited\n",
      "16 ADAS features found\n"
     ]
    }
   ],
   "source": [
    "toyotadata('https://www.toyota.com/prius/2021/features/mpg', 'Prius', ['L Eco', 'LE', 'LE AWD-E', 'XLE', 'XLE AWD-E', '2020 Edition', 'Limited'], ['l-eco', 'le', 'le-awd', 'xle', 'xle-awd', '2020-edition', 'limited'], '2021', 'Sedan')"
   ]
  },
  {
   "cell_type": "code",
   "execution_count": 45,
   "metadata": {
    "hidden": true
   },
   "outputs": [
    {
     "name": "stdout",
     "output_type": "stream",
     "text": [
      "/n\n",
      "trim is SE\n",
      "9 ADAS features found\n",
      "/n\n",
      "trim is SE Nightshade Edition\n",
      "9 ADAS features found\n",
      "/n\n",
      "trim is XSE\n",
      "11 ADAS features found\n"
     ]
    }
   ],
   "source": [
    "\n",
    "toyotadata('https://www.toyota.com/corollahatchback/features/mileage_estimates/6276', 'Corolla Hatchback', ['SE', 'SE Nightshade Edition', 'XSE'], ['se', 'nightshade', 'xse'], '2021', 'Hatchback')\n"
   ]
  },
  {
   "cell_type": "code",
   "execution_count": 46,
   "metadata": {
    "hidden": true
   },
   "outputs": [
    {
     "name": "stdout",
     "output_type": "stream",
     "text": [
      "/n\n",
      "trim is LE\n",
      "10 ADAS features found\n",
      "/n\n",
      "trim is LE Hybrid\n",
      "10 ADAS features found\n",
      "/n\n",
      "trim is SE\n",
      "10 ADAS features found\n",
      "/n\n",
      "trim is SE Hybrid\n",
      "10 ADAS features found\n",
      "/n\n",
      "trim is SE Nightshade Edition\n",
      "10 ADAS features found\n",
      "/n\n",
      "trim is XLE\n",
      "12 ADAS features found\n",
      "/n\n",
      "trim is XLE Hybrid\n",
      "12 ADAS features found\n",
      "/n\n",
      "trim is XSE\n",
      "12 ADAS features found\n",
      "/n\n",
      "trim is XSE Hybrid\n",
      "12 ADAS features found\n",
      "/n\n",
      "trim is TRD\n",
      "12 ADAS features found\n",
      "/n\n",
      "trim is XLE V6\n",
      "13 ADAS features found\n",
      "/n\n",
      "trim is XSE V6\n",
      "13 ADAS features found\n"
     ]
    }
   ],
   "source": [
    "\n",
    "toyotadata('https://www.toyota.com/camry/features/mpg/2532/2515/2559/', 'Camry', ['LE', 'LE Hybrid', 'SE', 'SE Hybrid', 'SE Nightshade Edition', 'XLE', 'XLE Hybrid', 'XSE', 'XSE Hybrid', 'TRD', 'XLE V6', 'XSE V6'], ['camry_le', 'camry_hybrid_le',  'camry_se', 'camry_hybrid_se', 'camry_se_nightshade', 'camry_xle', 'camry_hybrid_xle',  'camry_xse','camry_hybrid_xse', 'trd', 'camry_xle_v6', 'camry_xse_v6'], '2021', 'Sedan')\n"
   ]
  },
  {
   "cell_type": "code",
   "execution_count": 47,
   "metadata": {
    "hidden": true
   },
   "outputs": [
    {
     "name": "stdout",
     "output_type": "stream",
     "text": [
      "/n\n",
      "trim is XLE\n",
      "10 ADAS features found\n",
      "/n\n",
      "trim is XLE Hybrid\n",
      "10 ADAS features found\n",
      "/n\n",
      "trim is XSE Nightshade\n",
      "10 ADAS features found\n",
      "/n\n",
      "trim is XSE Hybrid\n",
      "10 ADAS features found\n",
      "/n\n",
      "trim is TRD\n",
      "10 ADAS features found\n",
      "/n\n",
      "trim is Touring\n",
      "11 ADAS features found\n",
      "/n\n",
      "trim is Limited\n",
      "11 ADAS features found\n",
      "/n\n",
      "trim is Limited Hybrid\n",
      "11 ADAS features found\n"
     ]
    }
   ],
   "source": [
    "toyotadata('https://www.toyota.com/avalon/features/mpg/3544/3555/3504', 'Avalon', ['XLE', 'XLE Hybrid', 'XSE Nightshade', 'XSE Hybrid', 'TRD', 'Touring',  'Limited', 'Limited Hybrid'], ['xle', 'hybrid-xle','xse-nightshade', 'hybrid-xse', 'trd',  'touring', 'limited', 'hybrid-limited'], '2021', 'Sedan')"
   ]
  },
  {
   "cell_type": "code",
   "execution_count": 48,
   "metadata": {
    "hidden": true
   },
   "outputs": [
    {
     "name": "stdout",
     "output_type": "stream",
     "text": [
      "/n\n",
      "trim is XLE\n",
      "12 ADAS features found\n",
      "/n\n",
      "trim is Limited\n",
      "16 ADAS features found\n"
     ]
    }
   ],
   "source": [
    "toyotadata('https://www.toyota.com/mirai/features/mileage_estimates/3002/3003', 'Mirai', ['XLE', 'Limited'], ['xle', 'limited'], '2021', 'Sedan')"
   ]
  },
  {
   "cell_type": "code",
   "execution_count": 49,
   "metadata": {
    "hidden": true
   },
   "outputs": [
    {
     "name": "stdout",
     "output_type": "stream",
     "text": [
      "/n\n",
      "trim is 86\n",
      "3 ADAS features found\n",
      "/n\n",
      "trim is 86 GT\n",
      "3 ADAS features found\n"
     ]
    }
   ],
   "source": [
    "\n",
    "toyotadata('https://www.toyota.com/86/features/mpg/6253/6254/6255', '86', ['86', '86 GT'], ['86', '86gt'], '2020', 'Coupe')\n"
   ]
  },
  {
   "cell_type": "code",
   "execution_count": 50,
   "metadata": {
    "hidden": true
   },
   "outputs": [
    {
     "name": "stdout",
     "output_type": "stream",
     "text": [
      "/n\n",
      "trim is 2.0\n",
      "6 ADAS features found\n",
      "/n\n",
      "trim is 3.0\n",
      "6 ADAS features found\n",
      "/n\n",
      "trim is 3.0 Premium\n",
      "7 ADAS features found\n",
      "/n\n",
      "trim is A91 Edition\n",
      "6 ADAS features found\n"
     ]
    }
   ],
   "source": [
    "\n",
    "toyotadata('https://www.toyota.com/gr-supra/features/mileage_estimates/2370/2372/2374', 'GR Supra', ['2.0', '3.0', '3.0 Premium', 'A91 Edition'], ['2', '3', '3premium', 'a91edition'], '2021', 'Coupe')\n"
   ]
  },
  {
   "cell_type": "code",
   "execution_count": 51,
   "metadata": {
    "hidden": true
   },
   "outputs": [
    {
     "name": "stdout",
     "output_type": "stream",
     "text": [
      "/n\n",
      "trim is LE\n",
      "12 ADAS features found\n",
      "/n\n",
      "trim is XLE’\n",
      "13 ADAS features found\n",
      "/n\n",
      "trim is XSE\n",
      "13 ADAS features found\n",
      "/n\n",
      "trim is Limited\n",
      "13 ADAS features found\n",
      "/n\n",
      "trim is Platinum\n",
      "15 ADAS features found\n"
     ]
    }
   ],
   "source": [
    "toyotadata('https://www.toyota.com/sienna/features/mileage_estimates/5402/5411/5419', 'Sienna', ['LE', 'XLE’', 'XSE',  'Limited', 'Platinum'], ['le', 'xle','xse', 'limited', 'platinum'], '2021', 'Van')"
   ]
  },
  {
   "cell_type": "code",
   "execution_count": 52,
   "metadata": {
    "hidden": true
   },
   "outputs": [
    {
     "name": "stdout",
     "output_type": "stream",
     "text": [
      "/n\n",
      "trim is SR\n",
      "7 ADAS features found\n",
      "/n\n",
      "trim is SR5\n",
      "7 ADAS features found\n",
      "/n\n",
      "trim is TRD Sport\n",
      "7 ADAS features found\n",
      "/n\n",
      "trim is TRD Off-Road\n",
      "7 ADAS features found\n",
      "/n\n",
      "trim is Limited\n",
      "11 ADAS features found\n",
      "/n\n",
      "trim is TRD Pro\n",
      "10 ADAS features found\n"
     ]
    }
   ],
   "source": [
    "toyotadata('https://www.toyota.com/tacoma/features/mpg/7594/7544/7582', 'Tacoma', ['SR', 'SR5', 'TRD Sport',  'TRD Off-Road', 'Limited', 'TRD Pro'], ['sr', 'sr5','trd_sport', 'trd_off_road', 'limited', 'trd_pro'], '2021', 'Pickup Truck')"
   ]
  },
  {
   "cell_type": "code",
   "execution_count": 53,
   "metadata": {
    "hidden": true
   },
   "outputs": [
    {
     "name": "stdout",
     "output_type": "stream",
     "text": [
      "/n\n",
      "trim is SR\n",
      "8 ADAS features found\n",
      "/n\n",
      "trim is SR5\n",
      "8 ADAS features found\n",
      "/n\n",
      "trim is Limited\n",
      "8 ADAS features found\n",
      "/n\n",
      "trim is Platinum\n",
      "11 ADAS features found\n",
      "/n\n",
      "trim is 1794 Edition\n",
      "11 ADAS features found\n",
      "/n\n",
      "trim is TRD Pro\n",
      "8 ADAS features found\n"
     ]
    }
   ],
   "source": [
    "toyotadata('https://www.toyota.com/tundra/features/mpg/8261/8252/8275', 'Tundra', ['SR', 'SR5', 'Limited', 'Platinum', '1794 Edition', 'TRD Pro'], ['sr', 'sr5','limited', 'platinum', '1794', 'trdpro'], '2021', 'Pickup Truck')"
   ]
  },
  {
   "cell_type": "code",
   "execution_count": 54,
   "metadata": {
    "hidden": true
   },
   "outputs": [
    {
     "name": "stdout",
     "output_type": "stream",
     "text": [
      "/n\n",
      "trim is LE\n",
      "13 ADAS features found\n",
      "/n\n",
      "trim is XLE\n",
      "13 ADAS features found\n",
      "/n\n",
      "trim is Limited\n",
      "14 ADAS features found\n"
     ]
    }
   ],
   "source": [
    "toyotadata('https://www.toyota.com/venza/features/mpg/2810/2820/2830', 'Venza', ['LE', 'XLE', 'Limited'], ['le', 'xle', 'limited'], '2021', 'SUV')"
   ]
  },
  {
   "cell_type": "code",
   "execution_count": 55,
   "metadata": {
    "hidden": true
   },
   "outputs": [
    {
     "name": "stdout",
     "output_type": "stream",
     "text": [
      "/n\n",
      "trim is LE\n",
      "10 ADAS features found\n",
      "/n\n",
      "trim is XLE\n",
      "12 ADAS features found\n",
      "/n\n",
      "trim is Nightshade Edition\n",
      "12 ADAS features found\n",
      "/n\n",
      "trim is Limited\n",
      "12 ADAS features found\n"
     ]
    }
   ],
   "source": [
    "toyotadata('https://www.toyota.com/c-hr/features/mpg/2402/2404/2405', 'C-HR', ['LE', 'XLE', 'Nightshade Edition', 'Limited'], ['le', 'xle', 'nightshade', 'limited'], '2021', 'SUV')"
   ]
  },
  {
   "cell_type": "code",
   "execution_count": 56,
   "metadata": {
    "hidden": true
   },
   "outputs": [
    {
     "name": "stdout",
     "output_type": "stream",
     "text": [
      "/n\n",
      "trim is Prime SE\n",
      "blind spot monitor is standard and is BSW\n",
      "pre-collision system is standard and is FCW\n",
      "pre-collision system with pedestrian detection is standard and is FCW\n",
      "toyota safety sense<sup>&trade;</sup></a> 2.0 is standard and is FCW\n",
      "tss 2.0 is standard and is FCW\n",
      "vehicle proximity notification system is standard and is PCW\n",
      "rear cross-traffic alert is standard and is RCTW\n",
      "pre-collision system with pedestrian detection is standard and is BAS\n",
      "brake assist is standard and is BAS\n",
      "toyota safety sense<sup>&trade;</sup></a> 2.0 is standard and is BAS\n",
      "tss 2.0 is standard and is BAS\n",
      "pre-collision system with pedestrian detection is standard and is AEB\n",
      "toyota safety sense<sup>&trade;</sup></a> 2.0 is standard and is AEB\n",
      "tss 2.0 is standard and is AEB\n",
      "dynamic radar cruise control is standard and is CC\n",
      "toyota safety sense<sup>&trade;</sup></a> 2.0 is standard and is CC\n",
      "tss 2.0 is standard and is CC\n",
      "cruise control is standard and is CC\n",
      "dynamic radar cruise control is standard and is ACC\n",
      "toyota safety sense<sup>&trade;</sup></a> 2.0 is standard and is ACC\n",
      "tss 2.0 is standard and is ACC\n",
      "lane departure alert with steering assist is standard and is LKA\n",
      "toyota safety sense<sup>&trade;</sup></a> 2.0 is standard and is LKA\n",
      "tss 2.0 is standard and is LKA\n",
      "lane departure alert is standard and is LKA\n",
      "lane tracing assist is standard and is ADA\n",
      "toyota safety sense<sup>&trade;</sup></a> 2.0 is standard and is ADA\n",
      "tss 2.0 is standard and is ADA\n",
      "backup camera is standard and is BC\n",
      "road sign assist is standard and is ISA/TSR\n",
      "tss 2.0 is standard and is ISA/TSR\n",
      "automatic high beams is standard and is AHB\n",
      "tss 2.0 is standard and is AHB\n",
      "13 ADAS features found\n",
      "/n\n",
      "trim is Prime XSE\n",
      "blind spot monitor is standard and is BSW\n",
      "color head-up display is optional and is HUD\n",
      "color head-up display is optional and is HUD\n",
      "color head-up display is optional and is HUD\n",
      "color head-up display is optional and is HUD\n",
      "pre-collision system is standard and is FCW\n",
      "pre-collision system with pedestrian detection is standard and is FCW\n",
      "toyota safety sense<sup>&trade;</sup></a> 2.0 is standard and is FCW\n",
      "tss 2.0 is standard and is FCW\n",
      "vehicle proximity notification system is standard and is PCW\n",
      "rear cross-traffic alert is standard and is RCTW\n",
      "front and rear parking assist is optional and is RCTW\n",
      "front and rear parking assist is optional and is RCTW\n",
      "front and rear parking assist is optional and is RCTW\n",
      "front and rear parking assist is optional and is RCTW\n",
      "pre-collision system with pedestrian detection is standard and is BAS\n",
      "brake assist is standard and is BAS\n",
      "toyota safety sense<sup>&trade;</sup></a> 2.0 is standard and is BAS\n",
      "tss 2.0 is standard and is BAS\n",
      "pre-collision system with pedestrian detection is standard and is AEB\n",
      "toyota safety sense<sup>&trade;</sup></a> 2.0 is standard and is AEB\n",
      "tss 2.0 is standard and is AEB\n",
      "dynamic radar cruise control is standard and is CC\n",
      "toyota safety sense<sup>&trade;</sup></a> 2.0 is standard and is CC\n",
      "tss 2.0 is standard and is CC\n",
      "cruise control is standard and is CC\n",
      "dynamic radar cruise control is standard and is ACC\n",
      "toyota safety sense<sup>&trade;</sup></a> 2.0 is standard and is ACC\n",
      "tss 2.0 is standard and is ACC\n",
      "lane departure alert with steering assist is standard and is LKA\n",
      "toyota safety sense<sup>&trade;</sup></a> 2.0 is standard and is LKA\n",
      "tss 2.0 is standard and is LKA\n",
      "lane departure alert is standard and is LKA\n",
      "lane tracing assist is standard and is ADA\n",
      "toyota safety sense<sup>&trade;</sup></a> 2.0 is standard and is ADA\n",
      "tss 2.0 is standard and is ADA\n",
      "backup camera is standard and is BC\n",
      "bird's eye view camera is optional and is SVC\n",
      "bird's eye view camera is optional and is SVC\n",
      "bird's eye view camera is optional and is SVC\n",
      "bird's eye view camera is optional and is SVC\n",
      "road sign assist is standard and is ISA/TSR\n",
      "tss 2.0 is standard and is ISA/TSR\n",
      "automatic high beams is standard and is AHB\n",
      "adaptive front-lighting system is optional and is AHB\n",
      "adaptive front-lighting system is optional and is AHB\n",
      "adaptive front-lighting system is optional and is AHB\n",
      "adaptive front-lighting system is optional and is AHB\n",
      "tss 2.0 is standard and is AHB\n",
      "13 ADAS features found\n"
     ]
    }
   ],
   "source": [
    "toyotadata('https://www.toyota.com/rav4prime/features/mpg/4544/4550', 'Rav4 Prime', ['Prime SE', 'Prime XSE'], ['prime_se', 'prime_xse'], '2021', 'SUV', printfeatures=True)"
   ]
  },
  {
   "cell_type": "code",
   "execution_count": 57,
   "metadata": {
    "hidden": true
   },
   "outputs": [
    {
     "name": "stdout",
     "output_type": "stream",
     "text": [
      "/n\n",
      "trim is LE\n",
      "10 ADAS features found\n",
      "/n\n",
      "trim is LE Hybrid\n",
      "11 ADAS features found\n",
      "/n\n",
      "trim is XLE\n",
      "12 ADAS features found\n",
      "/n\n",
      "trim is XLE Hybrid\n",
      "13 ADAS features found\n",
      "/n\n",
      "trim is XLE Premium\n",
      "12 ADAS features found\n",
      "/n\n",
      "trim is XLE Premium Hybrid\n",
      "13 ADAS features found\n",
      "/n\n",
      "trim is Adventure\n",
      "13 ADAS features found\n",
      "/n\n",
      "trim is TRD Off-Road\n",
      "13 ADAS features found\n",
      "/n\n",
      "trim is XSE Hybrid\n",
      "13 ADAS features found\n",
      "/n\n",
      "trim is Limited\n",
      "14 ADAS features found\n",
      "/n\n",
      "trim is Limited Hybrid\n",
      "13 ADAS features found\n"
     ]
    }
   ],
   "source": [
    "toyotadata('https://www.toyota.com/rav4/features/mpg/4450', 'Rav4', ['LE', 'LE Hybrid', 'XLE', 'XLE Hybrid','XLE Premium', 'XLE Premium Hybrid', 'Adventure', 'TRD Off-Road',  'XSE Hybrid', 'Limited', 'Limited Hybrid'], ['le', 'le-hybrid', 'xle', 'xle-hybrid', 'xle_premium', 'xle-premium-hybrid',  'adventure', 'trd_off_road',  'xse-hybrid','limited', 'limited-hybrid'], '2021', 'SUV')"
   ]
  },
  {
   "cell_type": "code",
   "execution_count": 58,
   "metadata": {
    "hidden": true
   },
   "outputs": [
    {
     "name": "stdout",
     "output_type": "stream",
     "text": [
      "/n\n",
      "trim is L\n",
      "11 ADAS features found\n",
      "/n\n",
      "trim is LE\n",
      "11 ADAS features found\n",
      "/n\n",
      "trim is Hybrid LE\n",
      "10 ADAS features found\n",
      "/n\n",
      "trim is XLE\n",
      "11 ADAS features found\n",
      "/n\n",
      "trim is XLE Hybrid\n",
      "10 ADAS features found\n",
      "/n\n",
      "trim is XSE\n",
      "11 ADAS features found\n",
      "/n\n",
      "trim is Limited\n",
      "13 ADAS features found\n",
      "/n\n",
      "trim is Hybrid Limited\n",
      "12 ADAS features found\n",
      "/n\n",
      "trim is Platinum\n",
      "15 ADAS features found\n",
      "/n\n",
      "trim is Hybrid Platinum\n",
      "14 ADAS features found\n"
     ]
    }
   ],
   "source": [
    "toyotadata('https://www.toyota.com/highlander/features/mileage_estimates/6964/6953/6961', 'Highlander', ['L', 'LE', 'Hybrid LE', 'XLE', 'XLE Hybrid', 'XSE', 'Limited', 'Hybrid Limited', 'Platinum', 'Hybrid Platinum'], ['l', 'le', 'hybrid-le',  'xle', 'hybrid-xle', 'xse', 'limited', 'hybrid-limited', 'platinum', 'hybrid-platinum'], '2021', 'SUV')\n"
   ]
  },
  {
   "cell_type": "code",
   "execution_count": 59,
   "metadata": {
    "hidden": true
   },
   "outputs": [
    {
     "name": "stdout",
     "output_type": "stream",
     "text": [
      "/n\n",
      "trim is SR5\n",
      "9 ADAS features found\n",
      "/n\n",
      "trim is Trial Special Edition\n",
      "9 ADAS features found\n",
      "/n\n",
      "trim is SR5 Premium\n",
      "9 ADAS features found\n",
      "/n\n",
      "trim is TRD Off-Road\n",
      "8 ADAS features found\n",
      "/n\n",
      "trim is TRD Off-Road Premium\n",
      "8 ADAS features found\n",
      "/n\n",
      "trim is Venture Special Edition\n",
      "8 ADAS features found\n",
      "/n\n",
      "trim is Limited\n",
      "11 ADAS features found\n",
      "/n\n",
      "trim is Nightshade Special Edition\n",
      "11 ADAS features found\n",
      "/n\n",
      "trim is TRD Pro\n",
      "8 ADAS features found\n"
     ]
    }
   ],
   "source": [
    "toyotadata('https://www.toyota.com/4runner/features/mileage_estimates/8664/8666/8667/', '4Runner', ['SR5', 'Trial Special Edition', 'SR5 Premium', 'TRD Off-Road', 'TRD Off-Road Premium', 'Venture Special Edition', 'Limited', 'Nightshade Special Edition', 'TRD Pro'], ['sr5', 'trail_special_edition', 'sr5_premium', 'trd_off_road', 'trd_off_road_premium', 'venture_edition', 'limited', 'limited_nightshade', 'trd_pro'], '2021', 'SUV')"
   ]
  },
  {
   "cell_type": "code",
   "execution_count": 60,
   "metadata": {
    "hidden": true
   },
   "outputs": [
    {
     "name": "stdout",
     "output_type": "stream",
     "text": [
      "/n\n",
      "trim is SR5\n",
      "10 ADAS features found\n",
      "/n\n",
      "trim is TRD Sport\n",
      "10 ADAS features found\n",
      "/n\n",
      "trim is Limited\n",
      "10 ADAS features found\n",
      "/n\n",
      "trim is Nightshade Special Edition\n",
      "10 ADAS features found\n",
      "/n\n",
      "trim is Platinum\n",
      "10 ADAS features found\n",
      "/n\n",
      "trim is TRD Pro\n",
      "10 ADAS features found\n"
     ]
    }
   ],
   "source": [
    "toyotadata('https://www.toyota.com/sequoia/features/mpg/7917/7921/7927', 'Sequoia', ['SR5', 'TRD Sport', 'Limited', 'Nightshade Special Edition', 'Platinum', 'TRD Pro'], ['sr5', 'trd_sport', 'limited', 'nightshade_special_edition', 'platinum', 'trd_pro'], '2021', 'SUV')\n"
   ]
  },
  {
   "cell_type": "code",
   "execution_count": 61,
   "metadata": {
    "hidden": true
   },
   "outputs": [
    {
     "name": "stdout",
     "output_type": "stream",
     "text": [
      "/n\n",
      "trim is Land Cruiser\n",
      "12 ADAS features found\n",
      "/n\n",
      "trim is Heritage Edition\n",
      "12 ADAS features found\n"
     ]
    }
   ],
   "source": [
    "toyotadata('https://www.toyota.com/landcruiser/features/mpg/6156/6157', 'Land Cruiser', ['Land Cruiser', 'Heritage Edition'], ['landcruiser', 'heritage_edition'], '2021', 'SUV')"
   ]
  },
  {
   "cell_type": "markdown",
   "metadata": {
    "heading_collapsed": true
   },
   "source": [
    "# Honda"
   ]
  },
  {
   "cell_type": "code",
   "execution_count": 99,
   "metadata": {
    "collapsed": true,
    "hidden": true
   },
   "outputs": [
    {
     "name": "stdout",
     "output_type": "stream",
     "text": [
      "trim is LX\n",
      "From website https://automobiles.honda.com/hr-v/specs-features-trim-comparison#\n",
      "                                      <label for=\"trims-1\">\n",
      "                                        \n",
      "Trim num = 1\n",
      "multi-angle rearview camera is standard and is BC\n",
      "brake assist is standard and is BAS\n",
      "cruise control is standard and is CC\n",
      "3 ADAS features found\n",
      "trim is Sport\n",
      "From website https://automobiles.honda.com/hr-v/specs-features-trim-comparison#\n",
      "                                      <label for=\"trims-2\">\n",
      "                                        \n",
      "Trim num = 2\n",
      "multi-angle rearview camera is standard and is BC\n",
      "brake assist is standard and is BAS\n",
      "cruise control is standard and is CC\n",
      "3 ADAS features found\n",
      "trim is EX\n",
      "From website https://automobiles.honda.com/hr-v/specs-features-trim-comparison#\n",
      "                                      <label for=\"trims-3\">\n",
      "                                        \n",
      "Trim num = 3\n",
      "forward collision warning is standard and is FCW\n",
      "multi-angle rearview camera is standard and is BC\n",
      "honda lanewatch is standard and is BSW\n",
      "collision mitigation braking system is standard and is BAS\n",
      "brake assist is standard and is BAS\n",
      "collision mitigation braking system is standard and is AEB\n",
      "adaptive cruise control is standard and is CC\n",
      "cruise control is standard and is CC\n",
      "adaptive cruise control is standard and is ACC\n",
      "lane keeping assist system is standard and is LKA\n",
      "road departure mitigation system is standard and is LKA\n",
      "road departure mitigation is standard and is LKA\n",
      "lane keeping assist system is standard and is ADA\n",
      "auto high-beam headlights is standard and is AHB\n",
      "10 ADAS features found\n",
      "trim is EX-L\n",
      "From website https://automobiles.honda.com/hr-v/specs-features-trim-comparison#\n",
      "                                      <label for=\"trims-4\">\n",
      "                                        \n",
      "Trim num = 4\n",
      "forward collision warning is standard and is FCW\n",
      "multi-angle rearview camera is standard and is BC\n",
      "honda lanewatch is standard and is BSW\n",
      "collision mitigation braking system is standard and is BAS\n",
      "brake assist is standard and is BAS\n",
      "collision mitigation braking system is standard and is AEB\n",
      "adaptive cruise control is standard and is CC\n",
      "cruise control is standard and is CC\n",
      "adaptive cruise control is standard and is ACC\n",
      "lane keeping assist system is standard and is LKA\n",
      "road departure mitigation system is standard and is LKA\n",
      "road departure mitigation is standard and is LKA\n",
      "lane keeping assist system is standard and is ADA\n",
      "auto high-beam headlights is standard and is AHB\n",
      "10 ADAS features found\n"
     ]
    }
   ],
   "source": [
    "modeloutput(\"https://automobiles.honda.com/hr-v/specs-features-trim-comparison#\", 'Honda', 'HR-V', ['LX', 'Sport', 'EX', 'EX-L'] , '2021', 'SUV')"
   ]
  },
  {
   "cell_type": "code",
   "execution_count": 100,
   "metadata": {
    "collapsed": true,
    "hidden": true
   },
   "outputs": [
    {
     "name": "stdout",
     "output_type": "stream",
     "text": [
      "trim is LX\n",
      "From website https://automobiles.honda.com/cr-v/specs-features-trim-comparison\n",
      "                                      <label for=\"trims-1\">\n",
      "                                        \n",
      "Trim num = 1\n",
      "forward collision warning is standard and is FCW\n",
      "multi-angle rearview camera is standard and is BC\n",
      "collision mitigation braking system is standard and is BAS\n",
      "brake assist is standard and is BAS\n",
      "collision mitigation braking system is standard and is AEB\n",
      "adaptive cruise control is standard and is CC\n",
      "cruise control is standard and is CC\n",
      "adaptive cruise control is standard and is ACC\n",
      "lane keeping assist system is standard and is LKA\n",
      "road departure mitigation system is standard and is LKA\n",
      "road departure mitigation is standard and is LKA\n",
      "lane keeping assist system is standard and is ADA\n",
      "auto high-beam headlights is standard and is AHB\n",
      "9 ADAS features found\n",
      "trim is Special Edition\n",
      "From website https://automobiles.honda.com/cr-v/specs-features-trim-comparison\n",
      "                                      <label for=\"trims-2\">\n",
      "                                        \n",
      "Trim num = 2\n",
      "forward collision warning is standard and is FCW\n",
      "multi-angle rearview camera is standard and is BC\n",
      "collision mitigation braking system is standard and is BAS\n",
      "brake assist is standard and is BAS\n",
      "collision mitigation braking system is standard and is AEB\n",
      "adaptive cruise control is standard and is CC\n",
      "cruise control is standard and is CC\n",
      "adaptive cruise control is standard and is ACC\n",
      "lane keeping assist system is standard and is LKA\n",
      "road departure mitigation system is standard and is LKA\n",
      "road departure mitigation is standard and is LKA\n",
      "lane keeping assist system is standard and is ADA\n",
      "auto high-beam headlights is standard and is AHB\n",
      "9 ADAS features found\n",
      "trim is EX\n",
      "From website https://automobiles.honda.com/cr-v/specs-features-trim-comparison\n",
      "                                      <label for=\"trims-3\">\n",
      "                                        \n",
      "Trim num = 3\n",
      "forward collision warning is standard and is FCW\n",
      "multi-angle rearview camera is standard and is BC\n",
      "blind spot information is standard and is BSW\n",
      "blind spot information system is standard and is BSW\n",
      "blind spot information system (bsi) with cross traffic monitor is standard and is BSW\n",
      "acoustic vehicle alerting system is standard and is PCW\n",
      "cross traffic monitor is standard and is RCTW\n",
      "blind spot information system (bsi) with cross traffic monitor is standard and is RCTW\n",
      "collision mitigation braking system is standard and is BAS\n",
      "brake assist is standard and is BAS\n",
      "collision mitigation braking system is standard and is AEB\n",
      "adaptive cruise control is standard and is CC\n",
      "cruise control is standard and is CC\n",
      "adaptive cruise control is standard and is ACC\n",
      "lane keeping assist system is standard and is LKA\n",
      "road departure mitigation system is standard and is LKA\n",
      "road departure mitigation is standard and is LKA\n",
      "lane keeping assist system is standard and is ADA\n",
      "auto high-beam headlights is standard and is AHB\n",
      "12 ADAS features found\n",
      "trim is EX-L\n",
      "From website https://automobiles.honda.com/cr-v/specs-features-trim-comparison\n",
      "                                      <label for=\"trims-4\">\n",
      "                                        \n",
      "Trim num = 4\n",
      "forward collision warning is standard and is FCW\n",
      "multi-angle rearview camera is standard and is BC\n",
      "blind spot information is standard and is BSW\n",
      "blind spot information system is standard and is BSW\n",
      "blind spot information system (bsi) with cross traffic monitor is standard and is BSW\n",
      "acoustic vehicle alerting system is standard and is PCW\n",
      "cross traffic monitor is standard and is RCTW\n",
      "blind spot information system (bsi) with cross traffic monitor is standard and is RCTW\n",
      "collision mitigation braking system is standard and is BAS\n",
      "brake assist is standard and is BAS\n",
      "collision mitigation braking system is standard and is AEB\n",
      "adaptive cruise control is standard and is CC\n",
      "cruise control is standard and is CC\n",
      "adaptive cruise control is standard and is ACC\n",
      "lane keeping assist system is standard and is LKA\n",
      "road departure mitigation system is standard and is LKA\n",
      "road departure mitigation is standard and is LKA\n",
      "lane keeping assist system is standard and is ADA\n",
      "auto high-beam headlights is standard and is AHB\n",
      "12 ADAS features found\n",
      "trim is Touring\n",
      "From website https://automobiles.honda.com/cr-v/specs-features-trim-comparison\n",
      "                                      <label for=\"trims-5\">\n",
      "                                        \n",
      "Trim num = 5\n",
      "forward collision warning is standard and is FCW\n",
      "multi-angle rearview camera is standard and is BC\n",
      "blind spot information is standard and is BSW\n",
      "blind spot information system is standard and is BSW\n",
      "blind spot information system (bsi) with cross traffic monitor is standard and is BSW\n",
      "acoustic vehicle alerting system is standard and is PCW\n",
      "parking sensors is standard and is PCW\n",
      "cross traffic monitor is standard and is RCTW\n",
      "blind spot information system (bsi) with cross traffic monitor is standard and is RCTW\n",
      "collision mitigation braking system is standard and is BAS\n",
      "brake assist is standard and is BAS\n",
      "collision mitigation braking system is standard and is AEB\n",
      "adaptive cruise control is standard and is CC\n",
      "cruise control is standard and is CC\n",
      "adaptive cruise control is standard and is ACC\n",
      "lane keeping assist system is standard and is LKA\n",
      "road departure mitigation system is standard and is LKA\n",
      "road departure mitigation is standard and is LKA\n",
      "lane keeping assist system is standard and is ADA\n",
      "auto high-beam headlights is standard and is AHB\n",
      "12 ADAS features found\n"
     ]
    }
   ],
   "source": [
    "modeloutput(\"https://automobiles.honda.com/cr-v/specs-features-trim-comparison\", 'Honda', 'CR-V', ['LX', 'Special Edition', 'EX', 'EX-L', 'Touring'] , '2021', 'SUV')"
   ]
  },
  {
   "cell_type": "code",
   "execution_count": 101,
   "metadata": {
    "collapsed": true,
    "hidden": true
   },
   "outputs": [
    {
     "name": "stdout",
     "output_type": "stream",
     "text": [
      "trim is LX\n",
      "From website https://automobiles.honda.com/pilot/specs-features-trim-comparison\n",
      "                                      <label for=\"trims-1\">\n",
      "                                        \n",
      "Trim num = 1\n",
      "forward collision warning is standard and is FCW\n",
      "multi-angle rearview camera is standard and is BC\n",
      "collision mitigation braking system is standard and is BAS\n",
      "brake assist is standard and is BAS\n",
      "collision mitigation braking system is standard and is AEB\n",
      "adaptive cruise control is standard and is CC\n",
      "cruise control is standard and is CC\n",
      "adaptive cruise control is standard and is ACC\n",
      "lane keeping assist system is standard and is LKA\n",
      "road departure mitigation system is standard and is LKA\n",
      "road departure mitigation is standard and is LKA\n",
      "lane keeping assist system is standard and is ADA\n",
      "auto high-beam headlights is standard and is AHB\n",
      "9 ADAS features found\n",
      "trim is EX\n",
      "From website https://automobiles.honda.com/pilot/specs-features-trim-comparison\n",
      "                                      <label for=\"trims-2\">\n",
      "                                        \n",
      "Trim num = 2\n",
      "forward collision warning is standard and is FCW\n",
      "multi-angle rearview camera is standard and is BC\n",
      "blind spot information is standard and is BSW\n",
      "blind spot information system is standard and is BSW\n",
      "blind spot information system (bsi) with cross traffic monitor is standard and is BSW\n",
      "cross traffic monitor is standard and is RCTW\n",
      "blind spot information system (bsi) with cross traffic monitor is standard and is RCTW\n",
      "collision mitigation braking system is standard and is BAS\n",
      "brake assist is standard and is BAS\n",
      "collision mitigation braking system is standard and is AEB\n",
      "adaptive cruise control is standard and is CC\n",
      "cruise control is standard and is CC\n",
      "adaptive cruise control is standard and is ACC\n",
      "lane keeping assist system is standard and is LKA\n",
      "road departure mitigation system is standard and is LKA\n",
      "road departure mitigation is standard and is LKA\n",
      "lane keeping assist system is standard and is ADA\n",
      "auto high-beam headlights is standard and is AHB\n",
      "11 ADAS features found\n",
      "trim is EX-L\n",
      "From website https://automobiles.honda.com/pilot/specs-features-trim-comparison\n",
      "                                      <label for=\"trims-3\">\n",
      "                                        \n",
      "Trim num = 3\n",
      "forward collision warning is standard and is FCW\n",
      "multi-angle rearview camera is standard and is BC\n",
      "blind spot information is standard and is BSW\n",
      "blind spot information system is standard and is BSW\n",
      "blind spot information system (bsi) with cross traffic monitor is standard and is BSW\n",
      "cross traffic monitor is standard and is RCTW\n",
      "blind spot information system (bsi) with cross traffic monitor is standard and is RCTW\n",
      "collision mitigation braking system is standard and is BAS\n",
      "brake assist is standard and is BAS\n",
      "collision mitigation braking system is standard and is AEB\n",
      "adaptive cruise control is standard and is CC\n",
      "cruise control is standard and is CC\n",
      "adaptive cruise control is standard and is ACC\n",
      "lane keeping assist system is standard and is LKA\n",
      "road departure mitigation system is standard and is LKA\n",
      "road departure mitigation is standard and is LKA\n",
      "lane keeping assist system is standard and is ADA\n",
      "auto high-beam headlights is standard and is AHB\n",
      "11 ADAS features found\n",
      "trim is Special Edition\n",
      "From website https://automobiles.honda.com/pilot/specs-features-trim-comparison\n",
      "                                      <label for=\"trims-4\">\n",
      "                                        \n",
      "Trim num = 4\n",
      "forward collision warning is standard and is FCW\n",
      "multi-angle rearview camera is standard and is BC\n",
      "blind spot information is standard and is BSW\n",
      "blind spot information system is standard and is BSW\n",
      "blind spot information system (bsi) with cross traffic monitor is standard and is BSW\n",
      "cross traffic monitor is standard and is RCTW\n",
      "blind spot information system (bsi) with cross traffic monitor is standard and is RCTW\n",
      "collision mitigation braking system is standard and is BAS\n",
      "brake assist is standard and is BAS\n",
      "collision mitigation braking system is standard and is AEB\n",
      "adaptive cruise control is standard and is CC\n",
      "cruise control is standard and is CC\n",
      "adaptive cruise control is standard and is ACC\n",
      "lane keeping assist system is standard and is LKA\n",
      "road departure mitigation system is standard and is LKA\n",
      "road departure mitigation is standard and is LKA\n",
      "lane keeping assist system is standard and is ADA\n",
      "auto high-beam headlights is standard and is AHB\n",
      "11 ADAS features found\n",
      "trim is Touring\n",
      "From website https://automobiles.honda.com/pilot/specs-features-trim-comparison\n",
      "                                      <label for=\"trims-5\">\n",
      "                                        \n",
      "Trim num = 5\n",
      "forward collision warning is standard and is FCW\n",
      "multi-angle rearview camera is standard and is BC\n",
      "blind spot information is standard and is BSW\n",
      "blind spot information system is standard and is BSW\n",
      "blind spot information system (bsi) with cross traffic monitor is standard and is BSW\n",
      "parking sensors is standard and is PCW\n",
      "cross traffic monitor is standard and is RCTW\n",
      "blind spot information system (bsi) with cross traffic monitor is standard and is RCTW\n",
      "collision mitigation braking system is standard and is BAS\n",
      "brake assist is standard and is BAS\n",
      "collision mitigation braking system is standard and is AEB\n",
      "adaptive cruise control is standard and is CC\n",
      "cruise control is standard and is CC\n",
      "adaptive cruise control is standard and is ACC\n",
      "lane keeping assist system is standard and is LKA\n",
      "road departure mitigation system is standard and is LKA\n",
      "road departure mitigation is standard and is LKA\n",
      "lane keeping assist system is standard and is ADA\n",
      "auto high-beam headlights is standard and is AHB\n",
      "12 ADAS features found\n",
      "trim is Elite\n",
      "From website https://automobiles.honda.com/pilot/specs-features-trim-comparison\n",
      "                                      <label for=\"trims-6\">\n",
      "                                        \n",
      "Trim num = 6\n",
      "forward collision warning is standard and is FCW\n",
      "multi-angle rearview camera is standard and is BC\n",
      "blind spot information is standard and is BSW\n",
      "blind spot information system is standard and is BSW\n",
      "blind spot information system (bsi) with cross traffic monitor is standard and is BSW\n",
      "parking sensors is standard and is PCW\n",
      "cross traffic monitor is standard and is RCTW\n",
      "blind spot information system (bsi) with cross traffic monitor is standard and is RCTW\n",
      "collision mitigation braking system is standard and is BAS\n",
      "brake assist is standard and is BAS\n",
      "collision mitigation braking system is standard and is AEB\n",
      "adaptive cruise control is standard and is CC\n",
      "cruise control is standard and is CC\n",
      "adaptive cruise control is standard and is ACC\n",
      "lane keeping assist system is standard and is LKA\n",
      "road departure mitigation system is standard and is LKA\n",
      "road departure mitigation is standard and is LKA\n",
      "lane keeping assist system is standard and is ADA\n",
      "auto high-beam headlights is standard and is AHB\n",
      "12 ADAS features found\n",
      "trim is Black Edition\n",
      "From website https://automobiles.honda.com/pilot/specs-features-trim-comparison\n",
      "                                      <label for=\"trims-7\">\n",
      "                                        \n",
      "Trim num = 7\n",
      "forward collision warning is standard and is FCW\n",
      "multi-angle rearview camera is standard and is BC\n",
      "blind spot information is standard and is BSW\n",
      "blind spot information system is standard and is BSW\n",
      "blind spot information system (bsi) with cross traffic monitor is standard and is BSW\n",
      "parking sensors is standard and is PCW\n",
      "cross traffic monitor is standard and is RCTW\n",
      "blind spot information system (bsi) with cross traffic monitor is standard and is RCTW\n",
      "collision mitigation braking system is standard and is BAS\n",
      "brake assist is standard and is BAS\n",
      "collision mitigation braking system is standard and is AEB\n",
      "adaptive cruise control is standard and is CC\n",
      "cruise control is standard and is CC\n",
      "adaptive cruise control is standard and is ACC\n",
      "lane keeping assist system is standard and is LKA\n",
      "road departure mitigation system is standard and is LKA\n",
      "road departure mitigation is standard and is LKA\n",
      "lane keeping assist system is standard and is ADA\n",
      "auto high-beam headlights is standard and is AHB\n",
      "12 ADAS features found\n"
     ]
    }
   ],
   "source": [
    "modeloutput(\"https://automobiles.honda.com/pilot/specs-features-trim-comparison\", 'Honda', 'Pilot', ['LX', 'EX', 'EX-L',  'Special Edition', 'Touring', 'Elite', 'Black Edition'] , '2021', 'SUV')"
   ]
  },
  {
   "cell_type": "code",
   "execution_count": 102,
   "metadata": {
    "collapsed": true,
    "hidden": true
   },
   "outputs": [
    {
     "name": "stdout",
     "output_type": "stream",
     "text": [
      "trim is Sport\n",
      "From website https://automobiles.honda.com/passport/specs-features-trim-comparison\n",
      "                                      <label for=\"trims-1\">\n",
      "                                        \n",
      "Trim num = 1\n",
      "forward collision warning is standard and is FCW\n",
      "multi-angle rearview camera is standard and is BC\n",
      "collision mitigation braking system is standard and is BAS\n",
      "brake assist is standard and is BAS\n",
      "collision mitigation braking system is standard and is AEB\n",
      "adaptive cruise control is standard and is CC\n",
      "cruise control is standard and is CC\n",
      "adaptive cruise control is standard and is ACC\n",
      "lane keeping assist system is standard and is LKA\n",
      "road departure mitigation system is standard and is LKA\n",
      "road departure mitigation is standard and is LKA\n",
      "lane keeping assist system is standard and is ADA\n",
      "auto high-beam headlights is standard and is AHB\n",
      "9 ADAS features found\n",
      "trim is EX-L\n",
      "From website https://automobiles.honda.com/passport/specs-features-trim-comparison\n",
      "                                      <label for=\"trims-2\">\n",
      "                                        \n",
      "Trim num = 2\n",
      "forward collision warning is standard and is FCW\n",
      "multi-angle rearview camera is standard and is BC\n",
      "blind spot information is standard and is BSW\n",
      "blind spot information system is standard and is BSW\n",
      "blind spot information system (bsi) with cross traffic monitor is standard and is BSW\n",
      "cross traffic monitor is standard and is RCTW\n",
      "blind spot information system (bsi) with cross traffic monitor is standard and is RCTW\n",
      "collision mitigation braking system is standard and is BAS\n",
      "brake assist is standard and is BAS\n",
      "collision mitigation braking system is standard and is AEB\n",
      "adaptive cruise control is standard and is CC\n",
      "cruise control is standard and is CC\n",
      "adaptive cruise control is standard and is ACC\n",
      "lane keeping assist system is standard and is LKA\n",
      "road departure mitigation system is standard and is LKA\n",
      "road departure mitigation is standard and is LKA\n",
      "lane keeping assist system is standard and is ADA\n",
      "auto high-beam headlights is standard and is AHB\n",
      "11 ADAS features found\n",
      "trim is Touring\n",
      "From website https://automobiles.honda.com/passport/specs-features-trim-comparison\n",
      "                                      <label for=\"trims-3\">\n",
      "                                        \n",
      "Trim num = 3\n",
      "forward collision warning is standard and is FCW\n",
      "multi-angle rearview camera is standard and is BC\n",
      "blind spot information is standard and is BSW\n",
      "blind spot information system is standard and is BSW\n",
      "blind spot information system (bsi) with cross traffic monitor is standard and is BSW\n",
      "parking sensors is standard and is PCW\n",
      "cross traffic monitor is standard and is RCTW\n",
      "blind spot information system (bsi) with cross traffic monitor is standard and is RCTW\n",
      "collision mitigation braking system is standard and is BAS\n",
      "brake assist is standard and is BAS\n",
      "collision mitigation braking system is standard and is AEB\n",
      "adaptive cruise control is standard and is CC\n",
      "cruise control is standard and is CC\n",
      "adaptive cruise control is standard and is ACC\n",
      "lane keeping assist system is standard and is LKA\n",
      "road departure mitigation system is standard and is LKA\n",
      "road departure mitigation is standard and is LKA\n",
      "lane keeping assist system is standard and is ADA\n",
      "auto high-beam headlights is standard and is AHB\n",
      "12 ADAS features found\n",
      "trim is Elite\n",
      "From website https://automobiles.honda.com/passport/specs-features-trim-comparison\n",
      "                                      <label for=\"trims-4\">\n",
      "                                        \n",
      "Trim num = 4\n",
      "forward collision warning is standard and is FCW\n",
      "multi-angle rearview camera is standard and is BC\n",
      "blind spot information is standard and is BSW\n",
      "blind spot information system is standard and is BSW\n",
      "blind spot information system (bsi) with cross traffic monitor is standard and is BSW\n",
      "parking sensors is standard and is PCW\n",
      "cross traffic monitor is standard and is RCTW\n",
      "blind spot information system (bsi) with cross traffic monitor is standard and is RCTW\n",
      "collision mitigation braking system is standard and is BAS\n",
      "brake assist is standard and is BAS\n",
      "collision mitigation braking system is standard and is AEB\n",
      "adaptive cruise control is standard and is CC\n",
      "cruise control is standard and is CC\n",
      "adaptive cruise control is standard and is ACC\n",
      "lane keeping assist system is standard and is LKA\n",
      "road departure mitigation system is standard and is LKA\n",
      "road departure mitigation is standard and is LKA\n",
      "lane keeping assist system is standard and is ADA\n",
      "auto high-beam headlights is standard and is AHB\n",
      "12 ADAS features found\n"
     ]
    }
   ],
   "source": [
    "modeloutput(\"https://automobiles.honda.com/passport/specs-features-trim-comparison\", 'Honda', 'Passport', ['Sport','EX-L', 'Touring','Elite'] , '2021', 'SUV')"
   ]
  },
  {
   "cell_type": "code",
   "execution_count": 103,
   "metadata": {
    "collapsed": true,
    "hidden": true
   },
   "outputs": [
    {
     "name": "stdout",
     "output_type": "stream",
     "text": [
      "trim is LX\n",
      "From website https://automobiles.honda.com/civic-sedan/specs-features-trim-comparison\n",
      "                                      <label for=\"trims-1\">\n",
      "                                        \n",
      "Trim num = 1\n",
      "forward collision warning is standard and is FCW\n",
      "multi-angle rearview camera is standard and is BC\n",
      "collision mitigation braking system is standard and is BAS\n",
      "brake assist is standard and is BAS\n",
      "collision mitigation braking system is standard and is AEB\n",
      "adaptive cruise control is standard and is CC\n",
      "cruise control is standard and is CC\n",
      "adaptive cruise control is standard and is ACC\n",
      "lane keeping assist system is standard and is LKA\n",
      "road departure mitigation system is standard and is LKA\n",
      "road departure mitigation is standard and is LKA\n",
      "lane keeping assist system is standard and is ADA\n",
      "traffic jam assist is standard and is ADA\n",
      "traffic sign recognition is standard and is ISA/TSR\n",
      "auto high-beam headlights is standard and is AHB\n",
      "10 ADAS features found\n",
      "trim is Sport\n",
      "From website https://automobiles.honda.com/civic-sedan/specs-features-trim-comparison\n",
      "                                      <label for=\"trims-2\">\n",
      "                                        \n",
      "Trim num = 2\n",
      "forward collision warning is standard and is FCW\n",
      "multi-angle rearview camera is standard and is BC\n",
      "collision mitigation braking system is standard and is BAS\n",
      "brake assist is standard and is BAS\n",
      "collision mitigation braking system is standard and is AEB\n",
      "adaptive cruise control is standard and is CC\n",
      "cruise control is standard and is CC\n",
      "adaptive cruise control is standard and is ACC\n",
      "lane keeping assist system is standard and is LKA\n",
      "road departure mitigation system is standard and is LKA\n",
      "road departure mitigation is standard and is LKA\n",
      "lane keeping assist system is standard and is ADA\n",
      "traffic jam assist is standard and is ADA\n",
      "traffic sign recognition is standard and is ISA/TSR\n",
      "auto high-beam headlights is standard and is AHB\n",
      "10 ADAS features found\n",
      "trim is EX\n",
      "From website https://automobiles.honda.com/civic-sedan/specs-features-trim-comparison\n",
      "                                      <label for=\"trims-3\">\n",
      "                                        \n",
      "Trim num = 3\n",
      "forward collision warning is standard and is FCW\n",
      "multi-angle rearview camera is standard and is BC\n",
      "blind spot information is standard and is BSW\n",
      "blind spot information system is standard and is BSW\n",
      "collision mitigation braking system is standard and is BAS\n",
      "brake assist is standard and is BAS\n",
      "collision mitigation braking system is standard and is AEB\n",
      "adaptive cruise control is standard and is CC\n",
      "cruise control is standard and is CC\n",
      "adaptive cruise control is standard and is ACC\n",
      "lane keeping assist system is standard and is LKA\n",
      "road departure mitigation system is standard and is LKA\n",
      "road departure mitigation is standard and is LKA\n",
      "lane keeping assist system is standard and is ADA\n",
      "traffic jam assist is standard and is ADA\n",
      "traffic sign recognition is standard and is ISA/TSR\n",
      "auto high-beam headlights is standard and is AHB\n",
      "11 ADAS features found\n",
      "trim is Touring\n",
      "From website https://automobiles.honda.com/civic-sedan/specs-features-trim-comparison\n",
      "                                      <label for=\"trims-4\">\n",
      "                                        \n",
      "Trim num = 4\n",
      "forward collision warning is standard and is FCW\n",
      "multi-angle rearview camera is standard and is BC\n",
      "blind spot information is standard and is BSW\n",
      "blind spot information system is standard and is BSW\n",
      "parking sensors is standard and is PCW\n",
      "cross traffic monitor is standard and is RCTW\n",
      "collision mitigation braking system is standard and is BAS\n",
      "brake assist is standard and is BAS\n",
      "collision mitigation braking system is standard and is AEB\n",
      "low-speed braking control is standard and is AEB\n",
      "adaptive cruise control is standard and is CC\n",
      "cruise control is standard and is CC\n",
      "adaptive cruise control is standard and is ACC\n",
      "lane keeping assist system is standard and is LKA\n",
      "road departure mitigation system is standard and is LKA\n",
      "road departure mitigation is standard and is LKA\n",
      "lane keeping assist system is standard and is ADA\n",
      "traffic jam assist is standard and is ADA\n",
      "traffic sign recognition is standard and is ISA/TSR\n",
      "auto high-beam headlights is standard and is AHB\n",
      "13 ADAS features found\n"
     ]
    }
   ],
   "source": [
    "modeloutput(\"https://automobiles.honda.com/civic-sedan/specs-features-trim-comparison\", 'Honda', 'Civic', ['LX', 'Sport','EX', 'Touring'] , '2021', 'Sedan')"
   ]
  },
  {
   "cell_type": "code",
   "execution_count": 104,
   "metadata": {
    "collapsed": true,
    "hidden": true
   },
   "outputs": [
    {
     "name": "stdout",
     "output_type": "stream",
     "text": [
      "trim is LX\n",
      "From website https://automobiles.honda.com/accord-sedan/specs-features-trim-comparison\n",
      "                                      <label for=\"trims-1\">\n",
      "                                        \n",
      "Trim num = 1\n",
      "forward collision warning is standard and is FCW\n",
      "multi-angle rearview camera is standard and is BC\n",
      "collision mitigation braking system is standard and is BAS\n",
      "brake assist is standard and is BAS\n",
      "collision mitigation braking system is standard and is AEB\n",
      "adaptive cruise control is standard and is CC\n",
      "cruise control is standard and is CC\n",
      "adaptive cruise control is standard and is ACC\n",
      "lane keeping assist system is standard and is LKA\n",
      "road departure mitigation system is standard and is LKA\n",
      "road departure mitigation is standard and is LKA\n",
      "lane keeping assist system is standard and is ADA\n",
      "traffic sign recognition is standard and is ISA/TSR\n",
      "auto high-beam headlights is standard and is AHB\n",
      "10 ADAS features found\n",
      "trim is Hybrid\n",
      "From website https://automobiles.honda.com/accord-sedan/specs-features-trim-comparison\n",
      "                                      <label for=\"trims-2\">\n",
      "                                        \n",
      "Trim num = 2\n",
      "forward collision warning is standard and is FCW\n",
      "multi-angle rearview camera is standard and is BC\n",
      "acoustic vehicle alerting system is standard and is PCW\n",
      "collision mitigation braking system is standard and is BAS\n",
      "brake assist is standard and is BAS\n",
      "collision mitigation braking system is standard and is AEB\n",
      "adaptive cruise control is standard and is CC\n",
      "cruise control is standard and is CC\n",
      "adaptive cruise control is standard and is ACC\n",
      "lane keeping assist system is standard and is LKA\n",
      "road departure mitigation system is standard and is LKA\n",
      "road departure mitigation is standard and is LKA\n",
      "lane keeping assist system is standard and is ADA\n",
      "traffic sign recognition is standard and is ISA/TSR\n",
      "auto high-beam headlights is standard and is AHB\n",
      "11 ADAS features found\n",
      "trim is Sport\n",
      "From website https://automobiles.honda.com/accord-sedan/specs-features-trim-comparison\n",
      "                                      <label for=\"trims-3\">\n",
      "                                        \n",
      "Trim num = 3\n",
      "forward collision warning is standard and is FCW\n",
      "multi-angle rearview camera is standard and is BC\n",
      "blind spot information is standard and is BSW\n",
      "blind spot information system is standard and is BSW\n",
      "cross traffic monitor is standard and is RCTW\n",
      "collision mitigation braking system is standard and is BAS\n",
      "brake assist is standard and is BAS\n",
      "collision mitigation braking system is standard and is AEB\n",
      "adaptive cruise control is standard and is CC\n",
      "cruise control is standard and is CC\n",
      "adaptive cruise control is standard and is ACC\n",
      "lane keeping assist system is standard and is LKA\n",
      "road departure mitigation system is standard and is LKA\n",
      "road departure mitigation is standard and is LKA\n",
      "lane keeping assist system is standard and is ADA\n",
      "traffic sign recognition is standard and is ISA/TSR\n",
      "auto high-beam headlights is standard and is AHB\n",
      "12 ADAS features found\n",
      "trim is Sport Special Edition\n",
      "From website https://automobiles.honda.com/accord-sedan/specs-features-trim-comparison\n",
      "                                      <label for=\"trims-4\">\n",
      "                                        \n",
      "Trim num = 4\n",
      "forward collision warning is standard and is FCW\n",
      "multi-angle rearview camera is standard and is BC\n",
      "collision mitigation braking system is standard and is BAS\n",
      "brake assist is standard and is BAS\n",
      "collision mitigation braking system is standard and is AEB\n",
      "adaptive cruise control is standard and is CC\n",
      "cruise control is standard and is CC\n",
      "adaptive cruise control is standard and is ACC\n",
      "lane keeping assist system is standard and is LKA\n",
      "road departure mitigation system is standard and is LKA\n",
      "road departure mitigation is standard and is LKA\n",
      "lane keeping assist system is standard and is ADA\n",
      "traffic sign recognition is standard and is ISA/TSR\n",
      "auto high-beam headlights is standard and is AHB\n",
      "10 ADAS features found\n",
      "trim is Hybrid EX\n",
      "From website https://automobiles.honda.com/accord-sedan/specs-features-trim-comparison\n",
      "                                      <label for=\"trims-5\">\n",
      "                                        \n",
      "Trim num = 5\n",
      "forward collision warning is standard and is FCW\n",
      "multi-angle rearview camera is standard and is BC\n",
      "blind spot information is standard and is BSW\n",
      "blind spot information system is standard and is BSW\n",
      "acoustic vehicle alerting system is standard and is PCW\n",
      "cross traffic monitor is standard and is RCTW\n",
      "collision mitigation braking system is standard and is BAS\n",
      "brake assist is standard and is BAS\n",
      "collision mitigation braking system is standard and is AEB\n",
      "adaptive cruise control is standard and is CC\n",
      "cruise control is standard and is CC\n",
      "adaptive cruise control is standard and is ACC\n",
      "lane keeping assist system is standard and is LKA\n",
      "road departure mitigation system is standard and is LKA\n",
      "road departure mitigation is standard and is LKA\n",
      "lane keeping assist system is standard and is ADA\n",
      "traffic sign recognition is standard and is ISA/TSR\n",
      "auto high-beam headlights is standard and is AHB\n",
      "13 ADAS features found\n",
      "trim is EX-L\n",
      "From website https://automobiles.honda.com/accord-sedan/specs-features-trim-comparison\n",
      "                                      <label for=\"trims-6\">\n",
      "                                        \n",
      "Trim num = 6\n",
      "forward collision warning is standard and is FCW\n",
      "multi-angle rearview camera is standard and is BC\n",
      "blind spot information is standard and is BSW\n",
      "blind spot information system is standard and is BSW\n",
      "acoustic vehicle alerting system is standard and is PCW\n",
      "parking sensors is standard and is PCW\n",
      "cross traffic monitor is standard and is RCTW\n",
      "collision mitigation braking system is standard and is BAS\n",
      "brake assist is standard and is BAS\n",
      "collision mitigation braking system is standard and is AEB\n",
      "adaptive cruise control is standard and is CC\n",
      "cruise control is standard and is CC\n",
      "adaptive cruise control is standard and is ACC\n",
      "lane keeping assist system is standard and is LKA\n",
      "road departure mitigation system is standard and is LKA\n",
      "road departure mitigation is standard and is LKA\n",
      "lane keeping assist system is standard and is ADA\n",
      "traffic sign recognition is standard and is ISA/TSR\n",
      "auto high-beam headlights is standard and is AHB\n",
      "13 ADAS features found\n",
      "trim is Touring\n",
      "From website https://automobiles.honda.com/accord-sedan/specs-features-trim-comparison\n",
      "                                      <label for=\"trims-7\">\n",
      "                                        \n",
      "Trim num = 7\n",
      "forward collision warning is standard and is FCW\n",
      "multi-angle rearview camera is standard and is BC\n",
      "blind spot information is standard and is BSW\n",
      "blind spot information system is standard and is BSW\n",
      "acoustic vehicle alerting system is standard and is PCW\n",
      "parking sensors is standard and is PCW\n",
      "cross traffic monitor is standard and is RCTW\n",
      "collision mitigation braking system is standard and is BAS\n",
      "brake assist is standard and is BAS\n",
      "collision mitigation braking system is standard and is AEB\n",
      "low-speed braking control is standard and is AEB\n",
      "adaptive cruise control is standard and is CC\n",
      "cruise control is standard and is CC\n",
      "adaptive cruise control is standard and is ACC\n",
      "lane keeping assist system is standard and is LKA\n",
      "road departure mitigation system is standard and is LKA\n",
      "road departure mitigation is standard and is LKA\n",
      "lane keeping assist system is standard and is ADA\n",
      "traffic sign recognition is standard and is ISA/TSR\n",
      "auto high-beam headlights is standard and is AHB\n",
      "head-up display is standard and is HUD\n",
      "14 ADAS features found\n"
     ]
    }
   ],
   "source": [
    "modeloutput(\"https://automobiles.honda.com/accord-sedan/specs-features-trim-comparison\", 'Honda', 'Accord', ['LX', 'Hybrid', 'Sport','Sport Special Edition', 'Hybrid EX','EX-L', 'Touring'] , '2021', 'Sedan')"
   ]
  },
  {
   "cell_type": "code",
   "execution_count": 105,
   "metadata": {
    "collapsed": true,
    "hidden": true
   },
   "outputs": [
    {
     "name": "stdout",
     "output_type": "stream",
     "text": [
      "trim is EX\n",
      "From website https://automobiles.honda.com/insight/specs-features-trim-comparison\n",
      "                                      <label for=\"trims-1\">\n",
      "                                        \n",
      "Trim num = 1\n",
      "forward collision warning is standard and is FCW\n",
      "multi-angle rearview camera is standard and is BC\n",
      "blind spot information is standard and is BSW\n",
      "blind spot information system is standard and is BSW\n",
      "blind spot information system (bsi) with cross traffic monitor is standard and is BSW\n",
      "acoustic vehicle alerting system is standard and is PCW\n",
      "cross traffic monitor is standard and is RCTW\n",
      "blind spot information system (bsi) with cross traffic monitor is standard and is RCTW\n",
      "collision mitigation braking system is standard and is BAS\n",
      "brake assist is standard and is BAS\n",
      "collision mitigation braking system is standard and is AEB\n",
      "adaptive cruise control is standard and is CC\n",
      "cruise control is standard and is CC\n",
      "adaptive cruise control is standard and is ACC\n",
      "lane keeping assist system is standard and is LKA\n",
      "road departure mitigation system is standard and is LKA\n",
      "road departure mitigation is standard and is LKA\n",
      "lane keeping assist system is standard and is ADA\n",
      "traffic sign recognition is standard and is ISA/TSR\n",
      "auto high-beam headlights is standard and is AHB\n",
      "13 ADAS features found\n",
      "trim is Touring\n",
      "From website https://automobiles.honda.com/insight/specs-features-trim-comparison\n",
      "                                      <label for=\"trims-2\">\n",
      "                                        \n",
      "Trim num = 2\n",
      "forward collision warning is standard and is FCW\n",
      "multi-angle rearview camera is standard and is BC\n",
      "blind spot information is standard and is BSW\n",
      "blind spot information system is standard and is BSW\n",
      "blind spot information system (bsi) with cross traffic monitor is standard and is BSW\n",
      "acoustic vehicle alerting system is standard and is PCW\n",
      "cross traffic monitor is standard and is RCTW\n",
      "blind spot information system (bsi) with cross traffic monitor is standard and is RCTW\n",
      "collision mitigation braking system is standard and is BAS\n",
      "brake assist is standard and is BAS\n",
      "collision mitigation braking system is standard and is AEB\n",
      "adaptive cruise control is standard and is CC\n",
      "cruise control is standard and is CC\n",
      "adaptive cruise control is standard and is ACC\n",
      "lane keeping assist system is standard and is LKA\n",
      "road departure mitigation system is standard and is LKA\n",
      "road departure mitigation is standard and is LKA\n",
      "lane keeping assist system is standard and is ADA\n",
      "traffic sign recognition is standard and is ISA/TSR\n",
      "auto high-beam headlights is standard and is AHB\n",
      "13 ADAS features found\n"
     ]
    }
   ],
   "source": [
    "modeloutput(\"https://automobiles.honda.com/insight/specs-features-trim-comparison\", 'Honda', 'Insight', ['EX', 'Touring'] , '2021', 'Sedan')"
   ]
  },
  {
   "cell_type": "code",
   "execution_count": 106,
   "metadata": {
    "collapsed": true,
    "hidden": true
   },
   "outputs": [
    {
     "name": "stdout",
     "output_type": "stream",
     "text": [
      "trim is Fuel Cell\n",
      "From website https://automobiles.honda.com/clarity-fuel-cell/specs-features-trim-comparison\n",
      "                                      <label for=\"trims-1\">\n",
      "                                        \n",
      "Trim num = 1\n",
      "forward collision warning is standard and is FCW\n",
      "multi-angle rearview camera is standard and is BC\n",
      "honda lanewatch is standard and is BSW\n",
      "acoustic vehicle alerting system is standard and is PCW\n",
      "collision mitigation braking system is standard and is BAS\n",
      "brake assist is standard and is BAS\n",
      "collision mitigation braking system is standard and is AEB\n",
      "adaptive cruise control is standard and is CC\n",
      "cruise control is standard and is CC\n",
      "adaptive cruise control is standard and is ACC\n",
      "lane keeping assist system is standard and is LKA\n",
      "road departure mitigation system is standard and is LKA\n",
      "road departure mitigation is standard and is LKA\n",
      "lane keeping assist system is standard and is ADA\n",
      "head-up display is standard and is HUD\n",
      "11 ADAS features found\n"
     ]
    }
   ],
   "source": [
    "modeloutput(\"https://automobiles.honda.com/clarity-fuel-cell/specs-features-trim-comparison\", 'Honda', 'Clarity', ['Fuel Cell'] , '2021', 'Sedan')"
   ]
  },
  {
   "cell_type": "code",
   "execution_count": 107,
   "metadata": {
    "collapsed": true,
    "hidden": true
   },
   "outputs": [
    {
     "name": "stdout",
     "output_type": "stream",
     "text": [
      "trim is Plug-In Hybrid\n",
      "From website https://automobiles.honda.com/clarity-plug-in-hybrid/specs-features-trim-comparison\n",
      "                                      <label for=\"trims-1\">\n",
      "                                        \n",
      "Trim num = 1\n",
      "forward collision warning is standard and is FCW\n",
      "multi-angle rearview camera is standard and is BC\n",
      "honda lanewatch is standard and is BSW\n",
      "acoustic vehicle alerting system is standard and is PCW\n",
      "collision mitigation braking system is standard and is BAS\n",
      "brake assist is standard and is BAS\n",
      "collision mitigation braking system is standard and is AEB\n",
      "adaptive cruise control is standard and is CC\n",
      "cruise control is standard and is CC\n",
      "adaptive cruise control is standard and is ACC\n",
      "lane keeping assist system is standard and is LKA\n",
      "road departure mitigation system is standard and is LKA\n",
      "road departure mitigation is standard and is LKA\n",
      "lane keeping assist system is standard and is ADA\n",
      "10 ADAS features found\n",
      "trim is Touring\n",
      "From website https://automobiles.honda.com/clarity-plug-in-hybrid/specs-features-trim-comparison\n",
      "                                      <label for=\"trims-2\">\n",
      "                                        \n",
      "Trim num = 2\n",
      "forward collision warning is standard and is FCW\n",
      "multi-angle rearview camera is standard and is BC\n",
      "honda lanewatch is standard and is BSW\n",
      "acoustic vehicle alerting system is standard and is PCW\n",
      "collision mitigation braking system is standard and is BAS\n",
      "brake assist is standard and is BAS\n",
      "collision mitigation braking system is standard and is AEB\n",
      "adaptive cruise control is standard and is CC\n",
      "cruise control is standard and is CC\n",
      "adaptive cruise control is standard and is ACC\n",
      "lane keeping assist system is standard and is LKA\n",
      "road departure mitigation system is standard and is LKA\n",
      "road departure mitigation is standard and is LKA\n",
      "lane keeping assist system is standard and is ADA\n",
      "10 ADAS features found\n"
     ]
    }
   ],
   "source": [
    "modeloutput(\"https://automobiles.honda.com/clarity-plug-in-hybrid/specs-features-trim-comparison\", 'Honda', 'Clarity', ['Plug-In Hybrid', 'Touring'] , '2021', 'Sedan')"
   ]
  },
  {
   "cell_type": "code",
   "execution_count": 108,
   "metadata": {
    "collapsed": true,
    "hidden": true
   },
   "outputs": [
    {
     "name": "stdout",
     "output_type": "stream",
     "text": [
      "trim is LX\n",
      "From website https://automobiles.honda.com/civic-hatchback/specs-features-trim-comparison\n",
      "                                      <label for=\"trims-1\">\n",
      "                                        \n",
      "Trim num = 1\n",
      "forward collision warning is standard and is FCW\n",
      "multi-angle rearview camera is standard and is BC\n",
      "collision mitigation braking system is standard and is BAS\n",
      "brake assist is standard and is BAS\n",
      "collision mitigation braking system is standard and is AEB\n",
      "adaptive cruise control is standard and is CC\n",
      "cruise control is standard and is CC\n",
      "adaptive cruise control is standard and is ACC\n",
      "lane keeping assist system is standard and is LKA\n",
      "road departure mitigation system is standard and is LKA\n",
      "road departure mitigation is standard and is LKA\n",
      "lane keeping assist system is standard and is ADA\n",
      "auto high-beam headlights is standard and is AHB\n",
      "9 ADAS features found\n",
      "trim is Sport\n",
      "From website https://automobiles.honda.com/civic-hatchback/specs-features-trim-comparison\n",
      "                                      <label for=\"trims-2\">\n",
      "                                        \n",
      "Trim num = 2\n",
      "forward collision warning is standard and is FCW\n",
      "multi-angle rearview camera is standard and is BC\n",
      "collision mitigation braking system is standard and is BAS\n",
      "brake assist is standard and is BAS\n",
      "collision mitigation braking system is standard and is AEB\n",
      "adaptive cruise control is standard and is CC\n",
      "cruise control is standard and is CC\n",
      "adaptive cruise control is standard and is ACC\n",
      "lane keeping assist system is standard and is LKA\n",
      "road departure mitigation system is standard and is LKA\n",
      "road departure mitigation is standard and is LKA\n",
      "lane keeping assist system is standard and is ADA\n",
      "auto high-beam headlights is standard and is AHB\n",
      "9 ADAS features found\n",
      "trim is EX\n",
      "From website https://automobiles.honda.com/civic-hatchback/specs-features-trim-comparison\n",
      "                                      <label for=\"trims-3\">\n",
      "                                        \n",
      "Trim num = 3\n",
      "forward collision warning is standard and is FCW\n",
      "multi-angle rearview camera is standard and is BC\n",
      "honda lanewatch is standard and is BSW\n",
      "collision mitigation braking system is standard and is BAS\n",
      "brake assist is standard and is BAS\n",
      "collision mitigation braking system is standard and is AEB\n",
      "adaptive cruise control is standard and is CC\n",
      "cruise control is standard and is CC\n",
      "adaptive cruise control is standard and is ACC\n",
      "lane keeping assist system is standard and is LKA\n",
      "road departure mitigation system is standard and is LKA\n",
      "road departure mitigation is standard and is LKA\n",
      "lane keeping assist system is standard and is ADA\n",
      "auto high-beam headlights is standard and is AHB\n",
      "10 ADAS features found\n",
      "trim is Sport Touring\n",
      "From website https://automobiles.honda.com/civic-hatchback/specs-features-trim-comparison\n",
      "                                      <label for=\"trims-4\">\n",
      "                                        \n",
      "Trim num = 4\n",
      "forward collision warning is standard and is FCW\n",
      "multi-angle rearview camera is standard and is BC\n",
      "honda lanewatch is standard and is BSW\n",
      "collision mitigation braking system is standard and is BAS\n",
      "brake assist is standard and is BAS\n",
      "collision mitigation braking system is standard and is AEB\n",
      "adaptive cruise control is standard and is CC\n",
      "cruise control is standard and is CC\n",
      "adaptive cruise control is standard and is ACC\n",
      "lane keeping assist system is standard and is LKA\n",
      "road departure mitigation system is standard and is LKA\n",
      "road departure mitigation is standard and is LKA\n",
      "lane keeping assist system is standard and is ADA\n",
      "auto high-beam headlights is standard and is AHB\n",
      "10 ADAS features found\n"
     ]
    }
   ],
   "source": [
    "modeloutput(\"https://automobiles.honda.com/civic-hatchback/specs-features-trim-comparison\", 'Honda', 'Civic Hatchback', ['LX', 'Sport','EX', 'Sport Touring'] , '2021', 'Hatchback')"
   ]
  },
  {
   "cell_type": "code",
   "execution_count": 111,
   "metadata": {
    "collapsed": true,
    "hidden": true
   },
   "outputs": [
    {
     "name": "stdout",
     "output_type": "stream",
     "text": [
      "trim is Civic Type R\n",
      "From website https://automobiles.honda.com/civic-type-r/specs-features-trim-comparison\n",
      "                                      <label for=\"trims-1\">\n",
      "                                        \n",
      "Trim num = 1\n",
      "forward collision warning is standard and is FCW\n",
      "multi-angle rearview camera is standard and is BC\n",
      "collision mitigation braking system is standard and is BAS\n",
      "brake assist is standard and is BAS\n",
      "collision mitigation braking system is standard and is AEB\n",
      "adaptive cruise control is standard and is CC\n",
      "cruise control is standard and is CC\n",
      "adaptive cruise control is standard and is ACC\n",
      "lane keeping assist system is standard and is LKA\n",
      "road departure mitigation system is standard and is LKA\n",
      "road departure mitigation is standard and is LKA\n",
      "lane keeping assist system is standard and is ADA\n",
      "auto high-beam headlights is standard and is AHB\n",
      "9 ADAS features found\n",
      "trim is Limited Edition\n",
      "From website https://automobiles.honda.com/civic-type-r/specs-features-trim-comparison\n",
      "                                      <label for=\"trims-2\">\n",
      "                                        \n",
      "Trim num = 2\n",
      "forward collision warning is standard and is FCW\n",
      "multi-angle rearview camera is standard and is BC\n",
      "collision mitigation braking system is standard and is BAS\n",
      "brake assist is standard and is BAS\n",
      "collision mitigation braking system is standard and is AEB\n",
      "adaptive cruise control is standard and is CC\n",
      "cruise control is standard and is CC\n",
      "adaptive cruise control is standard and is ACC\n",
      "lane keeping assist system is standard and is LKA\n",
      "road departure mitigation system is standard and is LKA\n",
      "road departure mitigation is standard and is LKA\n",
      "lane keeping assist system is standard and is ADA\n",
      "auto high-beam headlights is standard and is AHB\n",
      "9 ADAS features found\n"
     ]
    }
   ],
   "source": [
    "modeloutput(\"https://automobiles.honda.com/civic-type-r/specs-features-trim-comparison\", 'Honda', 'Civic Type R', ['Civic Type R', 'Limited Edition'] , '2021', 'Hatchback')"
   ]
  },
  {
   "cell_type": "code",
   "execution_count": 109,
   "metadata": {
    "collapsed": true,
    "hidden": true
   },
   "outputs": [
    {
     "name": "stdout",
     "output_type": "stream",
     "text": [
      "trim is LX\n",
      "From website https://automobiles.honda.com/odyssey/specs-features-trim-comparison\n",
      "                                      <label for=\"trims-1\">\n",
      "                                        \n",
      "Trim num = 1\n",
      "forward collision warning is standard and is FCW\n",
      "multi-angle rearview camera is standard and is BC\n",
      "collision mitigation braking system is standard and is BAS\n",
      "brake assist is standard and is BAS\n",
      "collision mitigation braking system is standard and is AEB\n",
      "adaptive cruise control is standard and is CC\n",
      "cruise control is standard and is CC\n",
      "adaptive cruise control is standard and is ACC\n",
      "lane keeping assist system is standard and is LKA\n",
      "road departure mitigation system is standard and is LKA\n",
      "road departure mitigation is standard and is LKA\n",
      "lane keeping assist system is standard and is ADA\n",
      "traffic sign recognition is standard and is ISA/TSR\n",
      "auto high-beam headlights is standard and is AHB\n",
      "10 ADAS features found\n",
      "trim is EX\n",
      "From website https://automobiles.honda.com/odyssey/specs-features-trim-comparison\n",
      "                                      <label for=\"trims-2\">\n",
      "                                        \n",
      "Trim num = 2\n",
      "forward collision warning is standard and is FCW\n",
      "multi-angle rearview camera is standard and is BC\n",
      "blind spot information is standard and is BSW\n",
      "blind spot information system is standard and is BSW\n",
      "blind spot information system (bsi) with cross traffic monitor is standard and is BSW\n",
      "cross traffic monitor is standard and is RCTW\n",
      "blind spot information system (bsi) with cross traffic monitor is standard and is RCTW\n",
      "collision mitigation braking system is standard and is BAS\n",
      "brake assist is standard and is BAS\n",
      "collision mitigation braking system is standard and is AEB\n",
      "adaptive cruise control is standard and is CC\n",
      "cruise control is standard and is CC\n",
      "adaptive cruise control is standard and is ACC\n",
      "lane keeping assist system is standard and is LKA\n",
      "road departure mitigation system is standard and is LKA\n",
      "road departure mitigation is standard and is LKA\n",
      "lane keeping assist system is standard and is ADA\n",
      "traffic sign recognition is standard and is ISA/TSR\n",
      "auto high-beam headlights is standard and is AHB\n",
      "12 ADAS features found\n",
      "trim is EX-L\n",
      "From website https://automobiles.honda.com/odyssey/specs-features-trim-comparison\n",
      "                                      <label for=\"trims-3\">\n",
      "                                        \n",
      "Trim num = 3\n",
      "forward collision warning is standard and is FCW\n",
      "multi-angle rearview camera is standard and is BC\n",
      "blind spot information is standard and is BSW\n",
      "blind spot information system is standard and is BSW\n",
      "blind spot information system (bsi) with cross traffic monitor is standard and is BSW\n",
      "cross traffic monitor is standard and is RCTW\n",
      "blind spot information system (bsi) with cross traffic monitor is standard and is RCTW\n",
      "collision mitigation braking system is standard and is BAS\n",
      "brake assist is standard and is BAS\n",
      "collision mitigation braking system is standard and is AEB\n",
      "adaptive cruise control is standard and is CC\n",
      "cruise control is standard and is CC\n",
      "adaptive cruise control is standard and is ACC\n",
      "lane keeping assist system is standard and is LKA\n",
      "road departure mitigation system is standard and is LKA\n",
      "road departure mitigation is standard and is LKA\n",
      "lane keeping assist system is standard and is ADA\n",
      "traffic sign recognition is standard and is ISA/TSR\n",
      "auto high-beam headlights is standard and is AHB\n",
      "12 ADAS features found\n",
      "trim is Touring\n",
      "From website https://automobiles.honda.com/odyssey/specs-features-trim-comparison\n",
      "                                      <label for=\"trims-4\">\n",
      "                                        \n",
      "Trim num = 4\n",
      "forward collision warning is standard and is FCW\n",
      "multi-angle rearview camera is standard and is BC\n",
      "blind spot information is standard and is BSW\n",
      "blind spot information system is standard and is BSW\n",
      "blind spot information system (bsi) with cross traffic monitor is standard and is BSW\n",
      "parking sensors is standard and is PCW\n",
      "cross traffic monitor is standard and is RCTW\n",
      "blind spot information system (bsi) with cross traffic monitor is standard and is RCTW\n",
      "collision mitigation braking system is standard and is BAS\n",
      "brake assist is standard and is BAS\n",
      "collision mitigation braking system is standard and is AEB\n",
      "adaptive cruise control is standard and is CC\n",
      "cruise control is standard and is CC\n",
      "adaptive cruise control is standard and is ACC\n",
      "lane keeping assist system is standard and is LKA\n",
      "road departure mitigation system is standard and is LKA\n",
      "road departure mitigation is standard and is LKA\n",
      "lane keeping assist system is standard and is ADA\n",
      "traffic sign recognition is standard and is ISA/TSR\n",
      "auto high-beam headlights is standard and is AHB\n",
      "13 ADAS features found\n",
      "trim is Elite\n",
      "From website https://automobiles.honda.com/odyssey/specs-features-trim-comparison\n",
      "                                      <label for=\"trims-5\">\n",
      "                                        \n",
      "Trim num = 5\n",
      "forward collision warning is standard and is FCW\n",
      "multi-angle rearview camera is standard and is BC\n",
      "blind spot information is standard and is BSW\n",
      "blind spot information system is standard and is BSW\n",
      "blind spot information system (bsi) with cross traffic monitor is standard and is BSW\n",
      "parking sensors is standard and is PCW\n",
      "cross traffic monitor is standard and is RCTW\n",
      "blind spot information system (bsi) with cross traffic monitor is standard and is RCTW\n",
      "collision mitigation braking system is standard and is BAS\n",
      "brake assist is standard and is BAS\n",
      "collision mitigation braking system is standard and is AEB\n",
      "adaptive cruise control is standard and is CC\n",
      "cruise control is standard and is CC\n",
      "adaptive cruise control is standard and is ACC\n",
      "lane keeping assist system is standard and is LKA\n",
      "road departure mitigation system is standard and is LKA\n",
      "road departure mitigation is standard and is LKA\n",
      "lane keeping assist system is standard and is ADA\n",
      "traffic sign recognition is standard and is ISA/TSR\n",
      "auto high-beam headlights is standard and is AHB\n",
      "13 ADAS features found\n"
     ]
    }
   ],
   "source": [
    "modeloutput(\"https://automobiles.honda.com/odyssey/specs-features-trim-comparison\", 'Honda', 'Odyssey', ['LX', 'EX', 'EX-L',  'Touring', 'Elite'] , '2021', 'Minivan')"
   ]
  },
  {
   "cell_type": "code",
   "execution_count": 110,
   "metadata": {
    "collapsed": true,
    "hidden": true
   },
   "outputs": [
    {
     "name": "stdout",
     "output_type": "stream",
     "text": [
      "trim is Sport\n",
      "From website https://automobiles.honda.com/ridgeline/specs-features-trim-comparison\n",
      "                                      <label for=\"trims-1\">\n",
      "                                        \n",
      "Trim num = 1\n",
      "forward collision warning is standard and is FCW\n",
      "multi-angle rearview camera is standard and is BC\n",
      "collision mitigation braking system is standard and is BAS\n",
      "brake assist is standard and is BAS\n",
      "collision mitigation braking system is standard and is AEB\n",
      "adaptive cruise control is standard and is CC\n",
      "cruise control is standard and is CC\n",
      "adaptive cruise control is standard and is ACC\n",
      "lane keeping assist system is standard and is LKA\n",
      "road departure mitigation system is standard and is LKA\n",
      "road departure mitigation is standard and is LKA\n",
      "lane keeping assist system is standard and is ADA\n",
      "8 ADAS features found\n",
      "trim is RTL\n",
      "From website https://automobiles.honda.com/ridgeline/specs-features-trim-comparison\n",
      "                                      <label for=\"trims-2\">\n",
      "                                        \n",
      "Trim num = 2\n",
      "forward collision warning is standard and is FCW\n",
      "multi-angle rearview camera is standard and is BC\n",
      "blind spot information is standard and is BSW\n",
      "blind spot information system is standard and is BSW\n",
      "cross traffic monitor is standard and is RCTW\n",
      "collision mitigation braking system is standard and is BAS\n",
      "brake assist is standard and is BAS\n",
      "collision mitigation braking system is standard and is AEB\n",
      "adaptive cruise control is standard and is CC\n",
      "cruise control is standard and is CC\n",
      "adaptive cruise control is standard and is ACC\n",
      "lane keeping assist system is standard and is LKA\n",
      "road departure mitigation system is standard and is LKA\n",
      "road departure mitigation is standard and is LKA\n",
      "lane keeping assist system is standard and is ADA\n",
      "10 ADAS features found\n",
      "trim is RTL-E\n",
      "From website https://automobiles.honda.com/ridgeline/specs-features-trim-comparison\n",
      "                                      <label for=\"trims-3\">\n",
      "                                        \n",
      "Trim num = 3\n",
      "forward collision warning is standard and is FCW\n",
      "multi-angle rearview camera is standard and is BC\n",
      "blind spot information is standard and is BSW\n",
      "blind spot information system is standard and is BSW\n",
      "parking sensors is standard and is PCW\n",
      "cross traffic monitor is standard and is RCTW\n",
      "collision mitigation braking system is standard and is BAS\n",
      "brake assist is standard and is BAS\n",
      "collision mitigation braking system is standard and is AEB\n",
      "adaptive cruise control is standard and is CC\n",
      "cruise control is standard and is CC\n",
      "adaptive cruise control is standard and is ACC\n",
      "lane keeping assist system is standard and is LKA\n",
      "road departure mitigation system is standard and is LKA\n",
      "road departure mitigation is standard and is LKA\n",
      "lane keeping assist system is standard and is ADA\n",
      "auto high-beam headlights is standard and is AHB\n",
      "12 ADAS features found\n",
      "trim is Black Edition\n",
      "From website https://automobiles.honda.com/ridgeline/specs-features-trim-comparison\n",
      "                                      <label for=\"trims-4\">\n",
      "                                        \n",
      "Trim num = 4\n",
      "forward collision warning is standard and is FCW\n",
      "multi-angle rearview camera is standard and is BC\n",
      "blind spot information is standard and is BSW\n",
      "blind spot information system is standard and is BSW\n",
      "parking sensors is standard and is PCW\n",
      "cross traffic monitor is standard and is RCTW\n",
      "collision mitigation braking system is standard and is BAS\n",
      "brake assist is standard and is BAS\n",
      "collision mitigation braking system is standard and is AEB\n",
      "adaptive cruise control is standard and is CC\n",
      "cruise control is standard and is CC\n",
      "adaptive cruise control is standard and is ACC\n",
      "lane keeping assist system is standard and is LKA\n",
      "road departure mitigation system is standard and is LKA\n",
      "road departure mitigation is standard and is LKA\n",
      "lane keeping assist system is standard and is ADA\n",
      "auto high-beam headlights is standard and is AHB\n",
      "12 ADAS features found\n"
     ]
    }
   ],
   "source": [
    "modeloutput(\"https://automobiles.honda.com/ridgeline/specs-features-trim-comparison\", 'Honda', 'Ridgeline', ['Sport', 'RTL', 'RTL-E', 'Black Edition'] , '2021', 'Pickup Truck')"
   ]
  },
  {
   "cell_type": "markdown",
   "metadata": {
    "heading_collapsed": true
   },
   "source": [
    "# Nissan"
   ]
  },
  {
   "cell_type": "code",
   "execution_count": null,
   "metadata": {
    "hidden": true
   },
   "outputs": [],
   "source": [
    "SUVS, have Navilink"
   ]
  },
  {
   "cell_type": "code",
   "execution_count": 90,
   "metadata": {
    "hidden": true
   },
   "outputs": [
    {
     "name": "stdout",
     "output_type": "stream",
     "text": [
      "From website https://www.nissanusa.com/vehicles/crossovers-suvs/kicks/specs/compare-specs.html#modelName=S|Xtronic%20CVT%C2%AE\n",
      "high beam assist is standard and is AHB\n",
      "blind spot warning is standard and is BSW\n",
      "forward collision warning is standard and is FCW\n",
      "rear sonar system is standard and is PCW\n",
      "rear cross traffic alert is standard and is RCTW\n",
      "brake assist is standard and is BAS\n",
      "automatic emergency braking with pedestrian detection is standard and is BAS\n",
      "automatic emergency braking with pedestrian detection is standard and is AEB\n",
      "automatic emergency braking is standard and is AEB\n",
      "rear automatic braking is standard and is RAEB\n",
      "cruise control is standard and is CC\n",
      "lane departure warning is standard and is LKA\n",
      "rearview monitor is standard and is BC\n",
      "11 ADAS features found\n",
      "From website https://www.nissanusa.com/vehicles/crossovers-suvs/kicks/specs/compare-specs.html#modelName=SV|Xtronic%20CVT%C2%AE\n",
      "high beam assist is standard and is AHB\n",
      "intelligent driver alertness is standard and is DM\n",
      "blind spot warning is standard and is BSW\n",
      "forward collision warning is standard and is FCW\n",
      "rear sonar system is standard and is PCW\n",
      "rear cross traffic alert is standard and is RCTW\n",
      "brake assist is standard and is BAS\n",
      "automatic emergency braking with pedestrian detection is standard and is BAS\n",
      "automatic emergency braking with pedestrian detection is standard and is AEB\n",
      "automatic emergency braking is standard and is AEB\n",
      "rear automatic braking is standard and is RAEB\n",
      "intelligent cruise control is standard and is CC\n",
      "cruise control is standard and is CC\n",
      "intelligent cruise control is standard and is ACC\n",
      "lane departure warning is standard and is LKA\n",
      "rearview monitor is standard and is BC\n",
      "13 ADAS features found\n",
      "From website https://www.nissanusa.com/vehicles/crossovers-suvs/kicks/specs/compare-specs.html#modelName=SR|Xtronic%20CVT%C2%AE\n",
      "high beam assist is standard and is AHB\n",
      "intelligent driver alertness is standard and is DM\n",
      "blind spot warning is standard and is BSW\n",
      "forward collision warning is standard and is FCW\n",
      "rear sonar system is standard and is PCW\n",
      "rear cross traffic alert is standard and is RCTW\n",
      "brake assist is standard and is BAS\n",
      "automatic emergency braking with pedestrian detection is standard and is BAS\n",
      "automatic emergency braking with pedestrian detection is standard and is AEB\n",
      "automatic emergency braking is standard and is AEB\n",
      "rear automatic braking is standard and is RAEB\n",
      "intelligent cruise control is standard and is CC\n",
      "cruise control is standard and is CC\n",
      "intelligent cruise control is standard and is ACC\n",
      "lane departure warning is standard and is LKA\n",
      "intelligent around view is standard and is BC\n",
      "intelligent around view is standard and is SVC\n",
      "intelligent trace control is standard and is CSWS\n",
      "15 ADAS features found\n"
     ]
    }
   ],
   "source": [
    "websiteoutput(\"https://www.nissanusa.com/vehicles/crossovers-suvs/kicks/specs/compare-specs.html#modelName=S|Xtronic%20CVT%C2%AE\", 'Nissan', 'Kicks', 'S', '2021', 'SUV')\n",
    "websiteoutput(\"https://www.nissanusa.com/vehicles/crossovers-suvs/kicks/specs/compare-specs.html#modelName=SV|Xtronic%20CVT%C2%AE\", 'Nissan', 'Kicks', 'SV', '2021', 'SUV')\n",
    "websiteoutput(\"https://www.nissanusa.com/vehicles/crossovers-suvs/kicks/specs/compare-specs.html#modelName=SR|Xtronic%20CVT%C2%AE\", 'Nissan', 'Kicks', 'SR', '2021','SUV')"
   ]
  },
  {
   "cell_type": "code",
   "execution_count": 91,
   "metadata": {
    "hidden": true
   },
   "outputs": [
    {
     "name": "stdout",
     "output_type": "stream",
     "text": [
      "From website https://www.nissanusa.com/vehicles/crossovers-suvs/rogue-sport/specs/compare-specs.html#modelName=S|FWD%20Xtronic%20CVT%C2%AE\n",
      "high beam assist is standard and is AHB\n",
      "blind spot warning is standard and is BSW\n",
      "intelligent forward collision warning is standard and is FCW\n",
      "forward collision warning is standard and is FCW\n",
      "rear sonar system is standard and is PCW\n",
      "rear cross traffic alert is standard and is RCTW\n",
      "brake assist is standard and is BAS\n",
      "automatic emergency braking with pedestrian detection is standard and is BAS\n",
      "automatic emergency braking with pedestrian detection is standard and is AEB\n",
      "automatic emergency braking is standard and is AEB\n",
      "rear automatic braking is standard and is RAEB\n",
      "cruise control is standard and is CC\n",
      "intelligent lane intervention is standard and is LKA\n",
      "lane departure warning is standard and is LKA\n",
      "rearview monitor is standard and is BC\n",
      "intelligent trace control is standard and is CSWS\n",
      "12 ADAS features found\n",
      "From website https://www.nissanusa.com/vehicles/crossovers-suvs/rogue-sport/specs/compare-specs.html#modelName=SV|FWD%20Xtronic%20CVT%C2%AE\n",
      "high beam assist is standard and is AHB\n",
      "intelligent driver alertness is optional and is DM\n",
      "blind spot warning is standard and is BSW\n",
      "intelligent forward collision warning is standard and is FCW\n",
      "forward collision warning is standard and is FCW\n",
      "rear sonar system is standard and is PCW\n",
      "rear cross traffic alert is standard and is RCTW\n",
      "brake assist is standard and is BAS\n",
      "automatic emergency braking with pedestrian detection is standard and is BAS\n",
      "automatic emergency braking with pedestrian detection is standard and is AEB\n",
      "automatic emergency braking is standard and is AEB\n",
      "rear automatic braking is standard and is RAEB\n",
      "cruise control is standard and is CC\n",
      "propilot assist is optional and is CC\n",
      "propilot assist is optional and is ACC\n",
      "intelligent lane intervention is standard and is LKA\n",
      "lane departure warning is standard and is LKA\n",
      "propilot assist is optional and is LKA\n",
      "propilot assist is optional and is ADA\n",
      "rearview monitor is standard and is BC\n",
      "intelligent around view is optional and is BC\n",
      "intelligent around view is optional and is SVC\n",
      "intelligent trace control is standard and is CSWS\n",
      "12 ADAS features found\n",
      "From website https://www.nissanusa.com/vehicles/crossovers-suvs/rogue-sport/specs/compare-specs.html#modelName=SL|FWD%20Xtronic%20CVT%C2%AE\n",
      "high beam assist is standard and is AHB\n",
      "intelligent driver alertness is standard and is DM\n",
      "blind spot warning is standard and is BSW\n",
      "intelligent forward collision warning is standard and is FCW\n",
      "forward collision warning is standard and is FCW\n",
      "rear sonar system is standard and is PCW\n",
      "rear cross traffic alert is standard and is RCTW\n",
      "brake assist is standard and is BAS\n",
      "automatic emergency braking with pedestrian detection is standard and is BAS\n",
      "automatic emergency braking with pedestrian detection is standard and is AEB\n",
      "automatic emergency braking is standard and is AEB\n",
      "rear automatic braking is standard and is RAEB\n",
      "propilot assist is standard and is CC\n",
      "propilot assist is standard and is ACC\n",
      "intelligent lane intervention is standard and is LKA\n",
      "lane departure warning is standard and is LKA\n",
      "propilot assist is standard and is LKA\n",
      "propilot assist is standard and is ADA\n",
      "rearview monitor is standard and is BC\n",
      "intelligent around view is standard and is BC\n",
      "intelligent around view is standard and is SVC\n",
      "traffic sign recognition is standard and is ISA/TSR\n",
      "intelligent trace control is standard and is CSWS\n",
      "17 ADAS features found\n"
     ]
    }
   ],
   "source": [
    "websiteoutput(\"https://www.nissanusa.com/vehicles/crossovers-suvs/rogue-sport/specs/compare-specs.html#modelName=S|FWD%20Xtronic%20CVT%C2%AE\", 'Nissan', 'Rogue Sport', 'S', '2021', 'SUV')\n",
    "websiteoutput(\"https://www.nissanusa.com/vehicles/crossovers-suvs/rogue-sport/specs/compare-specs.html#modelName=SV|FWD%20Xtronic%20CVT%C2%AE\", 'Nissan', 'Rogue Sport', 'SV', '2021', 'SUV')\n",
    "websiteoutput(\"https://www.nissanusa.com/vehicles/crossovers-suvs/rogue-sport/specs/compare-specs.html#modelName=SL|FWD%20Xtronic%20CVT%C2%AE\", 'Nissan', 'Rogue Sport', 'SL', '2021','SUV')"
   ]
  },
  {
   "cell_type": "code",
   "execution_count": 92,
   "metadata": {
    "hidden": true
   },
   "outputs": [
    {
     "name": "stdout",
     "output_type": "stream",
     "text": [
      "From website https://www.nissanusa.com/vehicles/crossovers-suvs/rogue/specs/compare-specs.html#modelName=S|FWD\n",
      "high beam assist is standard and is AHB\n",
      "intelligent driver alertness is standard and is DM\n",
      "blind spot warning is standard and is BSW\n",
      "intelligent forward collision warning is standard and is FCW\n",
      "forward collision warning is standard and is FCW\n",
      "rear sonar system is standard and is PCW\n",
      "rear cross traffic alert is standard and is RCTW\n",
      "brake assist is standard and is BAS\n",
      "automatic emergency braking with pedestrian detection is standard and is BAS\n",
      "automatic emergency braking with pedestrian detection is standard and is AEB\n",
      "automatic emergency braking is standard and is AEB\n",
      "rear automatic braking is standard and is RAEB\n",
      "cruise control is standard and is CC\n",
      "lane departure warning is standard and is LKA\n",
      "rearview monitor is standard and is BC\n",
      "intelligent trace control is standard and is CSWS\n",
      "13 ADAS features found\n",
      "From website https://www.nissanusa.com/vehicles/crossovers-suvs/rogue/specs/compare-specs.html#modelName=SV|FWD\n",
      "intelligent blind spot intervention is standard and is BSCI\n",
      "high beam assist is standard and is AHB\n",
      "intelligent driver alertness is standard and is DM\n",
      "blind spot warning is standard and is BSW\n",
      "intelligent blind spot intervention is standard and is BSW\n",
      "intelligent forward collision warning is standard and is FCW\n",
      "forward collision warning is standard and is FCW\n",
      "rear sonar system is standard and is PCW\n",
      "front and rear sonar system is optional and is PCW\n",
      "rear cross traffic alert is standard and is RCTW\n",
      "brake assist is standard and is BAS\n",
      "automatic emergency braking with pedestrian detection is standard and is BAS\n",
      "automatic emergency braking with pedestrian detection is standard and is AEB\n",
      "automatic emergency braking is standard and is AEB\n",
      "rear automatic braking is standard and is RAEB\n",
      "propilot assist is standard and is CC\n",
      "propilot assist is standard and is ACC\n",
      "intelligent lane intervention is standard and is LKA\n",
      "lane departure warning is standard and is LKA\n",
      "propilot assist is standard and is LKA\n",
      "propilot assist is standard and is ADA\n",
      "intelligent around view is standard and is BC\n",
      "intelligent around view is standard and is SVC\n",
      "traffic sign recognition is optional and is ISA/TSR\n",
      "propilot assist with navi-link is optional and is ISA/TSR\n",
      "intelligent trace control is standard and is CSWS\n",
      "propilot assist with navi-link is optional and is CSWS\n",
      "17 ADAS features found\n",
      "From website https://www.nissanusa.com/vehicles/crossovers-suvs/rogue/specs/compare-specs.html#modelName=SL|FWD\n",
      "intelligent blind spot intervention is standard and is BSCI\n",
      "high beam assist is standard and is AHB\n",
      "intelligent driver alertness is standard and is DM\n",
      "blind spot warning is standard and is BSW\n",
      "intelligent blind spot intervention is standard and is BSW\n",
      "intelligent forward collision warning is standard and is FCW\n",
      "forward collision warning is standard and is FCW\n",
      "rear sonar system is standard and is PCW\n",
      "front and rear sonar system is optional and is PCW\n",
      "front and rear sonar system is optional and is PCW\n",
      "rear cross traffic alert is standard and is RCTW\n",
      "brake assist is standard and is BAS\n",
      "automatic emergency braking with pedestrian detection is standard and is BAS\n",
      "automatic emergency braking with pedestrian detection is standard and is AEB\n",
      "automatic emergency braking is standard and is AEB\n",
      "rear automatic braking is standard and is RAEB\n",
      "propilot assist is standard and is CC\n",
      "propilot assist is standard and is ACC\n",
      "intelligent lane intervention is standard and is LKA\n",
      "lane departure warning is standard and is LKA\n",
      "propilot assist is standard and is LKA\n",
      "propilot assist is standard and is ADA\n",
      "intelligent around view is standard and is BC\n",
      "intelligent around view is standard and is SVC\n",
      "traffic sign recognition is optional and is ISA/TSR\n",
      "traffic sign recognition is optional and is ISA/TSR\n",
      "propilot assist with navi-link is optional and is ISA/TSR\n",
      "propilot assist with navi-link is optional and is ISA/TSR\n",
      "intelligent trace control is standard and is CSWS\n",
      "propilot assist with navi-link is optional and is CSWS\n",
      "propilot assist with navi-link is optional and is CSWS\n",
      "17 ADAS features found\n",
      "From website https://www.nissanusa.com/vehicles/crossovers-suvs/rogue/specs/compare-specs.html#modelName=Platinum|FWD\n",
      "intelligent blind spot intervention is standard and is BSCI\n",
      "high beam assist is standard and is AHB\n",
      "intelligent driver alertness is standard and is DM\n",
      "head-up display is standard and is HUD\n",
      "blind spot warning is standard and is BSW\n",
      "intelligent blind spot intervention is standard and is BSW\n",
      "intelligent forward collision warning is standard and is FCW\n",
      "forward collision warning is standard and is FCW\n",
      "rear sonar system is optional and is PCW\n",
      "front and rear sonar system is optional and is PCW\n",
      "side sonar system is standard and is PCW\n",
      "rear cross traffic alert is standard and is RCTW\n",
      "brake assist is standard and is BAS\n",
      "automatic emergency braking with pedestrian detection is standard and is BAS\n",
      "automatic emergency braking with pedestrian detection is standard and is AEB\n",
      "automatic emergency braking is standard and is AEB\n",
      "rear automatic braking is standard and is RAEB\n",
      "propilot assist is standard and is CC\n",
      "propilot assist is standard and is ACC\n",
      "intelligent lane intervention is standard and is LKA\n",
      "lane departure warning is standard and is LKA\n",
      "propilot assist is standard and is LKA\n",
      "propilot assist is standard and is ADA\n",
      "intelligent around view is standard and is BC\n",
      "intelligent around view is standard and is SVC\n",
      "traffic sign recognition is standard and is ISA/TSR\n",
      "propilot assist with navi-link is standard and is ISA/TSR\n",
      "intelligent trace control is standard and is CSWS\n",
      "propilot assist with navi-link is standard and is CSWS\n",
      "19 ADAS features found\n"
     ]
    }
   ],
   "source": [
    "websiteoutput(\"https://www.nissanusa.com/vehicles/crossovers-suvs/rogue/specs/compare-specs.html#modelName=S|FWD\", 'Nissan', 'Rogue', 'S', '2021', 'SUV')\n",
    "websiteoutput(\"https://www.nissanusa.com/vehicles/crossovers-suvs/rogue/specs/compare-specs.html#modelName=SV|FWD\", 'Nissan', 'Rogue', 'SV', '2021', 'SUV')\n",
    "websiteoutput(\"https://www.nissanusa.com/vehicles/crossovers-suvs/rogue/specs/compare-specs.html#modelName=SL|FWD\", 'Nissan', 'Rogue', 'SL', '2021','SUV') \n",
    "websiteoutput(\"https://www.nissanusa.com/vehicles/crossovers-suvs/rogue/specs/compare-specs.html#modelName=Platinum|FWD\", 'Nissan', 'Rogue', 'Platinum', '2021','SUV')"
   ]
  },
  {
   "cell_type": "code",
   "execution_count": 93,
   "metadata": {
    "hidden": true
   },
   "outputs": [
    {
     "name": "stdout",
     "output_type": "stream",
     "text": [
      "From website https://www.nissanusa.com/vehicles/crossovers-suvs/murano/specs/compare-specs.html#modelName=S|FWD\n",
      "high beam assist is standard and is AHB\n",
      "intelligent driver alertness is standard and is DM\n",
      "blind spot warning is standard and is BSW\n",
      "intelligent forward collision warning is standard and is FCW\n",
      "forward collision warning is standard and is FCW\n",
      "rear sonar system is standard and is PCW\n",
      "rear cross traffic alert is standard and is RCTW\n",
      "brake assist is standard and is BAS\n",
      "automatic emergency braking with pedestrian detection is standard and is BAS\n",
      "automatic emergency braking with pedestrian detection is standard and is AEB\n",
      "automatic emergency braking is standard and is AEB\n",
      "rear automatic braking is standard and is RAEB\n",
      "cruise control is standard and is CC\n",
      "intelligent lane intervention is standard and is LKA\n",
      "rearview monitor is standard and is BC\n",
      "12 ADAS features found\n",
      "From website https://www.nissanusa.com/vehicles/crossovers-suvs/murano/specs/compare-specs.html#modelName=SV|2WD\n",
      "high beam assist is standard and is AHB\n",
      "intelligent driver alertness is standard and is DM\n",
      "blind spot warning is standard and is BSW\n",
      "intelligent forward collision warning is standard and is FCW\n",
      "forward collision warning is standard and is FCW\n",
      "rear sonar system is standard and is PCW\n",
      "front and rear sonar system is standard and is PCW\n",
      "rear cross traffic alert is standard and is RCTW\n",
      "brake assist is standard and is BAS\n",
      "automatic emergency braking with pedestrian detection is standard and is BAS\n",
      "automatic emergency braking with pedestrian detection is standard and is AEB\n",
      "automatic emergency braking is standard and is AEB\n",
      "rear automatic braking is standard and is RAEB\n",
      "intelligent cruise control is standard and is CC\n",
      "cruise control is standard and is CC\n",
      "intelligent cruise control is standard and is ACC\n",
      "intelligent lane intervention is standard and is LKA\n",
      "rearview monitor is standard and is BC\n",
      "intelligent around view is optional and is BC\n",
      "intelligent around view is optional and is SVC\n",
      "13 ADAS features found\n",
      "From website https://www.nissanusa.com/vehicles/crossovers-suvs/murano/specs/compare-specs.html#modelName=SL|FWD\n",
      "high beam assist is standard and is AHB\n",
      "intelligent driver alertness is standard and is DM\n",
      "blind spot warning is standard and is BSW\n",
      "intelligent forward collision warning is standard and is FCW\n",
      "forward collision warning is standard and is FCW\n",
      "rear sonar system is standard and is PCW\n",
      "front and rear sonar system is standard and is PCW\n",
      "rear cross traffic alert is standard and is RCTW\n",
      "brake assist is standard and is BAS\n",
      "automatic emergency braking with pedestrian detection is standard and is BAS\n",
      "automatic emergency braking with pedestrian detection is standard and is AEB\n",
      "automatic emergency braking is standard and is AEB\n",
      "rear automatic braking is standard and is RAEB\n",
      "intelligent cruise control is standard and is CC\n",
      "cruise control is standard and is CC\n",
      "intelligent cruise control is standard and is ACC\n",
      "intelligent lane intervention is standard and is LKA\n",
      "intelligent around view is standard and is BC\n",
      "intelligent around view is standard and is SVC\n",
      "traffic sign recognition is standard and is ISA/TSR\n",
      "15 ADAS features found\n",
      "From website https://www.nissanusa.com/vehicles/crossovers-suvs/murano/specs/compare-specs.html#modelName=Platinum|FWD\n",
      "high beam assist is standard and is AHB\n",
      "intelligent driver alertness is standard and is DM\n",
      "blind spot warning is standard and is BSW\n",
      "intelligent forward collision warning is standard and is FCW\n",
      "forward collision warning is standard and is FCW\n",
      "rear sonar system is standard and is PCW\n",
      "front and rear sonar system is standard and is PCW\n",
      "rear cross traffic alert is standard and is RCTW\n",
      "brake assist is standard and is BAS\n",
      "automatic emergency braking with pedestrian detection is standard and is BAS\n",
      "automatic emergency braking with pedestrian detection is standard and is AEB\n",
      "automatic emergency braking is standard and is AEB\n",
      "rear automatic braking is standard and is RAEB\n",
      "intelligent cruise control is standard and is CC\n",
      "cruise control is standard and is CC\n",
      "intelligent cruise control is standard and is ACC\n",
      "intelligent lane intervention is standard and is LKA\n",
      "intelligent around view is standard and is BC\n",
      "intelligent around view is standard and is SVC\n",
      "traffic sign recognition is standard and is ISA/TSR\n",
      "15 ADAS features found\n"
     ]
    }
   ],
   "source": [
    "websiteoutput(\"https://www.nissanusa.com/vehicles/crossovers-suvs/murano/specs/compare-specs.html#modelName=S|FWD\", 'Nissan', 'Murano', 'S', '2021', 'SUV')\n",
    "websiteoutput(\"https://www.nissanusa.com/vehicles/crossovers-suvs/murano/specs/compare-specs.html#modelName=SV|2WD\", 'Nissan', 'Murano', 'SV', '2021', 'SUV')\n",
    "websiteoutput(\"https://www.nissanusa.com/vehicles/crossovers-suvs/murano/specs/compare-specs.html#modelName=SL|FWD\", 'Nissan', 'Murano', 'SL', '2021','SUV') \n",
    "websiteoutput(\"https://www.nissanusa.com/vehicles/crossovers-suvs/murano/specs/compare-specs.html#modelName=Platinum|FWD\", 'Nissan', 'Murano', 'Platinum', '2021','SUV')"
   ]
  },
  {
   "cell_type": "code",
   "execution_count": 94,
   "metadata": {
    "hidden": true
   },
   "outputs": [
    {
     "name": "stdout",
     "output_type": "stream",
     "text": [
      "From website https://www.nissanusa.com/vehicles/crossovers-suvs/pathfinder/specs/compare-specs.html#modelName=S|2WD\n",
      "rear sonar system is standard and is PCW\n",
      "brake assist is standard and is BAS\n",
      "automatic emergency braking is standard and is AEB\n",
      "cruise control is standard and is CC\n",
      "rearview monitor is standard and is BC\n",
      "5 ADAS features found\n",
      "From website https://www.nissanusa.com/vehicles/crossovers-suvs/pathfinder/specs/compare-specs.html#modelName=SV|2WD\n",
      "blind spot warning is standard and is BSW\n",
      "rear sonar system is standard and is PCW\n",
      "rear cross traffic alert is standard and is RCTW\n",
      "brake assist is standard and is BAS\n",
      "automatic emergency braking is standard and is AEB\n",
      "intelligent cruise control is standard and is CC\n",
      "cruise control is standard and is CC\n",
      "intelligent cruise control is standard and is ACC\n",
      "rearview monitor is standard and is BC\n",
      "8 ADAS features found\n",
      "From website https://www.nissanusa.com/vehicles/crossovers-suvs/pathfinder/specs/compare-specs.html#modelName=SL|2WD\n",
      "blind spot warning is standard and is BSW\n",
      "rear sonar system is standard and is PCW\n",
      "rear cross traffic alert is standard and is RCTW\n",
      "brake assist is standard and is BAS\n",
      "automatic emergency braking is standard and is AEB\n",
      "intelligent cruise control is standard and is CC\n",
      "cruise control is standard and is CC\n",
      "intelligent cruise control is standard and is ACC\n",
      "intelligent around view is standard and is BC\n",
      "intelligent around view is standard and is SVC\n",
      "9 ADAS features found\n",
      "From website https://www.nissanusa.com/vehicles/crossovers-suvs/pathfinder/specs/compare-specs.html#modelName=SV%20Rock%20Creek%E2%84%A2%20Edition|2WD\n",
      "blind spot warning is standard and is BSW\n",
      "rear sonar system is standard and is PCW\n",
      "rear cross traffic alert is standard and is RCTW\n",
      "brake assist is standard and is BAS\n",
      "automatic emergency braking is standard and is AEB\n",
      "intelligent cruise control is standard and is CC\n",
      "cruise control is standard and is CC\n",
      "intelligent cruise control is standard and is ACC\n",
      "rearview monitor is standard and is BC\n",
      "8 ADAS features found\n",
      "From website https://www.nissanusa.com/vehicles/crossovers-suvs/pathfinder/specs/compare-specs.html#modelName=SL%20Rock%20Creek%E2%84%A2%20Edition|2WD\n",
      "blind spot warning is standard and is BSW\n",
      "rear sonar system is standard and is PCW\n",
      "rear cross traffic alert is standard and is RCTW\n",
      "brake assist is standard and is BAS\n",
      "automatic emergency braking is standard and is AEB\n",
      "intelligent cruise control is standard and is CC\n",
      "cruise control is standard and is CC\n",
      "intelligent cruise control is standard and is ACC\n",
      "intelligent around view is standard and is BC\n",
      "intelligent around view is standard and is SVC\n",
      "9 ADAS features found\n",
      "From website https://www.nissanusa.com/vehicles/crossovers-suvs/pathfinder/specs/compare-specs.html#modelName=Platinum|2WD\n",
      "blind spot warning is standard and is BSW\n",
      "rear sonar system is standard and is PCW\n",
      "rear cross traffic alert is standard and is RCTW\n",
      "brake assist is standard and is BAS\n",
      "automatic emergency braking is standard and is AEB\n",
      "intelligent cruise control is standard and is CC\n",
      "cruise control is standard and is CC\n",
      "intelligent cruise control is standard and is ACC\n",
      "intelligent around view is standard and is BC\n",
      "intelligent around view is standard and is SVC\n",
      "9 ADAS features found\n"
     ]
    }
   ],
   "source": [
    "websiteoutput(\"https://www.nissanusa.com/vehicles/crossovers-suvs/pathfinder/specs/compare-specs.html#modelName=S|2WD\", 'Nissan', 'Pathfinder', 'S', '2021', 'SUV')\n",
    "websiteoutput(\"https://www.nissanusa.com/vehicles/crossovers-suvs/pathfinder/specs/compare-specs.html#modelName=SV|2WD\", 'Nissan', 'Pathfinder', 'SV', '2021', 'SUV')\n",
    "websiteoutput(\"https://www.nissanusa.com/vehicles/crossovers-suvs/pathfinder/specs/compare-specs.html#modelName=SL|2WD\", 'Nissan', 'Pathfinder', 'SL', '2021','SUV') \n",
    "websiteoutput(\"https://www.nissanusa.com/vehicles/crossovers-suvs/pathfinder/specs/compare-specs.html#modelName=SV%20Rock%20Creek%E2%84%A2%20Edition|2WD\", 'Nissan', 'Pathfinder', 'SV Rock Creek Edition', '2021', 'SUV')\n",
    "websiteoutput(\"https://www.nissanusa.com/vehicles/crossovers-suvs/pathfinder/specs/compare-specs.html#modelName=SL%20Rock%20Creek%E2%84%A2%20Edition|2WD\", 'Nissan', 'Pathfinder', 'SL Rock Creek Edition', '2021','SUV') \n",
    "websiteoutput(\"https://www.nissanusa.com/vehicles/crossovers-suvs/pathfinder/specs/compare-specs.html#modelName=Platinum|2WD\", 'Nissan', 'Pathfinder', 'Platinum', '2021','SUV')"
   ]
  },
  {
   "cell_type": "code",
   "execution_count": 95,
   "metadata": {
    "hidden": true
   },
   "outputs": [
    {
     "name": "stdout",
     "output_type": "stream",
     "text": [
      "From website https://www.nissanusa.com/vehicles/crossovers-suvs/armada/specs/compare-specs.html#modelName=S|2WD\n",
      "intelligent blind spot intervention is standard and is BSCI\n",
      "high beam assist is standard and is AHB\n",
      "intelligent driver alertness is standard and is DM\n",
      "blind spot warning is standard and is BSW\n",
      "intelligent blind spot intervention is standard and is BSW\n",
      "intelligent forward collision warning is standard and is FCW\n",
      "forward collision warning is standard and is FCW\n",
      "rear sonar system is standard and is PCW\n",
      "front and rear sonar system is standard and is PCW\n",
      "rear cross traffic alert is standard and is RCTW\n",
      "brake assist is standard and is BAS\n",
      "automatic emergency braking with pedestrian detection is standard and is BAS\n",
      "automatic emergency braking with pedestrian detection is standard and is AEB\n",
      "automatic emergency braking is standard and is AEB\n",
      "rear automatic braking is standard and is RAEB\n",
      "intelligent cruise control is standard and is CC\n",
      "cruise control is standard and is CC\n",
      "intelligent cruise control is standard and is ACC\n",
      "intelligent lane intervention is standard and is LKA\n",
      "lane departure warning is standard and is LKA\n",
      "rearview monitor is standard and is BC\n",
      "14 ADAS features found\n",
      "From website https://www.nissanusa.com/vehicles/crossovers-suvs/armada/specs/compare-specs.html#modelName=SV|2WD\n",
      "intelligent blind spot intervention is standard and is BSCI\n",
      "high beam assist is standard and is AHB\n",
      "intelligent driver alertness is standard and is DM\n",
      "blind spot warning is standard and is BSW\n",
      "intelligent blind spot intervention is standard and is BSW\n",
      "intelligent forward collision warning is standard and is FCW\n",
      "forward collision warning is standard and is FCW\n",
      "rear sonar system is standard and is PCW\n",
      "front and rear sonar system is standard and is PCW\n",
      "rear cross traffic alert is standard and is RCTW\n",
      "brake assist is standard and is BAS\n",
      "automatic emergency braking with pedestrian detection is standard and is BAS\n",
      "automatic emergency braking with pedestrian detection is standard and is AEB\n",
      "automatic emergency braking is standard and is AEB\n",
      "rear automatic braking is standard and is RAEB\n",
      "intelligent cruise control is standard and is CC\n",
      "cruise control is standard and is CC\n",
      "intelligent cruise control is standard and is ACC\n",
      "intelligent lane intervention is standard and is LKA\n",
      "lane departure warning is standard and is LKA\n",
      "rearview monitor is standard and is BC\n",
      "14 ADAS features found\n",
      "From website https://www.nissanusa.com/vehicles/crossovers-suvs/armada/specs/compare-specs.html#modelName=SL|2WD\n",
      "intelligent blind spot intervention is standard and is BSCI\n",
      "high beam assist is standard and is AHB\n",
      "intelligent driver alertness is standard and is DM\n",
      "blind spot warning is standard and is BSW\n",
      "intelligent blind spot intervention is standard and is BSW\n",
      "intelligent forward collision warning is standard and is FCW\n",
      "forward collision warning is standard and is FCW\n",
      "rear sonar system is standard and is PCW\n",
      "front and rear sonar system is standard and is PCW\n",
      "rear cross traffic alert is standard and is RCTW\n",
      "brake assist is standard and is BAS\n",
      "automatic emergency braking with pedestrian detection is standard and is BAS\n",
      "automatic emergency braking with pedestrian detection is standard and is AEB\n",
      "automatic emergency braking is standard and is AEB\n",
      "rear automatic braking is standard and is RAEB\n",
      "intelligent cruise control is standard and is CC\n",
      "cruise control is standard and is CC\n",
      "intelligent cruise control is standard and is ACC\n",
      "intelligent lane intervention is standard and is LKA\n",
      "lane departure warning is standard and is LKA\n",
      "intelligent around view is standard and is BC\n",
      "intelligent around view is standard and is SVC\n",
      "15 ADAS features found\n",
      "From website https://www.nissanusa.com/vehicles/crossovers-suvs/armada/specs/compare-specs.html#modelName=Midnight%20Edition|2WD\n",
      "intelligent blind spot intervention is standard and is BSCI\n",
      "high beam assist is standard and is AHB\n",
      "intelligent driver alertness is standard and is DM\n",
      "blind spot warning is standard and is BSW\n",
      "intelligent blind spot intervention is standard and is BSW\n",
      "intelligent forward collision warning is standard and is FCW\n",
      "forward collision warning is standard and is FCW\n",
      "rear sonar system is standard and is PCW\n",
      "front and rear sonar system is standard and is PCW\n",
      "rear cross traffic alert is standard and is RCTW\n",
      "brake assist is standard and is BAS\n",
      "automatic emergency braking with pedestrian detection is standard and is BAS\n",
      "automatic emergency braking with pedestrian detection is standard and is AEB\n",
      "automatic emergency braking is standard and is AEB\n",
      "rear automatic braking is standard and is RAEB\n",
      "intelligent cruise control is standard and is CC\n",
      "cruise control is standard and is CC\n",
      "intelligent cruise control is standard and is ACC\n",
      "intelligent lane intervention is standard and is LKA\n",
      "lane departure warning is standard and is LKA\n",
      "intelligent around view is standard and is BC\n",
      "intelligent around view is standard and is SVC\n",
      "15 ADAS features found\n",
      "From website https://www.nissanusa.com/vehicles/crossovers-suvs/armada/specs/compare-specs.html#modelName=Platinum|2WD\n",
      "intelligent blind spot intervention is standard and is BSCI\n",
      "high beam assist is standard and is AHB\n",
      "intelligent driver alertness is standard and is DM\n",
      "blind spot warning is standard and is BSW\n",
      "intelligent blind spot intervention is standard and is BSW\n",
      "intelligent forward collision warning is standard and is FCW\n",
      "forward collision warning is standard and is FCW\n",
      "rear sonar system is standard and is PCW\n",
      "front and rear sonar system is standard and is PCW\n",
      "rear cross traffic alert is standard and is RCTW\n",
      "intelligent back-up intervention is standard and is RCTW\n",
      "brake assist is standard and is BAS\n",
      "automatic emergency braking with pedestrian detection is standard and is BAS\n",
      "automatic emergency braking with pedestrian detection is standard and is AEB\n",
      "automatic emergency braking is standard and is AEB\n",
      "rear automatic braking is standard and is RAEB\n",
      "intelligent cruise control is standard and is CC\n",
      "cruise control is standard and is CC\n",
      "intelligent cruise control is standard and is ACC\n",
      "intelligent lane intervention is standard and is LKA\n",
      "lane departure warning is standard and is LKA\n",
      "intelligent around view is standard and is BC\n",
      "intelligent rear view mirror is standard and is BC\n",
      "intelligent around view is standard and is SVC\n",
      "traffic sign recognition is standard and is ISA/TSR\n",
      "16 ADAS features found\n"
     ]
    }
   ],
   "source": [
    "websiteoutput(\"https://www.nissanusa.com/vehicles/crossovers-suvs/armada/specs/compare-specs.html#modelName=S|2WD\", 'Nissan', 'Armada', 'S', '2021', 'SUV')\n",
    "websiteoutput(\"https://www.nissanusa.com/vehicles/crossovers-suvs/armada/specs/compare-specs.html#modelName=SV|2WD\", 'Nissan', 'Armada', 'SV', '2021', 'SUV')\n",
    "websiteoutput(\"https://www.nissanusa.com/vehicles/crossovers-suvs/armada/specs/compare-specs.html#modelName=SL|2WD\", 'Nissan', 'Armada', 'SL', '2021','SUV')\n",
    "websiteoutput(\"https://www.nissanusa.com/vehicles/crossovers-suvs/armada/specs/compare-specs.html#modelName=Midnight%20Edition|2WD\", 'Nissan', 'Armada', 'Midnight Edition', '2021','SUV') \n",
    "websiteoutput(\"https://www.nissanusa.com/vehicles/crossovers-suvs/armada/specs/compare-specs.html#modelName=Platinum|2WD\", 'Nissan', 'Armada', 'Platinum', '2021','SUV')"
   ]
  },
  {
   "cell_type": "code",
   "execution_count": 96,
   "metadata": {
    "hidden": true
   },
   "outputs": [
    {
     "name": "stdout",
     "output_type": "stream",
     "text": [
      "From website https://www.nissanusa.com/vehicles/cars/versa-sedan/specs/compare-specs.html#modelName=S|5-speed%20manual%20transmission\n",
      "high beam assist is standard and is AHB\n",
      "intelligent forward collision warning is standard and is FCW\n",
      "forward collision warning is standard and is FCW\n",
      "brake assist is standard and is BAS\n",
      "automatic emergency braking with pedestrian detection is standard and is BAS\n",
      "automatic emergency braking with pedestrian detection is standard and is AEB\n",
      "automatic emergency braking is standard and is AEB\n",
      "rear automatic braking is standard and is RAEB\n",
      "intelligent cruise control is optional and is CC\n",
      "cruise control is standard and is CC\n",
      "intelligent cruise control is optional and is ACC\n",
      "lane departure warning is standard and is LKA\n",
      "rearview monitor is standard and is BC\n",
      "8 ADAS features found\n",
      "From website https://www.nissanusa.com/vehicles/cars/versa-sedan/specs/compare-specs.html#modelName=SV|Xtronic%20CVT%C2%AE\n",
      "high beam assist is standard and is AHB\n",
      "intelligent driver alertness is standard and is DM\n",
      "blind spot warning is standard and is BSW\n",
      "intelligent forward collision warning is standard and is FCW\n",
      "forward collision warning is standard and is FCW\n",
      "rear cross traffic alert is standard and is RCTW\n",
      "brake assist is standard and is BAS\n",
      "automatic emergency braking with pedestrian detection is standard and is BAS\n",
      "automatic emergency braking with pedestrian detection is standard and is AEB\n",
      "automatic emergency braking is standard and is AEB\n",
      "rear automatic braking is standard and is RAEB\n",
      "intelligent cruise control is optional and is CC\n",
      "cruise control is standard and is CC\n",
      "intelligent cruise control is optional and is ACC\n",
      "lane departure warning is standard and is LKA\n",
      "rearview monitor is standard and is BC\n",
      "11 ADAS features found\n",
      "From website https://www.nissanusa.com/vehicles/cars/versa-sedan/specs/compare-specs.html#modelName=SR|Xtronic%20CVT%C2%AE\n",
      "high beam assist is standard and is AHB\n",
      "intelligent driver alertness is standard and is DM\n",
      "blind spot warning is standard and is BSW\n",
      "intelligent forward collision warning is standard and is FCW\n",
      "forward collision warning is standard and is FCW\n",
      "rear cross traffic alert is standard and is RCTW\n",
      "brake assist is standard and is BAS\n",
      "automatic emergency braking with pedestrian detection is standard and is BAS\n",
      "automatic emergency braking with pedestrian detection is standard and is AEB\n",
      "automatic emergency braking is standard and is AEB\n",
      "rear automatic braking is standard and is RAEB\n",
      "intelligent cruise control is optional and is CC\n",
      "intelligent cruise control is optional and is CC\n",
      "cruise control is standard and is CC\n",
      "intelligent cruise control is optional and is ACC\n",
      "intelligent cruise control is optional and is ACC\n",
      "lane departure warning is standard and is LKA\n",
      "rearview monitor is standard and is BC\n",
      "11 ADAS features found\n"
     ]
    }
   ],
   "source": [
    "websiteoutput(\"https://www.nissanusa.com/vehicles/cars/versa-sedan/specs/compare-specs.html#modelName=S|5-speed%20manual%20transmission\", 'Nissan', 'Versa', 'S', '2021', 'Sedan')\n",
    "websiteoutput(\"https://www.nissanusa.com/vehicles/cars/versa-sedan/specs/compare-specs.html#modelName=SV|Xtronic%20CVT%C2%AE\", 'Nissan', 'Versa', 'SV', '2021', 'Sedan')\n",
    "websiteoutput(\"https://www.nissanusa.com/vehicles/cars/versa-sedan/specs/compare-specs.html#modelName=SR|Xtronic%20CVT%C2%AE\", 'Nissan', 'Versa', 'SR', '2021','Sedan')"
   ]
  },
  {
   "cell_type": "code",
   "execution_count": 97,
   "metadata": {
    "hidden": true
   },
   "outputs": [
    {
     "name": "stdout",
     "output_type": "stream",
     "text": [
      "From website https://www.nissanusa.com/vehicles/cars/sentra/specs/compare-specs.html#modelName=S|Xtronic%20CVT%C2%AE\n",
      "high beam assist is standard and is AHB\n",
      "intelligent driver alertness is standard and is DM\n",
      "blind spot warning is standard and is BSW\n",
      "intelligent forward collision warning is standard and is FCW\n",
      "forward collision warning is standard and is FCW\n",
      "rear sonar system is standard and is PCW\n",
      "rear cross traffic alert is standard and is RCTW\n",
      "brake assist is standard and is BAS\n",
      "automatic emergency braking with pedestrian detection is standard and is BAS\n",
      "automatic emergency braking with pedestrian detection is standard and is AEB\n",
      "automatic emergency braking is standard and is AEB\n",
      "rear automatic braking is standard and is RAEB\n",
      "cruise control is standard and is CC\n",
      "lane departure warning is standard and is LKA\n",
      "rearview monitor is standard and is BC\n",
      "intelligent trace control is standard and is CSWS\n",
      "13 ADAS features found\n",
      "From website https://www.nissanusa.com/vehicles/cars/sentra/specs/compare-specs.html#modelName=SV|Xtronic%20CVT%C2%AE\n",
      "high beam assist is standard and is AHB\n",
      "intelligent driver alertness is standard and is DM\n",
      "blind spot warning is standard and is BSW\n",
      "intelligent forward collision warning is standard and is FCW\n",
      "forward collision warning is standard and is FCW\n",
      "rear sonar system is standard and is PCW\n",
      "rear cross traffic alert is standard and is RCTW\n",
      "brake assist is standard and is BAS\n",
      "automatic emergency braking with pedestrian detection is standard and is BAS\n",
      "automatic emergency braking with pedestrian detection is standard and is AEB\n",
      "automatic emergency braking is standard and is AEB\n",
      "rear automatic braking is standard and is RAEB\n",
      "intelligent cruise control is standard and is CC\n",
      "cruise control is standard and is CC\n",
      "intelligent cruise control is standard and is ACC\n",
      "lane departure warning is standard and is LKA\n",
      "rearview monitor is standard and is BC\n",
      "intelligent trace control is standard and is CSWS\n",
      "14 ADAS features found\n",
      "From website https://www.nissanusa.com/vehicles/cars/sentra/specs/compare-specs.html#modelName=SR|Xtronic%20CVT%C2%AE\n",
      "high beam assist is standard and is AHB\n",
      "intelligent driver alertness is standard and is DM\n",
      "blind spot warning is standard and is BSW\n",
      "intelligent forward collision warning is standard and is FCW\n",
      "forward collision warning is standard and is FCW\n",
      "rear sonar system is standard and is PCW\n",
      "rear cross traffic alert is standard and is RCTW\n",
      "brake assist is standard and is BAS\n",
      "automatic emergency braking with pedestrian detection is standard and is BAS\n",
      "automatic emergency braking with pedestrian detection is standard and is AEB\n",
      "automatic emergency braking is standard and is AEB\n",
      "rear automatic braking is standard and is RAEB\n",
      "intelligent cruise control is standard and is CC\n",
      "cruise control is standard and is CC\n",
      "intelligent cruise control is standard and is ACC\n",
      "lane departure warning is standard and is LKA\n",
      "rearview monitor is standard and is BC\n",
      "intelligent around view is optional and is BC\n",
      "intelligent around view is optional and is BC\n",
      "intelligent around view is optional and is SVC\n",
      "intelligent around view is optional and is SVC\n",
      "intelligent trace control is standard and is CSWS\n",
      "14 ADAS features found\n"
     ]
    }
   ],
   "source": [
    "websiteoutput(\"https://www.nissanusa.com/vehicles/cars/sentra/specs/compare-specs.html#modelName=S|Xtronic%20CVT%C2%AE\", 'Nissan', 'Senta', 'S', '2021', 'Sedan')\n",
    "websiteoutput(\"https://www.nissanusa.com/vehicles/cars/sentra/specs/compare-specs.html#modelName=SV|Xtronic%20CVT%C2%AE\", 'Nissan', 'Senta', 'SV', '2021', 'Sedan')\n",
    "websiteoutput(\"https://www.nissanusa.com/vehicles/cars/sentra/specs/compare-specs.html#modelName=SR|Xtronic%20CVT%C2%AE\", 'Nissan', 'Senta', 'SR', '2021','Sedan')"
   ]
  },
  {
   "cell_type": "code",
   "execution_count": 44,
   "metadata": {
    "hidden": true
   },
   "outputs": [
    {
     "name": "stdout",
     "output_type": "stream",
     "text": [
      "From website https://www.nissanusa.com/vehicles/cars/altima/specs/compare-specs.html#modelName=S|FWD\n",
      "8 ADAS features found\n",
      "From website https://www.nissanusa.com/vehicles/cars/altima/specs/compare-specs.html#modelName=SV|FWD\n",
      "13 ADAS features found\n",
      "From website https://www.nissanusa.com/vehicles/cars/altima/specs/compare-specs.html#modelName=SR|FWD\n",
      "13 ADAS features found\n",
      "From website https://www.nissanusa.com/vehicles/cars/altima/specs/compare-specs.html#modelName=SL|FWD\n",
      "16 ADAS features found\n",
      "From website https://www.nissanusa.com/vehicles/cars/altima/specs/compare-specs.html#modelName=SR%20VC-Turbo%E2%84%A2|FWD\n",
      "13 ADAS features found\n",
      "From website https://www.nissanusa.com/vehicles/cars/altima/specs/compare-specs.html#modelName=Platinum|Intelligent%20AWD%20[[2021_ALTIMA_1323]]\n",
      "17 ADAS features found\n"
     ]
    }
   ],
   "source": [
    "websiteoutput(\"https://www.nissanusa.com/vehicles/cars/altima/specs/compare-specs.html#modelName=S|FWD\", 'Nissan', 'Altima', 'S', '2021', 'Sedan')\n",
    "websiteoutput(\"https://www.nissanusa.com/vehicles/cars/altima/specs/compare-specs.html#modelName=SV|FWD\", 'Nissan', 'Altima', 'SV', '2021', 'Sedan')\n",
    "websiteoutput(\"https://www.nissanusa.com/vehicles/cars/altima/specs/compare-specs.html#modelName=SR|FWD\", 'Nissan', 'Altima', 'SR', '2021','Sedan')\n",
    "websiteoutput(\"https://www.nissanusa.com/vehicles/cars/altima/specs/compare-specs.html#modelName=SL|FWD\", 'Nissan', 'Altima', 'SL', '2021','Sedan')\n",
    "websiteoutput(\"https://www.nissanusa.com/vehicles/cars/altima/specs/compare-specs.html#modelName=SR%20VC-Turbo%E2%84%A2|FWD\", 'Nissan', 'Altima', 'SR VC-Turbo', '2021','Sedan')\n",
    "websiteoutput(\"https://www.nissanusa.com/vehicles/cars/altima/specs/compare-specs.html#modelName=Platinum|Intelligent%20AWD%20[[2021_ALTIMA_1323]]\", 'Nissan', 'Altima', 'Platinum', '2021','Sedan')"
   ]
  },
  {
   "cell_type": "code",
   "execution_count": 45,
   "metadata": {
    "hidden": true
   },
   "outputs": [
    {
     "name": "stdout",
     "output_type": "stream",
     "text": [
      "From website https://www.nissanusa.com/vehicles/cars/maxima/specs/compare-specs.html#modelName=SV|Xtronic%20CVT%C2%AE\n",
      "15 ADAS features found\n",
      "From website https://www.nissanusa.com/vehicles/cars/maxima/specs/compare-specs.html#modelName=SR|Xtronic%20CVT%C2%AE\n",
      "16 ADAS features found\n",
      "From website https://www.nissanusa.com/vehicles/cars/maxima/specs/compare-specs.html#modelName=Platinum|Xtronic%20CVT%C2%AE\n",
      "16 ADAS features found\n",
      "From website https://www.nissanusa.com/vehicles/cars/maxima/specs/compare-specs.html#modelName=40th%20Anniversary%20Edition|Xtronic%20CVT%C2%AE\n",
      "16 ADAS features found\n"
     ]
    }
   ],
   "source": [
    "websiteoutput(\"https://www.nissanusa.com/vehicles/cars/maxima/specs/compare-specs.html#modelName=SV|Xtronic%20CVT%C2%AE\", 'Nissan', 'Maxima', 'SV', '2021', 'Sedan')\n",
    "websiteoutput(\"https://www.nissanusa.com/vehicles/cars/maxima/specs/compare-specs.html#modelName=SR|Xtronic%20CVT%C2%AE\", 'Nissan', 'Maxima', 'SR', '2021','Sedan')\n",
    "websiteoutput(\"https://www.nissanusa.com/vehicles/cars/maxima/specs/compare-specs.html#modelName=Platinum|Xtronic%20CVT%C2%AE\", 'Nissan', 'Maxima', 'Platinum', '2021','Sedan')\n",
    "websiteoutput(\"https://www.nissanusa.com/vehicles/cars/maxima/specs/compare-specs.html#modelName=40th%20Anniversary%20Edition|Xtronic%20CVT%C2%AE\", 'Nissan', 'Maxima', '40th Anniversary Edition', '2021','Sedan')"
   ]
  },
  {
   "cell_type": "code",
   "execution_count": 54,
   "metadata": {
    "hidden": true
   },
   "outputs": [
    {
     "name": "stdout",
     "output_type": "stream",
     "text": [
      "From website https://www.nissanusa.com/vehicles/electric-cars/leaf/specs/compare-specs.html#modelName=S|40%20kWh\n",
      "13 ADAS features found\n",
      "From website https://www.nissanusa.com/vehicles/electric-cars/leaf/specs/compare-specs.html#modelName=SV|40%20kWh\n",
      "14 ADAS features found\n",
      "From website https://www.nissanusa.com/vehicles/electric-cars/leaf/specs/compare-specs.html#modelName=S%20PLUS|62%20kWh\n",
      "13 ADAS features found\n",
      "From website https://www.nissanusa.com/vehicles/electric-cars/leaf/specs/compare-specs.html#modelName=SV%20PLUS|62%20kWh\n",
      "14 ADAS features found\n",
      "From website https://www.nissanusa.com/vehicles/electric-cars/leaf/specs/compare-specs.html#modelName=SL%20PLUS|62%20kWh\n",
      "17 ADAS features found\n"
     ]
    }
   ],
   "source": [
    "websiteoutput(\"https://www.nissanusa.com/vehicles/electric-cars/leaf/specs/compare-specs.html#modelName=S|40%20kWh\", 'Nissan', 'Leaf', 'S', '2021', 'Hatchback')\n",
    "websiteoutput(\"https://www.nissanusa.com/vehicles/electric-cars/leaf/specs/compare-specs.html#modelName=SV|40%20kWh\", 'Nissan',  'Leaf', 'SV', '2021', 'Hatchback')\n",
    "websiteoutput(\"https://www.nissanusa.com/vehicles/electric-cars/leaf/specs/compare-specs.html#modelName=S%20PLUS|62%20kWh\", 'Nissan',  'Leaf', 'S Plus', '2021','Hatchback')\n",
    "websiteoutput(\"https://www.nissanusa.com/vehicles/electric-cars/leaf/specs/compare-specs.html#modelName=SV%20PLUS|62%20kWh\", 'Nissan',  'Leaf', 'SV Plus', '2021','Hatchback')\n",
    "websiteoutput(\"https://www.nissanusa.com/vehicles/electric-cars/leaf/specs/compare-specs.html#modelName=SL%20PLUS|62%20kWh\", 'Nissan',  'Leaf', 'SL Plus', '2021','Hatchback')"
   ]
  },
  {
   "cell_type": "code",
   "execution_count": 184,
   "metadata": {
    "hidden": true
   },
   "outputs": [
    {
     "name": "stdout",
     "output_type": "stream",
     "text": [
      "From website https://www.nissanusa.com/vehicles/trucks/frontier/specs/compare-specs.html#modelName=King%20Cab%C2%AE%20S|4x2\n",
      "2 ADAS features found\n",
      "From website https://www.nissanusa.com/vehicles/trucks/frontier/specs/compare-specs.html#modelName=King%20Cab%C2%AE%20SV|4x2\n",
      "2 ADAS features found\n",
      "From website https://www.nissanusa.com/vehicles/trucks/frontier/specs/compare-specs.html#modelName=Crew%20Cab%20S|4x2\n",
      "2 ADAS features found\n",
      "From website https://www.nissanusa.com/vehicles/trucks/frontier/specs/compare-specs.html#modelName=Crew%20Cab%20SV|4x2\n",
      "2 ADAS features found\n",
      "From website https://www.nissanusa.com/vehicles/trucks/frontier/specs/compare-specs.html#modelName=Crew%20Cab%20Midnight%20Edition%C2%AE|4x4\n",
      "4 ADAS features found\n",
      "From website https://www.nissanusa.com/vehicles/trucks/frontier/specs/compare-specs.html#modelName=Crew%20Cab%20Long%20Bed%20SV|4x4\n",
      "3 ADAS features found\n",
      "From website https://www.nissanusa.com/vehicles/trucks/frontier/specs/compare-specs.html#modelName=Crew%20Cab%20PRO-4X%C2%AE|4x4\n",
      "4 ADAS features found\n"
     ]
    }
   ],
   "source": [
    "websiteoutput(\"https://www.nissanusa.com/vehicles/trucks/frontier/specs/compare-specs.html#modelName=King%20Cab%C2%AE%20S|4x2\", 'Nissan', 'Frontier', 'King Cab S', '2021', 'Pickup Truck')\n",
    "websiteoutput(\"https://www.nissanusa.com/vehicles/trucks/frontier/specs/compare-specs.html#modelName=King%20Cab%C2%AE%20SV|4x2\", 'Nissan', 'Frontier', 'King Cab SV', '2021', 'Pickup Truck')\n",
    "websiteoutput(\"https://www.nissanusa.com/vehicles/trucks/frontier/specs/compare-specs.html#modelName=Crew%20Cab%20S|4x2\", 'Nissan', 'Frontier', 'Crew Cab S', '2021', 'Pickup Truck')\n",
    "websiteoutput(\"https://www.nissanusa.com/vehicles/trucks/frontier/specs/compare-specs.html#modelName=Crew%20Cab%20SV|4x2\", 'Nissan', 'Frontier', 'Crew Cab SV', '2021', 'Pickup Truck')\n",
    "websiteoutput(\"https://www.nissanusa.com/vehicles/trucks/frontier/specs/compare-specs.html#modelName=Crew%20Cab%20Midnight%20Edition%C2%AE|4x4\", 'Nissan', 'Frontier', 'Crew Cab Midnight Edition', '2021', 'Pickup Truck')\n",
    "websiteoutput(\"https://www.nissanusa.com/vehicles/trucks/frontier/specs/compare-specs.html#modelName=Crew%20Cab%20Long%20Bed%20SV|4x4\", 'Nissan', 'Frontier', 'Crew Cab Long Bed SV', '2021', 'Pickup Truck')\n",
    "websiteoutput(\"https://www.nissanusa.com/vehicles/trucks/frontier/specs/compare-specs.html#modelName=Crew%20Cab%20PRO-4X%C2%AE|4x4\", 'Nissan', 'Frontier', 'Crew Cab PRO-4X', '2021', 'Pickup Truck')"
   ]
  },
  {
   "cell_type": "code",
   "execution_count": 185,
   "metadata": {
    "hidden": true
   },
   "outputs": [
    {
     "name": "stdout",
     "output_type": "stream",
     "text": [
      "From website https://www.nissanusa.com/vehicles/trucks/titan/specs/compare-specs.html#modelName=King%20Cab%C2%AE%20S|4x2\n",
      "12 ADAS features found\n",
      "From website https://www.nissanusa.com/vehicles/trucks/titan/specs/compare-specs.html#modelName=Crew%20Cab%20S|4x2\n",
      "12 ADAS features found\n",
      "From website https://www.nissanusa.com/vehicles/trucks/titan/specs/compare-specs.html#modelName=King%20Cab%C2%AE%20SV|4x2\n",
      "13 ADAS features found\n",
      "From website https://www.nissanusa.com/vehicles/trucks/titan/specs/compare-specs.html#modelName=Crew%20Cab%20SV|4x2\n",
      "13 ADAS features found\n",
      "From website https://www.nissanusa.com/vehicles/trucks/titan/specs/compare-specs.html#modelName=Crew%20Cab%20PRO-4X%C2%AE|4x4\n",
      "15 ADAS features found\n",
      "From website https://www.nissanusa.com/vehicles/trucks/titan/specs/compare-specs.html#modelName=Crew%20Cab%20Platinum%20Reserve|4x4\n",
      "15 ADAS features found\n"
     ]
    }
   ],
   "source": [
    "websiteoutput(\"https://www.nissanusa.com/vehicles/trucks/titan/specs/compare-specs.html#modelName=King%20Cab%C2%AE%20S|4x2\", 'Nissan', 'Titan', 'King Cab S', '2021', 'Pickup Truck')\n",
    "websiteoutput(\"https://www.nissanusa.com/vehicles/trucks/titan/specs/compare-specs.html#modelName=Crew%20Cab%20S|4x2\", 'Nissan', 'Titan', 'Crew Cab S', '2021', 'Pickup Truck')\n",
    "websiteoutput(\"https://www.nissanusa.com/vehicles/trucks/titan/specs/compare-specs.html#modelName=King%20Cab%C2%AE%20SV|4x2\", 'Nissan', 'Titan', 'King Cab SV', '2021', 'Pickup Truck')\n",
    "websiteoutput(\"https://www.nissanusa.com/vehicles/trucks/titan/specs/compare-specs.html#modelName=Crew%20Cab%20SV|4x2\", 'Nissan', 'Titan', 'Crew Cab SV', '2021', 'Pickup Truck')\n",
    "websiteoutput(\"https://www.nissanusa.com/vehicles/trucks/titan/specs/compare-specs.html#modelName=Crew%20Cab%20PRO-4X%C2%AE|4x4\", 'Nissan', 'Titan', 'Crew Cab PRO-4X', '2021', 'Pickup Truck')\n",
    "websiteoutput(\"https://www.nissanusa.com/vehicles/trucks/titan/specs/compare-specs.html#modelName=Crew%20Cab%20Platinum%20Reserve|4x4\", 'Nissan', 'Titan', 'Crew Cab Platinum Reserve', '2021', 'Pickup Truck')"
   ]
  },
  {
   "cell_type": "code",
   "execution_count": 190,
   "metadata": {
    "hidden": true
   },
   "outputs": [
    {
     "name": "stdout",
     "output_type": "stream",
     "text": [
      "From website https://www.nissanusa.com/vehicles/trucks/titan-xd/specs/compare-specs.html#modelName=Crew%20Cab%20S|4x4\n",
      "11 ADAS features found\n",
      "From website https://www.nissanusa.com/vehicles/trucks/titan-xd/specs/compare-specs.html#modelName=Crew%20Cab%20SV|4x4\n",
      "12 ADAS features found\n",
      "From website https://www.nissanusa.com/vehicles/trucks/titan-xd/specs/compare-specs.html#modelName=Crew%20Cab%20PRO-4X%C2%AE|4x4\n",
      "15 ADAS features found\n",
      "From website https://www.nissanusa.com/vehicles/trucks/titan-xd/specs/compare-specs.html#modelName=Crew%20Cab%20Platinum%20Reserve|4x4\n",
      "15 ADAS features found\n"
     ]
    }
   ],
   "source": [
    "websiteoutput(\"https://www.nissanusa.com/vehicles/trucks/titan-xd/specs/compare-specs.html#modelName=Crew%20Cab%20S|4x4\", 'Nissan', 'Titan XD', 'Crew Cab S', '2021', 'Pickup Truck')\n",
    "websiteoutput(\"https://www.nissanusa.com/vehicles/trucks/titan-xd/specs/compare-specs.html#modelName=Crew%20Cab%20SV|4x4\", 'Nissan', 'Titan XD', 'Crew Cab SV', '2021', 'Pickup Truck')\n",
    "websiteoutput(\"https://www.nissanusa.com/vehicles/trucks/titan-xd/specs/compare-specs.html#modelName=Crew%20Cab%20PRO-4X%C2%AE|4x4\", 'Nissan', 'Titan XD', 'Crew Cab PRO-4X', '2021', 'Pickup Truck')\n",
    "websiteoutput(\"https://www.nissanusa.com/vehicles/trucks/titan-xd/specs/compare-specs.html#modelName=Crew%20Cab%20Platinum%20Reserve|4x4\", 'Nissan', 'Titan XD', 'Crew Cab Platinum Reserve', '2021', 'Pickup Truck')"
   ]
  },
  {
   "cell_type": "code",
   "execution_count": 191,
   "metadata": {
    "hidden": true
   },
   "outputs": [
    {
     "name": "stdout",
     "output_type": "stream",
     "text": [
      "From website https://www.nissanusa.com/vehicles/sports-cars/gt-r/specs/compare-specs.html#modelName=Premium|Dual-clutch%206-Speed%20Transmission\n",
      "3 ADAS features found\n",
      "From website https://www.nissanusa.com/vehicles/sports-cars/gt-r/specs/compare-specs.html#modelName=NISMO%C2%AE|Dual-clutch%206-Speed%20Transmission\n",
      "3 ADAS features found\n"
     ]
    }
   ],
   "source": [
    "websiteoutput(\"https://www.nissanusa.com/vehicles/sports-cars/gt-r/specs/compare-specs.html#modelName=Premium|Dual-clutch%206-Speed%20Transmission\", 'Nissan', 'GT-R', 'Premium', '2021', 'Coupe')\n",
    "websiteoutput(\"https://www.nissanusa.com/vehicles/sports-cars/gt-r/specs/compare-specs.html#modelName=NISMO%C2%AE|Dual-clutch%206-Speed%20Transmission\", 'Nissan', 'GT-R', 'NISMO', '2021', 'Coupe')"
   ]
  },
  {
   "cell_type": "code",
   "execution_count": 192,
   "metadata": {
    "hidden": true
   },
   "outputs": [
    {
     "name": "stdout",
     "output_type": "stream",
     "text": [
      "From website https://www.nissanusa.com/vehicles/commercial/nv-cargo/specs/compare-specs.html#modelName=NV1500%C2%AE%20S|Cargo%20Standard%20Roof%20V6\n",
      "2 ADAS features found\n",
      "From website https://www.nissanusa.com/vehicles/commercial/nv-cargo/specs/compare-specs.html#modelName=NV2500%C2%AE%20HD%20S|Cargo%20High%20Roof%20V6\n",
      "2 ADAS features found\n",
      "From website https://www.nissanusa.com/vehicles/commercial/nv-cargo/specs/compare-specs.html#modelName=NV1500%C2%AE%20SV|Cargo%20Standard%20Roof%20V6\n",
      "4 ADAS features found\n",
      "From website https://www.nissanusa.com/vehicles/commercial/nv-cargo/specs/compare-specs.html#modelName=NV2500%C2%AE%20HD%20SV|Cargo%20Standard%20Roof%20V8\n",
      "4 ADAS features found\n",
      "From website https://www.nissanusa.com/vehicles/commercial/nv-cargo/specs/compare-specs.html#modelName=NV3500%C2%AE%20HD%20SV|Cargo%20High%20Roof%20V8\n",
      "4 ADAS features found\n",
      "From website https://www.nissanusa.com/vehicles/commercial/nv-cargo/specs/compare-specs.html#modelName=NV3500%C2%AE%20HD%20SL|Cargo%20High%20Roof%20V8\n",
      "4 ADAS features found\n"
     ]
    }
   ],
   "source": [
    "websiteoutput(\"https://www.nissanusa.com/vehicles/commercial/nv-cargo/specs/compare-specs.html#modelName=NV1500%C2%AE%20S|Cargo%20Standard%20Roof%20V6\", 'Nissan', 'NV Cargo', 'NV1500 S', '2021', 'Van')\n",
    "websiteoutput(\"https://www.nissanusa.com/vehicles/commercial/nv-cargo/specs/compare-specs.html#modelName=NV2500%C2%AE%20HD%20S|Cargo%20High%20Roof%20V6\", 'Nissan', 'NV Cargo', 'NV2500 HD S', '2021', 'Van')\n",
    "websiteoutput(\"https://www.nissanusa.com/vehicles/commercial/nv-cargo/specs/compare-specs.html#modelName=NV1500%C2%AE%20SV|Cargo%20Standard%20Roof%20V6\", 'Nissan', 'NV Cargo', 'NV1500 SV', '2021', 'Van')\n",
    "websiteoutput(\"https://www.nissanusa.com/vehicles/commercial/nv-cargo/specs/compare-specs.html#modelName=NV2500%C2%AE%20HD%20SV|Cargo%20Standard%20Roof%20V8\", 'Nissan', 'NV Cargo', 'NV2500 HD SV', '2021', 'Van')\n",
    "websiteoutput(\"https://www.nissanusa.com/vehicles/commercial/nv-cargo/specs/compare-specs.html#modelName=NV3500%C2%AE%20HD%20SV|Cargo%20High%20Roof%20V8\", 'Nissan', 'NV Cargo', 'NV3500 HD SV', '2021', 'Van')\n",
    "websiteoutput(\"https://www.nissanusa.com/vehicles/commercial/nv-cargo/specs/compare-specs.html#modelName=NV3500%C2%AE%20HD%20SL|Cargo%20High%20Roof%20V8\", 'Nissan', 'NV Cargo', 'NV3500 HD SL', '2021', 'Van')"
   ]
  },
  {
   "cell_type": "code",
   "execution_count": 193,
   "metadata": {
    "hidden": true
   },
   "outputs": [
    {
     "name": "stdout",
     "output_type": "stream",
     "text": [
      "From website https://www.nissanusa.com/vehicles/commercial/nv200-compact-cargo/specs/compare-specs.html#modelName=S|Xtronic%20CVT%C2%AE\n",
      "3 ADAS features found\n",
      "From website https://www.nissanusa.com/vehicles/commercial/nv200-compact-cargo/specs/compare-specs.html#modelName=SV|Xtronic%20CVT%C2%AE\n",
      "4 ADAS features found\n"
     ]
    }
   ],
   "source": [
    "websiteoutput(\"https://www.nissanusa.com/vehicles/commercial/nv200-compact-cargo/specs/compare-specs.html#modelName=S|Xtronic%20CVT%C2%AE\", 'Nissan', 'NV200 Compact Cargo', 'S', '2021', 'Van')\n",
    "websiteoutput(\"https://www.nissanusa.com/vehicles/commercial/nv200-compact-cargo/specs/compare-specs.html#modelName=SV|Xtronic%20CVT%C2%AE\", 'Nissan', 'NV200 Compact Cargo', 'SV', '2021', 'Van')"
   ]
  },
  {
   "cell_type": "code",
   "execution_count": 194,
   "metadata": {
    "hidden": true
   },
   "outputs": [
    {
     "name": "stdout",
     "output_type": "stream",
     "text": [
      "From website https://www.nissanusa.com/vehicles/commercial/nv-passenger/specs/compare-specs.html#modelName=S|Passenger%20S\n",
      "3 ADAS features found\n",
      "From website https://www.nissanusa.com/vehicles/commercial/nv-passenger/specs/compare-specs.html#modelName=SV|Passenger%20SV\n",
      "4 ADAS features found\n",
      "From website https://www.nissanusa.com/vehicles/commercial/nv-passenger/specs/compare-specs.html#modelName=SL|Passenger%20SL\n",
      "4 ADAS features found\n"
     ]
    }
   ],
   "source": [
    "websiteoutput(\"https://www.nissanusa.com/vehicles/commercial/nv-passenger/specs/compare-specs.html#modelName=S|Passenger%20S\", 'Nissan', 'NV Passenger', 'S', '2021', 'Van')\n",
    "websiteoutput(\"https://www.nissanusa.com/vehicles/commercial/nv-passenger/specs/compare-specs.html#modelName=SV|Passenger%20SV\", 'Nissan', 'NV Passenger', 'SV', '2021', 'Van')\n",
    "websiteoutput(\"https://www.nissanusa.com/vehicles/commercial/nv-passenger/specs/compare-specs.html#modelName=SL|Passenger%20SL\", 'Nissan', 'NV Passenger', 'SL', '2021', 'Van')"
   ]
  },
  {
   "cell_type": "markdown",
   "metadata": {
    "heading_collapsed": true
   },
   "source": [
    "# Jeep"
   ]
  },
  {
   "cell_type": "code",
   "execution_count": null,
   "metadata": {
    "hidden": true
   },
   "outputs": [],
   "source": []
  },
  {
   "cell_type": "code",
   "execution_count": 103,
   "metadata": {
    "hidden": true
   },
   "outputs": [],
   "source": [
    "def getjeep(url, manufacturer, model_name='', trims=[], year='', vehicle_type='', printfeatures=True, printpage=False):\n",
    "    chromedriver = r\"C:\\Users\\nihal\\Documents\\chromedriver\\chromedriver.exe\"\n",
    "    options = webdriver.ChromeOptions().add_argument('--headless')\n",
    "    browser = webdriver.Chrome(executable_path=chromedriver, options=options)\n",
    "    \n",
    "    \n",
    "    #some code that I don't understand and just copied from online. It gets the plain text from the webpage\n",
    "    #s = requests_html.HTMLSession()\n",
    "    #pagetext = s.get(url)\n",
    "    browser.get(url)\n",
    "    print(\"From website \" + url)\n",
    "    \n",
    "    browser.execute_script(\"arguments[0].click();\", browser.find_element_by_xpath(\"//span[contains (text(), 'Display Model Comparison') and @class='gcss-colors-text-body-primary']\"))\n",
    "    \n",
    "    time.sleep(0.5)\n",
    "        \n",
    "    for trim in trims:\n",
    "        \n",
    "        print (\"Trim is \" + trim)\n",
    "        \n",
    "        if trim == '80th Anniversary':\n",
    "            while not browser.find_element_by_xpath(\"//span[@class='gcss-no-text-transform']/span[contains(text(), '80')]\").is_displayed():\n",
    "                browser.execute_script(\"arguments[0].click();\", browser.find_element_by_xpath(\"//a[.//span[text()='Next Model']]\"))\n",
    "                time.sleep(0.5)\n",
    "        else: \n",
    "            while not browser.find_element_by_xpath(\"(//span[contains(text(), \"+ \"'\" + trim + \"'\" + \") and @class='gcss-no-text-transform'])[1] | (//span[@class='gcss-no-text-transform']/span[contains(text(), \"+ \"'\" + trim + \"'\" + \")])[1]\").is_displayed():\n",
    "                browser.execute_script(\"arguments[0].click();\", browser.find_element_by_xpath(\"//a[.//span[text()='Next Model']]\"))\n",
    "                time.sleep(0.5)\n",
    "\n",
    "        \n",
    "        pagetext = browser.page_source\n",
    "        mindex = pagetext.index('>$', pagetext.index(trim, pagetext.index(trim)+1))\n",
    "        msrp = pagetext[mindex+len('>$'):pagetext.index('</div></div></div>', mindex)]\n",
    "        \n",
    "        browser.execute_script(\"arguments[0].click();\", browser.find_element_by_xpath(\"(//a[contains (@data-context,'\" +  trim.replace(' ', '_')+ \"') and @data-lid='View Standard Features'])[1]\"))\n",
    "        \n",
    "        time.sleep(0.5)\n",
    "        \n",
    "        pagetext = browser.find_element_by_xpath(\"//div[@class='standard-feat-modal-content']\").get_attribute('innerHTML')\n",
    "        pagetext = pagetext.lower()\n",
    "        \n",
    "        browser.execute_script(\"arguments[0].click();\", browser.find_element_by_xpath(\"(//button[@aria-label='CLOSE'])[2]\"))\n",
    "\n",
    "        time.sleep(0.5)\n",
    "        \n",
    "        if printpage: print(pagetext)\n",
    "            \n",
    "        adas, translations = gettranslations('translations.csv', manufacturer)\n",
    "\n",
    "        writedata('codedrows.csv', url, manufacturer, model_name, trim, year, vehicle_type, msrp, adas, translations, pagetext, printfeatures)\n",
    "\n",
    "    browser.quit()"
   ]
  },
  {
   "cell_type": "code",
   "execution_count": 71,
   "metadata": {
    "hidden": true
   },
   "outputs": [
    {
     "name": "stdout",
     "output_type": "stream",
     "text": [
      "From website https://www.jeep.com/bmo.renegade.2021.html#/models/2021/renegade?app=bmo&pageType=vehiclepage&vehicle=renegade&year=2021\n",
      "Trim is Sport\n",
      "8 ADAS features found\n",
      "Trim is Jeepster\n",
      "8 ADAS features found\n",
      "Trim is Latitude\n",
      "6 ADAS features found\n",
      "Trim is Upland\n",
      "8 ADAS features found\n",
      "Trim is Freedom\n",
      "6 ADAS features found\n",
      "Trim is 80th Anniversary\n",
      "6 ADAS features found\n",
      "Trim is Island\n",
      "8 ADAS features found\n",
      "Trim is Limited\n",
      "6 ADAS features found\n",
      "Trim is Trailhawk\n",
      "7 ADAS features found\n"
     ]
    }
   ],
   "source": [
    "getjeep('https://www.jeep.com/bmo.renegade.2021.html#/models/2021/renegade?app=bmo&pageType=vehiclepage&vehicle=renegade&year=2021', 'Jeep', 'Renegade', ['Sport', 'Jeepster', 'Latitude', 'Upland', 'Freedom', '80th Anniversary', 'Island', 'Limited', 'Trailhawk'], '2021', 'SUV')"
   ]
  },
  {
   "cell_type": "code",
   "execution_count": 72,
   "metadata": {
    "hidden": true
   },
   "outputs": [
    {
     "name": "stdout",
     "output_type": "stream",
     "text": [
      "From website https://www.jeep.com/bmo.compass.2021.html#/models/2021/compass?app=bmo&pageType=vehiclepage&vehicle=compass&year=2021\n",
      "Trim is Sport\n",
      "2 ADAS features found\n",
      "Trim is Freedom\n",
      "2 ADAS features found\n",
      "Trim is Latitude\n",
      "2 ADAS features found\n",
      "Trim is Altitude\n",
      "2 ADAS features found\n",
      "Trim is 80th Anniversary\n",
      "1 ADAS features found\n",
      "Trim is Limited\n",
      "11 ADAS features found\n",
      "Trim is Trailhawk\n",
      "12 ADAS features found\n"
     ]
    }
   ],
   "source": [
    "getjeep('https://www.jeep.com/bmo.compass.2021.html#/models/2021/compass?app=bmo&pageType=vehiclepage&vehicle=compass&year=2021', 'Jeep', 'Compass', ['Sport', 'Freedom', 'Latitude', 'Altitude', '80th Anniversary', 'Limited', 'Trailhawk'], '2021', 'SUV')"
   ]
  },
  {
   "cell_type": "code",
   "execution_count": 73,
   "metadata": {
    "hidden": true
   },
   "outputs": [
    {
     "name": "stdout",
     "output_type": "stream",
     "text": [
      "From website https://www.jeep.com/bmo.wrangler.2021.html#/models/2021/wrangler?app=bmo&pageType=vehiclepage&vehicle=wrangler&year=2021\n",
      "Trim is Sport\n",
      "2 ADAS features found\n",
      "Trim is Willys Sport\n",
      "2 ADAS features found\n",
      "Trim is Sport S\n",
      "2 ADAS features found\n",
      "Trim is Islander\n",
      "2 ADAS features found\n",
      "Trim is Willys\n",
      "2 ADAS features found\n",
      "Trim is 80th Anniversary\n",
      "2 ADAS features found\n",
      "Trim is Freedom\n",
      "2 ADAS features found\n",
      "Trim is Sport Altitude\n",
      "2 ADAS features found\n",
      "Trim is RHD\n",
      "3 ADAS features found\n",
      "Trim is Sahara\n",
      "2 ADAS features found\n",
      "Trim is Rubicon\n",
      "2 ADAS features found\n",
      "Trim is Sahara Altitude\n",
      "2 ADAS features found\n",
      "Trim is High Altitude\n",
      "5 ADAS features found\n",
      "Trim is Rubicon 392\n",
      "11 ADAS features found\n"
     ]
    }
   ],
   "source": [
    "getjeep('https://www.jeep.com/bmo.wrangler.2021.html#/models/2021/wrangler?app=bmo&pageType=vehiclepage&vehicle=wrangler&year=2021', 'Jeep', 'Wrangler', ['Sport', 'Willys Sport', 'Sport S', 'Islander', 'Willys', '80th Anniversary', 'Freedom', 'Sport Altitude', 'RHD', 'Sahara', 'Rubicon', 'Sahara Altitude', 'High Altitude', 'Rubicon 392' ], '2021', 'SUV')"
   ]
  },
  {
   "cell_type": "code",
   "execution_count": 100,
   "metadata": {
    "hidden": true
   },
   "outputs": [
    {
     "name": "stdout",
     "output_type": "stream",
     "text": [
      "From website https://www.jeep.com/bmo.wrangler_4xe.2021.html#/models/2021/wrangler_4xe?app=bmo&pageType=vehiclepage&vehicle=wrangler_4xe&year=2021\n",
      "Trim is Sahara\n",
      "3 ADAS features found\n",
      "Trim is Rubicon\n",
      "3 ADAS features found\n",
      "Trim is High Altitude\n",
      "6 ADAS features found\n"
     ]
    }
   ],
   "source": [
    "getjeep('https://www.jeep.com/bmo.wrangler_4xe.2021.html#/models/2021/wrangler_4xe?app=bmo&pageType=vehiclepage&vehicle=wrangler_4xe&year=2021', 'Jeep', 'Wrangler 4xe', ['Sahara', 'Rubicon', 'High Altitude'], '2021', 'SUV')"
   ]
  },
  {
   "cell_type": "code",
   "execution_count": 74,
   "metadata": {
    "hidden": true
   },
   "outputs": [
    {
     "name": "stdout",
     "output_type": "stream",
     "text": [
      "From website https://www.jeep.com/bmo.gladiator.2021.html#/models/2021/gladiator?app=bmo&pageType=vehiclepage&vehicle=gladiator&year=2021\n",
      "Trim is Sport\n",
      "2 ADAS features found\n",
      "Trim is Willys Sport\n",
      "2 ADAS features found\n",
      "Trim is Sport S\n",
      "2 ADAS features found\n",
      "Trim is California Edition\n",
      "2 ADAS features found\n",
      "Trim is Willys\n",
      "2 ADAS features found\n",
      "Trim is 80th Anniversary\n",
      "3 ADAS features found\n",
      "Trim is Freedom\n",
      "2 ADAS features found\n",
      "Trim is Overland\n",
      "2 ADAS features found\n",
      "Trim is Rubicon\n",
      "2 ADAS features found\n",
      "Trim is Mojave\n",
      "2 ADAS features found\n",
      "Trim is High Altitude\n",
      "6 ADAS features found\n"
     ]
    }
   ],
   "source": [
    "getjeep('https://www.jeep.com/bmo.gladiator.2021.html#/models/2021/gladiator?app=bmo&pageType=vehiclepage&vehicle=gladiator&year=2021', 'Jeep', 'Gladiator', ['Sport', 'Willys Sport', 'Sport S', 'California Edition', 'Willys', '80th Anniversary', 'Freedom', 'Overland', 'Rubicon', 'Mojave', 'High Altitude'], '2021', 'SUV')"
   ]
  },
  {
   "cell_type": "code",
   "execution_count": 75,
   "metadata": {
    "hidden": true
   },
   "outputs": [
    {
     "name": "stdout",
     "output_type": "stream",
     "text": [
      "From website https://www.jeep.com/bmo.cherokee.2021.html#/models/2021/cherokee?app=bmo&pageType=vehiclepage&vehicle=cherokee&year=2021\n",
      "Trim is Latitude\n",
      "8 ADAS features found\n",
      "Trim is Freedom\n",
      "8 ADAS features found\n",
      "Trim is Latitude Plus\n",
      "10 ADAS features found\n",
      "Trim is Altitude\n",
      "10 ADAS features found\n",
      "Trim is Latitude Lux\n",
      "10 ADAS features found\n",
      "Trim is 80th Anniversary\n",
      "10 ADAS features found\n",
      "Trim is Limited\n",
      "13 ADAS features found\n",
      "Trim is Trailhawk\n",
      "11 ADAS features found\n",
      "Trim is High Altitude\n",
      "13 ADAS features found\n"
     ]
    }
   ],
   "source": [
    "getjeep('https://www.jeep.com/bmo.cherokee.2021.html#/models/2021/cherokee?app=bmo&pageType=vehiclepage&vehicle=cherokee&year=2021', 'Jeep', 'Cherokee', ['Latitude', 'Freedom', 'Latitude Plus', 'Altitude', 'Latitude Lux', '80th Anniversary', 'Limited', 'Trailhawk', 'High Altitude'], '2021', 'SUV')"
   ]
  },
  {
   "cell_type": "code",
   "execution_count": 76,
   "metadata": {
    "hidden": true
   },
   "outputs": [
    {
     "name": "stdout",
     "output_type": "stream",
     "text": [
      "From website https://www.jeep.com/bmo.grand_cherokee.2021.html#/models/2021/grand_cherokee?app=bmo&pageType=vehiclepage&vehicle=grand_cherokee&year=2021\n",
      "Trim is Laredo E\n",
      "6 ADAS features found\n",
      "Trim is Freedom\n",
      "6 ADAS features found\n",
      "Trim is Laredo X\n",
      "6 ADAS features found\n",
      "Trim is Limited\n",
      "6 ADAS features found\n",
      "Trim is Limited X\n",
      "6 ADAS features found\n",
      "Trim is 80th Anniversary\n",
      "12 ADAS features found\n",
      "Trim is Trailhawk\n",
      "7 ADAS features found\n",
      "Trim is Overland\n",
      "7 ADAS features found\n",
      "Trim is High Altitude\n",
      "13 ADAS features found\n",
      "Trim is Summit\n",
      "13 ADAS features found\n",
      "Trim is SRT\n",
      "13 ADAS features found\n",
      "Trim is Trackhawk\n",
      "13 ADAS features found\n"
     ]
    }
   ],
   "source": [
    "getjeep('https://www.jeep.com/bmo.grand_cherokee.2021.html#/models/2021/grand_cherokee?app=bmo&pageType=vehiclepage&vehicle=grand_cherokee&year=2021', 'Jeep', 'Grand Cherokee', ['Laredo E', 'Freedom', 'Laredo X', 'Limited', 'Limited X', '80th Anniversary', 'Trailhawk', 'Overland', 'High Altitude', 'Summit', 'SRT', 'Trackhawk'], '2021', 'SUV')"
   ]
  },
  {
   "cell_type": "code",
   "execution_count": 77,
   "metadata": {
    "hidden": true
   },
   "outputs": [
    {
     "name": "stdout",
     "output_type": "stream",
     "text": [
      "From website https://www.jeep.com/bmo.grand_cherokee_l.2021.html#/models/2021/grand_cherokee_l\n",
      "Trim is Laredo\n",
      "11 ADAS features found\n",
      "Trim is Altitude\n",
      "11 ADAS features found\n",
      "Trim is Limited\n",
      "12 ADAS features found\n",
      "Trim is Overland\n",
      "13 ADAS features found\n",
      "Trim is Summit\n",
      "19 ADAS features found\n",
      "Trim is Summit Reserve\n",
      "22 ADAS features found\n"
     ]
    }
   ],
   "source": [
    "getjeep('https://www.jeep.com/bmo.grand_cherokee_l.2021.html#/models/2021/grand_cherokee_l', 'Jeep', 'Grand Cherokee L', ['Laredo', 'Altitude', 'Limited', 'Overland', 'Summit', 'Summit Reserve'], '2021', 'SUV')"
   ]
  },
  {
   "cell_type": "code",
   "execution_count": 109,
   "metadata": {
    "hidden": true
   },
   "outputs": [
    {
     "name": "stdout",
     "output_type": "stream",
     "text": [
      "From website https://www.jeep.com/bmo.wagoneer.2022.html#/model/CUJ202215\n",
      "Trim is Series II\n",
      "blind-spot and cross-path detection in page and is BSW\n",
      "full-speed forward-collision warning in page and is FCW\n",
      "full-speed forward-collision warning plus in page and is FCW\n",
      "rear park- assist in page and is PCW\n",
      "blind-spot and cross-path detection in page and is RCTW\n",
      "full-speed forward-collision warning in page and is BAS\n",
      "full-speed forward-collision warning plus in page and is BAS\n",
      "advanced brake-assist in page and is BAS\n",
      "full-speed forward-collision warning in page and is AEB\n",
      "full-speed forward-collision warning plus in page and is AEB\n",
      "rear park- assist with stop in page and is RAEB\n",
      "adaptive cruise-control with stop and go in page and is CC\n",
      "adaptive cruise-control with stop and go in page and is ACC\n",
      "active lane-management system in page and is LKA\n",
      "rear back-up camera in page and is BC\n",
      "11 ADAS features found\n",
      "Trim is Series III\n",
      "head-up display in page and is HUD\n",
      "blind-spot and cross-path detection in page and is BSW\n",
      "full-speed forward-collision warning in page and is FCW\n",
      "full-speed forward-collision warning plus in page and is FCW\n",
      "rear park- assist in page and is PCW\n",
      "blind-spot and cross-path detection in page and is RCTW\n",
      "full-speed forward-collision warning in page and is BAS\n",
      "full-speed forward-collision warning plus in page and is BAS\n",
      "advanced brake-assist in page and is BAS\n",
      "full-speed forward-collision warning in page and is AEB\n",
      "full-speed forward-collision warning plus in page and is AEB\n",
      "rear park- assist with stop in page and is RAEB\n",
      "adaptive cruise-control with stop and go in page and is CC\n",
      "adaptive cruise-control with stop and go in page and is ACC\n",
      "active lane-management system in page and is LKA\n",
      "rear back-up camera in page and is BC\n",
      "automatic high-beam in page and is AHB\n",
      "13 ADAS features found\n"
     ]
    }
   ],
   "source": [
    "getjeep('https://www.jeep.com/bmo.wagoneer.2022.html#/model/CUJ202215', 'Jeep', 'Wagoneer', ['Series II', 'Series III'], '2022', 'SUV')"
   ]
  },
  {
   "cell_type": "code",
   "execution_count": 110,
   "metadata": {
    "hidden": true
   },
   "outputs": [
    {
     "name": "stdout",
     "output_type": "stream",
     "text": [
      "From website https://www.jeep.com/bmo.grand_wagoneer.2022.html#/models/2022/grand_wagoneer\n",
      "Trim is Series I\n",
      "head-up display in page and is HUD\n",
      "blind-spot and cross-path detection in page and is BSW\n",
      "full-speed forward-collision warning in page and is FCW\n",
      "full-speed forward-collision warning plus in page and is FCW\n",
      "side distance warning in page and is PCW\n",
      "rear park- assist in page and is PCW\n",
      "blind-spot and cross-path detection in page and is RCTW\n",
      "full-speed forward-collision warning in page and is BAS\n",
      "full-speed forward-collision warning plus in page and is BAS\n",
      "advanced brake-assist in page and is BAS\n",
      "full-speed forward-collision warning in page and is AEB\n",
      "full-speed forward-collision warning plus in page and is AEB\n",
      "rear park- assist with stop in page and is RAEB\n",
      "adaptive cruise-control with stop and go in page and is CC\n",
      "adaptive cruise-control with stop and go in page and is ACC\n",
      "active lane-management system in page and is LKA\n",
      "360 surround-view camera in page and is BC\n",
      "360 surround-view camera in page and is SVC\n",
      "automated parking system in page and is APA\n",
      "automatic high-beam in page and is AHB\n",
      "selec-speed in page and is HDC\n",
      "16 ADAS features found\n",
      "Trim is Series II\n",
      "drowsy driver detection in page and is DM\n",
      "head-up display in page and is HUD\n",
      "night vision in page and is NV\n",
      "blind-spot and cross-path detection in page and is BSW\n",
      "full-speed forward-collision warning in page and is FCW\n",
      "full-speed forward-collision warning plus in page and is FCW\n",
      "side distance warning in page and is PCW\n",
      "rear park- assist in page and is PCW\n",
      "blind-spot and cross-path detection in page and is RCTW\n",
      "intersection collision assist system in page and is CTA\n",
      "full-speed forward-collision warning in page and is BAS\n",
      "full-speed forward-collision warning plus in page and is BAS\n",
      "advanced brake-assist in page and is BAS\n",
      "full-speed forward-collision warning in page and is AEB\n",
      "full-speed forward-collision warning plus in page and is AEB\n",
      "rear park- assist with stop in page and is RAEB\n",
      "adaptive cruise-control with stop and go in page and is CC\n",
      "adaptive cruise-control with stop and go in page and is ACC\n",
      "active lane-management system in page and is LKA\n",
      "highway assist system in page and is ADA\n",
      "360 surround-view camera in page and is BC\n",
      "360 surround-view camera in page and is SVC\n",
      "automated parking system in page and is APA\n",
      "traffic sign recognition in page and is ISA/TSR\n",
      "automatic high-beam in page and is AHB\n",
      "selec-speed in page and is HDC\n",
      "21 ADAS features found\n",
      "Trim is Obsidian\n",
      "trailer-hitch zoom in page and is TA\n",
      "drowsy driver detection in page and is DM\n",
      "head-up display in page and is HUD\n",
      "night vision in page and is NV\n",
      "blind-spot and cross-path detection in page and is BSW\n",
      "full-speed forward-collision warning in page and is FCW\n",
      "full-speed forward-collision warning plus in page and is FCW\n",
      "side distance warning in page and is PCW\n",
      "rear park- assist in page and is PCW\n",
      "blind-spot and cross-path detection in page and is RCTW\n",
      "intersection collision assist system in page and is CTA\n",
      "full-speed forward-collision warning in page and is BAS\n",
      "full-speed forward-collision warning plus in page and is BAS\n",
      "advanced brake-assist in page and is BAS\n",
      "full-speed forward-collision warning in page and is AEB\n",
      "full-speed forward-collision warning plus in page and is AEB\n",
      "rear park- assist with stop in page and is RAEB\n",
      "adaptive cruise-control with stop and go in page and is CC\n",
      "adaptive cruise-control with stop and go in page and is ACC\n",
      "active lane-management system in page and is LKA\n",
      "highway assist system in page and is ADA\n",
      "360 surround-view camera in page and is BC\n",
      "360 surround-view camera in page and is SVC\n",
      "automated parking system in page and is APA\n",
      "traffic sign recognition in page and is ISA/TSR\n",
      "automatic high-beam in page and is AHB\n",
      "selec-speed in page and is HDC\n",
      "22 ADAS features found\n",
      "Trim is Series III\n",
      "drowsy driver detection in page and is DM\n",
      "head-up display in page and is HUD\n",
      "night vision in page and is NV\n",
      "blind-spot and cross-path detection in page and is BSW\n",
      "full-speed forward-collision warning in page and is FCW\n",
      "full-speed forward-collision warning plus in page and is FCW\n",
      "side distance warning in page and is PCW\n",
      "rear park- assist in page and is PCW\n",
      "blind-spot and cross-path detection in page and is RCTW\n",
      "intersection collision assist system in page and is CTA\n",
      "full-speed forward-collision warning in page and is BAS\n",
      "full-speed forward-collision warning plus in page and is BAS\n",
      "advanced brake-assist in page and is BAS\n",
      "full-speed forward-collision warning in page and is AEB\n",
      "full-speed forward-collision warning plus in page and is AEB\n",
      "rear park- assist with stop in page and is RAEB\n",
      "adaptive cruise-control with stop and go in page and is CC\n",
      "adaptive cruise-control with stop and go in page and is ACC\n",
      "active lane-management system in page and is LKA\n",
      "highway assist system in page and is ADA\n",
      "360 surround-view camera in page and is BC\n",
      "360 surround-view camera in page and is SVC\n",
      "automated parking system in page and is APA\n",
      "traffic sign recognition in page and is ISA/TSR\n",
      "automatic high-beam in page and is AHB\n",
      "selec-speed in page and is HDC\n",
      "21 ADAS features found\n"
     ]
    }
   ],
   "source": [
    "getjeep('https://www.jeep.com/bmo.grand_wagoneer.2022.html#/models/2022/grand_wagoneer', 'Jeep', 'Grand Wagoneer', ['Series I', 'Series II', 'Obsidian', 'Series III'], '2022', 'SUV')"
   ]
  },
  {
   "cell_type": "markdown",
   "metadata": {
    "heading_collapsed": true
   },
   "source": [
    "# Subaru"
   ]
  },
  {
   "cell_type": "code",
   "execution_count": 147,
   "metadata": {
    "hidden": true
   },
   "outputs": [
    {
     "name": "stdout",
     "output_type": "stream",
     "text": [
      "From website https://www.subaru.com/build-your-own/2021/IMP/MJA/5MT.html\n",
      "rear-vision camera in page and is BC\n",
      "brake assist in page and is BAS\n",
      "electronic cruise control in page and is CC\n",
      "3 ADAS features found\n",
      "From website https://www.subaru.com/build-your-own/2021/IMP/MLA/5MT.html\n",
      "rear-vision camera in page and is BC\n",
      "brake assist in page and is BAS\n",
      "electronic cruise control in page and is CC\n",
      "3 ADAS features found\n",
      "From website https://www.subaru.com/build-your-own/2021/IMP/MJD/CVT.html\n",
      "rear-vision camera in page and is BC\n",
      "eyesight in page and is FCW\n",
      "brake assist in page and is BAS\n",
      "eyesight in page and is BAS\n",
      "eyesight in page and is AEB\n",
      "electronic cruise control in page and is CC\n",
      "eyesight in page and is CC\n",
      "eyesight in page and is ACC\n",
      "eyesight in page and is LKA\n",
      "7 ADAS features found\n",
      "From website https://www.subaru.com/build-your-own/2021/IMP/MLD/CVT.html\n",
      "rear-vision camera in page and is BC\n",
      "eyesight in page and is FCW\n",
      "brake assist in page and is BAS\n",
      "eyesight in page and is BAS\n",
      "eyesight in page and is AEB\n",
      "electronic cruise control in page and is CC\n",
      "eyesight in page and is CC\n",
      "eyesight in page and is ACC\n",
      "eyesight in page and is LKA\n",
      "7 ADAS features found\n",
      "From website https://www.subaru.com/build-your-own/2021/IMP/MJF/CVT.html\n",
      "rear-vision camera in page and is BC\n",
      "eyesight in page and is FCW\n",
      "brake assist in page and is BAS\n",
      "eyesight in page and is BAS\n",
      "eyesight in page and is AEB\n",
      "electronic cruise control in page and is CC\n",
      "eyesight in page and is CC\n",
      "eyesight in page and is ACC\n",
      "eyesight in page and is LKA\n",
      "7 ADAS features found\n",
      "From website https://www.subaru.com/build-your-own/2021/IMP/MLE/5MT.html\n",
      "rear-vision camera in page and is BC\n",
      "brake assist in page and is BAS\n",
      "electronic cruise control in page and is CC\n",
      "3 ADAS features found\n",
      "From website https://www.subaru.com/build-your-own/2021/IMP/MJG/CVT.html\n",
      "reverse automatic braking in page and is PCW\n",
      "rear-vision camera in page and is BC\n",
      "high beam assist in page and is AHB\n",
      "lane change assist in page and is BSW\n",
      "blind-spot detection in page and is BSW\n",
      "blind-spot detection with lane change assist in page and is BSW\n",
      "eyesight in page and is FCW\n",
      "rear cross-traffic alert in page and is RCTW\n",
      "brake assist in page and is BAS\n",
      "eyesight in page and is BAS\n",
      "eyesight in page and is AEB\n",
      "reverse automatic braking in page and is RAEB\n",
      "electronic cruise control in page and is CC\n",
      "eyesight in page and is CC\n",
      "eyesight in page and is ACC\n",
      "eyesight in page and is LKA\n",
      "12 ADAS features found\n",
      "From website https://www.subaru.com/build-your-own/2021/IMP/MLG/CVT.html\n",
      "reverse automatic braking in page and is PCW\n",
      "rear-vision camera in page and is BC\n",
      "high beam assist in page and is AHB\n",
      "lane change assist in page and is BSW\n",
      "blind-spot detection in page and is BSW\n",
      "blind-spot detection with lane change assist in page and is BSW\n",
      "eyesight in page and is FCW\n",
      "rear cross-traffic alert in page and is RCTW\n",
      "brake assist in page and is BAS\n",
      "eyesight in page and is BAS\n",
      "eyesight in page and is AEB\n",
      "reverse automatic braking in page and is RAEB\n",
      "electronic cruise control in page and is CC\n",
      "eyesight in page and is CC\n",
      "eyesight in page and is ACC\n",
      "eyesight in page and is LKA\n",
      "12 ADAS features found\n"
     ]
    }
   ],
   "source": [
    "websiteoutput(\"https://www.subaru.com/build-your-own/2021/IMP/MJA/5MT.html\", 'Subaru', 'Impreza', 'Sedan', '2021', 'Sedan')\n",
    "websiteoutput(\"https://www.subaru.com/build-your-own/2021/IMP/MLA/5MT.html\", 'Subaru', 'Impreza', '5-Door', '2021', 'Hatchback')\n",
    "websiteoutput(\"https://www.subaru.com/build-your-own/2021/IMP/MJD/CVT.html\", 'Subaru', 'Impreza', 'Premium Sedan', '2021', 'Sedan')\n",
    "websiteoutput(\"https://www.subaru.com/build-your-own/2021/IMP/MLD/CVT.html\", 'Subaru', 'Impreza', 'Premium 5-Door', '2021', 'Hatchback')\n",
    "websiteoutput(\"https://www.subaru.com/build-your-own/2021/IMP/MJF/CVT.html\", 'Subaru', 'Impreza', 'Sport Sedan', '2021', 'Sedan')\n",
    "websiteoutput(\"https://www.subaru.com/build-your-own/2021/IMP/MLE/5MT.html\", 'Subaru', 'Impreza', 'Sport 5-Door', '2021', 'Hatchback')\n",
    "websiteoutput(\"https://www.subaru.com/build-your-own/2021/IMP/MJG/CVT.html\", 'Subaru', 'Impreza', 'Limited Sedan', '2021', 'Sedan')\n",
    "websiteoutput(\"https://www.subaru.com/build-your-own/2021/IMP/MLG/CVT.html\", 'Subaru', 'Impreza', 'Limited 5-Door', '2021', 'Hatchback')"
   ]
  },
  {
   "cell_type": "code",
   "execution_count": 148,
   "metadata": {
    "hidden": true
   },
   "outputs": [
    {
     "name": "stdout",
     "output_type": "stream",
     "text": [
      "From website https://www.subaru.com/build-your-own/2022/LEG/NAB/CVT.html\n",
      "rear-vision camera in page and is BC\n",
      "high beam assist in page and is AHB\n",
      "eyesight in page and is FCW\n",
      "brake assist in page and is BAS\n",
      "eyesight in page and is BAS\n",
      "eyesight in page and is AEB\n",
      "adaptive cruise control in page and is CC\n",
      "eyesight in page and is CC\n",
      "advanced adaptive cruise control in page and is CC\n",
      "adaptive cruise control in page and is ACC\n",
      "eyesight in page and is ACC\n",
      "advanced adaptive cruise control in page and is ACC\n",
      "eyesight in page and is LKA\n",
      "advanced adaptive cruise control in page and is LKA\n",
      "advanced adaptive cruise control in page and is ADA\n",
      "9 ADAS features found\n",
      "From website https://www.subaru.com/build-your-own/2022/LEG/NAD/CVT.html\n",
      "rear-vision camera in page and is BC\n",
      "high beam assist in page and is AHB\n",
      "eyesight in page and is FCW\n",
      "brake assist in page and is BAS\n",
      "eyesight in page and is BAS\n",
      "eyesight in page and is AEB\n",
      "adaptive cruise control in page and is CC\n",
      "eyesight in page and is CC\n",
      "advanced adaptive cruise control in page and is CC\n",
      "adaptive cruise control in page and is ACC\n",
      "eyesight in page and is ACC\n",
      "advanced adaptive cruise control in page and is ACC\n",
      "eyesight in page and is LKA\n",
      "advanced adaptive cruise control in page and is LKA\n",
      "advanced adaptive cruise control in page and is ADA\n",
      "9 ADAS features found\n",
      "From website https://www.subaru.com/build-your-own/2022/LEG/NAE/CVT.html\n",
      "reverse automatic braking in page and is PCW\n",
      "rear-vision camera in page and is BC\n",
      "high beam assist in page and is AHB\n",
      "lane change assist in page and is BSW\n",
      "blind-spot detection in page and is BSW\n",
      "blind-spot detection with lane change assist in page and is BSW\n",
      "eyesight in page and is FCW\n",
      "rear cross-traffic alert in page and is RCTW\n",
      "brake assist in page and is BAS\n",
      "eyesight in page and is BAS\n",
      "eyesight in page and is AEB\n",
      "reverse automatic braking in page and is RAEB\n",
      "adaptive cruise control in page and is CC\n",
      "eyesight in page and is CC\n",
      "advanced adaptive cruise control in page and is CC\n",
      "adaptive cruise control in page and is ACC\n",
      "eyesight in page and is ACC\n",
      "advanced adaptive cruise control in page and is ACC\n",
      "eyesight in page and is LKA\n",
      "advanced adaptive cruise control in page and is LKA\n",
      "advanced adaptive cruise control in page and is ADA\n",
      "13 ADAS features found\n",
      "From website https://www.subaru.com/build-your-own/2022/LEG/NAF/CVT.html\n",
      "reverse automatic braking in page and is PCW\n",
      "rear-vision camera in page and is BC\n",
      "high beam assist in page and is AHB\n",
      "lane change assist in page and is BSW\n",
      "blind-spot detection in page and is BSW\n",
      "blind-spot detection with lane change assist in page and is BSW\n",
      "eyesight in page and is FCW\n",
      "rear cross-traffic alert in page and is RCTW\n",
      "brake assist in page and is BAS\n",
      "eyesight in page and is BAS\n",
      "eyesight in page and is AEB\n",
      "reverse automatic braking in page and is RAEB\n",
      "adaptive cruise control in page and is CC\n",
      "eyesight in page and is CC\n",
      "advanced adaptive cruise control in page and is CC\n",
      "adaptive cruise control in page and is ACC\n",
      "eyesight in page and is ACC\n",
      "advanced adaptive cruise control in page and is ACC\n",
      "eyesight in page and is LKA\n",
      "advanced adaptive cruise control in page and is LKA\n",
      "advanced adaptive cruise control in page and is ADA\n",
      "13 ADAS features found\n",
      "From website https://www.subaru.com/build-your-own/2022/LEG/NAJ/CVT.html\n",
      "reverse automatic braking in page and is PCW\n",
      "rear-vision camera in page and is BC\n",
      "high beam assist in page and is AHB\n",
      "driverfocus in page and is DM\n",
      "lane change assist in page and is BSW\n",
      "blind-spot detection in page and is BSW\n",
      "blind-spot detection with lane change assist in page and is BSW\n",
      "eyesight in page and is FCW\n",
      "rear cross-traffic alert in page and is RCTW\n",
      "brake assist in page and is BAS\n",
      "eyesight in page and is BAS\n",
      "eyesight in page and is AEB\n",
      "reverse automatic braking in page and is RAEB\n",
      "adaptive cruise control in page and is CC\n",
      "eyesight in page and is CC\n",
      "advanced adaptive cruise control in page and is CC\n",
      "adaptive cruise control in page and is ACC\n",
      "eyesight in page and is ACC\n",
      "advanced adaptive cruise control in page and is ACC\n",
      "eyesight in page and is LKA\n",
      "advanced adaptive cruise control in page and is LKA\n",
      "advanced adaptive cruise control in page and is ADA\n",
      "14 ADAS features found\n",
      "From website https://www.subaru.com/build-your-own/2022/LEG/NAL/CVT.html\n",
      "reverse automatic braking in page and is PCW\n",
      "rear-vision camera in page and is BC\n",
      "high beam assist in page and is AHB\n",
      "driverfocus in page and is DM\n",
      "lane change assist in page and is BSW\n",
      "blind-spot detection in page and is BSW\n",
      "blind-spot detection with lane change assist in page and is BSW\n",
      "eyesight in page and is FCW\n",
      "rear cross-traffic alert in page and is RCTW\n",
      "brake assist in page and is BAS\n",
      "eyesight in page and is BAS\n",
      "eyesight in page and is AEB\n",
      "reverse automatic braking in page and is RAEB\n",
      "adaptive cruise control in page and is CC\n",
      "eyesight in page and is CC\n",
      "advanced adaptive cruise control in page and is CC\n",
      "adaptive cruise control in page and is ACC\n",
      "eyesight in page and is ACC\n",
      "advanced adaptive cruise control in page and is ACC\n",
      "eyesight in page and is LKA\n",
      "advanced adaptive cruise control in page and is LKA\n",
      "advanced adaptive cruise control in page and is ADA\n",
      "14 ADAS features found\n"
     ]
    }
   ],
   "source": [
    "websiteoutput(\"https://www.subaru.com/build-your-own/2022/LEG/NAB/CVT.html\", 'Subaru', 'Legacy', 'Legacy', '2022', 'Sedan')\n",
    "websiteoutput(\"https://www.subaru.com/build-your-own/2022/LEG/NAD/CVT.html\", 'Subaru', 'Legacy', 'Premium', '2022', 'Sedan')\n",
    "websiteoutput(\"https://www.subaru.com/build-your-own/2022/LEG/NAE/CVT.html\", 'Subaru', 'Legacy', 'Sport', '2022', 'Sedan')\n",
    "websiteoutput(\"https://www.subaru.com/build-your-own/2022/LEG/NAF/CVT.html\", 'Subaru', 'Legacy', 'Limited', '2022', 'Sedan')\n",
    "websiteoutput(\"https://www.subaru.com/build-your-own/2022/LEG/NAJ/CVT.html\", 'Subaru', 'Legacy', 'Limited XT', '2022', 'Sedan')\n",
    "websiteoutput(\"https://www.subaru.com/build-your-own/2022/LEG/NAL/CVT.html\", 'Subaru', 'Legacy', 'Touring XT', '2022', 'Sedan')"
   ]
  },
  {
   "cell_type": "code",
   "execution_count": 155,
   "metadata": {
    "hidden": true
   },
   "outputs": [
    {
     "name": "stdout",
     "output_type": "stream",
     "text": [
      "From website https://www.subaru.com/build-your-own/2021/CTK/MRA/6MT.html\n",
      "rear-vision camera in page and is BC\n",
      "brake assist in page and is BAS\n",
      "electronic cruise control in page and is CC\n",
      "3 ADAS features found\n",
      "From website https://www.subaru.com/build-your-own/2021/CTK/MRC/6MT.html\n",
      "rear-vision camera in page and is BC\n",
      "brake assist in page and is BAS\n",
      "electronic cruise control in page and is CC\n",
      "3 ADAS features found\n",
      "From website https://www.subaru.com/build-your-own/2021/CTK/MRE/CVT.html\n",
      "rear-vision camera in page and is BC\n",
      "hill descent control in page and is HDC\n",
      "eyesight in page and is FCW\n",
      "brake assist in page and is BAS\n",
      "eyesight in page and is BAS\n",
      "eyesight in page and is AEB\n",
      "electronic cruise control in page and is CC\n",
      "eyesight in page and is CC\n",
      "eyesight in page and is ACC\n",
      "eyesight in page and is LKA\n",
      "8 ADAS features found\n",
      "From website https://www.subaru.com/build-your-own/2021/CTK/MRF/CVT.html\n",
      "reverse automatic braking in page and is PCW\n",
      "rear-vision camera in page and is BC\n",
      "high beam assist in page and is AHB\n",
      "hill descent control in page and is HDC\n",
      "blind-spot detection in page and is BSW\n",
      "eyesight in page and is FCW\n",
      "rear cross-traffic alert in page and is RCTW\n",
      "brake assist in page and is BAS\n",
      "eyesight in page and is BAS\n",
      "eyesight in page and is AEB\n",
      "reverse automatic braking in page and is RAEB\n",
      "electronic cruise control in page and is CC\n",
      "eyesight in page and is CC\n",
      "eyesight in page and is ACC\n",
      "eyesight in page and is LKA\n",
      "13 ADAS features found\n",
      "From website https://www.subaru.com/build-your-own/2021/CTK/MRH/CVT.html\n",
      "reverse automatic braking in page and is PCW\n",
      "rear-vision camera in page and is BC\n",
      "high beam assist in page and is AHB\n",
      "hill descent control in page and is HDC\n",
      "blind-spot detection in page and is BSW\n",
      "eyesight in page and is FCW\n",
      "rear cross-traffic alert in page and is RCTW\n",
      "brake assist in page and is BAS\n",
      "eyesight in page and is BAS\n",
      "eyesight in page and is AEB\n",
      "reverse automatic braking in page and is RAEB\n",
      "electronic cruise control in page and is CC\n",
      "eyesight in page and is CC\n",
      "eyesight in page and is ACC\n",
      "eyesight in page and is LKA\n",
      "13 ADAS features found\n"
     ]
    }
   ],
   "source": [
    "websiteoutput(\"https://www.subaru.com/build-your-own/2021/CTK/MRA/6MT.html\", 'Subaru', 'Crosstrek', 'Crosstrek', '2021', 'SUV')\n",
    "websiteoutput(\"https://www.subaru.com/build-your-own/2021/CTK/MRC/6MT.html\", 'Subaru', 'Crosstrek', 'Premium', '2021', 'SUV')\n",
    "websiteoutput(\"https://www.subaru.com/build-your-own/2021/CTK/MRE/CVT.html\", 'Subaru', 'Crosstrek', 'Sport', '2021', 'SUV')\n",
    "websiteoutput(\"https://www.subaru.com/build-your-own/2021/CTK/MRF/CVT.html\", 'Subaru', 'Crosstrek', 'Limited', '2021', 'SUV')\n",
    "websiteoutput(\"https://www.subaru.com/build-your-own/2021/CTK/MRH/CVT.html\", 'Subaru', 'Crosstrek', 'Hybrid', '2021', 'SUV')"
   ]
  },
  {
   "cell_type": "code",
   "execution_count": 150,
   "metadata": {
    "hidden": true
   },
   "outputs": [
    {
     "name": "stdout",
     "output_type": "stream",
     "text": [
      "From website https://www.subaru.com/build-your-own/2021/FOR/MFB/CVT.html\n",
      "rear-vision camera in page and is BC\n",
      "high beam assist in page and is AHB\n",
      "eyesight in page and is FCW\n",
      "brake assist in page and is BAS\n",
      "eyesight in page and is BAS\n",
      "eyesight in page and is AEB\n",
      "eyesight in page and is CC\n",
      "eyesight in page and is ACC\n",
      "eyesight in page and is LKA\n",
      "8 ADAS features found\n",
      "From website https://www.subaru.com/build-your-own/2021/FOR/MFF/CVT.html\n",
      "rear-vision camera in page and is BC\n",
      "high beam assist in page and is AHB\n",
      "hill descent control in page and is HDC\n",
      "eyesight in page and is FCW\n",
      "brake assist in page and is BAS\n",
      "eyesight in page and is BAS\n",
      "eyesight in page and is AEB\n",
      "eyesight in page and is CC\n",
      "eyesight in page and is ACC\n",
      "eyesight in page and is LKA\n",
      "9 ADAS features found\n",
      "From website https://www.subaru.com/build-your-own/2021/FOR/MFG/CVT.html\n",
      "rear-vision camera in page and is BC\n",
      "high beam assist in page and is AHB\n",
      "hill descent control in page and is HDC\n",
      "lane change assist in page and is BSW\n",
      "blind-spot detection in page and is BSW\n",
      "blind-spot detection with lane change assist in page and is BSW\n",
      "eyesight in page and is FCW\n",
      "rear cross-traffic alert in page and is RCTW\n",
      "brake assist in page and is BAS\n",
      "eyesight in page and is BAS\n",
      "eyesight in page and is AEB\n",
      "eyesight in page and is CC\n",
      "eyesight in page and is ACC\n",
      "eyesight in page and is LKA\n",
      "11 ADAS features found\n",
      "From website https://www.subaru.com/build-your-own/2021/FOR/MFI/CVT.html\n",
      "rear-vision camera in page and is BC\n",
      "high beam assist in page and is AHB\n",
      "hill descent control in page and is HDC\n",
      "lane change assist in page and is BSW\n",
      "blind-spot detection in page and is BSW\n",
      "blind-spot detection with lane change assist in page and is BSW\n",
      "eyesight in page and is FCW\n",
      "rear cross-traffic alert in page and is RCTW\n",
      "brake assist in page and is BAS\n",
      "eyesight in page and is BAS\n",
      "eyesight in page and is AEB\n",
      "eyesight in page and is CC\n",
      "eyesight in page and is ACC\n",
      "eyesight in page and is LKA\n",
      "11 ADAS features found\n",
      "From website https://www.subaru.com/build-your-own/2021/FOR/MFJ/CVT.html\n",
      "reverse automatic braking in page and is PCW\n",
      "rear-vision camera in page and is BC\n",
      "high beam assist in page and is AHB\n",
      "driverfocus in page and is DM\n",
      "hill descent control in page and is HDC\n",
      "lane change assist in page and is BSW\n",
      "blind-spot detection in page and is BSW\n",
      "blind-spot detection with lane change assist in page and is BSW\n",
      "eyesight in page and is FCW\n",
      "rear cross-traffic alert in page and is RCTW\n",
      "brake assist in page and is BAS\n",
      "eyesight in page and is BAS\n",
      "eyesight in page and is AEB\n",
      "reverse automatic braking in page and is RAEB\n",
      "eyesight in page and is CC\n",
      "eyesight in page and is ACC\n",
      "eyesight in page and is LKA\n",
      "14 ADAS features found\n"
     ]
    }
   ],
   "source": [
    "websiteoutput(\"https://www.subaru.com/build-your-own/2021/FOR/MFB/CVT.html\", 'Subaru', 'Forester', 'Forester', '2021', 'SUV')\n",
    "websiteoutput(\"https://www.subaru.com/build-your-own/2021/FOR/MFF/CVT.html\", 'Subaru', 'Forester', 'Premium', '2021', 'SUV')\n",
    "websiteoutput(\"https://www.subaru.com/build-your-own/2021/FOR/MFG/CVT.html\", 'Subaru', 'Forester', 'Sport', '2021', 'SUV')\n",
    "websiteoutput(\"https://www.subaru.com/build-your-own/2021/FOR/MFI/CVT.html\", 'Subaru', 'Forester', 'Limited', '2021', 'SUV')\n",
    "websiteoutput(\"https://www.subaru.com/build-your-own/2021/FOR/MFJ/CVT.html\", 'Subaru', 'Forester', 'Touring', '2021', 'SUV')"
   ]
  },
  {
   "cell_type": "code",
   "execution_count": 151,
   "metadata": {
    "hidden": true
   },
   "outputs": [
    {
     "name": "stdout",
     "output_type": "stream",
     "text": [
      "From website https://www.subaru.com/build-your-own/2022/OBK/NDB/CVT.html\n",
      "rear-vision camera in page and is BC\n",
      "high beam assist in page and is AHB\n",
      "hill descent control in page and is HDC\n",
      "eyesight in page and is FCW\n",
      "brake assist in page and is BAS\n",
      "eyesight in page and is BAS\n",
      "eyesight in page and is AEB\n",
      "adaptive cruise control in page and is CC\n",
      "eyesight in page and is CC\n",
      "advanced adaptive cruise control in page and is CC\n",
      "adaptive cruise control in page and is ACC\n",
      "eyesight in page and is ACC\n",
      "advanced adaptive cruise control in page and is ACC\n",
      "eyesight in page and is LKA\n",
      "advanced adaptive cruise control in page and is LKA\n",
      "advanced adaptive cruise control in page and is ADA\n",
      "10 ADAS features found\n",
      "From website https://www.subaru.com/build-your-own/2022/OBK/NDD/CVT.html\n",
      "rear-vision camera in page and is BC\n",
      "high beam assist in page and is AHB\n",
      "hill descent control in page and is HDC\n",
      "eyesight in page and is FCW\n",
      "brake assist in page and is BAS\n",
      "eyesight in page and is BAS\n",
      "eyesight in page and is AEB\n",
      "adaptive cruise control in page and is CC\n",
      "eyesight in page and is CC\n",
      "advanced adaptive cruise control in page and is CC\n",
      "adaptive cruise control in page and is ACC\n",
      "eyesight in page and is ACC\n",
      "advanced adaptive cruise control in page and is ACC\n",
      "eyesight in page and is LKA\n",
      "advanced adaptive cruise control in page and is LKA\n",
      "advanced adaptive cruise control in page and is ADA\n",
      "10 ADAS features found\n",
      "From website https://www.subaru.com/build-your-own/2022/OBK/NDF/CVT.html\n",
      "reverse automatic braking in page and is PCW\n",
      "rear-vision camera in page and is BC\n",
      "high beam assist in page and is AHB\n",
      "hill descent control in page and is HDC\n",
      "lane change assist in page and is BSW\n",
      "blind-spot detection in page and is BSW\n",
      "blind-spot detection with lane change assist in page and is BSW\n",
      "eyesight in page and is FCW\n",
      "rear cross-traffic alert in page and is RCTW\n",
      "brake assist in page and is BAS\n",
      "eyesight in page and is BAS\n",
      "eyesight in page and is AEB\n",
      "reverse automatic braking in page and is RAEB\n",
      "adaptive cruise control in page and is CC\n",
      "eyesight in page and is CC\n",
      "advanced adaptive cruise control in page and is CC\n",
      "adaptive cruise control in page and is ACC\n",
      "eyesight in page and is ACC\n",
      "advanced adaptive cruise control in page and is ACC\n",
      "eyesight in page and is LKA\n",
      "advanced adaptive cruise control in page and is LKA\n",
      "advanced adaptive cruise control in page and is ADA\n",
      "14 ADAS features found\n",
      "From website https://www.subaru.com/build-your-own/2022/OBK/NDG/CVT.html\n",
      "reverse automatic braking in page and is PCW\n",
      "rear-vision camera in page and is BC\n",
      "high beam assist in page and is AHB\n",
      "driverfocus in page and is DM\n",
      "hill descent control in page and is HDC\n",
      "lane change assist in page and is BSW\n",
      "blind-spot detection in page and is BSW\n",
      "blind-spot detection with lane change assist in page and is BSW\n",
      "eyesight in page and is FCW\n",
      "rear cross-traffic alert in page and is RCTW\n",
      "brake assist in page and is BAS\n",
      "eyesight in page and is BAS\n",
      "eyesight in page and is AEB\n",
      "reverse automatic braking in page and is RAEB\n",
      "adaptive cruise control in page and is CC\n",
      "eyesight in page and is CC\n",
      "advanced adaptive cruise control in page and is CC\n",
      "adaptive cruise control in page and is ACC\n",
      "eyesight in page and is ACC\n",
      "advanced adaptive cruise control in page and is ACC\n",
      "eyesight in page and is LKA\n",
      "advanced adaptive cruise control in page and is LKA\n",
      "advanced adaptive cruise control in page and is ADA\n",
      "15 ADAS features found\n",
      "From website https://www.subaru.com/build-your-own/2022/OBK/NDH/CVT.html\n",
      "rear-vision camera in page and is BC\n",
      "high beam assist in page and is AHB\n",
      "hill descent control in page and is HDC\n",
      "lane change assist in page and is BSW\n",
      "blind-spot detection in page and is BSW\n",
      "blind-spot detection with lane change assist in page and is BSW\n",
      "eyesight in page and is FCW\n",
      "rear cross-traffic alert in page and is RCTW\n",
      "brake assist in page and is BAS\n",
      "eyesight in page and is BAS\n",
      "eyesight in page and is AEB\n",
      "adaptive cruise control in page and is CC\n",
      "eyesight in page and is CC\n",
      "advanced adaptive cruise control in page and is CC\n",
      "adaptive cruise control in page and is ACC\n",
      "eyesight in page and is ACC\n",
      "advanced adaptive cruise control in page and is ACC\n",
      "eyesight in page and is LKA\n",
      "advanced adaptive cruise control in page and is LKA\n",
      "advanced adaptive cruise control in page and is ADA\n",
      "12 ADAS features found\n",
      "From website https://www.subaru.com/build-your-own/2022/OBK/NDI/CVT.html\n",
      "rear-vision camera in page and is BC\n",
      "high beam assist in page and is AHB\n",
      "hill descent control in page and is HDC\n",
      "lane change assist in page and is BSW\n",
      "blind-spot detection in page and is BSW\n",
      "blind-spot detection with lane change assist in page and is BSW\n",
      "eyesight in page and is FCW\n",
      "rear cross-traffic alert in page and is RCTW\n",
      "brake assist in page and is BAS\n",
      "eyesight in page and is BAS\n",
      "eyesight in page and is AEB\n",
      "adaptive cruise control in page and is CC\n",
      "eyesight in page and is CC\n",
      "advanced adaptive cruise control in page and is CC\n",
      "adaptive cruise control in page and is ACC\n",
      "eyesight in page and is ACC\n",
      "advanced adaptive cruise control in page and is ACC\n",
      "eyesight in page and is LKA\n",
      "advanced adaptive cruise control in page and is LKA\n",
      "advanced adaptive cruise control in page and is ADA\n",
      "12 ADAS features found\n",
      "From website https://www.subaru.com/build-your-own/2022/OBK/NDJ/CVT.html\n",
      "reverse automatic braking in page and is PCW\n",
      "rear-vision camera in page and is BC\n",
      "high beam assist in page and is AHB\n",
      "driverfocus in page and is DM\n",
      "hill descent control in page and is HDC\n",
      "lane change assist in page and is BSW\n",
      "blind-spot detection in page and is BSW\n",
      "blind-spot detection with lane change assist in page and is BSW\n",
      "eyesight in page and is FCW\n",
      "rear cross-traffic alert in page and is RCTW\n",
      "brake assist in page and is BAS\n",
      "eyesight in page and is BAS\n",
      "eyesight in page and is AEB\n",
      "reverse automatic braking in page and is RAEB\n",
      "adaptive cruise control in page and is CC\n",
      "eyesight in page and is CC\n",
      "advanced adaptive cruise control in page and is CC\n",
      "adaptive cruise control in page and is ACC\n",
      "eyesight in page and is ACC\n",
      "advanced adaptive cruise control in page and is ACC\n",
      "eyesight in page and is LKA\n",
      "advanced adaptive cruise control in page and is LKA\n",
      "advanced adaptive cruise control in page and is ADA\n",
      "15 ADAS features found\n",
      "From website https://www.subaru.com/build-your-own/2022/OBK/NDL/CVT.html\n",
      "reverse automatic braking in page and is PCW\n",
      "rear-vision camera in page and is BC\n",
      "high beam assist in page and is AHB\n",
      "driverfocus in page and is DM\n",
      "hill descent control in page and is HDC\n",
      "lane change assist in page and is BSW\n",
      "blind-spot detection in page and is BSW\n",
      "blind-spot detection with lane change assist in page and is BSW\n",
      "eyesight in page and is FCW\n",
      "rear cross-traffic alert in page and is RCTW\n",
      "brake assist in page and is BAS\n",
      "eyesight in page and is BAS\n",
      "eyesight in page and is AEB\n",
      "reverse automatic braking in page and is RAEB\n",
      "adaptive cruise control in page and is CC\n",
      "eyesight in page and is CC\n",
      "advanced adaptive cruise control in page and is CC\n",
      "adaptive cruise control in page and is ACC\n",
      "eyesight in page and is ACC\n",
      "advanced adaptive cruise control in page and is ACC\n",
      "eyesight in page and is LKA\n",
      "advanced adaptive cruise control in page and is LKA\n",
      "advanced adaptive cruise control in page and is ADA\n",
      "15 ADAS features found\n"
     ]
    }
   ],
   "source": [
    "websiteoutput(\"https://www.subaru.com/build-your-own/2022/OBK/NDB/CVT.html\", 'Subaru', 'Outback', 'Outback', '2022', 'SUV')\n",
    "websiteoutput(\"https://www.subaru.com/build-your-own/2022/OBK/NDD/CVT.html\", 'Subaru', 'Outback', 'Premium', '2022', 'SUV')\n",
    "websiteoutput(\"https://www.subaru.com/build-your-own/2022/OBK/NDF/CVT.html\", 'Subaru', 'Outback', 'Limited', '2022', 'SUV')\n",
    "websiteoutput(\"https://www.subaru.com/build-your-own/2022/OBK/NDG/CVT.html\", 'Subaru', 'Outback', 'Touring', '2022', 'SUV')\n",
    "websiteoutput(\"https://www.subaru.com/build-your-own/2022/OBK/NDH/CVT.html\", 'Subaru', 'Outback', 'Onyx Edition XT', '2022', 'SUV')\n",
    "websiteoutput(\"https://www.subaru.com/build-your-own/2022/OBK/NDI/CVT.html\", 'Subaru', 'Outback', 'Wilderness', '2022', 'SUV')\n",
    "websiteoutput(\"https://www.subaru.com/build-your-own/2022/OBK/NDJ/CVT.html\", 'Subaru', 'Outback', 'Limited XT', '2022', 'SUV')\n",
    "websiteoutput(\"https://www.subaru.com/build-your-own/2022/OBK/NDL/CVT.html\", 'Subaru', 'Outback', 'Touring XT', '2022', 'SUV')"
   ]
  },
  {
   "cell_type": "code",
   "execution_count": 152,
   "metadata": {
    "hidden": true
   },
   "outputs": [
    {
     "name": "stdout",
     "output_type": "stream",
     "text": [
      "From website https://www.subaru.com/build-your-own/2021/ASC/MCA/CVT.html\n",
      "rear-vision camera in page and is BC\n",
      "high beam assist in page and is AHB\n",
      "hill descent control in page and is HDC\n",
      "eyesight in page and is FCW\n",
      "brake assist in page and is BAS\n",
      "eyesight in page and is BAS\n",
      "eyesight in page and is AEB\n",
      "eyesight in page and is CC\n",
      "eyesight in page and is ACC\n",
      "eyesight in page and is LKA\n",
      "9 ADAS features found\n",
      "From website https://www.subaru.com/build-your-own/2021/ASC/MCB/CVT.html\n",
      "rear-vision camera in page and is BC\n",
      "high beam assist in page and is AHB\n",
      "hill descent control in page and is HDC\n",
      "lane change assist in page and is BSW\n",
      "blind-spot detection in page and is BSW\n",
      "blind-spot detection with lane change assist in page and is BSW\n",
      "eyesight in page and is FCW\n",
      "rear cross-traffic alert in page and is RCTW\n",
      "brake assist in page and is BAS\n",
      "eyesight in page and is BAS\n",
      "eyesight in page and is AEB\n",
      "eyesight in page and is CC\n",
      "eyesight in page and is ACC\n",
      "eyesight in page and is LKA\n",
      "11 ADAS features found\n",
      "From website https://www.subaru.com/build-your-own/2021/ASC/MCD/CVT.html\n",
      "reverse automatic braking in page and is PCW\n",
      "rear-vision camera in page and is BC\n",
      "high beam assist in page and is AHB\n",
      "hill descent control in page and is HDC\n",
      "lane change assist in page and is BSW\n",
      "blind-spot detection in page and is BSW\n",
      "blind-spot detection with lane change assist in page and is BSW\n",
      "eyesight in page and is FCW\n",
      "rear cross-traffic alert in page and is RCTW\n",
      "brake assist in page and is BAS\n",
      "eyesight in page and is BAS\n",
      "eyesight in page and is AEB\n",
      "reverse automatic braking in page and is RAEB\n",
      "eyesight in page and is CC\n",
      "eyesight in page and is ACC\n",
      "eyesight in page and is LKA\n",
      "13 ADAS features found\n",
      "From website https://www.subaru.com/build-your-own/2021/ASC/MCG/CVT.html\n",
      "reverse automatic braking in page and is PCW\n",
      "rear-vision camera in page and is BC\n",
      "high beam assist in page and is AHB\n",
      "hill descent control in page and is HDC\n",
      "lane change assist in page and is BSW\n",
      "blind-spot detection in page and is BSW\n",
      "blind-spot detection with lane change assist in page and is BSW\n",
      "eyesight in page and is FCW\n",
      "rear cross-traffic alert in page and is RCTW\n",
      "brake assist in page and is BAS\n",
      "eyesight in page and is BAS\n",
      "eyesight in page and is AEB\n",
      "reverse automatic braking in page and is RAEB\n",
      "eyesight in page and is CC\n",
      "eyesight in page and is ACC\n",
      "eyesight in page and is LKA\n",
      "13 ADAS features found\n"
     ]
    }
   ],
   "source": [
    "websiteoutput(\"https://www.subaru.com/build-your-own/2021/ASC/MCA/CVT.html\", 'Subaru', 'Ascent', 'Ascent', '2021', 'SUV')\n",
    "websiteoutput(\"https://www.subaru.com/build-your-own/2021/ASC/MCB/CVT.html\", 'Subaru', 'Ascent', 'Premium', '2021', 'SUV')\n",
    "websiteoutput(\"https://www.subaru.com/build-your-own/2021/ASC/MCD/CVT.html\", 'Subaru', 'Ascent', 'Limited', '2021', 'SUV')\n",
    "websiteoutput(\"https://www.subaru.com/build-your-own/2021/ASC/MCG/CVT.html\", 'Subaru', 'Ascent', 'Touring', '2021', 'SUV')"
   ]
  },
  {
   "cell_type": "code",
   "execution_count": 153,
   "metadata": {
    "hidden": true
   },
   "outputs": [
    {
     "name": "stdout",
     "output_type": "stream",
     "text": [
      "From website https://www.subaru.com/build-your-own/2020/BRZ/LZE/6MT.html\n",
      "brake assist in page and is BAS\n",
      "1 ADAS features found\n",
      "From website https://www.subaru.com/build-your-own/2020/BRZ/LZR/6MT.html\n",
      "brake assist in page and is BAS\n",
      "1 ADAS features found\n"
     ]
    }
   ],
   "source": [
    "websiteoutput(\"https://www.subaru.com/build-your-own/2020/BRZ/LZE/6MT.html\", 'Subaru', 'BRZ', 'Limited', '2020', 'Coupe')\n",
    "websiteoutput(\"https://www.subaru.com/build-your-own/2020/BRZ/LZR/6MT.html\", 'Subaru', 'BRZ', 'tS', '2020', 'Coupe')"
   ]
  },
  {
   "cell_type": "code",
   "execution_count": 154,
   "metadata": {
    "hidden": true
   },
   "outputs": [
    {
     "name": "stdout",
     "output_type": "stream",
     "text": [
      "From website https://www.subaru.com/build-your-own/2021/WRX/MUN/6MT.html\n",
      "0 ADAS features found\n",
      "From website https://www.subaru.com/build-your-own/2021/WRX/MUO/6MT.html\n",
      "0 ADAS features found\n",
      "From website https://www.subaru.com/build-your-own/2021/WRX/MUQ/6MT.html\n",
      "rear-vision camera in page and is BC\n",
      "brake assist in page and is BAS\n",
      "electronic cruise control in page and is CC\n",
      "3 ADAS features found\n",
      "From website https://www.subaru.com/build-your-own/2021/WRX/MUS/6MT.html\n",
      "rear-vision camera in page and is BC\n",
      "brake assist in page and is BAS\n",
      "electronic cruise control in page and is CC\n",
      "3 ADAS features found\n",
      "From website https://www.subaru.com/build-your-own/2021/WRX/MUV/6MT.html\n",
      "rear-vision camera in page and is BC\n",
      "lane change assist in page and is BSW\n",
      "blind-spot detection in page and is BSW\n",
      "blind-spot detection with lane change assist in page and is BSW\n",
      "rear cross-traffic alert in page and is RCTW\n",
      "brake assist in page and is BAS\n",
      "electronic cruise control in page and is CC\n",
      "5 ADAS features found\n"
     ]
    }
   ],
   "source": [
    "websiteoutput(\"https://www.subaru.com/build-your-own/2021/WRX/MUN/6MT.html\", 'Subaru', 'WRX', 'WRX', '2021', 'SUV')\n",
    "websiteoutput(\"https://www.subaru.com/build-your-own/2021/WRX/MUO/6MT.html\", 'Subaru', 'WRX', 'Premium', '2021', 'SUV')\n",
    "websiteoutput(\"https://www.subaru.com/build-your-own/2021/WRX/MUQ/6MT.html\", 'Subaru', 'WRX', 'Limited', '2021', 'SUV')\n",
    "websiteoutput(\"https://www.subaru.com/build-your-own/2021/WRX/MUS/6MT.html\", 'Subaru', 'WRX', 'STI', '2021', 'SUV')\n",
    "websiteoutput(\"https://www.subaru.com/build-your-own/2021/WRX/MUV/6MT.html\", 'Subaru', 'WRX', 'STI Limited', '2021', 'SUV')"
   ]
  },
  {
   "cell_type": "markdown",
   "metadata": {
    "heading_collapsed": true
   },
   "source": [
    "# Mercedes Benz"
   ]
  },
  {
   "cell_type": "code",
   "execution_count": 101,
   "metadata": {
    "hidden": true
   },
   "outputs": [
    {
     "name": "stdout",
     "output_type": "stream",
     "text": [
      "From website https://www.mbusa.com/en/vehicles/model/gla/suv/gla250w\n",
      "6 ADAS features found\n",
      "From website https://www.mbusa.com/en/vehicles/model/gla/suv/gla250w4\n",
      "7 ADAS features found\n",
      "From website https://www.mbusa.com/en/vehicles/model/gla/suv/gla35w4\n",
      "7 ADAS features found\n",
      "From website https://www.mbusa.com/en/vehicles/model/gla/suv/gla250w4\n",
      "7 ADAS features found\n"
     ]
    }
   ],
   "source": [
    "websiteoutput('https://www.mbusa.com/en/vehicles/model/gla/suv/gla250w', 'Mercedes Benz', 'GLA', 'GLA 250', '2021', 'SUV')\n",
    "websiteoutput('https://www.mbusa.com/en/vehicles/model/gla/suv/gla250w4', 'Mercedes Benz', 'GLA', 'GLA 250 4MATIC', '2021', 'SUV')\n",
    "websiteoutput('https://www.mbusa.com/en/vehicles/model/gla/suv/gla35w4', 'Mercedes Benz', 'GLA', 'AMG GLA 25', '2021', 'SUV')\n",
    "websiteoutput('https://www.mbusa.com/en/vehicles/model/gla/suv/gla250w4', 'Mercedes Benz', 'GLA', 'AMG GLA 45', '2021', 'SUV')"
   ]
  },
  {
   "cell_type": "code",
   "execution_count": 102,
   "metadata": {
    "hidden": true
   },
   "outputs": [
    {
     "name": "stdout",
     "output_type": "stream",
     "text": [
      "From website https://www.mbusa.com/en/vehicles/model/glb/suv/glb250w\n",
      "6 ADAS features found\n",
      "From website https://www.mbusa.com/en/vehicles/model/glb/suv/glb250w4\n",
      "7 ADAS features found\n",
      "From website https://www.mbusa.com/en/vehicles/model/glb/suv/glb35w4\n",
      "7 ADAS features found\n"
     ]
    }
   ],
   "source": [
    "websiteoutput('https://www.mbusa.com/en/vehicles/model/glb/suv/glb250w', 'Mercedes Benz', 'GLB', 'GLB 250 SUV', '2021', 'SUV')\n",
    "websiteoutput('https://www.mbusa.com/en/vehicles/model/glb/suv/glb250w4', 'Mercedes Benz', 'GLB', 'GLB 250 4MATIC SUV', '2021', 'SUV')\n",
    "websiteoutput('https://www.mbusa.com/en/vehicles/model/glb/suv/glb35w4', 'Mercedes Benz', 'GLB', 'AMG GLB 25 SUV', '2021', 'SUV')"
   ]
  },
  {
   "cell_type": "code",
   "execution_count": 103,
   "metadata": {
    "hidden": true
   },
   "outputs": [
    {
     "name": "stdout",
     "output_type": "stream",
     "text": [
      "From website https://www.mbusa.com/en/vehicles/model/glc/suv/glc300w\n",
      "8 ADAS features found\n",
      "From website https://www.mbusa.com/en/vehicles/model/glc/suv/glc300w4\n",
      "8 ADAS features found\n",
      "From website https://www.mbusa.com/en/vehicles/model/glc/suv/glc43w4\n",
      "8 ADAS features found\n",
      "From website https://www.mbusa.com/en/vehicles/model/glc/suv/glc63w4\n",
      "9 ADAS features found\n"
     ]
    }
   ],
   "source": [
    "websiteoutput('https://www.mbusa.com/en/vehicles/model/glc/suv/glc300w', 'Mercedes Benz', 'GLC', 'GLC 300 SUV', '2021', 'SUV')\n",
    "websiteoutput('https://www.mbusa.com/en/vehicles/model/glc/suv/glc300w4', 'Mercedes Benz', 'GLC', 'GLC 300 4MATIC SUV', '2021', 'SUV')\n",
    "websiteoutput('https://www.mbusa.com/en/vehicles/model/glc/suv/glc43w4', 'Mercedes Benz', 'GLC', 'AMG GLC 43 SUV', '2021', 'SUV')\n",
    "websiteoutput('https://www.mbusa.com/en/vehicles/model/glc/suv/glc63w4', 'Mercedes Benz', 'GLC', 'AMG GLC 63 SUV', '2021', 'SUV')"
   ]
  },
  {
   "cell_type": "code",
   "execution_count": 104,
   "metadata": {
    "hidden": true
   },
   "outputs": [
    {
     "name": "stdout",
     "output_type": "stream",
     "text": [
      "From website https://www.mbusa.com/en/vehicles/model/glc/coupe/glc300c4\n",
      "9 ADAS features found\n",
      "From website https://www.mbusa.com/en/vehicles/model/glc/coupe/glc43c4\n",
      "9 ADAS features found\n",
      "From website https://www.mbusa.com/en/vehicles/model/glc/coupe/glc63c4\n",
      "10 ADAS features found\n",
      "From website https://www.mbusa.com/en/vehicles/model/glc/coupe/glc63c4s\n",
      "10 ADAS features found\n"
     ]
    }
   ],
   "source": [
    "websiteoutput('https://www.mbusa.com/en/vehicles/model/glc/coupe/glc300c4', 'Mercedes Benz', 'GLC', 'GLC 300 4MATIC Coupe', '2021', 'SUV')\n",
    "websiteoutput('https://www.mbusa.com/en/vehicles/model/glc/coupe/glc43c4', 'Mercedes Benz', 'GLC', 'AMG GLC 43 Coupe', '2021', 'SUV')\n",
    "websiteoutput('https://www.mbusa.com/en/vehicles/model/glc/coupe/glc63c4', 'Mercedes Benz', 'GLC', 'AMG GLC 63 Coupe', '2021', 'SUV')\n",
    "websiteoutput('https://www.mbusa.com/en/vehicles/model/glc/coupe/glc63c4s', 'Mercedes Benz', 'GLC', 'AMG GLC 63 S Coupe', '2021', 'SUV')"
   ]
  },
  {
   "cell_type": "code",
   "execution_count": 105,
   "metadata": {
    "hidden": true
   },
   "outputs": [
    {
     "name": "stdout",
     "output_type": "stream",
     "text": [
      "From website https://www.mbusa.com/en/vehicles/model/gle/suv/gle350w\n",
      "7 ADAS features found\n",
      "From website https://www.mbusa.com/en/vehicles/model/gle/suv/gle350w4\n",
      "8 ADAS features found\n",
      "From website https://www.mbusa.com/en/vehicles/model/gle/suv/gle450w4\n",
      "8 ADAS features found\n",
      "From website https://www.mbusa.com/en/vehicles/model/gle/suv/gle580w4\n",
      "9 ADAS features found\n",
      "From website https://www.mbusa.com/en/vehicles/model/gle/suv/gle53w4\n",
      "8 ADAS features found\n",
      "From website https://www.mbusa.com/en/vehicles/model/gle/suv/gle63w4s\n",
      "10 ADAS features found\n"
     ]
    }
   ],
   "source": [
    "websiteoutput('https://www.mbusa.com/en/vehicles/model/gle/suv/gle350w', 'Mercedes Benz', 'GLE', 'GLE 350 SUV', '2021', 'SUV')\n",
    "websiteoutput('https://www.mbusa.com/en/vehicles/model/gle/suv/gle350w4', 'Mercedes Benz', 'GLE', 'GLE 350 4MATIC SUV', '2021', 'SUV')\n",
    "websiteoutput('https://www.mbusa.com/en/vehicles/model/gle/suv/gle450w4', 'Mercedes Benz', 'GLE', 'GLE 450 4MATIC SUV', '2021', 'SUV')\n",
    "websiteoutput('https://www.mbusa.com/en/vehicles/model/gle/suv/gle580w4', 'Mercedes Benz', 'GLE', 'GLE 580 4MATIC SUV', '2021', 'SUV')\n",
    "websiteoutput('https://www.mbusa.com/en/vehicles/model/gle/suv/gle53w4', 'Mercedes Benz', 'GLE', 'AMG GLE 53 4MATIC+ SUV', '2021', 'SUV')\n",
    "websiteoutput('https://www.mbusa.com/en/vehicles/model/gle/suv/gle63w4s', 'Mercedes Benz', 'GLE', 'AMG GLE 63 S 4MATIC+ SUV', '2021', 'SUV')"
   ]
  },
  {
   "cell_type": "code",
   "execution_count": 106,
   "metadata": {
    "hidden": true
   },
   "outputs": [
    {
     "name": "stdout",
     "output_type": "stream",
     "text": [
      "From website https://www.mbusa.com/en/vehicles/model/gle/coupe/gle53c4\n",
      "9 ADAS features found\n",
      "From website https://www.mbusa.com/en/vehicles/model/gle/coupe/gle63c4s\n",
      "10 ADAS features found\n"
     ]
    }
   ],
   "source": [
    "websiteoutput('https://www.mbusa.com/en/vehicles/model/gle/coupe/gle53c4', 'Mercedes Benz', 'GLE', 'AMG GLE 53 Coupe', '2021', 'SUV')\n",
    "websiteoutput('https://www.mbusa.com/en/vehicles/model/gle/coupe/gle63c4s', 'Mercedes Benz', 'GLE', 'AMG GLE 63 S Coupe', '2021', 'SUV')"
   ]
  },
  {
   "cell_type": "code",
   "execution_count": 107,
   "metadata": {
    "hidden": true
   },
   "outputs": [
    {
     "name": "stdout",
     "output_type": "stream",
     "text": [
      "From website https://www.mbusa.com/en/vehicles/model/gls/suv/gls450w4\n",
      "10 ADAS features found\n",
      "From website https://www.mbusa.com/en/vehicles/model/gls/suv/gls580w4\n",
      "10 ADAS features found\n",
      "From website https://www.mbusa.com/en/vehicles/model/gls/suv/gls63w4\n",
      "21 ADAS features found\n"
     ]
    }
   ],
   "source": [
    "websiteoutput('https://www.mbusa.com/en/vehicles/model/gls/suv/gls450w4', 'Mercedes Benz', 'GLS', 'GLS 450 SUV', '2021', 'SUV')\n",
    "websiteoutput('https://www.mbusa.com/en/vehicles/model/gls/suv/gls580w4', 'Mercedes Benz', 'GLS', 'GLS 580 SUV', '2021', 'SUV')\n",
    "websiteoutput('https://www.mbusa.com/en/vehicles/model/gls/suv/gls63w4', 'Mercedes Benz', 'GLS', 'AMG GLS 63 SUV', '2021', 'SUV')"
   ]
  },
  {
   "cell_type": "code",
   "execution_count": 108,
   "metadata": {
    "hidden": true
   },
   "outputs": [
    {
     "name": "stdout",
     "output_type": "stream",
     "text": [
      "From website https://www.mbusa.com/en/vehicles/model/gls/maybach/gls600z4\n",
      "22 ADAS features found\n"
     ]
    }
   ],
   "source": [
    "websiteoutput('https://www.mbusa.com/en/vehicles/model/gls/maybach/gls600z4', 'Mercedes Benz', 'GLS', 'Mercedes-Maybach GLS 600 SUV', '2021', 'SUV')"
   ]
  },
  {
   "cell_type": "code",
   "execution_count": 109,
   "metadata": {
    "hidden": true
   },
   "outputs": [
    {
     "name": "stdout",
     "output_type": "stream",
     "text": [
      "From website https://www.mbusa.com/en/vehicles/model/g-class/suv/g550w4\n",
      "13 ADAS features found\n",
      "From website https://www.mbusa.com/en/vehicles/model/g-class/suv/g63w4\n",
      "14 ADAS features found\n"
     ]
    }
   ],
   "source": [
    "websiteoutput('https://www.mbusa.com/en/vehicles/model/g-class/suv/g550w4', 'Mercedes Benz', 'G-Class', 'G 550 SUV', '2021', 'SUV')\n",
    "websiteoutput('https://www.mbusa.com/en/vehicles/model/g-class/suv/g63w4', 'Mercedes Benz', 'G-Class', 'AMG G 63 SUV', '2021', 'SUV')"
   ]
  },
  {
   "cell_type": "code",
   "execution_count": 110,
   "metadata": {
    "hidden": true
   },
   "outputs": [
    {
     "name": "stdout",
     "output_type": "stream",
     "text": [
      "From website https://www.mbusa.com/en/vehicles/model/a-class/sedan/a220w\n",
      "6 ADAS features found\n",
      "From website https://www.mbusa.com/en/vehicles/model/a-class/sedan/a220w4\n",
      "6 ADAS features found\n",
      "From website https://www.mbusa.com/en/vehicles/model/a-class/sedan/a35w4\n",
      "6 ADAS features found\n"
     ]
    }
   ],
   "source": [
    "websiteoutput('https://www.mbusa.com/en/vehicles/model/a-class/sedan/a220w', 'Mercedes Benz', 'A-Class', 'A 220 Sedan', '2021', 'Sedan')\n",
    "websiteoutput('https://www.mbusa.com/en/vehicles/model/a-class/sedan/a220w4', 'Mercedes Benz', 'A-Class', 'A 220 4MATIC Sedan', '2021', 'Sedan')\n",
    "websiteoutput('https://www.mbusa.com/en/vehicles/model/a-class/sedan/a35w4', 'Mercedes Benz', 'A-Class', 'AMG A 35 Sedan', '2021', 'Sedan')"
   ]
  },
  {
   "cell_type": "code",
   "execution_count": 111,
   "metadata": {
    "hidden": true
   },
   "outputs": [
    {
     "name": "stdout",
     "output_type": "stream",
     "text": [
      "From website https://www.mbusa.com/en/vehicles/model/c-class/sedan/c300w\n",
      "5 ADAS features found\n",
      "From website https://www.mbusa.com/en/vehicles/model/c-class/sedan/c300w4\n",
      "5 ADAS features found\n",
      "From website https://www.mbusa.com/en/vehicles/model/c-class/sedan/c43w4\n",
      "5 ADAS features found\n",
      "From website https://www.mbusa.com/en/vehicles/model/c-class/sedan/c63w\n",
      "5 ADAS features found\n",
      "From website https://www.mbusa.com/en/vehicles/model/c-class/sedan/c63w\n",
      "5 ADAS features found\n"
     ]
    }
   ],
   "source": [
    "websiteoutput('https://www.mbusa.com/en/vehicles/model/c-class/sedan/c300w', 'Mercedes Benz', 'C-Class', 'C 300 Sedan', '2021', 'Sedan')\n",
    "websiteoutput('https://www.mbusa.com/en/vehicles/model/c-class/sedan/c300w4', 'Mercedes Benz', 'C-Class', 'C 300 4MATIC Sedan', '2021', 'Sedan')\n",
    "websiteoutput('https://www.mbusa.com/en/vehicles/model/c-class/sedan/c43w4', 'Mercedes Benz', 'C-Class', 'AMG C 43 Sedan', '2021', 'Sedan')\n",
    "websiteoutput('https://www.mbusa.com/en/vehicles/model/c-class/sedan/c63w', 'Mercedes Benz', 'C-Class', 'AMG C 63 Sedan', '2021', 'Sedan')\n",
    "websiteoutput('https://www.mbusa.com/en/vehicles/model/c-class/sedan/c63w', 'Mercedes Benz', 'C-Class', 'AMG C 63 S Sedan', '2021', 'Sedan')"
   ]
  },
  {
   "cell_type": "code",
   "execution_count": 112,
   "metadata": {
    "hidden": true
   },
   "outputs": [
    {
     "name": "stdout",
     "output_type": "stream",
     "text": [
      "From website https://www.mbusa.com/en/vehicles/model/e-class/sedan/e350w\n",
      "5 ADAS features found\n",
      "From website https://www.mbusa.com/en/vehicles/model/e-class/sedan/e350w4\n",
      "5 ADAS features found\n",
      "From website https://www.mbusa.com/en/vehicles/model/e-class/sedan/e450w4\n",
      "5 ADAS features found\n",
      "From website https://www.mbusa.com/en/vehicles/model/e-class/sedan/e53w4\n",
      "9 ADAS features found\n",
      "From website https://www.mbusa.com/en/vehicles/model/e-class/sedan/e63w4s\n",
      "9 ADAS features found\n"
     ]
    }
   ],
   "source": [
    "websiteoutput('https://www.mbusa.com/en/vehicles/model/e-class/sedan/e350w', 'Mercedes Benz', 'E-Class', 'E 350 Sedan', '2021', 'Sedan')\n",
    "websiteoutput('https://www.mbusa.com/en/vehicles/model/e-class/sedan/e350w4', 'Mercedes Benz', 'E-Class', 'E 350 4MATIC Sedan', '2021', 'Sedan')\n",
    "websiteoutput('https://www.mbusa.com/en/vehicles/model/e-class/sedan/e450w4', 'Mercedes Benz', 'E-Class', 'E 450 4MATIC Sedan', '2021', 'Sedan')\n",
    "websiteoutput('https://www.mbusa.com/en/vehicles/model/e-class/sedan/e53w4', 'Mercedes Benz', 'E-Class', 'AMG E 53 Sedan', '2021', 'Sedan')\n",
    "websiteoutput('https://www.mbusa.com/en/vehicles/model/e-class/sedan/e63w4s', 'Mercedes Benz', 'E-Class', 'AMG E 63 S Sedan', '2021', 'Sedan')"
   ]
  },
  {
   "cell_type": "code",
   "execution_count": 113,
   "metadata": {
    "hidden": true
   },
   "outputs": [
    {
     "name": "stdout",
     "output_type": "stream",
     "text": [
      "From website https://www.mbusa.com/en/vehicles/model/s-class/sedan/s500v4\n",
      "21 ADAS features found\n",
      "From website https://www.mbusa.com/en/vehicles/model/s-class/sedan/s580v4\n",
      "21 ADAS features found\n",
      "From website https://www.mbusa.com/en/vehicles/model/s-class/maybach/s580z4\n",
      "22 ADAS features found\n"
     ]
    }
   ],
   "source": [
    "websiteoutput('https://www.mbusa.com/en/vehicles/model/s-class/sedan/s500v4', 'Mercedes Benz', 'S-Class', 'S 500 4MATIC Sedan', '2021', 'Sedan')\n",
    "websiteoutput('https://www.mbusa.com/en/vehicles/model/s-class/sedan/s580v4', 'Mercedes Benz', 'S-Class', 'S 580 4MATIC Sedan', '2021', 'Sedan')\n",
    "websiteoutput('https://www.mbusa.com/en/vehicles/model/s-class/maybach/s580z4', 'Mercedes Benz', 'S-Class', 'Mercedes-Maybach S 580 4MATIC', '2021', 'Sedan')"
   ]
  },
  {
   "cell_type": "code",
   "execution_count": 114,
   "metadata": {
    "hidden": true
   },
   "outputs": [
    {
     "name": "stdout",
     "output_type": "stream",
     "text": [
      "From website https://www.mbusa.com/en/vehicles/model/e-class/wagon/e450s4\n",
      "5 ADAS features found\n",
      "From website https://www.mbusa.com/en/vehicles/model/e-class/wagon/e63s4s\n",
      "10 ADAS features found\n"
     ]
    }
   ],
   "source": [
    "websiteoutput('https://www.mbusa.com/en/vehicles/model/e-class/wagon/e450s4', 'Mercedes Benz', 'E-Class Wagon', 'E 450 4MATIC All-Terrain Wagon', '2021', 'Station Wagon')\n",
    "websiteoutput('https://www.mbusa.com/en/vehicles/model/e-class/wagon/e63s4s', 'Mercedes Benz', 'E-Class Wagon', 'AMG E 63 S Wagon', '2021', 'Station Wagon')"
   ]
  },
  {
   "cell_type": "code",
   "execution_count": 115,
   "metadata": {
    "hidden": true
   },
   "outputs": [
    {
     "name": "stdout",
     "output_type": "stream",
     "text": [
      "From website https://www.mbusa.com/en/vehicles/model/cla/coupe/cla250c\n",
      "6 ADAS features found\n",
      "From website https://www.mbusa.com/en/vehicles/model/cla/coupe/cla250c4\n",
      "6 ADAS features found\n",
      "From website https://www.mbusa.com/en/vehicles/model/cla/coupe/cla35c4\n",
      "6 ADAS features found\n",
      "From website https://www.mbusa.com/en/vehicles/model/cla/coupe/cla45c4\n",
      "6 ADAS features found\n"
     ]
    }
   ],
   "source": [
    "websiteoutput('https://www.mbusa.com/en/vehicles/model/cla/coupe/cla250c', 'Mercedes Benz', 'CLA', 'CLA 250 Coupe', '2021', 'Sedan')\n",
    "websiteoutput('https://www.mbusa.com/en/vehicles/model/cla/coupe/cla250c4', 'Mercedes Benz', 'CLA', 'CLA 250 4MATIC Coupe', '2021', 'Sedan')\n",
    "websiteoutput('https://www.mbusa.com/en/vehicles/model/cla/coupe/cla35c4', 'Mercedes Benz', 'CLA', 'AMG CLA 35 Coupe', '2021', 'Sedan')\n",
    "websiteoutput('https://www.mbusa.com/en/vehicles/model/cla/coupe/cla45c4', 'Mercedes Benz', 'CLA', 'AMG CLA 45 Coupe', '2021', 'Sedan')"
   ]
  },
  {
   "cell_type": "code",
   "execution_count": 116,
   "metadata": {
    "hidden": true
   },
   "outputs": [
    {
     "name": "stdout",
     "output_type": "stream",
     "text": [
      "From website https://www.mbusa.com/en/vehicles/model/c-class/coupe/c300c\n",
      "5 ADAS features found\n",
      "From website https://www.mbusa.com/en/vehicles/model/c-class/coupe/c300c4\n",
      "5 ADAS features found\n",
      "From website https://www.mbusa.com/en/vehicles/model/c-class/coupe/c43c4\n",
      "5 ADAS features found\n",
      "From website https://www.mbusa.com/en/vehicles/model/c-class/coupe/c63c\n",
      "5 ADAS features found\n",
      "From website https://www.mbusa.com/en/vehicles/model/c-class/coupe/c63cs\n",
      "5 ADAS features found\n"
     ]
    }
   ],
   "source": [
    "websiteoutput('https://www.mbusa.com/en/vehicles/model/c-class/coupe/c300c', 'Mercedes Benz', 'C-Class', 'C 300 Coupe', '2021', 'Coupe')\n",
    "websiteoutput('https://www.mbusa.com/en/vehicles/model/c-class/coupe/c300c4', 'Mercedes Benz', 'C-Class', 'C 300 4MATIC Coupe', '2021', 'Coupe')\n",
    "websiteoutput('https://www.mbusa.com/en/vehicles/model/c-class/coupe/c43c4', 'Mercedes Benz', 'C-Class', 'AMG C 43 Coupe', '2021', 'Coupe')\n",
    "websiteoutput('https://www.mbusa.com/en/vehicles/model/c-class/coupe/c63c', 'Mercedes Benz', 'C-Class', 'AMG C 63 Coupe', '2021', 'Coupe')\n",
    "websiteoutput('https://www.mbusa.com/en/vehicles/model/c-class/coupe/c63cs', 'Mercedes Benz', 'C-Class', 'AMG C 63 S Coupe', '2021', 'Coupe')"
   ]
  },
  {
   "cell_type": "code",
   "execution_count": 117,
   "metadata": {
    "hidden": true
   },
   "outputs": [
    {
     "name": "stdout",
     "output_type": "stream",
     "text": [
      "From website https://www.mbusa.com/en/vehicles/model/e-class/coupe/e450c\n",
      "9 ADAS features found\n",
      "From website https://www.mbusa.com/en/vehicles/model/e-class/coupe/e450c4\n",
      "9 ADAS features found\n",
      "From website https://www.mbusa.com/en/vehicles/model/e-class/coupe/e53c4\n",
      "9 ADAS features found\n"
     ]
    }
   ],
   "source": [
    "websiteoutput('https://www.mbusa.com/en/vehicles/model/e-class/coupe/e450c', 'Mercedes Benz', 'E-Class', 'E 450 Coupe', '2021', 'Coupe')\n",
    "websiteoutput('https://www.mbusa.com/en/vehicles/model/e-class/coupe/e450c4', 'Mercedes Benz', 'E-Class', 'E 450 4MATIC Coupe', '2021', 'Coupe')\n",
    "websiteoutput('https://www.mbusa.com/en/vehicles/model/e-class/coupe/e53c4', 'Mercedes Benz', 'E-Class', 'AMG E 53 Coupe', '2021', 'Coupe')"
   ]
  },
  {
   "cell_type": "code",
   "execution_count": 118,
   "metadata": {
    "hidden": true
   },
   "outputs": [
    {
     "name": "stdout",
     "output_type": "stream",
     "text": [
      "From website https://www.mbusa.com/en/vehicles/model/cls/coupe/cls450c\n",
      "5 ADAS features found\n",
      "From website https://www.mbusa.com/en/vehicles/model/cls/coupe/cls450c4\n",
      "5 ADAS features found\n",
      "From website https://www.mbusa.com/en/vehicles/model/cls/coupe/cls53c4\n",
      "9 ADAS features found\n"
     ]
    }
   ],
   "source": [
    "websiteoutput('https://www.mbusa.com/en/vehicles/model/cls/coupe/cls450c', 'Mercedes Benz', 'CLS', 'CLS 450 Coupe', '2021', 'Sedan')\n",
    "websiteoutput('https://www.mbusa.com/en/vehicles/model/cls/coupe/cls450c4', 'Mercedes Benz', 'CLS', 'CLS 450 4MATIC Coupe', '2021', 'Sedan')\n",
    "websiteoutput('https://www.mbusa.com/en/vehicles/model/cls/coupe/cls53c4', 'Mercedes Benz', 'CLS', 'AMG CLS 53 Coupe', '2021', 'Sedan')"
   ]
  },
  {
   "cell_type": "code",
   "execution_count": 119,
   "metadata": {
    "hidden": true
   },
   "outputs": [
    {
     "name": "stdout",
     "output_type": "stream",
     "text": [
      "From website https://www.mbusa.com/en/vehicles/model/s-class/coupe/s560c4\n",
      "11 ADAS features found\n",
      "From website https://www.mbusa.com/en/vehicles/model/s-class/coupe/s63c4\n",
      "12 ADAS features found\n"
     ]
    }
   ],
   "source": [
    "websiteoutput('https://www.mbusa.com/en/vehicles/model/s-class/coupe/s560c4', 'Mercedes Benz', 'S-Class', 'S 560 4MATIC Coupe', '2021', 'Coupe')\n",
    "websiteoutput('https://www.mbusa.com/en/vehicles/model/s-class/coupe/s63c4', 'Mercedes Benz', 'S-Class', 'AMG S 63 Coupe', '2021', 'Coupe')"
   ]
  },
  {
   "cell_type": "code",
   "execution_count": 120,
   "metadata": {
    "hidden": true
   },
   "outputs": [
    {
     "name": "stdout",
     "output_type": "stream",
     "text": [
      "From website https://www.mbusa.com/en/vehicles/model/gt/amg-gt-4-door/gt43c4\n",
      "10 ADAS features found\n",
      "From website https://www.mbusa.com/en/vehicles/model/gt/amg-gt-4-door/gt53c4\n",
      "10 ADAS features found\n",
      "From website https://www.mbusa.com/en/vehicles/model/gt/amg-gt-4-door/gt63c4\n",
      "10 ADAS features found\n",
      "From website https://www.mbusa.com/en/vehicles/model/gt/amg-gt-4-door/gt63c4s\n",
      "10 ADAS features found\n"
     ]
    }
   ],
   "source": [
    "websiteoutput('https://www.mbusa.com/en/vehicles/model/gt/amg-gt-4-door/gt43c4', 'Mercedes Benz', 'AMG GT 4-Door', 'AMG GT 43 4-door Coupe', '2021', 'Sedan')\n",
    "websiteoutput('https://www.mbusa.com/en/vehicles/model/gt/amg-gt-4-door/gt53c4', 'Mercedes Benz', 'AMG GT 4-Door', 'AMG GT 53 4-door Coupe', '2021', 'Sedan')\n",
    "websiteoutput('https://www.mbusa.com/en/vehicles/model/gt/amg-gt-4-door/gt63c4', 'Mercedes Benz', 'AMG GT 4-Door', 'AMG GT 63 4-door Coupe', '2021', 'Sedan')\n",
    "websiteoutput('https://www.mbusa.com/en/vehicles/model/gt/amg-gt-4-door/gt63c4s', 'Mercedes Benz', 'AMG GT 4-Door', 'AMG GT 63 S 4-door Coupe', '2021', 'Sedan')"
   ]
  },
  {
   "cell_type": "code",
   "execution_count": 121,
   "metadata": {
    "hidden": true
   },
   "outputs": [
    {
     "name": "stdout",
     "output_type": "stream",
     "text": [
      "From website https://www.mbusa.com/en/vehicles/model/gt/coupe/gt\n",
      "8 ADAS features found\n",
      "From website https://www.mbusa.com/en/vehicles/model/gt/coupe/gtc\n",
      "10 ADAS features found\n"
     ]
    }
   ],
   "source": [
    "websiteoutput('https://www.mbusa.com/en/vehicles/model/gt/coupe/gt', 'Mercedes Benz', 'AMG GT', 'AMG GT Coupe', '2021', 'Coupe')\n",
    "websiteoutput('https://www.mbusa.com/en/vehicles/model/gt/coupe/gtc', 'Mercedes Benz', 'AMG GT', 'AMG GT C Coupe', '2021', 'Coupe')"
   ]
  },
  {
   "cell_type": "code",
   "execution_count": 122,
   "metadata": {
    "hidden": true
   },
   "outputs": [
    {
     "name": "stdout",
     "output_type": "stream",
     "text": [
      "From website https://www.mbusa.com/en/vehicles/model/c-class/cabriolet/c300a\n",
      "5 ADAS features found\n",
      "From website https://www.mbusa.com/en/vehicles/model/c-class/cabriolet/c300a4\n",
      "5 ADAS features found\n",
      "From website https://www.mbusa.com/en/vehicles/model/c-class/cabriolet/c43a4\n",
      "5 ADAS features found\n",
      "From website https://www.mbusa.com/en/vehicles/model/c-class/cabriolet/c63a\n",
      "5 ADAS features found\n",
      "From website https://www.mbusa.com/en/vehicles/model/c-class/cabriolet/c63as\n",
      "5 ADAS features found\n"
     ]
    }
   ],
   "source": [
    "websiteoutput('https://www.mbusa.com/en/vehicles/model/c-class/cabriolet/c300a', 'Mercedes Benz', 'C-Class Cabriolet', 'C 300 Cabriolet', '2021', 'Convertible')\n",
    "websiteoutput('https://www.mbusa.com/en/vehicles/model/c-class/cabriolet/c300a4', 'Mercedes Benz', 'C-Class Cabriolet', 'C 300 4MATIC Cabriolet', '2021', 'Convertible')\n",
    "websiteoutput('https://www.mbusa.com/en/vehicles/model/c-class/cabriolet/c43a4', 'Mercedes Benz', 'C-Class Cabriolet', 'AMG C 43 Cabriolet', '2021', 'Convertible')\n",
    "websiteoutput('https://www.mbusa.com/en/vehicles/model/c-class/cabriolet/c63a', 'Mercedes Benz', 'C-Class Cabriolet', 'AMG C 63 Cabriolet', '2021', 'Convertible')\n",
    "websiteoutput('https://www.mbusa.com/en/vehicles/model/c-class/cabriolet/c63as', 'Mercedes Benz', 'C-Class Cabriolet', 'AMG C 63 S Cabriolet', '2021', 'Convertible')"
   ]
  },
  {
   "cell_type": "code",
   "execution_count": 123,
   "metadata": {
    "hidden": true
   },
   "outputs": [
    {
     "name": "stdout",
     "output_type": "stream",
     "text": [
      "From website https://www.mbusa.com/en/vehicles/model/e-class/cabriolet/e450a\n",
      "9 ADAS features found\n",
      "From website https://www.mbusa.com/en/vehicles/model/e-class/cabriolet/e450a4\n",
      "9 ADAS features found\n",
      "From website https://www.mbusa.com/en/vehicles/model/e-class/cabriolet/e53a4\n",
      "9 ADAS features found\n"
     ]
    }
   ],
   "source": [
    "websiteoutput('https://www.mbusa.com/en/vehicles/model/e-class/cabriolet/e450a', 'Mercedes Benz', 'E-Class Cabriolet', 'E 450 Cabriolet', '2021', 'Convertible')\n",
    "websiteoutput('https://www.mbusa.com/en/vehicles/model/e-class/cabriolet/e450a4', 'Mercedes Benz', 'E-Class Cabriolet', 'E 450 4MATIC Cabriolet', '2021', 'Convertible')\n",
    "websiteoutput('https://www.mbusa.com/en/vehicles/model/e-class/cabriolet/e53a4', 'Mercedes Benz', 'E-Class Cabriolet', 'AMG E 53 Cabriolet', '2021', 'Convertible')"
   ]
  },
  {
   "cell_type": "code",
   "execution_count": 124,
   "metadata": {
    "hidden": true
   },
   "outputs": [
    {
     "name": "stdout",
     "output_type": "stream",
     "text": [
      "From website https://www.mbusa.com/en/vehicles/model/s-class/cabriolet/s560a4\n",
      "11 ADAS features found\n",
      "From website https://www.mbusa.com/en/vehicles/model/s-class/cabriolet/s63a4\n",
      "12 ADAS features found\n"
     ]
    }
   ],
   "source": [
    "websiteoutput('https://www.mbusa.com/en/vehicles/model/s-class/cabriolet/s560a4', 'Mercedes Benz', 'S-Class Cabriolet', 'S 560 4MATIC Cabriolet', '2021', 'Convertible')\n",
    "websiteoutput('https://www.mbusa.com/en/vehicles/model/s-class/cabriolet/s63a4', 'Mercedes Benz', 'S-Class Cabriolet', 'AMG S 63 Cabriolet', '2021', 'Convertible')"
   ]
  },
  {
   "cell_type": "code",
   "execution_count": 125,
   "metadata": {
    "hidden": true
   },
   "outputs": [
    {
     "name": "stdout",
     "output_type": "stream",
     "text": [
      "From website https://www.mbusa.com/en/vehicles/model/slc/roadster/slc300r\n",
      "4 ADAS features found\n",
      "From website https://www.mbusa.com/en/vehicles/model/slc/roadster/slc43r\n",
      "6 ADAS features found\n"
     ]
    }
   ],
   "source": [
    "websiteoutput('https://www.mbusa.com/en/vehicles/model/slc/roadster/slc300r', 'Mercedes Benz', 'SLC Roadster', 'SLC 300 Roadster', '2020', 'Convertible')\n",
    "websiteoutput('https://www.mbusa.com/en/vehicles/model/slc/roadster/slc43r', 'Mercedes Benz', 'SLC Roadster', 'AMG SLC 43 Roadster', '2020', 'Convertible')"
   ]
  },
  {
   "cell_type": "code",
   "execution_count": 126,
   "metadata": {
    "hidden": true
   },
   "outputs": [
    {
     "name": "stdout",
     "output_type": "stream",
     "text": [
      "From website https://www.mbusa.com/en/vehicles/model/sl/roadster/sl450r\n",
      "5 ADAS features found\n",
      "From website https://www.mbusa.com/en/vehicles/model/sl/roadster/sl550r\n",
      "7 ADAS features found\n"
     ]
    }
   ],
   "source": [
    "websiteoutput('https://www.mbusa.com/en/vehicles/model/sl/roadster/sl450r', 'Mercedes Benz', 'SL Roadster', 'SL 450 Roadster', '2020', 'Convertible')\n",
    "websiteoutput('https://www.mbusa.com/en/vehicles/model/sl/roadster/sl550r', 'Mercedes Benz', 'SL Roadster', 'SL 550 Roadster', '2020', 'Convertible')"
   ]
  },
  {
   "cell_type": "code",
   "execution_count": 127,
   "metadata": {
    "hidden": true
   },
   "outputs": [
    {
     "name": "stdout",
     "output_type": "stream",
     "text": [
      "From website https://www.mbusa.com/en/vehicles/model/gt/roadster/gta\n",
      "8 ADAS features found\n",
      "From website https://www.mbusa.com/en/vehicles/model/gt/roadster/gtca\n",
      "10 ADAS features found\n"
     ]
    }
   ],
   "source": [
    "websiteoutput('https://www.mbusa.com/en/vehicles/model/gt/roadster/gta', 'Mercedes Benz', 'AMG GT', 'AMG GT Roadster', '2021', 'Convertible')\n",
    "websiteoutput('https://www.mbusa.com/en/vehicles/model/gt/roadster/gtca', 'Mercedes Benz', 'AMG GT', 'AMG GT C Roadster', '2021', 'Convertible')"
   ]
  },
  {
   "cell_type": "code",
   "execution_count": null,
   "metadata": {
    "hidden": true
   },
   "outputs": [],
   "source": []
  },
  {
   "cell_type": "markdown",
   "metadata": {},
   "source": [
    "# Tesla"
   ]
  },
  {
   "cell_type": "code",
   "execution_count": null,
   "metadata": {},
   "outputs": [],
   "source": []
  }
 ],
 "metadata": {
  "kernelspec": {
   "display_name": "Python 3",
   "language": "python",
   "name": "python3"
  },
  "language_info": {
   "codemirror_mode": {
    "name": "ipython",
    "version": 3
   },
   "file_extension": ".py",
   "mimetype": "text/x-python",
   "name": "python",
   "nbconvert_exporter": "python",
   "pygments_lexer": "ipython3",
   "version": "3.8.8"
  },
  "toc": {
   "base_numbering": 1,
   "nav_menu": {},
   "number_sections": true,
   "sideBar": true,
   "skip_h1_title": false,
   "title_cell": "Table of Contents",
   "title_sidebar": "Contents",
   "toc_cell": false,
   "toc_position": {},
   "toc_section_display": true,
   "toc_window_display": false
  }
 },
 "nbformat": 4,
 "nbformat_minor": 4
}
